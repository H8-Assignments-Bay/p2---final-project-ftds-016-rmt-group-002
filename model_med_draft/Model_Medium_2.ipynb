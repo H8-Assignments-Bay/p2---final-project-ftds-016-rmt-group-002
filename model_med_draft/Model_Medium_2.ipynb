{
  "nbformat": 4,
  "nbformat_minor": 0,
  "metadata": {
    "colab": {
      "provenance": [],
      "toc_visible": true
    },
    "kernelspec": {
      "name": "python3",
      "display_name": "Python 3"
    },
    "language_info": {
      "name": "python"
    },
    "gpuClass": "standard"
  },
  "cells": [
    {
      "cell_type": "markdown",
      "source": [
        "# **Batavia Dana Obligasi Ultima**\n",
        "\n",
        "- Best model is Random Forest with Hyperparameter Tuning"
      ],
      "metadata": {
        "id": "PetGFZKdliQu"
      }
    },
    {
      "cell_type": "markdown",
      "source": [
        "## **Importing Libraries**"
      ],
      "metadata": {
        "id": "zjg1MHE5iQ47"
      }
    },
    {
      "cell_type": "code",
      "execution_count": 1,
      "metadata": {
        "id": "1AKF5pcUiL5Z"
      },
      "outputs": [],
      "source": [
        "#main\n",
        "import pandas as pd\n",
        "import numpy as np\n",
        "\n",
        "import warnings\n",
        "warnings.filterwarnings('ignore')\n",
        "\n",
        "#viz\n",
        "import seaborn as sns \n",
        "\n",
        "import matplotlib\n",
        "from matplotlib import pyplot as plt\n",
        "%matplotlib inline\n",
        "matplotlib.rcParams['figure.figsize'] = (20,8)\n",
        "\n",
        "# Feature Selection\n",
        "from sklearn.model_selection import train_test_split, cross_val_score, GridSearchCV\n",
        "\n",
        "# Preprocessing Libraries\n",
        "from sklearn.pipeline import Pipeline\n",
        "from sklearn.compose import ColumnTransformer\n",
        "from sklearn.preprocessing import MinMaxScaler, StandardScaler\n",
        "\n",
        "# For Regression Problems\n",
        "from sklearn.linear_model import LinearRegression\n",
        "\n",
        "# Import Classification Algorithms\n",
        "from sklearn.linear_model import LogisticRegression\n",
        "from sklearn.svm import SVC\n",
        "from sklearn.tree import DecisionTreeClassifier\n",
        "from sklearn.ensemble import RandomForestClassifier\n",
        "\n",
        "# Import Evaluation Libraries for Classification\n",
        "from sklearn.metrics import accuracy_score, classification_report, ConfusionMatrixDisplay, confusion_matrix\n",
        "from sklearn.metrics import precision_score, recall_score, f1_score\n",
        "\n",
        "# Import Evaluation Libraries for Regression\n",
        "from sklearn.metrics import mean_squared_error, mean_absolute_error, r2_score\n",
        "\n",
        "#mod\n",
        "import tensorflow as tf\n",
        "from tensorflow.keras import Sequential\n",
        "from sklearn.preprocessing import MinMaxScaler\n",
        "from tensorflow.keras.layers import Dense, LSTM, Dropout \n",
        "from sklearn.metrics import mean_absolute_error\n",
        "\n",
        "# Save and Load Model\n",
        "import joblib\n",
        "import json"
      ]
    },
    {
      "cell_type": "markdown",
      "source": [
        "## **Data Loading**"
      ],
      "metadata": {
        "id": "WsnVbewEiUlU"
      }
    },
    {
      "cell_type": "code",
      "source": [
        "# Data Loading Raw\n",
        "url = 'https://raw.githubusercontent.com/H8-Assignments-Bay/p2---final-project-ftds-016-rmt-group-002/main/Dataset_clean/Med%20Clean/Batavia%20Dana%20Obligasi%20Ultima%20Clean.csv'\n",
        "df = pd.read_csv(url)\n",
        "df.head()"
      ],
      "metadata": {
        "colab": {
          "base_uri": "https://localhost:8080/",
          "height": 206
        },
        "id": "iN8JqGBbiW_Q",
        "outputId": "b7639d1c-2af2-4c52-c66e-20a17fabf6eb"
      },
      "execution_count": 2,
      "outputs": [
        {
          "output_type": "execute_result",
          "data": {
            "text/plain": [
              "   Unnamed: 0       Date        Present           Next  Class\n",
              "0           0  9/16/2022    2849.540000    2849.830000      1\n",
              "1           1  9/19/2022    2849.830000    2851.870000      1\n",
              "2           2  9/20/2022    2851.870000    2850.410000      0\n",
              "3           3  9/21/2022    2850.410000    2846.650000      0\n",
              "4           4  9/22/2022    2846.650000    2842.770000      0"
            ],
            "text/html": [
              "\n",
              "  <div id=\"df-593c2bd9-c805-4926-8e73-ef8b18825896\">\n",
              "    <div class=\"colab-df-container\">\n",
              "      <div>\n",
              "<style scoped>\n",
              "    .dataframe tbody tr th:only-of-type {\n",
              "        vertical-align: middle;\n",
              "    }\n",
              "\n",
              "    .dataframe tbody tr th {\n",
              "        vertical-align: top;\n",
              "    }\n",
              "\n",
              "    .dataframe thead th {\n",
              "        text-align: right;\n",
              "    }\n",
              "</style>\n",
              "<table border=\"1\" class=\"dataframe\">\n",
              "  <thead>\n",
              "    <tr style=\"text-align: right;\">\n",
              "      <th></th>\n",
              "      <th>Unnamed: 0</th>\n",
              "      <th>Date</th>\n",
              "      <th>Present</th>\n",
              "      <th>Next</th>\n",
              "      <th>Class</th>\n",
              "    </tr>\n",
              "  </thead>\n",
              "  <tbody>\n",
              "    <tr>\n",
              "      <th>0</th>\n",
              "      <td>0</td>\n",
              "      <td>9/16/2022</td>\n",
              "      <td>2849.540000</td>\n",
              "      <td>2849.830000</td>\n",
              "      <td>1</td>\n",
              "    </tr>\n",
              "    <tr>\n",
              "      <th>1</th>\n",
              "      <td>1</td>\n",
              "      <td>9/19/2022</td>\n",
              "      <td>2849.830000</td>\n",
              "      <td>2851.870000</td>\n",
              "      <td>1</td>\n",
              "    </tr>\n",
              "    <tr>\n",
              "      <th>2</th>\n",
              "      <td>2</td>\n",
              "      <td>9/20/2022</td>\n",
              "      <td>2851.870000</td>\n",
              "      <td>2850.410000</td>\n",
              "      <td>0</td>\n",
              "    </tr>\n",
              "    <tr>\n",
              "      <th>3</th>\n",
              "      <td>3</td>\n",
              "      <td>9/21/2022</td>\n",
              "      <td>2850.410000</td>\n",
              "      <td>2846.650000</td>\n",
              "      <td>0</td>\n",
              "    </tr>\n",
              "    <tr>\n",
              "      <th>4</th>\n",
              "      <td>4</td>\n",
              "      <td>9/22/2022</td>\n",
              "      <td>2846.650000</td>\n",
              "      <td>2842.770000</td>\n",
              "      <td>0</td>\n",
              "    </tr>\n",
              "  </tbody>\n",
              "</table>\n",
              "</div>\n",
              "      <button class=\"colab-df-convert\" onclick=\"convertToInteractive('df-593c2bd9-c805-4926-8e73-ef8b18825896')\"\n",
              "              title=\"Convert this dataframe to an interactive table.\"\n",
              "              style=\"display:none;\">\n",
              "        \n",
              "  <svg xmlns=\"http://www.w3.org/2000/svg\" height=\"24px\"viewBox=\"0 0 24 24\"\n",
              "       width=\"24px\">\n",
              "    <path d=\"M0 0h24v24H0V0z\" fill=\"none\"/>\n",
              "    <path d=\"M18.56 5.44l.94 2.06.94-2.06 2.06-.94-2.06-.94-.94-2.06-.94 2.06-2.06.94zm-11 1L8.5 8.5l.94-2.06 2.06-.94-2.06-.94L8.5 2.5l-.94 2.06-2.06.94zm10 10l.94 2.06.94-2.06 2.06-.94-2.06-.94-.94-2.06-.94 2.06-2.06.94z\"/><path d=\"M17.41 7.96l-1.37-1.37c-.4-.4-.92-.59-1.43-.59-.52 0-1.04.2-1.43.59L10.3 9.45l-7.72 7.72c-.78.78-.78 2.05 0 2.83L4 21.41c.39.39.9.59 1.41.59.51 0 1.02-.2 1.41-.59l7.78-7.78 2.81-2.81c.8-.78.8-2.07 0-2.86zM5.41 20L4 18.59l7.72-7.72 1.47 1.35L5.41 20z\"/>\n",
              "  </svg>\n",
              "      </button>\n",
              "      \n",
              "  <style>\n",
              "    .colab-df-container {\n",
              "      display:flex;\n",
              "      flex-wrap:wrap;\n",
              "      gap: 12px;\n",
              "    }\n",
              "\n",
              "    .colab-df-convert {\n",
              "      background-color: #E8F0FE;\n",
              "      border: none;\n",
              "      border-radius: 50%;\n",
              "      cursor: pointer;\n",
              "      display: none;\n",
              "      fill: #1967D2;\n",
              "      height: 32px;\n",
              "      padding: 0 0 0 0;\n",
              "      width: 32px;\n",
              "    }\n",
              "\n",
              "    .colab-df-convert:hover {\n",
              "      background-color: #E2EBFA;\n",
              "      box-shadow: 0px 1px 2px rgba(60, 64, 67, 0.3), 0px 1px 3px 1px rgba(60, 64, 67, 0.15);\n",
              "      fill: #174EA6;\n",
              "    }\n",
              "\n",
              "    [theme=dark] .colab-df-convert {\n",
              "      background-color: #3B4455;\n",
              "      fill: #D2E3FC;\n",
              "    }\n",
              "\n",
              "    [theme=dark] .colab-df-convert:hover {\n",
              "      background-color: #434B5C;\n",
              "      box-shadow: 0px 1px 3px 1px rgba(0, 0, 0, 0.15);\n",
              "      filter: drop-shadow(0px 1px 2px rgba(0, 0, 0, 0.3));\n",
              "      fill: #FFFFFF;\n",
              "    }\n",
              "  </style>\n",
              "\n",
              "      <script>\n",
              "        const buttonEl =\n",
              "          document.querySelector('#df-593c2bd9-c805-4926-8e73-ef8b18825896 button.colab-df-convert');\n",
              "        buttonEl.style.display =\n",
              "          google.colab.kernel.accessAllowed ? 'block' : 'none';\n",
              "\n",
              "        async function convertToInteractive(key) {\n",
              "          const element = document.querySelector('#df-593c2bd9-c805-4926-8e73-ef8b18825896');\n",
              "          const dataTable =\n",
              "            await google.colab.kernel.invokeFunction('convertToInteractive',\n",
              "                                                     [key], {});\n",
              "          if (!dataTable) return;\n",
              "\n",
              "          const docLinkHtml = 'Like what you see? Visit the ' +\n",
              "            '<a target=\"_blank\" href=https://colab.research.google.com/notebooks/data_table.ipynb>data table notebook</a>'\n",
              "            + ' to learn more about interactive tables.';\n",
              "          element.innerHTML = '';\n",
              "          dataTable['output_type'] = 'display_data';\n",
              "          await google.colab.output.renderOutput(dataTable, element);\n",
              "          const docLink = document.createElement('div');\n",
              "          docLink.innerHTML = docLinkHtml;\n",
              "          element.appendChild(docLink);\n",
              "        }\n",
              "      </script>\n",
              "    </div>\n",
              "  </div>\n",
              "  "
            ]
          },
          "metadata": {},
          "execution_count": 2
        }
      ]
    },
    {
      "cell_type": "code",
      "source": [
        "df.tail()"
      ],
      "metadata": {
        "colab": {
          "base_uri": "https://localhost:8080/",
          "height": 206
        },
        "id": "BJzsuxyX-SfU",
        "outputId": "8719abce-cc51-4692-fe94-a1a950979c5f"
      },
      "execution_count": 3,
      "outputs": [
        {
          "output_type": "execute_result",
          "data": {
            "text/plain": [
              "    Unnamed: 0        Date        Present           Next  Class\n",
              "61          61  12/12/2022    2854.530000    2852.740000      0\n",
              "62          62  12/13/2022    2852.740000    2856.530000      1\n",
              "63          63  12/14/2022    2856.530000    2856.200000      0\n",
              "64          64  12/15/2022    2856.200000    2858.260000      1\n",
              "65          65  12/16/2022    2858.260000            NaN      0"
            ],
            "text/html": [
              "\n",
              "  <div id=\"df-4bf8a938-75b1-4c6f-8eba-797787e7d621\">\n",
              "    <div class=\"colab-df-container\">\n",
              "      <div>\n",
              "<style scoped>\n",
              "    .dataframe tbody tr th:only-of-type {\n",
              "        vertical-align: middle;\n",
              "    }\n",
              "\n",
              "    .dataframe tbody tr th {\n",
              "        vertical-align: top;\n",
              "    }\n",
              "\n",
              "    .dataframe thead th {\n",
              "        text-align: right;\n",
              "    }\n",
              "</style>\n",
              "<table border=\"1\" class=\"dataframe\">\n",
              "  <thead>\n",
              "    <tr style=\"text-align: right;\">\n",
              "      <th></th>\n",
              "      <th>Unnamed: 0</th>\n",
              "      <th>Date</th>\n",
              "      <th>Present</th>\n",
              "      <th>Next</th>\n",
              "      <th>Class</th>\n",
              "    </tr>\n",
              "  </thead>\n",
              "  <tbody>\n",
              "    <tr>\n",
              "      <th>61</th>\n",
              "      <td>61</td>\n",
              "      <td>12/12/2022</td>\n",
              "      <td>2854.530000</td>\n",
              "      <td>2852.740000</td>\n",
              "      <td>0</td>\n",
              "    </tr>\n",
              "    <tr>\n",
              "      <th>62</th>\n",
              "      <td>62</td>\n",
              "      <td>12/13/2022</td>\n",
              "      <td>2852.740000</td>\n",
              "      <td>2856.530000</td>\n",
              "      <td>1</td>\n",
              "    </tr>\n",
              "    <tr>\n",
              "      <th>63</th>\n",
              "      <td>63</td>\n",
              "      <td>12/14/2022</td>\n",
              "      <td>2856.530000</td>\n",
              "      <td>2856.200000</td>\n",
              "      <td>0</td>\n",
              "    </tr>\n",
              "    <tr>\n",
              "      <th>64</th>\n",
              "      <td>64</td>\n",
              "      <td>12/15/2022</td>\n",
              "      <td>2856.200000</td>\n",
              "      <td>2858.260000</td>\n",
              "      <td>1</td>\n",
              "    </tr>\n",
              "    <tr>\n",
              "      <th>65</th>\n",
              "      <td>65</td>\n",
              "      <td>12/16/2022</td>\n",
              "      <td>2858.260000</td>\n",
              "      <td>NaN</td>\n",
              "      <td>0</td>\n",
              "    </tr>\n",
              "  </tbody>\n",
              "</table>\n",
              "</div>\n",
              "      <button class=\"colab-df-convert\" onclick=\"convertToInteractive('df-4bf8a938-75b1-4c6f-8eba-797787e7d621')\"\n",
              "              title=\"Convert this dataframe to an interactive table.\"\n",
              "              style=\"display:none;\">\n",
              "        \n",
              "  <svg xmlns=\"http://www.w3.org/2000/svg\" height=\"24px\"viewBox=\"0 0 24 24\"\n",
              "       width=\"24px\">\n",
              "    <path d=\"M0 0h24v24H0V0z\" fill=\"none\"/>\n",
              "    <path d=\"M18.56 5.44l.94 2.06.94-2.06 2.06-.94-2.06-.94-.94-2.06-.94 2.06-2.06.94zm-11 1L8.5 8.5l.94-2.06 2.06-.94-2.06-.94L8.5 2.5l-.94 2.06-2.06.94zm10 10l.94 2.06.94-2.06 2.06-.94-2.06-.94-.94-2.06-.94 2.06-2.06.94z\"/><path d=\"M17.41 7.96l-1.37-1.37c-.4-.4-.92-.59-1.43-.59-.52 0-1.04.2-1.43.59L10.3 9.45l-7.72 7.72c-.78.78-.78 2.05 0 2.83L4 21.41c.39.39.9.59 1.41.59.51 0 1.02-.2 1.41-.59l7.78-7.78 2.81-2.81c.8-.78.8-2.07 0-2.86zM5.41 20L4 18.59l7.72-7.72 1.47 1.35L5.41 20z\"/>\n",
              "  </svg>\n",
              "      </button>\n",
              "      \n",
              "  <style>\n",
              "    .colab-df-container {\n",
              "      display:flex;\n",
              "      flex-wrap:wrap;\n",
              "      gap: 12px;\n",
              "    }\n",
              "\n",
              "    .colab-df-convert {\n",
              "      background-color: #E8F0FE;\n",
              "      border: none;\n",
              "      border-radius: 50%;\n",
              "      cursor: pointer;\n",
              "      display: none;\n",
              "      fill: #1967D2;\n",
              "      height: 32px;\n",
              "      padding: 0 0 0 0;\n",
              "      width: 32px;\n",
              "    }\n",
              "\n",
              "    .colab-df-convert:hover {\n",
              "      background-color: #E2EBFA;\n",
              "      box-shadow: 0px 1px 2px rgba(60, 64, 67, 0.3), 0px 1px 3px 1px rgba(60, 64, 67, 0.15);\n",
              "      fill: #174EA6;\n",
              "    }\n",
              "\n",
              "    [theme=dark] .colab-df-convert {\n",
              "      background-color: #3B4455;\n",
              "      fill: #D2E3FC;\n",
              "    }\n",
              "\n",
              "    [theme=dark] .colab-df-convert:hover {\n",
              "      background-color: #434B5C;\n",
              "      box-shadow: 0px 1px 3px 1px rgba(0, 0, 0, 0.15);\n",
              "      filter: drop-shadow(0px 1px 2px rgba(0, 0, 0, 0.3));\n",
              "      fill: #FFFFFF;\n",
              "    }\n",
              "  </style>\n",
              "\n",
              "      <script>\n",
              "        const buttonEl =\n",
              "          document.querySelector('#df-4bf8a938-75b1-4c6f-8eba-797787e7d621 button.colab-df-convert');\n",
              "        buttonEl.style.display =\n",
              "          google.colab.kernel.accessAllowed ? 'block' : 'none';\n",
              "\n",
              "        async function convertToInteractive(key) {\n",
              "          const element = document.querySelector('#df-4bf8a938-75b1-4c6f-8eba-797787e7d621');\n",
              "          const dataTable =\n",
              "            await google.colab.kernel.invokeFunction('convertToInteractive',\n",
              "                                                     [key], {});\n",
              "          if (!dataTable) return;\n",
              "\n",
              "          const docLinkHtml = 'Like what you see? Visit the ' +\n",
              "            '<a target=\"_blank\" href=https://colab.research.google.com/notebooks/data_table.ipynb>data table notebook</a>'\n",
              "            + ' to learn more about interactive tables.';\n",
              "          element.innerHTML = '';\n",
              "          dataTable['output_type'] = 'display_data';\n",
              "          await google.colab.output.renderOutput(dataTable, element);\n",
              "          const docLink = document.createElement('div');\n",
              "          docLink.innerHTML = docLinkHtml;\n",
              "          element.appendChild(docLink);\n",
              "        }\n",
              "      </script>\n",
              "    </div>\n",
              "  </div>\n",
              "  "
            ]
          },
          "metadata": {},
          "execution_count": 3
        }
      ]
    },
    {
      "cell_type": "code",
      "source": [
        "df.info()"
      ],
      "metadata": {
        "colab": {
          "base_uri": "https://localhost:8080/"
        },
        "id": "A1oLs9Vy-Vzr",
        "outputId": "7ce80731-a087-4053-92d4-14a8b428113f"
      },
      "execution_count": 4,
      "outputs": [
        {
          "output_type": "stream",
          "name": "stdout",
          "text": [
            "<class 'pandas.core.frame.DataFrame'>\n",
            "RangeIndex: 66 entries, 0 to 65\n",
            "Data columns (total 5 columns):\n",
            " #   Column      Non-Null Count  Dtype \n",
            "---  ------      --------------  ----- \n",
            " 0   Unnamed: 0  66 non-null     int64 \n",
            " 1   Date        66 non-null     object\n",
            " 2   Present     66 non-null     object\n",
            " 3   Next        65 non-null     object\n",
            " 4   Class       66 non-null     int64 \n",
            "dtypes: int64(2), object(3)\n",
            "memory usage: 2.7+ KB\n"
          ]
        }
      ]
    },
    {
      "cell_type": "code",
      "source": [
        "# Checking if the dataframe is already in the type we want to use\n",
        "df['Date'] = pd.to_datetime(df['Date'])\n",
        "# df.rename(columns = {'date':'Date', 'value':'Present', 'next_value':'Next','class':'Class'}, inplace = True)\n",
        "df.info()"
      ],
      "metadata": {
        "colab": {
          "base_uri": "https://localhost:8080/"
        },
        "id": "Tol9MZug9zJI",
        "outputId": "b2e49ee2-2547-4566-8fb8-388f217335bb"
      },
      "execution_count": 5,
      "outputs": [
        {
          "output_type": "stream",
          "name": "stdout",
          "text": [
            "<class 'pandas.core.frame.DataFrame'>\n",
            "RangeIndex: 66 entries, 0 to 65\n",
            "Data columns (total 5 columns):\n",
            " #   Column      Non-Null Count  Dtype         \n",
            "---  ------      --------------  -----         \n",
            " 0   Unnamed: 0  66 non-null     int64         \n",
            " 1   Date        66 non-null     datetime64[ns]\n",
            " 2   Present     66 non-null     object        \n",
            " 3   Next        65 non-null     object        \n",
            " 4   Class       66 non-null     int64         \n",
            "dtypes: datetime64[ns](1), int64(2), object(2)\n",
            "memory usage: 2.7+ KB\n"
          ]
        }
      ]
    },
    {
      "cell_type": "markdown",
      "source": [
        "## **EDA**"
      ],
      "metadata": {
        "id": "olZMO5EK-z-w"
      }
    },
    {
      "cell_type": "markdown",
      "source": [
        "### **Labels Analysis**\n",
        "\n",
        "Labels between up and down are **imbalanced**."
      ],
      "metadata": {
        "id": "iJpxwqJUA5Og"
      }
    },
    {
      "cell_type": "code",
      "source": [
        "# Label counts\n",
        "df.Class.value_counts()"
      ],
      "metadata": {
        "colab": {
          "base_uri": "https://localhost:8080/"
        },
        "id": "9QTMY9IRA7go",
        "outputId": "273d2f3c-4117-47fe-e015-b4b10910693c"
      },
      "execution_count": 6,
      "outputs": [
        {
          "output_type": "execute_result",
          "data": {
            "text/plain": [
              "1    33\n",
              "0    33\n",
              "Name: Class, dtype: int64"
            ]
          },
          "metadata": {},
          "execution_count": 6
        }
      ]
    },
    {
      "cell_type": "code",
      "source": [
        "# Creating Plot piechart of Up and Down labels\n",
        "ClassType = dict(df.Class.value_counts())\n",
        "labels = 'Up', 'Down'\n",
        "sizes = [ClassType[1], ClassType[0]]\n",
        "explode = (0, 0.2)\n",
        "\n",
        "with sns.color_palette(\"deep\"):\n",
        "    plt.pie(sizes, explode=explode, labels=labels,\n",
        "    autopct='%1.1f%%', shadow=True, startangle=200)\n",
        "\n",
        "# Plot title\n",
        "plt.axis('equal')\n",
        "plt.title('Piechart of Up and Down Class Prediction')\n",
        "plt.show()\n",
        "     "
      ],
      "metadata": {
        "colab": {
          "base_uri": "https://localhost:8080/",
          "height": 482
        },
        "id": "lNF_B4wABBfx",
        "outputId": "0f4d9922-e511-49d0-acae-1c2fa83610bf"
      },
      "execution_count": 7,
      "outputs": [
        {
          "output_type": "display_data",
          "data": {
            "text/plain": [
              "<Figure size 1440x576 with 1 Axes>"
            ],
            "image/png": "[encoded data removed]"
          },
          "metadata": {}
        }
      ]
    },
    {
      "cell_type": "markdown",
      "source": [
        "### **NAV Analysis**"
      ],
      "metadata": {
        "id": "9mm4ta2uA1u2"
      }
    },
    {
      "cell_type": "code",
      "source": [
        "# Lineplot Present NAV\n",
        "present_nav = sns.lineplot(data=df, x=\"Date\", y=\"Present\")\n",
        "present_nav"
      ],
      "metadata": {
        "colab": {
          "base_uri": "https://localhost:8080/",
          "height": 514
        },
        "id": "E-cri5O2_C7N",
        "outputId": "d670e941-4b88-4b40-9925-1a076e2f5201"
      },
      "execution_count": 8,
      "outputs": [
        {
          "output_type": "execute_result",
          "data": {
            "text/plain": [
              "<matplotlib.axes._subplots.AxesSubplot at 0x7feb86991a60>"
            ]
          },
          "metadata": {},
          "execution_count": 8
        },
        {
          "output_type": "display_data",
          "data": {
            "text/plain": [
              "<Figure size 1440x576 with 1 Axes>"
            ],
            "image/png": "[encoded data removed]"
          },
          "metadata": {
            "needs_background": "light"
          }
        }
      ]
    },
    {
      "cell_type": "code",
      "source": [
        "# Lineplot Present NAV\n",
        "next_nav = sns.lineplot(data=df, x=\"Date\", y=\"Next\")\n",
        "next_nav"
      ],
      "metadata": {
        "colab": {
          "base_uri": "https://localhost:8080/",
          "height": 514
        },
        "id": "Ex5Qe5rAAXdm",
        "outputId": "e1eaddd5-59d5-480e-de8e-769ede6db668"
      },
      "execution_count": 9,
      "outputs": [
        {
          "output_type": "execute_result",
          "data": {
            "text/plain": [
              "<matplotlib.axes._subplots.AxesSubplot at 0x7feb863c1fa0>"
            ]
          },
          "metadata": {},
          "execution_count": 9
        },
        {
          "output_type": "display_data",
          "data": {
            "text/plain": [
              "<Figure size 1440x576 with 1 Axes>"
            ],
            "image/png": "[encoded data removed]"
          },
          "metadata": {
            "needs_background": "light"
          }
        }
      ]
    },
    {
      "cell_type": "markdown",
      "source": [
        "### **Correlation Analysis**\n",
        "\n",
        "Apparently \"Next\" NAV\" is 100% correlated with \"Present\" NAV. People tend to predict NAV at least a day before. However, the class correlation with NAV has weak correlations. This means, the model prediction depends on NAV, both Present and Next.\n",
        "\n",
        "The prediction will be using Regression and Classification."
      ],
      "metadata": {
        "id": "8wEeVsOJBufN"
      }
    },
    {
      "cell_type": "code",
      "source": [
        "# Creating new dataframe for NAV and Class correlation\n",
        "nav_correlation = ['Present', 'Next', 'Class']\n",
        "df_corr = df[nav_correlation]\n",
        "df_corr.head()"
      ],
      "metadata": {
        "colab": {
          "base_uri": "https://localhost:8080/",
          "height": 206
        },
        "id": "78kF6raiBx2M",
        "outputId": "ab4f3720-bef4-40db-ca58-8fda800bbd0e"
      },
      "execution_count": 10,
      "outputs": [
        {
          "output_type": "execute_result",
          "data": {
            "text/plain": [
              "         Present           Next  Class\n",
              "0    2849.540000    2849.830000      1\n",
              "1    2849.830000    2851.870000      1\n",
              "2    2851.870000    2850.410000      0\n",
              "3    2850.410000    2846.650000      0\n",
              "4    2846.650000    2842.770000      0"
            ],
            "text/html": [
              "\n",
              "  <div id=\"df-02286e40-d070-458a-8d2e-47010636d88d\">\n",
              "    <div class=\"colab-df-container\">\n",
              "      <div>\n",
              "<style scoped>\n",
              "    .dataframe tbody tr th:only-of-type {\n",
              "        vertical-align: middle;\n",
              "    }\n",
              "\n",
              "    .dataframe tbody tr th {\n",
              "        vertical-align: top;\n",
              "    }\n",
              "\n",
              "    .dataframe thead th {\n",
              "        text-align: right;\n",
              "    }\n",
              "</style>\n",
              "<table border=\"1\" class=\"dataframe\">\n",
              "  <thead>\n",
              "    <tr style=\"text-align: right;\">\n",
              "      <th></th>\n",
              "      <th>Present</th>\n",
              "      <th>Next</th>\n",
              "      <th>Class</th>\n",
              "    </tr>\n",
              "  </thead>\n",
              "  <tbody>\n",
              "    <tr>\n",
              "      <th>0</th>\n",
              "      <td>2849.540000</td>\n",
              "      <td>2849.830000</td>\n",
              "      <td>1</td>\n",
              "    </tr>\n",
              "    <tr>\n",
              "      <th>1</th>\n",
              "      <td>2849.830000</td>\n",
              "      <td>2851.870000</td>\n",
              "      <td>1</td>\n",
              "    </tr>\n",
              "    <tr>\n",
              "      <th>2</th>\n",
              "      <td>2851.870000</td>\n",
              "      <td>2850.410000</td>\n",
              "      <td>0</td>\n",
              "    </tr>\n",
              "    <tr>\n",
              "      <th>3</th>\n",
              "      <td>2850.410000</td>\n",
              "      <td>2846.650000</td>\n",
              "      <td>0</td>\n",
              "    </tr>\n",
              "    <tr>\n",
              "      <th>4</th>\n",
              "      <td>2846.650000</td>\n",
              "      <td>2842.770000</td>\n",
              "      <td>0</td>\n",
              "    </tr>\n",
              "  </tbody>\n",
              "</table>\n",
              "</div>\n",
              "      <button class=\"colab-df-convert\" onclick=\"convertToInteractive('df-02286e40-d070-458a-8d2e-47010636d88d')\"\n",
              "              title=\"Convert this dataframe to an interactive table.\"\n",
              "              style=\"display:none;\">\n",
              "        \n",
              "  <svg xmlns=\"http://www.w3.org/2000/svg\" height=\"24px\"viewBox=\"0 0 24 24\"\n",
              "       width=\"24px\">\n",
              "    <path d=\"M0 0h24v24H0V0z\" fill=\"none\"/>\n",
              "    <path d=\"M18.56 5.44l.94 2.06.94-2.06 2.06-.94-2.06-.94-.94-2.06-.94 2.06-2.06.94zm-11 1L8.5 8.5l.94-2.06 2.06-.94-2.06-.94L8.5 2.5l-.94 2.06-2.06.94zm10 10l.94 2.06.94-2.06 2.06-.94-2.06-.94-.94-2.06-.94 2.06-2.06.94z\"/><path d=\"M17.41 7.96l-1.37-1.37c-.4-.4-.92-.59-1.43-.59-.52 0-1.04.2-1.43.59L10.3 9.45l-7.72 7.72c-.78.78-.78 2.05 0 2.83L4 21.41c.39.39.9.59 1.41.59.51 0 1.02-.2 1.41-.59l7.78-7.78 2.81-2.81c.8-.78.8-2.07 0-2.86zM5.41 20L4 18.59l7.72-7.72 1.47 1.35L5.41 20z\"/>\n",
              "  </svg>\n",
              "      </button>\n",
              "      \n",
              "  <style>\n",
              "    .colab-df-container {\n",
              "      display:flex;\n",
              "      flex-wrap:wrap;\n",
              "      gap: 12px;\n",
              "    }\n",
              "\n",
              "    .colab-df-convert {\n",
              "      background-color: #E8F0FE;\n",
              "      border: none;\n",
              "      border-radius: 50%;\n",
              "      cursor: pointer;\n",
              "      display: none;\n",
              "      fill: #1967D2;\n",
              "      height: 32px;\n",
              "      padding: 0 0 0 0;\n",
              "      width: 32px;\n",
              "    }\n",
              "\n",
              "    .colab-df-convert:hover {\n",
              "      background-color: #E2EBFA;\n",
              "      box-shadow: 0px 1px 2px rgba(60, 64, 67, 0.3), 0px 1px 3px 1px rgba(60, 64, 67, 0.15);\n",
              "      fill: #174EA6;\n",
              "    }\n",
              "\n",
              "    [theme=dark] .colab-df-convert {\n",
              "      background-color: #3B4455;\n",
              "      fill: #D2E3FC;\n",
              "    }\n",
              "\n",
              "    [theme=dark] .colab-df-convert:hover {\n",
              "      background-color: #434B5C;\n",
              "      box-shadow: 0px 1px 3px 1px rgba(0, 0, 0, 0.15);\n",
              "      filter: drop-shadow(0px 1px 2px rgba(0, 0, 0, 0.3));\n",
              "      fill: #FFFFFF;\n",
              "    }\n",
              "  </style>\n",
              "\n",
              "      <script>\n",
              "        const buttonEl =\n",
              "          document.querySelector('#df-02286e40-d070-458a-8d2e-47010636d88d button.colab-df-convert');\n",
              "        buttonEl.style.display =\n",
              "          google.colab.kernel.accessAllowed ? 'block' : 'none';\n",
              "\n",
              "        async function convertToInteractive(key) {\n",
              "          const element = document.querySelector('#df-02286e40-d070-458a-8d2e-47010636d88d');\n",
              "          const dataTable =\n",
              "            await google.colab.kernel.invokeFunction('convertToInteractive',\n",
              "                                                     [key], {});\n",
              "          if (!dataTable) return;\n",
              "\n",
              "          const docLinkHtml = 'Like what you see? Visit the ' +\n",
              "            '<a target=\"_blank\" href=https://colab.research.google.com/notebooks/data_table.ipynb>data table notebook</a>'\n",
              "            + ' to learn more about interactive tables.';\n",
              "          element.innerHTML = '';\n",
              "          dataTable['output_type'] = 'display_data';\n",
              "          await google.colab.output.renderOutput(dataTable, element);\n",
              "          const docLink = document.createElement('div');\n",
              "          docLink.innerHTML = docLinkHtml;\n",
              "          element.appendChild(docLink);\n",
              "        }\n",
              "      </script>\n",
              "    </div>\n",
              "  </div>\n",
              "  "
            ]
          },
          "metadata": {},
          "execution_count": 10
        }
      ]
    },
    {
      "cell_type": "code",
      "source": [
        "# Plotting Correlation Matrix of NAV and Class\n",
        "plt.figure(figsize=(8.5,7))\n",
        "sns.heatmap(df_corr.corr(),annot=True)"
      ],
      "metadata": {
        "colab": {
          "base_uri": "https://localhost:8080/",
          "height": 449
        },
        "id": "JdtUIUqnCLgS",
        "outputId": "5b92bb9b-6cbf-4a95-f2b7-aaadaeb28df7"
      },
      "execution_count": 11,
      "outputs": [
        {
          "output_type": "execute_result",
          "data": {
            "text/plain": [
              "<matplotlib.axes._subplots.AxesSubplot at 0x7febed439970>"
            ]
          },
          "metadata": {},
          "execution_count": 11
        },
        {
          "output_type": "display_data",
          "data": {
            "text/plain": [
              "<Figure size 612x504 with 2 Axes>"
            ],
            "image/png": "[encoded data removed]"
          },
          "metadata": {
            "needs_background": "light"
          }
        }
      ]
    },
    {
      "cell_type": "markdown",
      "source": [
        "## **Data Preprocessing**"
      ],
      "metadata": {
        "id": "PO4QKfKFDIND"
      }
    },
    {
      "cell_type": "markdown",
      "source": [
        "### **Data Inference**"
      ],
      "metadata": {
        "id": "Gk7S4kXtDidL"
      }
    },
    {
      "cell_type": "code",
      "source": [
        "# Dropping unneccessary features\n",
        "df_ori = df.copy()\n",
        "\n",
        "df = df.drop([65])\n",
        "df = df.drop(['Unnamed: 0'],axis=1)"
      ],
      "metadata": {
        "id": "OsCzOURKD0u4"
      },
      "execution_count": 12,
      "outputs": []
    },
    {
      "cell_type": "code",
      "source": [
        "# Creating data inference\n",
        "df_inf = df.sample(5, random_state=33).sort_index()\n",
        "df_inf"
      ],
      "metadata": {
        "colab": {
          "base_uri": "https://localhost:8080/",
          "height": 206
        },
        "id": "fTe1NL6BDh44",
        "outputId": "9a1a0a46-9503-4b89-a021-e0b2eff6235c"
      },
      "execution_count": 13,
      "outputs": [
        {
          "output_type": "execute_result",
          "data": {
            "text/plain": [
              "         Date        Present           Next  Class\n",
              "5  2022-09-23    2842.770000    2835.970000      0\n",
              "6  2022-09-26    2835.970000    2834.390000      0\n",
              "29 2022-10-27    2814.640000    2815.700000      1\n",
              "48 2022-11-23    2840.690000    2845.480000      1\n",
              "61 2022-12-12    2854.530000    2852.740000      0"
            ],
            "text/html": [
              "\n",
              "  <div id=\"df-a8bcbee2-741d-4355-83a8-5d933eb744ea\">\n",
              "    <div class=\"colab-df-container\">\n",
              "      <div>\n",
              "<style scoped>\n",
              "    .dataframe tbody tr th:only-of-type {\n",
              "        vertical-align: middle;\n",
              "    }\n",
              "\n",
              "    .dataframe tbody tr th {\n",
              "        vertical-align: top;\n",
              "    }\n",
              "\n",
              "    .dataframe thead th {\n",
              "        text-align: right;\n",
              "    }\n",
              "</style>\n",
              "<table border=\"1\" class=\"dataframe\">\n",
              "  <thead>\n",
              "    <tr style=\"text-align: right;\">\n",
              "      <th></th>\n",
              "      <th>Date</th>\n",
              "      <th>Present</th>\n",
              "      <th>Next</th>\n",
              "      <th>Class</th>\n",
              "    </tr>\n",
              "  </thead>\n",
              "  <tbody>\n",
              "    <tr>\n",
              "      <th>5</th>\n",
              "      <td>2022-09-23</td>\n",
              "      <td>2842.770000</td>\n",
              "      <td>2835.970000</td>\n",
              "      <td>0</td>\n",
              "    </tr>\n",
              "    <tr>\n",
              "      <th>6</th>\n",
              "      <td>2022-09-26</td>\n",
              "      <td>2835.970000</td>\n",
              "      <td>2834.390000</td>\n",
              "      <td>0</td>\n",
              "    </tr>\n",
              "    <tr>\n",
              "      <th>29</th>\n",
              "      <td>2022-10-27</td>\n",
              "      <td>2814.640000</td>\n",
              "      <td>2815.700000</td>\n",
              "      <td>1</td>\n",
              "    </tr>\n",
              "    <tr>\n",
              "      <th>48</th>\n",
              "      <td>2022-11-23</td>\n",
              "      <td>2840.690000</td>\n",
              "      <td>2845.480000</td>\n",
              "      <td>1</td>\n",
              "    </tr>\n",
              "    <tr>\n",
              "      <th>61</th>\n",
              "      <td>2022-12-12</td>\n",
              "      <td>2854.530000</td>\n",
              "      <td>2852.740000</td>\n",
              "      <td>0</td>\n",
              "    </tr>\n",
              "  </tbody>\n",
              "</table>\n",
              "</div>\n",
              "      <button class=\"colab-df-convert\" onclick=\"convertToInteractive('df-a8bcbee2-741d-4355-83a8-5d933eb744ea')\"\n",
              "              title=\"Convert this dataframe to an interactive table.\"\n",
              "              style=\"display:none;\">\n",
              "        \n",
              "  <svg xmlns=\"http://www.w3.org/2000/svg\" height=\"24px\"viewBox=\"0 0 24 24\"\n",
              "       width=\"24px\">\n",
              "    <path d=\"M0 0h24v24H0V0z\" fill=\"none\"/>\n",
              "    <path d=\"M18.56 5.44l.94 2.06.94-2.06 2.06-.94-2.06-.94-.94-2.06-.94 2.06-2.06.94zm-11 1L8.5 8.5l.94-2.06 2.06-.94-2.06-.94L8.5 2.5l-.94 2.06-2.06.94zm10 10l.94 2.06.94-2.06 2.06-.94-2.06-.94-.94-2.06-.94 2.06-2.06.94z\"/><path d=\"M17.41 7.96l-1.37-1.37c-.4-.4-.92-.59-1.43-.59-.52 0-1.04.2-1.43.59L10.3 9.45l-7.72 7.72c-.78.78-.78 2.05 0 2.83L4 21.41c.39.39.9.59 1.41.59.51 0 1.02-.2 1.41-.59l7.78-7.78 2.81-2.81c.8-.78.8-2.07 0-2.86zM5.41 20L4 18.59l7.72-7.72 1.47 1.35L5.41 20z\"/>\n",
              "  </svg>\n",
              "      </button>\n",
              "      \n",
              "  <style>\n",
              "    .colab-df-container {\n",
              "      display:flex;\n",
              "      flex-wrap:wrap;\n",
              "      gap: 12px;\n",
              "    }\n",
              "\n",
              "    .colab-df-convert {\n",
              "      background-color: #E8F0FE;\n",
              "      border: none;\n",
              "      border-radius: 50%;\n",
              "      cursor: pointer;\n",
              "      display: none;\n",
              "      fill: #1967D2;\n",
              "      height: 32px;\n",
              "      padding: 0 0 0 0;\n",
              "      width: 32px;\n",
              "    }\n",
              "\n",
              "    .colab-df-convert:hover {\n",
              "      background-color: #E2EBFA;\n",
              "      box-shadow: 0px 1px 2px rgba(60, 64, 67, 0.3), 0px 1px 3px 1px rgba(60, 64, 67, 0.15);\n",
              "      fill: #174EA6;\n",
              "    }\n",
              "\n",
              "    [theme=dark] .colab-df-convert {\n",
              "      background-color: #3B4455;\n",
              "      fill: #D2E3FC;\n",
              "    }\n",
              "\n",
              "    [theme=dark] .colab-df-convert:hover {\n",
              "      background-color: #434B5C;\n",
              "      box-shadow: 0px 1px 3px 1px rgba(0, 0, 0, 0.15);\n",
              "      filter: drop-shadow(0px 1px 2px rgba(0, 0, 0, 0.3));\n",
              "      fill: #FFFFFF;\n",
              "    }\n",
              "  </style>\n",
              "\n",
              "      <script>\n",
              "        const buttonEl =\n",
              "          document.querySelector('#df-a8bcbee2-741d-4355-83a8-5d933eb744ea button.colab-df-convert');\n",
              "        buttonEl.style.display =\n",
              "          google.colab.kernel.accessAllowed ? 'block' : 'none';\n",
              "\n",
              "        async function convertToInteractive(key) {\n",
              "          const element = document.querySelector('#df-a8bcbee2-741d-4355-83a8-5d933eb744ea');\n",
              "          const dataTable =\n",
              "            await google.colab.kernel.invokeFunction('convertToInteractive',\n",
              "                                                     [key], {});\n",
              "          if (!dataTable) return;\n",
              "\n",
              "          const docLinkHtml = 'Like what you see? Visit the ' +\n",
              "            '<a target=\"_blank\" href=https://colab.research.google.com/notebooks/data_table.ipynb>data table notebook</a>'\n",
              "            + ' to learn more about interactive tables.';\n",
              "          element.innerHTML = '';\n",
              "          dataTable['output_type'] = 'display_data';\n",
              "          await google.colab.output.renderOutput(dataTable, element);\n",
              "          const docLink = document.createElement('div');\n",
              "          docLink.innerHTML = docLinkHtml;\n",
              "          element.appendChild(docLink);\n",
              "        }\n",
              "      </script>\n",
              "    </div>\n",
              "  </div>\n",
              "  "
            ]
          },
          "metadata": {},
          "execution_count": 13
        }
      ]
    },
    {
      "cell_type": "code",
      "source": [
        "# Drop data inference as a new dataframe\n",
        "df_train_test = df.drop(df_inf.index)\n",
        "df_train_test.shape"
      ],
      "metadata": {
        "colab": {
          "base_uri": "https://localhost:8080/"
        },
        "id": "6lUCtGHTE1bf",
        "outputId": "63f01669-2d45-4b8e-865c-efe984cd77f0"
      },
      "execution_count": 14,
      "outputs": [
        {
          "output_type": "execute_result",
          "data": {
            "text/plain": [
              "(60, 4)"
            ]
          },
          "metadata": {},
          "execution_count": 14
        }
      ]
    },
    {
      "cell_type": "markdown",
      "source": [
        "### **Train-Test Set**\n",
        "\n",
        "There is no need to drop any feature. However, train-test dataset splitting needs to be done."
      ],
      "metadata": {
        "id": "uMwjP0TbDLhh"
      }
    },
    {
      "cell_type": "code",
      "source": [
        "# Defining X and y\n",
        "X = df_train_test.drop(['Class','Date'],axis=1)\n",
        "y = pd.DataFrame(df_train_test['Class'])"
      ],
      "metadata": {
        "id": "9XjrbninDcfC"
      },
      "execution_count": 15,
      "outputs": []
    },
    {
      "cell_type": "markdown",
      "source": [
        "#### **Imbalanced Data**\n",
        "\n",
        "Imbalanced Data should be handled first to reduce the bias of the model results, especially for the label/target. The Imbalanced Data will be done by Oversampling."
      ],
      "metadata": {
        "id": "lbWw40o8EDsG"
      }
    },
    {
      "cell_type": "code",
      "source": [
        "print('Original number of target: ', len(y))"
      ],
      "metadata": {
        "colab": {
          "base_uri": "https://localhost:8080/"
        },
        "id": "654zZai8EQ8T",
        "outputId": "2bbf50bc-8823-4108-b552-af183fa567a5"
      },
      "execution_count": 16,
      "outputs": [
        {
          "output_type": "stream",
          "name": "stdout",
          "text": [
            "Original number of target:  60\n"
          ]
        }
      ]
    },
    {
      "cell_type": "code",
      "source": [
        "# Define Oversampling\n",
        "from imblearn.over_sampling import SMOTE\n",
        "\n",
        "# Define Oversampling\n",
        "smote = SMOTE(random_state=42)\n",
        "\n",
        "# Fit an resample\n",
        "X, y = smote.fit_resample(X, y)"
      ],
      "metadata": {
        "id": "dOaylEVMGJHS"
      },
      "execution_count": 17,
      "outputs": []
    },
    {
      "cell_type": "code",
      "source": [
        "print('New number of target after oversampling: ', len(y))"
      ],
      "metadata": {
        "colab": {
          "base_uri": "https://localhost:8080/"
        },
        "id": "m8aGSI-PGdIL",
        "outputId": "7f7a30fd-a810-4df5-bffb-146f86287c13"
      },
      "execution_count": 18,
      "outputs": [
        {
          "output_type": "stream",
          "name": "stdout",
          "text": [
            "New number of target after oversampling:  62\n"
          ]
        }
      ]
    },
    {
      "cell_type": "code",
      "source": [
        "# Number of Class after oversampling\n",
        "y.Class.value_counts()"
      ],
      "metadata": {
        "colab": {
          "base_uri": "https://localhost:8080/"
        },
        "id": "VynmMC01Gm2p",
        "outputId": "48aaab42-527c-4b75-d639-ce7bcb26c20a"
      },
      "execution_count": 19,
      "outputs": [
        {
          "output_type": "execute_result",
          "data": {
            "text/plain": [
              "1    31\n",
              "0    31\n",
              "Name: Class, dtype: int64"
            ]
          },
          "metadata": {},
          "execution_count": 19
        }
      ]
    },
    {
      "cell_type": "markdown",
      "source": [
        "#### **Train-Test Set Splitting**"
      ],
      "metadata": {
        "id": "Ztd_l-BfG0ce"
      }
    },
    {
      "cell_type": "code",
      "source": [
        "# Splitting dataset into training and testing set\n",
        "X_train, X_test, y_train, y_test = train_test_split(X, y,\n",
        "                                                    test_size=0.3,\n",
        "                                                    random_state=3)\n",
        "\n",
        "print('Train size : ', X_train.shape)\n",
        "print('Test size. : ', X_test.shape)\n",
        "\n",
        "X_train.head()"
      ],
      "metadata": {
        "colab": {
          "base_uri": "https://localhost:8080/",
          "height": 241
        },
        "id": "6O8073W2Gyg-",
        "outputId": "1c03d805-5a7d-4fd0-c0f9-8020e9266f22"
      },
      "execution_count": 20,
      "outputs": [
        {
          "output_type": "stream",
          "name": "stdout",
          "text": [
            "Train size :  (43, 2)\n",
            "Test size. :  (19, 2)\n"
          ]
        },
        {
          "output_type": "execute_result",
          "data": {
            "text/plain": [
              "        Present         Next\n",
              "61  2817.540071  2812.350719\n",
              "46      2846.65      2847.77\n",
              "16      2825.73      2826.62\n",
              "15      2827.02      2825.73\n",
              "51      2865.47      2863.38"
            ],
            "text/html": [
              "\n",
              "  <div id=\"df-6ee3bd4b-a5c2-4b6d-bcd3-f3c9aecae1a9\">\n",
              "    <div class=\"colab-df-container\">\n",
              "      <div>\n",
              "<style scoped>\n",
              "    .dataframe tbody tr th:only-of-type {\n",
              "        vertical-align: middle;\n",
              "    }\n",
              "\n",
              "    .dataframe tbody tr th {\n",
              "        vertical-align: top;\n",
              "    }\n",
              "\n",
              "    .dataframe thead th {\n",
              "        text-align: right;\n",
              "    }\n",
              "</style>\n",
              "<table border=\"1\" class=\"dataframe\">\n",
              "  <thead>\n",
              "    <tr style=\"text-align: right;\">\n",
              "      <th></th>\n",
              "      <th>Present</th>\n",
              "      <th>Next</th>\n",
              "    </tr>\n",
              "  </thead>\n",
              "  <tbody>\n",
              "    <tr>\n",
              "      <th>61</th>\n",
              "      <td>2817.540071</td>\n",
              "      <td>2812.350719</td>\n",
              "    </tr>\n",
              "    <tr>\n",
              "      <th>46</th>\n",
              "      <td>2846.65</td>\n",
              "      <td>2847.77</td>\n",
              "    </tr>\n",
              "    <tr>\n",
              "      <th>16</th>\n",
              "      <td>2825.73</td>\n",
              "      <td>2826.62</td>\n",
              "    </tr>\n",
              "    <tr>\n",
              "      <th>15</th>\n",
              "      <td>2827.02</td>\n",
              "      <td>2825.73</td>\n",
              "    </tr>\n",
              "    <tr>\n",
              "      <th>51</th>\n",
              "      <td>2865.47</td>\n",
              "      <td>2863.38</td>\n",
              "    </tr>\n",
              "  </tbody>\n",
              "</table>\n",
              "</div>\n",
              "      <button class=\"colab-df-convert\" onclick=\"convertToInteractive('df-6ee3bd4b-a5c2-4b6d-bcd3-f3c9aecae1a9')\"\n",
              "              title=\"Convert this dataframe to an interactive table.\"\n",
              "              style=\"display:none;\">\n",
              "        \n",
              "  <svg xmlns=\"http://www.w3.org/2000/svg\" height=\"24px\"viewBox=\"0 0 24 24\"\n",
              "       width=\"24px\">\n",
              "    <path d=\"M0 0h24v24H0V0z\" fill=\"none\"/>\n",
              "    <path d=\"M18.56 5.44l.94 2.06.94-2.06 2.06-.94-2.06-.94-.94-2.06-.94 2.06-2.06.94zm-11 1L8.5 8.5l.94-2.06 2.06-.94-2.06-.94L8.5 2.5l-.94 2.06-2.06.94zm10 10l.94 2.06.94-2.06 2.06-.94-2.06-.94-.94-2.06-.94 2.06-2.06.94z\"/><path d=\"M17.41 7.96l-1.37-1.37c-.4-.4-.92-.59-1.43-.59-.52 0-1.04.2-1.43.59L10.3 9.45l-7.72 7.72c-.78.78-.78 2.05 0 2.83L4 21.41c.39.39.9.59 1.41.59.51 0 1.02-.2 1.41-.59l7.78-7.78 2.81-2.81c.8-.78.8-2.07 0-2.86zM5.41 20L4 18.59l7.72-7.72 1.47 1.35L5.41 20z\"/>\n",
              "  </svg>\n",
              "      </button>\n",
              "      \n",
              "  <style>\n",
              "    .colab-df-container {\n",
              "      display:flex;\n",
              "      flex-wrap:wrap;\n",
              "      gap: 12px;\n",
              "    }\n",
              "\n",
              "    .colab-df-convert {\n",
              "      background-color: #E8F0FE;\n",
              "      border: none;\n",
              "      border-radius: 50%;\n",
              "      cursor: pointer;\n",
              "      display: none;\n",
              "      fill: #1967D2;\n",
              "      height: 32px;\n",
              "      padding: 0 0 0 0;\n",
              "      width: 32px;\n",
              "    }\n",
              "\n",
              "    .colab-df-convert:hover {\n",
              "      background-color: #E2EBFA;\n",
              "      box-shadow: 0px 1px 2px rgba(60, 64, 67, 0.3), 0px 1px 3px 1px rgba(60, 64, 67, 0.15);\n",
              "      fill: #174EA6;\n",
              "    }\n",
              "\n",
              "    [theme=dark] .colab-df-convert {\n",
              "      background-color: #3B4455;\n",
              "      fill: #D2E3FC;\n",
              "    }\n",
              "\n",
              "    [theme=dark] .colab-df-convert:hover {\n",
              "      background-color: #434B5C;\n",
              "      box-shadow: 0px 1px 3px 1px rgba(0, 0, 0, 0.15);\n",
              "      filter: drop-shadow(0px 1px 2px rgba(0, 0, 0, 0.3));\n",
              "      fill: #FFFFFF;\n",
              "    }\n",
              "  </style>\n",
              "\n",
              "      <script>\n",
              "        const buttonEl =\n",
              "          document.querySelector('#df-6ee3bd4b-a5c2-4b6d-bcd3-f3c9aecae1a9 button.colab-df-convert');\n",
              "        buttonEl.style.display =\n",
              "          google.colab.kernel.accessAllowed ? 'block' : 'none';\n",
              "\n",
              "        async function convertToInteractive(key) {\n",
              "          const element = document.querySelector('#df-6ee3bd4b-a5c2-4b6d-bcd3-f3c9aecae1a9');\n",
              "          const dataTable =\n",
              "            await google.colab.kernel.invokeFunction('convertToInteractive',\n",
              "                                                     [key], {});\n",
              "          if (!dataTable) return;\n",
              "\n",
              "          const docLinkHtml = 'Like what you see? Visit the ' +\n",
              "            '<a target=\"_blank\" href=https://colab.research.google.com/notebooks/data_table.ipynb>data table notebook</a>'\n",
              "            + ' to learn more about interactive tables.';\n",
              "          element.innerHTML = '';\n",
              "          dataTable['output_type'] = 'display_data';\n",
              "          await google.colab.output.renderOutput(dataTable, element);\n",
              "          const docLink = document.createElement('div');\n",
              "          docLink.innerHTML = docLinkHtml;\n",
              "          element.appendChild(docLink);\n",
              "        }\n",
              "      </script>\n",
              "    </div>\n",
              "  </div>\n",
              "  "
            ]
          },
          "metadata": {},
          "execution_count": 20
        }
      ]
    },
    {
      "cell_type": "markdown",
      "source": [
        "### **Pipelines**"
      ],
      "metadata": {
        "id": "jW9jPJYsHVRo"
      }
    },
    {
      "cell_type": "markdown",
      "source": [
        "#### **Data Skewness**\n",
        "\n",
        "Numerical scaler that will be used is MinMaxScaler because of data skewnesses are more than 0.5, which is not even Normal at all."
      ],
      "metadata": {
        "id": "2ZnShVNBHbg9"
      }
    },
    {
      "cell_type": "code",
      "source": [
        "X_train.skew()"
      ],
      "metadata": {
        "colab": {
          "base_uri": "https://localhost:8080/"
        },
        "id": "46-bR3LFHjtK",
        "outputId": "2842af22-a01f-4ee3-8073-8584dd289111"
      },
      "execution_count": 21,
      "outputs": [
        {
          "output_type": "execute_result",
          "data": {
            "text/plain": [
              "Present    0.299426\n",
              "Next       0.257493\n",
              "dtype: float64"
            ]
          },
          "metadata": {},
          "execution_count": 21
        }
      ]
    },
    {
      "cell_type": "markdown",
      "source": [
        "#### **Making Pipelines**"
      ],
      "metadata": {
        "id": "dTQc78wBHuhn"
      }
    },
    {
      "cell_type": "code",
      "source": [
        "num_columns = ['Present', 'Next']\n",
        "print('Numerical columns  : ', num_columns)"
      ],
      "metadata": {
        "colab": {
          "base_uri": "https://localhost:8080/"
        },
        "id": "FLo6oc43PReU",
        "outputId": "86397e2b-960b-4378-ee6a-d017bddf8015"
      },
      "execution_count": 22,
      "outputs": [
        {
          "output_type": "stream",
          "name": "stdout",
          "text": [
            "Numerical columns  :  ['Present', 'Next']\n"
          ]
        }
      ]
    },
    {
      "cell_type": "code",
      "source": [
        "# Preprocessing for numerical data\n",
        "numerical_pipe = Pipeline(steps=\n",
        "                          [('scaler', MinMaxScaler())])\n",
        "\n",
        "# Bundle preprocessing for numerical and categorical data\n",
        "preprocessor = ColumnTransformer(\n",
        "    transformers=[\n",
        "        ('num', numerical_pipe, num_columns)\n",
        "    ])\n",
        "preprocessor"
      ],
      "metadata": {
        "colab": {
          "base_uri": "https://localhost:8080/"
        },
        "id": "_2ssNTMrHZWD",
        "outputId": "a6791a56-67fc-4304-8465-87fe110ab54e"
      },
      "execution_count": 23,
      "outputs": [
        {
          "output_type": "execute_result",
          "data": {
            "text/plain": [
              "ColumnTransformer(transformers=[('num',\n",
              "                                 Pipeline(steps=[('scaler', MinMaxScaler())]),\n",
              "                                 ['Present', 'Next'])])"
            ]
          },
          "metadata": {},
          "execution_count": 23
        }
      ]
    },
    {
      "cell_type": "markdown",
      "source": [
        "## **Model Definition**\n",
        "\n",
        "1. Regression (Linear Regression): to find the predicted value\n",
        "2. Classification (Logistic Regression, SVC, Decision Tree, and Ensambles Learning)"
      ],
      "metadata": {
        "id": "uR1IN_B-JDE7"
      }
    },
    {
      "cell_type": "markdown",
      "source": [
        "### **Liniear Regression**"
      ],
      "metadata": {
        "id": "t3QVsf-IJU9r"
      }
    },
    {
      "cell_type": "code",
      "source": [
        "# Training using Linear Regression\n",
        "linreg = LinearRegression()"
      ],
      "metadata": {
        "id": "QdxDg3HBJF7K"
      },
      "execution_count": 24,
      "outputs": []
    },
    {
      "cell_type": "code",
      "source": [
        "# Bundle preprocessing and modeling code in a pipeline\n",
        "pipe_lin = Pipeline(steps=[('preprocessor', preprocessor),\n",
        "                           ('linreg', linreg)\n",
        "                             ])\n",
        "\n",
        "pipe_lin"
      ],
      "metadata": {
        "colab": {
          "base_uri": "https://localhost:8080/"
        },
        "id": "vKDt9zcCcKJn",
        "outputId": "b5295c9d-5572-4837-ac65-2c08eb0452cb"
      },
      "execution_count": 25,
      "outputs": [
        {
          "output_type": "execute_result",
          "data": {
            "text/plain": [
              "Pipeline(steps=[('preprocessor',\n",
              "                 ColumnTransformer(transformers=[('num',\n",
              "                                                  Pipeline(steps=[('scaler',\n",
              "                                                                   MinMaxScaler())]),\n",
              "                                                  ['Present', 'Next'])])),\n",
              "                ('linreg', LinearRegression())])"
            ]
          },
          "metadata": {},
          "execution_count": 25
        }
      ]
    },
    {
      "cell_type": "markdown",
      "source": [
        "### **Classification**"
      ],
      "metadata": {
        "id": "eknoMSvFJb_J"
      }
    },
    {
      "cell_type": "markdown",
      "source": [
        "#### **Logistic Regression**"
      ],
      "metadata": {
        "id": "xHn9NgcRJeDS"
      }
    },
    {
      "cell_type": "code",
      "source": [
        "# Defining Logistic Regression\n",
        "logreg = LogisticRegression(random_state=3)"
      ],
      "metadata": {
        "id": "ocOBdgBLJgRS"
      },
      "execution_count": 26,
      "outputs": []
    },
    {
      "cell_type": "code",
      "source": [
        "# Bundle preprocessing and modeling code in a pipeline\n",
        "pipe_log = Pipeline(steps=[('preprocessor', preprocessor),\n",
        "                           ('logreg', logreg)\n",
        "                             ])\n",
        "\n",
        "pipe_log"
      ],
      "metadata": {
        "colab": {
          "base_uri": "https://localhost:8080/"
        },
        "id": "R-q9iKyMJr2l",
        "outputId": "717e8172-d86a-4774-9c41-13254e21c7b3"
      },
      "execution_count": 27,
      "outputs": [
        {
          "output_type": "execute_result",
          "data": {
            "text/plain": [
              "Pipeline(steps=[('preprocessor',\n",
              "                 ColumnTransformer(transformers=[('num',\n",
              "                                                  Pipeline(steps=[('scaler',\n",
              "                                                                   MinMaxScaler())]),\n",
              "                                                  ['Present', 'Next'])])),\n",
              "                ('logreg', LogisticRegression(random_state=3))])"
            ]
          },
          "metadata": {},
          "execution_count": 27
        }
      ]
    },
    {
      "cell_type": "markdown",
      "source": [
        "#### **SVC**"
      ],
      "metadata": {
        "id": "lhCtsWn1Jvas"
      }
    },
    {
      "cell_type": "code",
      "source": [
        "# SVC Classifier model\n",
        "svm = SVC(random_state=3)"
      ],
      "metadata": {
        "id": "I08b1RT_J237"
      },
      "execution_count": 28,
      "outputs": []
    },
    {
      "cell_type": "code",
      "source": [
        "# Bundle preprocessing and modeling code in a pipeline\n",
        "pipe_svm = Pipeline(steps=[('preprocessor', preprocessor),\n",
        "                           ('svm', svm)\n",
        "                             ])\n",
        "\n",
        "pipe_svm"
      ],
      "metadata": {
        "colab": {
          "base_uri": "https://localhost:8080/"
        },
        "id": "1jPsb60mJ9kH",
        "outputId": "e4b0bc5c-7d33-4a5a-8353-56625fd364e3"
      },
      "execution_count": 29,
      "outputs": [
        {
          "output_type": "execute_result",
          "data": {
            "text/plain": [
              "Pipeline(steps=[('preprocessor',\n",
              "                 ColumnTransformer(transformers=[('num',\n",
              "                                                  Pipeline(steps=[('scaler',\n",
              "                                                                   MinMaxScaler())]),\n",
              "                                                  ['Present', 'Next'])])),\n",
              "                ('svm', SVC(random_state=3))])"
            ]
          },
          "metadata": {},
          "execution_count": 29
        }
      ]
    },
    {
      "cell_type": "markdown",
      "source": [
        "#### **Decision Tree**"
      ],
      "metadata": {
        "id": "h5t7xoVmJ-xA"
      }
    },
    {
      "cell_type": "code",
      "source": [
        "# Defining DecisionTreeClassifier\n",
        "dt = DecisionTreeClassifier(random_state=3)"
      ],
      "metadata": {
        "id": "FzmH9fsmKB-L"
      },
      "execution_count": 30,
      "outputs": []
    },
    {
      "cell_type": "code",
      "source": [
        "# Bundle preprocessing and modeling code in a pipeline\n",
        "pipe_dt = Pipeline(steps=[('preprocessor', preprocessor),\n",
        "                           ('dt', dt)\n",
        "                             ])\n",
        "\n",
        "pipe_dt"
      ],
      "metadata": {
        "colab": {
          "base_uri": "https://localhost:8080/"
        },
        "id": "szV26-ScKGha",
        "outputId": "95a05f93-25e8-4852-aa4b-a0902585a7c1"
      },
      "execution_count": 31,
      "outputs": [
        {
          "output_type": "execute_result",
          "data": {
            "text/plain": [
              "Pipeline(steps=[('preprocessor',\n",
              "                 ColumnTransformer(transformers=[('num',\n",
              "                                                  Pipeline(steps=[('scaler',\n",
              "                                                                   MinMaxScaler())]),\n",
              "                                                  ['Present', 'Next'])])),\n",
              "                ('dt', DecisionTreeClassifier(random_state=3))])"
            ]
          },
          "metadata": {},
          "execution_count": 31
        }
      ]
    },
    {
      "cell_type": "markdown",
      "source": [
        "#### **Ensambles Learning: Random Forest**"
      ],
      "metadata": {
        "id": "iuI8M_lYKHoz"
      }
    },
    {
      "cell_type": "code",
      "source": [
        "# Define RandomForestClassifier \n",
        "rfc = RandomForestClassifier(random_state=3)"
      ],
      "metadata": {
        "id": "7SpjCBQkKLKi"
      },
      "execution_count": 32,
      "outputs": []
    },
    {
      "cell_type": "code",
      "source": [
        "# Bundle preprocessing and modeling code in a pipeline\n",
        "pipe_rfc = Pipeline(steps=[('preprocessor', preprocessor),\n",
        "                           ('rfc', rfc)\n",
        "                             ])\n",
        "\n",
        "pipe_rfc"
      ],
      "metadata": {
        "colab": {
          "base_uri": "https://localhost:8080/"
        },
        "id": "k3CTHAbvKORI",
        "outputId": "6d13c81b-90ca-4989-efce-9c5e5f7296c7"
      },
      "execution_count": 33,
      "outputs": [
        {
          "output_type": "execute_result",
          "data": {
            "text/plain": [
              "Pipeline(steps=[('preprocessor',\n",
              "                 ColumnTransformer(transformers=[('num',\n",
              "                                                  Pipeline(steps=[('scaler',\n",
              "                                                                   MinMaxScaler())]),\n",
              "                                                  ['Present', 'Next'])])),\n",
              "                ('rfc', RandomForestClassifier(random_state=3))])"
            ]
          },
          "metadata": {},
          "execution_count": 33
        }
      ]
    },
    {
      "cell_type": "markdown",
      "source": [
        "## **Model Training**"
      ],
      "metadata": {
        "id": "OXWnyfk8KP9N"
      }
    },
    {
      "cell_type": "markdown",
      "source": [
        "### **Linear Regression**"
      ],
      "metadata": {
        "id": "WtwJ7KnTKSgM"
      }
    },
    {
      "cell_type": "code",
      "source": [
        "# Default Parameters\n",
        "# Fit model \n",
        "pipe_lin.fit(X_train, y_train)\n",
        "\n",
        "# Prediction, using X_train\n",
        "y_train_lin = pipe_lin.predict(X_train)\n",
        "\n",
        "# Prediction, using X_test\n",
        "y_test_lin = pipe_lin.predict(X_test)"
      ],
      "metadata": {
        "id": "0M_ufr3UKVw-"
      },
      "execution_count": 34,
      "outputs": []
    },
    {
      "cell_type": "markdown",
      "source": [
        "**Cross-validation**"
      ],
      "metadata": {
        "id": "yxIsmDmZcOlm"
      }
    },
    {
      "cell_type": "code",
      "source": [
        "# Cross Validation using `cross_val_score` for train set\n",
        "train_cross_val = cross_val_score(pipe_lin, \n",
        "                                  X, \n",
        "                                  y, \n",
        "                                  cv=5, \n",
        "                                  scoring='r2')\n",
        "\n",
        "print(\"Accuracy Score All - Cross Validation :\", train_cross_val)\n",
        "print(\"Mean - Cross-Validation               :\", train_cross_val.mean())\n",
        "print(\"Standard Deviation Cross-Validation   :\", train_cross_val.std())"
      ],
      "metadata": {
        "colab": {
          "base_uri": "https://localhost:8080/"
        },
        "id": "EKUeFbSEcPy5",
        "outputId": "d5174eb7-063c-422a-9feb-5b9f0d9d2d96"
      },
      "execution_count": 35,
      "outputs": [
        {
          "output_type": "stream",
          "name": "stdout",
          "text": [
            "Accuracy Score All - Cross Validation : [0.59561849 0.25076804 0.51890225 0.44599711 0.48137674]\n",
            "Mean - Cross-Validation               : 0.4585325255513998\n",
            "Standard Deviation Cross-Validation   : 0.11513656600662224\n"
          ]
        }
      ]
    },
    {
      "cell_type": "markdown",
      "source": [
        "### **Classification**"
      ],
      "metadata": {
        "id": "yeJ_typvKV_3"
      }
    },
    {
      "cell_type": "markdown",
      "source": [
        "#### **Logistic Regression**"
      ],
      "metadata": {
        "id": "rGmNLM4oKYjl"
      }
    },
    {
      "cell_type": "code",
      "source": [
        "# Default Parameters\n",
        "# Fit model \n",
        "pipe_log.fit(X_train, y_train)\n",
        "\n",
        "# Prediction, using X_train\n",
        "y_train_log = pipe_log.predict(X_train)\n",
        "\n",
        "# Prediction, using X_test\n",
        "y_test_log = pipe_log.predict(X_test)"
      ],
      "metadata": {
        "id": "lF_AmibLKX7N"
      },
      "execution_count": 36,
      "outputs": []
    },
    {
      "cell_type": "markdown",
      "source": [
        "**Cross-Validation**"
      ],
      "metadata": {
        "id": "nhpcmqc3QyKU"
      }
    },
    {
      "cell_type": "code",
      "source": [
        "# Cross Validation using `cross_val_score` for train set\n",
        "train_cross_val = cross_val_score(pipe_log, \n",
        "                                  X, \n",
        "                                  y, \n",
        "                                  cv=5, \n",
        "                                  scoring='f1')\n",
        "\n",
        "print(\"Accuracy Score All - Cross Validation :\", train_cross_val)\n",
        "print(\"Mean - Cross-Validation               :\", train_cross_val.mean())\n",
        "print(\"Standard Deviation Cross-Validation   :\", train_cross_val.std())"
      ],
      "metadata": {
        "colab": {
          "base_uri": "https://localhost:8080/"
        },
        "id": "CCFnDqC0QzqY",
        "outputId": "193d2461-3c41-4aaa-b1e3-2f1371e9036b"
      },
      "execution_count": 37,
      "outputs": [
        {
          "output_type": "stream",
          "name": "stdout",
          "text": [
            "Accuracy Score All - Cross Validation : [0.57142857 0.         0.         1.         0.75      ]\n",
            "Mean - Cross-Validation               : 0.46428571428571425\n",
            "Standard Deviation Cross-Validation   : 0.40279634799633385\n"
          ]
        }
      ]
    },
    {
      "cell_type": "markdown",
      "source": [
        "**Hyperparameter Tuning**"
      ],
      "metadata": {
        "id": "2pviaF04Rr4s"
      }
    },
    {
      "cell_type": "code",
      "source": [
        "# Define Hyperparameters for LogReg\n",
        "solver = ['newton-cg', 'lbfgs', 'liblinear', 'sag', 'saga']\n",
        "max_iter = [int(x) for x in np.linspace(start=10, stop=100, num = 7)]\n",
        "penalty = ['l1', 'l2', 'elasticnet', 'none']\n",
        "\n",
        "param_grid_log = {'logreg__solver': solver,\n",
        "              'logreg__max_iter':max_iter,\n",
        "              'logreg__penalty': penalty}\n",
        "param_grid_log"
      ],
      "metadata": {
        "colab": {
          "base_uri": "https://localhost:8080/"
        },
        "id": "IBb3StdVRtez",
        "outputId": "3935a1f5-b3b4-4fcf-ee35-f1dc97ce9939"
      },
      "execution_count": 38,
      "outputs": [
        {
          "output_type": "execute_result",
          "data": {
            "text/plain": [
              "{'logreg__solver': ['newton-cg', 'lbfgs', 'liblinear', 'sag', 'saga'],\n",
              " 'logreg__max_iter': [10, 25, 40, 55, 70, 85, 100],\n",
              " 'logreg__penalty': ['l1', 'l2', 'elasticnet', 'none']}"
            ]
          },
          "metadata": {},
          "execution_count": 38
        }
      ]
    },
    {
      "cell_type": "code",
      "source": [
        "# Train with Grid Search\n",
        "%%time\n",
        "logreg_gridcv = GridSearchCV(pipe_log,\n",
        "                          param_grid_log,\n",
        "                          n_jobs=-1,\n",
        "                          verbose=2,\n",
        "                          scoring='f1')\n",
        "\n",
        "logreg_gridcv.fit(X_train, y_train)"
      ],
      "metadata": {
        "colab": {
          "base_uri": "https://localhost:8080/"
        },
        "id": "D8Rgjy-GR1B8",
        "outputId": "4701db0d-6276-417d-a977-a1d14ce3ff7f"
      },
      "execution_count": 39,
      "outputs": [
        {
          "output_type": "stream",
          "name": "stdout",
          "text": [
            "Fitting 5 folds for each of 140 candidates, totalling 700 fits\n",
            "CPU times: user 1.36 s, sys: 124 ms, total: 1.49 s\n",
            "Wall time: 14.6 s\n"
          ]
        },
        {
          "output_type": "execute_result",
          "data": {
            "text/plain": [
              "GridSearchCV(estimator=Pipeline(steps=[('preprocessor',\n",
              "                                        ColumnTransformer(transformers=[('num',\n",
              "                                                                         Pipeline(steps=[('scaler',\n",
              "                                                                                          MinMaxScaler())]),\n",
              "                                                                         ['Present',\n",
              "                                                                          'Next'])])),\n",
              "                                       ('logreg',\n",
              "                                        LogisticRegression(random_state=3))]),\n",
              "             n_jobs=-1,\n",
              "             param_grid={'logreg__max_iter': [10, 25, 40, 55, 70, 85, 100],\n",
              "                         'logreg__penalty': ['l1', 'l2', 'elasticnet', 'none'],\n",
              "                         'logreg__solver': ['newton-cg', 'lbfgs', 'liblinear',\n",
              "                                            'sag', 'saga']},\n",
              "             scoring='f1', verbose=2)"
            ]
          },
          "metadata": {},
          "execution_count": 39
        }
      ]
    },
    {
      "cell_type": "code",
      "source": [
        "# Display Best Hyperparamters from Grid Search for Train Set\n",
        "logreg_gridcv.best_params_"
      ],
      "metadata": {
        "colab": {
          "base_uri": "https://localhost:8080/"
        },
        "id": "juRw9zRKR7Sq",
        "outputId": "da6af8ee-8565-473b-d4b6-cb86d992f263"
      },
      "execution_count": 40,
      "outputs": [
        {
          "output_type": "execute_result",
          "data": {
            "text/plain": [
              "{'logreg__max_iter': 10,\n",
              " 'logreg__penalty': 'none',\n",
              " 'logreg__solver': 'newton-cg'}"
            ]
          },
          "metadata": {},
          "execution_count": 40
        }
      ]
    },
    {
      "cell_type": "markdown",
      "source": [
        "**Redefine Model**"
      ],
      "metadata": {
        "id": "XrkN_WzdR-_W"
      }
    },
    {
      "cell_type": "code",
      "source": [
        "# Redefining Logistic Regression with best estimator\n",
        "logreg_gridcv_best = logreg_gridcv.best_estimator_"
      ],
      "metadata": {
        "id": "icBNmz43SA3q"
      },
      "execution_count": 41,
      "outputs": []
    },
    {
      "cell_type": "code",
      "source": [
        "# Prediction Final\n",
        "y_train_log_final = logreg_gridcv_best.predict(X_train)\n",
        "y_test_log_final = logreg_gridcv_best.predict(X_test)"
      ],
      "metadata": {
        "id": "TluIW3wgSDGB"
      },
      "execution_count": 42,
      "outputs": []
    },
    {
      "cell_type": "markdown",
      "source": [
        "#### **SVC**"
      ],
      "metadata": {
        "id": "7WLUbEh8Qneh"
      }
    },
    {
      "cell_type": "code",
      "source": [
        "# Default Parameters\n",
        "# Fit model \n",
        "pipe_svm.fit(X_train, y_train)\n",
        "\n",
        "# Prediction, using X_train\n",
        "y_train_svm = pipe_svm.predict(X_train)\n",
        "\n",
        "# Prediction, using X_test\n",
        "y_test_svm = pipe_svm.predict(X_test)"
      ],
      "metadata": {
        "id": "nNSydEinQosf"
      },
      "execution_count": 43,
      "outputs": []
    },
    {
      "cell_type": "markdown",
      "source": [
        "**Cross-validation**"
      ],
      "metadata": {
        "id": "RJN9RKaxREeH"
      }
    },
    {
      "cell_type": "code",
      "source": [
        "# Cross Validation using `cross_val_score` for train set\n",
        "train_cross_val = cross_val_score(pipe_svm, \n",
        "                                  X, \n",
        "                                  y, \n",
        "                                  cv=5, \n",
        "                                  scoring='f1')\n",
        "\n",
        "print(\"Accuracy Score All - Cross Validation :\", train_cross_val)\n",
        "print(\"Mean - Cross-Validation               :\", train_cross_val.mean())\n",
        "print(\"Standard Deviation Cross-Validation   :\", train_cross_val.std())"
      ],
      "metadata": {
        "colab": {
          "base_uri": "https://localhost:8080/"
        },
        "id": "d4Z7kzEdRG_c",
        "outputId": "119ddb89-2f02-48b3-e8ca-0391f0975137"
      },
      "execution_count": 44,
      "outputs": [
        {
          "output_type": "stream",
          "name": "stdout",
          "text": [
            "Accuracy Score All - Cross Validation : [0.46153846 0.         0.33333333 1.         0.75      ]\n",
            "Mean - Cross-Validation               : 0.5089743589743589\n",
            "Standard Deviation Cross-Validation   : 0.3439053277062171\n"
          ]
        }
      ]
    },
    {
      "cell_type": "markdown",
      "source": [
        "**Hyperparameter Tuning**"
      ],
      "metadata": {
        "id": "j449RtmdScvm"
      }
    },
    {
      "cell_type": "code",
      "source": [
        "# Define Hyperparameters\n",
        "C = [int(x) for x in np.linspace(start=10, stop=100, num = 7)]\n",
        "kernel = ['linear', 'poly', 'rbf', 'sigmoid', 'precomputed']\n",
        "gamma = ['scale', 'auto']\n",
        "decision_function_shape = ['ovo', 'ovr']\n",
        "\n",
        "param_grid_svm = {'svm__C': C,\n",
        "              'svm__kernel':kernel,\n",
        "              'svm__gamma': gamma,\n",
        "              'svm__decision_function_shape': decision_function_shape}\n",
        "param_grid_svm"
      ],
      "metadata": {
        "colab": {
          "base_uri": "https://localhost:8080/"
        },
        "id": "Qrct7df5SdGp",
        "outputId": "940cb646-38b1-4176-b0d5-e6c8f30d3c5f"
      },
      "execution_count": 45,
      "outputs": [
        {
          "output_type": "execute_result",
          "data": {
            "text/plain": [
              "{'svm__C': [10, 25, 40, 55, 70, 85, 100],\n",
              " 'svm__kernel': ['linear', 'poly', 'rbf', 'sigmoid', 'precomputed'],\n",
              " 'svm__gamma': ['scale', 'auto'],\n",
              " 'svm__decision_function_shape': ['ovo', 'ovr']}"
            ]
          },
          "metadata": {},
          "execution_count": 45
        }
      ]
    },
    {
      "cell_type": "code",
      "source": [
        "# Train with Grid Search\n",
        "%%time\n",
        "svm_gridcv = GridSearchCV(pipe_svm,\n",
        "                          param_grid_svm,\n",
        "                          n_jobs=-1,\n",
        "                          verbose=2,\n",
        "                          scoring='f1')\n",
        "\n",
        "svm_gridcv.fit(X_train, y_train)"
      ],
      "metadata": {
        "colab": {
          "base_uri": "https://localhost:8080/"
        },
        "id": "KoVlXD8ASiXl",
        "outputId": "106e6e30-e528-4335-f9a0-cad2798f488a"
      },
      "execution_count": 46,
      "outputs": [
        {
          "output_type": "stream",
          "name": "stdout",
          "text": [
            "Fitting 5 folds for each of 140 candidates, totalling 700 fits\n",
            "CPU times: user 1.5 s, sys: 53.4 ms, total: 1.56 s\n",
            "Wall time: 13.4 s\n"
          ]
        },
        {
          "output_type": "execute_result",
          "data": {
            "text/plain": [
              "GridSearchCV(estimator=Pipeline(steps=[('preprocessor',\n",
              "                                        ColumnTransformer(transformers=[('num',\n",
              "                                                                         Pipeline(steps=[('scaler',\n",
              "                                                                                          MinMaxScaler())]),\n",
              "                                                                         ['Present',\n",
              "                                                                          'Next'])])),\n",
              "                                       ('svm', SVC(random_state=3))]),\n",
              "             n_jobs=-1,\n",
              "             param_grid={'svm__C': [10, 25, 40, 55, 70, 85, 100],\n",
              "                         'svm__decision_function_shape': ['ovo', 'ovr'],\n",
              "                         'svm__gamma': ['scale', 'auto'],\n",
              "                         'svm__kernel': ['linear', 'poly', 'rbf', 'sigmoid',\n",
              "                                         'precomputed']},\n",
              "             scoring='f1', verbose=2)"
            ]
          },
          "metadata": {},
          "execution_count": 46
        }
      ]
    },
    {
      "cell_type": "code",
      "source": [
        "# Display Best Hyperparamters from Grid Search for Train Set\n",
        "svm_gridcv.best_params_"
      ],
      "metadata": {
        "colab": {
          "base_uri": "https://localhost:8080/"
        },
        "id": "dZDyyf_oSmYd",
        "outputId": "fbf791bb-8f8e-4296-ea60-6c5211de5fff"
      },
      "execution_count": 47,
      "outputs": [
        {
          "output_type": "execute_result",
          "data": {
            "text/plain": [
              "{'svm__C': 85,\n",
              " 'svm__decision_function_shape': 'ovo',\n",
              " 'svm__gamma': 'auto',\n",
              " 'svm__kernel': 'rbf'}"
            ]
          },
          "metadata": {},
          "execution_count": 47
        }
      ]
    },
    {
      "cell_type": "markdown",
      "source": [
        "**Redefine Model**"
      ],
      "metadata": {
        "id": "donOqCwHSrOz"
      }
    },
    {
      "cell_type": "code",
      "source": [
        "# Redefining Logistic Regression with best estimator\n",
        "svm_gridcv_best = svm_gridcv.best_estimator_"
      ],
      "metadata": {
        "id": "8YgLWMu_Ssdy"
      },
      "execution_count": 48,
      "outputs": []
    },
    {
      "cell_type": "code",
      "source": [
        "# Prediction Final\n",
        "y_train_svm_final = svm_gridcv_best.predict(X_train)\n",
        "y_test_svm_final = svm_gridcv_best.predict(X_test)"
      ],
      "metadata": {
        "id": "p2juAgwYStZg"
      },
      "execution_count": 49,
      "outputs": []
    },
    {
      "cell_type": "markdown",
      "source": [
        "#### **Decision Tree**"
      ],
      "metadata": {
        "id": "gFNTfvRDRNPP"
      }
    },
    {
      "cell_type": "code",
      "source": [
        "# Default Parameters\n",
        "# Fit model \n",
        "pipe_dt.fit(X_train, y_train)\n",
        "\n",
        "# Prediction, using X_train\n",
        "y_train_dt = pipe_dt.predict(X_train)\n",
        "\n",
        "# Prediction, using X_test\n",
        "y_test_dt = pipe_dt.predict(X_test)"
      ],
      "metadata": {
        "id": "vu2CTWpkRPZd"
      },
      "execution_count": 50,
      "outputs": []
    },
    {
      "cell_type": "markdown",
      "source": [
        "**Cross-validation**"
      ],
      "metadata": {
        "id": "zWfzOzf7RQ6f"
      }
    },
    {
      "cell_type": "code",
      "source": [
        "# Cross Validation using `cross_val_score` for train set\n",
        "train_cross_val = cross_val_score(pipe_dt, \n",
        "                                  X, \n",
        "                                  y, \n",
        "                                  cv=5, \n",
        "                                  scoring='f1')\n",
        "\n",
        "print(\"Accuracy Score All - Cross Validation :\", train_cross_val)\n",
        "print(\"Mean - Cross-Validation               :\", train_cross_val.mean())\n",
        "print(\"Standard Deviation Cross-Validation   :\", train_cross_val.std())"
      ],
      "metadata": {
        "colab": {
          "base_uri": "https://localhost:8080/"
        },
        "id": "vob377v_RSvv",
        "outputId": "d0761366-ecb6-45d4-f63b-ea6937237449"
      },
      "execution_count": 51,
      "outputs": [
        {
          "output_type": "stream",
          "name": "stdout",
          "text": [
            "Accuracy Score All - Cross Validation : [0.625      0.16666667 0.71428571 0.61538462 0.57142857]\n",
            "Mean - Cross-Validation               : 0.5385531135531136\n",
            "Standard Deviation Cross-Validation   : 0.1916446795080081\n"
          ]
        }
      ]
    },
    {
      "cell_type": "markdown",
      "source": [
        "**Hyperparameter Tuning**"
      ],
      "metadata": {
        "id": "AkfNdKMUTIpe"
      }
    },
    {
      "cell_type": "code",
      "source": [
        "# Define Hyperparameters\n",
        "criterion = ['gini', 'entropy', 'log_loss']\n",
        "splitter = ['best', 'random']\n",
        "max_depth = [i for i in range(2, 12, 1)]\n",
        "min_samples_split = [i for i in range(2, 10, 2)]\n",
        "min_samples_leaf = [i for i in range(2, 10, 2)]\n",
        "\n",
        "param_grid_dt = {'dt__criterion': criterion,\n",
        "                  'dt__splitter': splitter,\n",
        "                  'dt__max_depth': max_depth,\n",
        "                  'dt__min_samples_split': min_samples_split,\n",
        "                  'dt__min_samples_leaf': min_samples_leaf}\n",
        "param_grid_dt"
      ],
      "metadata": {
        "colab": {
          "base_uri": "https://localhost:8080/"
        },
        "id": "furi4srKTLoc",
        "outputId": "4c84c106-97f3-405d-9be7-732355f984b0"
      },
      "execution_count": 52,
      "outputs": [
        {
          "output_type": "execute_result",
          "data": {
            "text/plain": [
              "{'dt__criterion': ['gini', 'entropy', 'log_loss'],\n",
              " 'dt__splitter': ['best', 'random'],\n",
              " 'dt__max_depth': [2, 3, 4, 5, 6, 7, 8, 9, 10, 11],\n",
              " 'dt__min_samples_split': [2, 4, 6, 8],\n",
              " 'dt__min_samples_leaf': [2, 4, 6, 8]}"
            ]
          },
          "metadata": {},
          "execution_count": 52
        }
      ]
    },
    {
      "cell_type": "code",
      "source": [
        "# Train with Grid Search\n",
        "%%time\n",
        "dt_gridcv = GridSearchCV(pipe_dt,\n",
        "                          param_grid_dt,\n",
        "                          n_jobs=-1,\n",
        "                          verbose=2,\n",
        "                          scoring='f1')\n",
        "\n",
        "dt_gridcv.fit(X_train, y_train)"
      ],
      "metadata": {
        "colab": {
          "base_uri": "https://localhost:8080/"
        },
        "id": "dYKdwCSUTPpU",
        "outputId": "3eb55694-f84d-4cbb-8614-d2c64587e639"
      },
      "execution_count": 53,
      "outputs": [
        {
          "output_type": "stream",
          "name": "stdout",
          "text": [
            "Fitting 5 folds for each of 960 candidates, totalling 4800 fits\n",
            "CPU times: user 7.53 s, sys: 153 ms, total: 7.68 s\n",
            "Wall time: 1min 3s\n"
          ]
        },
        {
          "output_type": "execute_result",
          "data": {
            "text/plain": [
              "GridSearchCV(estimator=Pipeline(steps=[('preprocessor',\n",
              "                                        ColumnTransformer(transformers=[('num',\n",
              "                                                                         Pipeline(steps=[('scaler',\n",
              "                                                                                          MinMaxScaler())]),\n",
              "                                                                         ['Present',\n",
              "                                                                          'Next'])])),\n",
              "                                       ('dt',\n",
              "                                        DecisionTreeClassifier(random_state=3))]),\n",
              "             n_jobs=-1,\n",
              "             param_grid={'dt__criterion': ['gini', 'entropy', 'log_loss'],\n",
              "                         'dt__max_depth': [2, 3, 4, 5, 6, 7, 8, 9, 10, 11],\n",
              "                         'dt__min_samples_leaf': [2, 4, 6, 8],\n",
              "                         'dt__min_samples_split': [2, 4, 6, 8],\n",
              "                         'dt__splitter': ['best', 'random']},\n",
              "             scoring='f1', verbose=2)"
            ]
          },
          "metadata": {},
          "execution_count": 53
        }
      ]
    },
    {
      "cell_type": "code",
      "source": [
        "# Display Best Hyperparamters from Grid Search for Train Set\n",
        "dt_gridcv.best_params_"
      ],
      "metadata": {
        "colab": {
          "base_uri": "https://localhost:8080/"
        },
        "id": "kFXohtu8TSDO",
        "outputId": "ed69fa6e-ad24-4279-d2e0-57c5fc5bbea7"
      },
      "execution_count": 54,
      "outputs": [
        {
          "output_type": "execute_result",
          "data": {
            "text/plain": [
              "{'dt__criterion': 'gini',\n",
              " 'dt__max_depth': 6,\n",
              " 'dt__min_samples_leaf': 2,\n",
              " 'dt__min_samples_split': 2,\n",
              " 'dt__splitter': 'best'}"
            ]
          },
          "metadata": {},
          "execution_count": 54
        }
      ]
    },
    {
      "cell_type": "markdown",
      "source": [
        "**Redefine Model**"
      ],
      "metadata": {
        "id": "Py2mxWWlTSnC"
      }
    },
    {
      "cell_type": "code",
      "source": [
        "# Redefining Logistic Regression with best estimator\n",
        "dt_gridcv_best = dt_gridcv.best_estimator_"
      ],
      "metadata": {
        "id": "inNv0lPSTUGB"
      },
      "execution_count": 55,
      "outputs": []
    },
    {
      "cell_type": "code",
      "source": [
        "# Prediction Final\n",
        "y_train_dt_final = dt_gridcv_best.predict(X_train)\n",
        "y_test_dt_final = dt_gridcv_best.predict(X_test)"
      ],
      "metadata": {
        "id": "B4tsu20BTWNa"
      },
      "execution_count": 56,
      "outputs": []
    },
    {
      "cell_type": "markdown",
      "source": [
        "#### **Random Forest**"
      ],
      "metadata": {
        "id": "NKUCoxB7RXsv"
      }
    },
    {
      "cell_type": "code",
      "source": [
        "# Default Parameters\n",
        "# Fit model \n",
        "pipe_rfc.fit(X_train, y_train)\n",
        "\n",
        "# Prediction, using X_train\n",
        "y_train_rfc = pipe_rfc.predict(X_train)\n",
        "\n",
        "# Prediction, using X_test\n",
        "y_test_rfc = pipe_rfc.predict(X_test)"
      ],
      "metadata": {
        "id": "LhbMbJ8NRZ0R"
      },
      "execution_count": 57,
      "outputs": []
    },
    {
      "cell_type": "code",
      "source": [
        "# Cross Validation using `cross_val_score` for train set\n",
        "train_cross_val = cross_val_score(pipe_rfc, \n",
        "                                  X, \n",
        "                                  y, \n",
        "                                  cv=5, \n",
        "                                  scoring='f1')\n",
        "\n",
        "print(\"Accuracy Score All - Cross Validation :\", train_cross_val)\n",
        "print(\"Mean - Cross-Validation               :\", train_cross_val.mean())\n",
        "print(\"Standard Deviation Cross-Validation   :\", train_cross_val.std())"
      ],
      "metadata": {
        "colab": {
          "base_uri": "https://localhost:8080/"
        },
        "id": "OvZtzH7RRcK-",
        "outputId": "6a67c1cc-5993-4eee-ca6f-be9bbfb314eb"
      },
      "execution_count": 58,
      "outputs": [
        {
          "output_type": "stream",
          "name": "stdout",
          "text": [
            "Accuracy Score All - Cross Validation : [0.57142857 0.15384615 0.36363636 0.61538462 0.57142857]\n",
            "Mean - Cross-Validation               : 0.45514485514485514\n",
            "Standard Deviation Cross-Validation   : 0.17428442129441357\n"
          ]
        }
      ]
    },
    {
      "cell_type": "markdown",
      "source": [
        "**Hyperparameter Tuning**"
      ],
      "metadata": {
        "id": "7pjMH2I4Tj0T"
      }
    },
    {
      "cell_type": "code",
      "source": [
        "# Define Hyperparameters\n",
        "n_estimators = [int(x) for x in np.linspace(start = 10, stop = 50, num = 5)]\n",
        "max_features = ['auto', 'sqrt']\n",
        "max_depth = [int(x) for x in np.linspace(2, 10, num = 5)]\n",
        "min_samples_leaf = [int(x) for x in np.linspace(3, 6, num = 4)]\n",
        "min_samples_split = [2, 6, 10]\n",
        "bootstrap = [True, False]\n",
        "\n",
        "param_grid_rfc = {'rfc__n_estimators': n_estimators,\n",
        "               'rfc__max_features': max_features,\n",
        "               'rfc__max_depth': max_depth,\n",
        "               'rfc__min_samples_leaf': min_samples_leaf,\n",
        "               'rfc__criterion':['entropy','gini'],\n",
        "               'rfc__bootstrap': bootstrap}\n",
        "param_grid_rfc"
      ],
      "metadata": {
        "colab": {
          "base_uri": "https://localhost:8080/"
        },
        "id": "FBz9papZTlba",
        "outputId": "a1c94e07-69c8-442b-bafd-d198eb87dc70"
      },
      "execution_count": 59,
      "outputs": [
        {
          "output_type": "execute_result",
          "data": {
            "text/plain": [
              "{'rfc__n_estimators': [10, 20, 30, 40, 50],\n",
              " 'rfc__max_features': ['auto', 'sqrt'],\n",
              " 'rfc__max_depth': [2, 4, 6, 8, 10],\n",
              " 'rfc__min_samples_leaf': [3, 4, 5, 6],\n",
              " 'rfc__criterion': ['entropy', 'gini'],\n",
              " 'rfc__bootstrap': [True, False]}"
            ]
          },
          "metadata": {},
          "execution_count": 59
        }
      ]
    },
    {
      "cell_type": "code",
      "source": [
        "# Train with Grid Search\n",
        "%%time\n",
        "rfc_gridcv = GridSearchCV(pipe_rfc,\n",
        "                          param_grid_rfc,\n",
        "                          n_jobs=-1,\n",
        "                          verbose=2,\n",
        "                          scoring='f1')\n",
        "\n",
        "rfc_gridcv.fit(X_train, y_train)"
      ],
      "metadata": {
        "colab": {
          "base_uri": "https://localhost:8080/"
        },
        "id": "o_enVKP8TsG9",
        "outputId": "e20f1b2a-ec5b-4cba-926a-5690ae6061e9"
      },
      "execution_count": 60,
      "outputs": [
        {
          "output_type": "stream",
          "name": "stdout",
          "text": [
            "Fitting 5 folds for each of 800 candidates, totalling 4000 fits\n",
            "CPU times: user 9.46 s, sys: 339 ms, total: 9.8 s\n",
            "Wall time: 2min 46s\n"
          ]
        },
        {
          "output_type": "execute_result",
          "data": {
            "text/plain": [
              "GridSearchCV(estimator=Pipeline(steps=[('preprocessor',\n",
              "                                        ColumnTransformer(transformers=[('num',\n",
              "                                                                         Pipeline(steps=[('scaler',\n",
              "                                                                                          MinMaxScaler())]),\n",
              "                                                                         ['Present',\n",
              "                                                                          'Next'])])),\n",
              "                                       ('rfc',\n",
              "                                        RandomForestClassifier(random_state=3))]),\n",
              "             n_jobs=-1,\n",
              "             param_grid={'rfc__bootstrap': [True, False],\n",
              "                         'rfc__criterion': ['entropy', 'gini'],\n",
              "                         'rfc__max_depth': [2, 4, 6, 8, 10],\n",
              "                         'rfc__max_features': ['auto', 'sqrt'],\n",
              "                         'rfc__min_samples_leaf': [3, 4, 5, 6],\n",
              "                         'rfc__n_estimators': [10, 20, 30, 40, 50]},\n",
              "             scoring='f1', verbose=2)"
            ]
          },
          "metadata": {},
          "execution_count": 60
        }
      ]
    },
    {
      "cell_type": "code",
      "source": [
        "# Display Best Hyperparamters from Grid Search for Train Set\n",
        "rfc_gridcv.best_params_"
      ],
      "metadata": {
        "colab": {
          "base_uri": "https://localhost:8080/"
        },
        "id": "S-WXmHhzTuZo",
        "outputId": "db96f585-d941-4362-9c29-8d9ed7aa3026"
      },
      "execution_count": 61,
      "outputs": [
        {
          "output_type": "execute_result",
          "data": {
            "text/plain": [
              "{'rfc__bootstrap': True,\n",
              " 'rfc__criterion': 'gini',\n",
              " 'rfc__max_depth': 4,\n",
              " 'rfc__max_features': 'auto',\n",
              " 'rfc__min_samples_leaf': 3,\n",
              " 'rfc__n_estimators': 20}"
            ]
          },
          "metadata": {},
          "execution_count": 61
        }
      ]
    },
    {
      "cell_type": "markdown",
      "source": [
        "**Redefine Model**"
      ],
      "metadata": {
        "id": "TiUX75g0Tu9R"
      }
    },
    {
      "cell_type": "code",
      "source": [
        "# Redefining Logistic Regression with best estimator\n",
        "rfc_gridcv_best = svm_gridcv.best_estimator_"
      ],
      "metadata": {
        "id": "vZ-g_UusTwwl"
      },
      "execution_count": 62,
      "outputs": []
    },
    {
      "cell_type": "code",
      "source": [
        "# Prediction Final\n",
        "y_train_rfc_final = rfc_gridcv_best.predict(X_train)\n",
        "y_test_rfc_final = rfc_gridcv_best.predict(X_test)"
      ],
      "metadata": {
        "id": "QFXhE8znTywS"
      },
      "execution_count": 63,
      "outputs": []
    },
    {
      "cell_type": "markdown",
      "source": [
        "## **Model Evaluation**"
      ],
      "metadata": {
        "id": "DAD_JWFyXzxa"
      }
    },
    {
      "cell_type": "markdown",
      "source": [
        "### **Linear Regression**"
      ],
      "metadata": {
        "id": "h7O94y7DcSIO"
      }
    },
    {
      "cell_type": "code",
      "source": [
        "# Model Evaluation using MAE (Mean Absolute Error)\n",
        "print('Mean Absolute Error (MAE) Train Set: ', mean_absolute_error(y_train, y_train_lin))\n",
        "print('Maen Absolute Error (MAE) Test Set: ', mean_absolute_error(y_test, y_test_lin))"
      ],
      "metadata": {
        "colab": {
          "base_uri": "https://localhost:8080/"
        },
        "id": "zGNXcncKcUKR",
        "outputId": "35d00987-2f68-436f-ed15-ac6f8419ee25"
      },
      "execution_count": 64,
      "outputs": [
        {
          "output_type": "stream",
          "name": "stdout",
          "text": [
            "Mean Absolute Error (MAE) Train Set:  0.2740627574135208\n",
            "Maen Absolute Error (MAE) Test Set:  0.3199957850001082\n"
          ]
        }
      ]
    },
    {
      "cell_type": "code",
      "source": [
        "# Model Evaluation using MSE (Mean Squared Error)\n",
        "print('Mean Squared Error (MSE) Train Set: ', mean_squared_error(y_train, y_train_lin))\n",
        "print('Maen Squared Error (MSE) Test Set: ', mean_squared_error(y_test, y_test_lin))"
      ],
      "metadata": {
        "colab": {
          "base_uri": "https://localhost:8080/"
        },
        "id": "X2f82xOPcXFZ",
        "outputId": "165b8857-0981-49aa-e6bb-12d2836e4bb0"
      },
      "execution_count": 65,
      "outputs": [
        {
          "output_type": "stream",
          "name": "stdout",
          "text": [
            "Mean Squared Error (MSE) Train Set:  0.0959387591806689\n",
            "Maen Squared Error (MSE) Test Set:  0.1488354179349752\n"
          ]
        }
      ]
    },
    {
      "cell_type": "code",
      "source": [
        "# Model Evaluation using r2 Score\n",
        "print('r2 Score Train Set: ', round(r2_score(y_train, y_train_lin)*100, 2),'%')\n",
        "print('r2 Score Test Set: ', round(r2_score(y_test, y_test_lin)*100, 2),'%')"
      ],
      "metadata": {
        "colab": {
          "base_uri": "https://localhost:8080/"
        },
        "id": "ynAeVvRycYU6",
        "outputId": "9410f48b-d671-489f-fb5d-5092d0d4b020"
      },
      "execution_count": 66,
      "outputs": [
        {
          "output_type": "stream",
          "name": "stdout",
          "text": [
            "r2 Score Train Set:  61.6 %\n",
            "r2 Score Test Set:  40.3 %\n"
          ]
        }
      ]
    },
    {
      "cell_type": "markdown",
      "source": [
        "### **Logistic Regression**"
      ],
      "metadata": {
        "id": "qJDf5rQMX7VE"
      }
    },
    {
      "cell_type": "code",
      "source": [
        "# Evaluating Train set (Default Parameter)\n",
        "print('Train Set (Defaul Parameter)')\n",
        "print('Accuracy - Train Set  : ', accuracy_score(y_train, y_train_log))\n",
        "print('F1 Score - Train Set  : ', f1_score(y_train, y_train_log), '\\n')\n",
        "print('Classification Report : \\n', classification_report(y_train, y_train_log), '\\n')"
      ],
      "metadata": {
        "colab": {
          "base_uri": "https://localhost:8080/"
        },
        "id": "0RFmB56uX2ZL",
        "outputId": "0b754ea9-e674-4b47-c6ad-86d822529007"
      },
      "execution_count": 67,
      "outputs": [
        {
          "output_type": "stream",
          "name": "stdout",
          "text": [
            "Train Set (Defaul Parameter)\n",
            "Accuracy - Train Set  :  0.6744186046511628\n",
            "F1 Score - Train Set  :  0.6315789473684211 \n",
            "\n",
            "Classification Report : \n",
            "               precision    recall  f1-score   support\n",
            "\n",
            "           0       0.65      0.77      0.71        22\n",
            "           1       0.71      0.57      0.63        21\n",
            "\n",
            "    accuracy                           0.67        43\n",
            "   macro avg       0.68      0.67      0.67        43\n",
            "weighted avg       0.68      0.67      0.67        43\n",
            " \n",
            "\n"
          ]
        }
      ]
    },
    {
      "cell_type": "code",
      "source": [
        "# Creating confusion matrix for train set (default parameter)\n",
        "print('Confusion Matrix Train Set LogReg (Default Parameter)')\n",
        "cm = confusion_matrix(y_train, y_train_log, labels=logreg.classes_)\n",
        "disp = ConfusionMatrixDisplay(confusion_matrix=cm,display_labels=logreg.classes_)\n",
        "\n",
        "matplotlib.rcParams['figure.figsize'] = (10,8)\n",
        "disp.plot()\n",
        "plt.show()\n",
        "     "
      ],
      "metadata": {
        "colab": {
          "base_uri": "https://localhost:8080/",
          "height": 514
        },
        "id": "aDMorrN7g0Qk",
        "outputId": "5e04cade-332d-4998-9505-4a970dafb1b4"
      },
      "execution_count": 68,
      "outputs": [
        {
          "output_type": "stream",
          "name": "stdout",
          "text": [
            "Confusion Matrix Train Set LogReg (Default Parameter)\n"
          ]
        },
        {
          "output_type": "display_data",
          "data": {
            "text/plain": [
              "<Figure size 720x576 with 2 Axes>"
            ],
            "image/png": "[encoded data removed]"
          },
          "metadata": {
            "needs_background": "light"
          }
        }
      ]
    },
    {
      "cell_type": "code",
      "source": [
        "# Evaluating Train set (Hyperparameter Tuned)\n",
        "print('Train Set (Hyperparameter Tuned)')\n",
        "print('Accuracy - Train Set  : ', accuracy_score(y_train, y_train_log_final),)\n",
        "print('F1 Score - Train Set  : ', f1_score(y_train, y_train_log_final), '\\n')\n",
        "print('Classification Report : \\n', classification_report(y_train, y_train_log_final), '\\n')"
      ],
      "metadata": {
        "colab": {
          "base_uri": "https://localhost:8080/"
        },
        "id": "Oo8L5g1Jgn-Z",
        "outputId": "34bb2029-750b-492b-eeed-f8b7f3a096ac"
      },
      "execution_count": 69,
      "outputs": [
        {
          "output_type": "stream",
          "name": "stdout",
          "text": [
            "Train Set (Hyperparameter Tuned)\n",
            "Accuracy - Train Set  :  0.9767441860465116\n",
            "F1 Score - Train Set  :  0.975609756097561 \n",
            "\n",
            "Classification Report : \n",
            "               precision    recall  f1-score   support\n",
            "\n",
            "           0       0.96      1.00      0.98        22\n",
            "           1       1.00      0.95      0.98        21\n",
            "\n",
            "    accuracy                           0.98        43\n",
            "   macro avg       0.98      0.98      0.98        43\n",
            "weighted avg       0.98      0.98      0.98        43\n",
            " \n",
            "\n"
          ]
        }
      ]
    },
    {
      "cell_type": "code",
      "source": [
        "# Creating confusion matrix for train set (labels parameter)\n",
        "print('Confusion Matrix Train Set LogReg (Hyperparameter Tuned)')\n",
        "cm = confusion_matrix(y_train, y_train_log_final, labels=logreg.classes_)\n",
        "disp = ConfusionMatrixDisplay(confusion_matrix=cm,display_labels=logreg.classes_)\n",
        "\n",
        "matplotlib.rcParams['figure.figsize'] = (10,8)\n",
        "disp.plot()\n",
        "plt.show()\n",
        "     "
      ],
      "metadata": {
        "colab": {
          "base_uri": "https://localhost:8080/",
          "height": 514
        },
        "id": "Yes6Xy6xg5RA",
        "outputId": "2648bd6c-ec2d-4dce-8379-8a7f93896d36"
      },
      "execution_count": 70,
      "outputs": [
        {
          "output_type": "stream",
          "name": "stdout",
          "text": [
            "Confusion Matrix Train Set LogReg (Hyperparameter Tuned)\n"
          ]
        },
        {
          "output_type": "display_data",
          "data": {
            "text/plain": [
              "<Figure size 720x576 with 2 Axes>"
            ],
            "image/png": "[encoded data removed]"
          },
          "metadata": {
            "needs_background": "light"
          }
        }
      ]
    },
    {
      "cell_type": "markdown",
      "source": [
        "### **SVC**"
      ],
      "metadata": {
        "id": "PqQwm1Ffgj3b"
      }
    },
    {
      "cell_type": "code",
      "source": [
        "# Evaluating Train set (Default Parameter)\n",
        "print('Train Set (Defaul Parameter)')\n",
        "print('Accuracy - Train Set  : ', accuracy_score(y_train, y_train_svm))\n",
        "print('F1 Score - Train Set  : ', f1_score(y_train, y_train_svm), '\\n')\n",
        "print('Classification Report : \\n', classification_report(y_train, y_train_svm), '\\n')"
      ],
      "metadata": {
        "colab": {
          "base_uri": "https://localhost:8080/"
        },
        "id": "Jq-M6gvghA_g",
        "outputId": "7f7b1409-22cf-4628-a41b-6d72ec8bfaba"
      },
      "execution_count": 71,
      "outputs": [
        {
          "output_type": "stream",
          "name": "stdout",
          "text": [
            "Train Set (Defaul Parameter)\n",
            "Accuracy - Train Set  :  0.6976744186046512\n",
            "F1 Score - Train Set  :  0.6486486486486486 \n",
            "\n",
            "Classification Report : \n",
            "               precision    recall  f1-score   support\n",
            "\n",
            "           0       0.67      0.82      0.73        22\n",
            "           1       0.75      0.57      0.65        21\n",
            "\n",
            "    accuracy                           0.70        43\n",
            "   macro avg       0.71      0.69      0.69        43\n",
            "weighted avg       0.71      0.70      0.69        43\n",
            " \n",
            "\n"
          ]
        }
      ]
    },
    {
      "cell_type": "code",
      "source": [
        "# Creating confusion matrix for train set (default parameter)\n",
        "print('Confusion Matrix Train Set SVM (Default Parameter)')\n",
        "cm = confusion_matrix(y_train, y_train_svm, labels=svm.classes_)\n",
        "disp = ConfusionMatrixDisplay(confusion_matrix=cm,display_labels=svm.classes_)\n",
        "\n",
        "matplotlib.rcParams['figure.figsize'] = (10,8)\n",
        "disp.plot()\n",
        "plt.show()"
      ],
      "metadata": {
        "colab": {
          "base_uri": "https://localhost:8080/",
          "height": 518
        },
        "id": "15wXnsPZhIWm",
        "outputId": "b6bc7bce-f164-492f-a8d2-544df6ec04d9"
      },
      "execution_count": 72,
      "outputs": [
        {
          "output_type": "stream",
          "name": "stdout",
          "text": [
            "Confusion Matrix Train Set SVM (Default Parameter)\n"
          ]
        },
        {
          "output_type": "display_data",
          "data": {
            "text/plain": [
              "<Figure size 720x576 with 2 Axes>"
            ],
            "image/png": "[encoded data removed]"
          },
          "metadata": {
            "needs_background": "light"
          }
        }
      ]
    },
    {
      "cell_type": "code",
      "source": [
        "# Evaluating Train set (Hyperparameter Tuned)\n",
        "print('Train Set (Hyperparameter Tuned)')\n",
        "print('Accuracy - Train Set  : ', accuracy_score(y_train, y_train_svm_final),)\n",
        "print('F1 Score - Train Set  : ', f1_score(y_train, y_train_svm_final), '\\n')\n",
        "print('Classification Report : \\n', classification_report(y_train, y_train_svm_final), '\\n')\n",
        "     "
      ],
      "metadata": {
        "colab": {
          "base_uri": "https://localhost:8080/"
        },
        "id": "HrNbPFndhDVG",
        "outputId": "308043fc-575c-47d7-d88e-e1466e2a356c"
      },
      "execution_count": 73,
      "outputs": [
        {
          "output_type": "stream",
          "name": "stdout",
          "text": [
            "Train Set (Hyperparameter Tuned)\n",
            "Accuracy - Train Set  :  0.9534883720930233\n",
            "F1 Score - Train Set  :  0.9500000000000001 \n",
            "\n",
            "Classification Report : \n",
            "               precision    recall  f1-score   support\n",
            "\n",
            "           0       0.92      1.00      0.96        22\n",
            "           1       1.00      0.90      0.95        21\n",
            "\n",
            "    accuracy                           0.95        43\n",
            "   macro avg       0.96      0.95      0.95        43\n",
            "weighted avg       0.96      0.95      0.95        43\n",
            " \n",
            "\n"
          ]
        }
      ]
    },
    {
      "cell_type": "code",
      "source": [
        "# Creating confusion matrix for train set (hyperparameter tuned)\n",
        "print('Confusion Matrix Train Set SVM (Hyperparameter Tuned)')\n",
        "cm = confusion_matrix(y_train, y_train_svm_final, labels=svm.classes_)\n",
        "disp = ConfusionMatrixDisplay(confusion_matrix=cm,display_labels=svm.classes_)\n",
        "\n",
        "matplotlib.rcParams['figure.figsize'] = (10,8)\n",
        "disp.plot()\n",
        "plt.show()"
      ],
      "metadata": {
        "colab": {
          "base_uri": "https://localhost:8080/",
          "height": 514
        },
        "id": "hHLnf3fIhRJJ",
        "outputId": "cdd4a581-dc2e-4b21-fa5b-52eb46738fe1"
      },
      "execution_count": 74,
      "outputs": [
        {
          "output_type": "stream",
          "name": "stdout",
          "text": [
            "Confusion Matrix Train Set SVM (Hyperparameter Tuned)\n"
          ]
        },
        {
          "output_type": "display_data",
          "data": {
            "text/plain": [
              "<Figure size 720x576 with 2 Axes>"
            ],
            "image/png": "[encoded data removed]"
          },
          "metadata": {
            "needs_background": "light"
          }
        }
      ]
    },
    {
      "cell_type": "markdown",
      "source": [
        "### **Decision Tree**"
      ],
      "metadata": {
        "id": "8KFlyHZShT3Q"
      }
    },
    {
      "cell_type": "code",
      "source": [
        "# Evaluating Train set (Default Parameter)\n",
        "print('Train Set (Defaul Parameter)')\n",
        "print('Accuracy - Train Set  : ', accuracy_score(y_train, y_train_dt))\n",
        "print('F1 Score - Train Set  : ', f1_score(y_train, y_train_dt), '\\n')\n",
        "print('Classification Report : \\n', classification_report(y_train, y_train_dt), '\\n')"
      ],
      "metadata": {
        "colab": {
          "base_uri": "https://localhost:8080/"
        },
        "id": "cA3A6MZlhWeW",
        "outputId": "d04f9ac9-d6ca-4272-c2ea-45ee72f8525f"
      },
      "execution_count": 75,
      "outputs": [
        {
          "output_type": "stream",
          "name": "stdout",
          "text": [
            "Train Set (Defaul Parameter)\n",
            "Accuracy - Train Set  :  1.0\n",
            "F1 Score - Train Set  :  1.0 \n",
            "\n",
            "Classification Report : \n",
            "               precision    recall  f1-score   support\n",
            "\n",
            "           0       1.00      1.00      1.00        22\n",
            "           1       1.00      1.00      1.00        21\n",
            "\n",
            "    accuracy                           1.00        43\n",
            "   macro avg       1.00      1.00      1.00        43\n",
            "weighted avg       1.00      1.00      1.00        43\n",
            " \n",
            "\n"
          ]
        }
      ]
    },
    {
      "cell_type": "code",
      "source": [
        "# Creating confusion matrix for train set (default parameter)\n",
        "print('Confusion Matrix Train Set Decision Tree (Default Parameter)')\n",
        "cm = confusion_matrix(y_train, y_train_dt, labels=dt.classes_)\n",
        "disp = ConfusionMatrixDisplay(confusion_matrix=cm,display_labels=dt.classes_)\n",
        "\n",
        "matplotlib.rcParams['figure.figsize'] = (10,8)\n",
        "disp.plot()\n",
        "plt.show()"
      ],
      "metadata": {
        "colab": {
          "base_uri": "https://localhost:8080/",
          "height": 514
        },
        "id": "SEb2yTN4hgua",
        "outputId": "2216dbf0-b3e3-4689-ff51-ca46d3a6dda4"
      },
      "execution_count": 76,
      "outputs": [
        {
          "output_type": "stream",
          "name": "stdout",
          "text": [
            "Confusion Matrix Train Set Decision Tree (Default Parameter)\n"
          ]
        },
        {
          "output_type": "display_data",
          "data": {
            "text/plain": [
              "<Figure size 720x576 with 2 Axes>"
            ],
            "image/png": "[encoded data removed]"
          },
          "metadata": {
            "needs_background": "light"
          }
        }
      ]
    },
    {
      "cell_type": "code",
      "source": [
        "# Evaluating Train set (Hyperparameter Tuned)\n",
        "print('Train Set (Hyperparameter Tuned)')\n",
        "print('Accuracy - Train Set  : ', accuracy_score(y_train, y_train_dt_final),)\n",
        "print('F1 Score - Train Set  : ', f1_score(y_train, y_train_dt_final), '\\n')\n",
        "print('Classification Report : \\n', classification_report(y_train, y_train_dt_final), '\\n')"
      ],
      "metadata": {
        "colab": {
          "base_uri": "https://localhost:8080/"
        },
        "id": "MrpdOB3VhdHY",
        "outputId": "e209cc9b-f933-4be0-b994-46abd88efc00"
      },
      "execution_count": 77,
      "outputs": [
        {
          "output_type": "stream",
          "name": "stdout",
          "text": [
            "Train Set (Hyperparameter Tuned)\n",
            "Accuracy - Train Set  :  0.9302325581395349\n",
            "F1 Score - Train Set  :  0.9302325581395349 \n",
            "\n",
            "Classification Report : \n",
            "               precision    recall  f1-score   support\n",
            "\n",
            "           0       0.95      0.91      0.93        22\n",
            "           1       0.91      0.95      0.93        21\n",
            "\n",
            "    accuracy                           0.93        43\n",
            "   macro avg       0.93      0.93      0.93        43\n",
            "weighted avg       0.93      0.93      0.93        43\n",
            " \n",
            "\n"
          ]
        }
      ]
    },
    {
      "cell_type": "code",
      "source": [
        "# Evaluating Test set (Hyperparameter Tuned)\n",
        "print('Train Set (Hyperparameter Tuned)')\n",
        "print('Accuracy - Train Set  : ', accuracy_score(y_test, y_test_dt_final),)\n",
        "print('F1 Score - Train Set  : ', f1_score(y_test, y_test_dt_final), '\\n')\n",
        "print('Classification Report : \\n', classification_report(y_test, y_test_dt_final), '\\n')"
      ],
      "metadata": {
        "colab": {
          "base_uri": "https://localhost:8080/"
        },
        "id": "b5BAFvdy4_WI",
        "outputId": "2de9a4da-4df4-4b36-eca8-3436316d4fec"
      },
      "execution_count": 78,
      "outputs": [
        {
          "output_type": "stream",
          "name": "stdout",
          "text": [
            "Train Set (Hyperparameter Tuned)\n",
            "Accuracy - Train Set  :  0.5789473684210527\n",
            "F1 Score - Train Set  :  0.6363636363636365 \n",
            "\n",
            "Classification Report : \n",
            "               precision    recall  f1-score   support\n",
            "\n",
            "           0       0.57      0.44      0.50         9\n",
            "           1       0.58      0.70      0.64        10\n",
            "\n",
            "    accuracy                           0.58        19\n",
            "   macro avg       0.58      0.57      0.57        19\n",
            "weighted avg       0.58      0.58      0.57        19\n",
            " \n",
            "\n"
          ]
        }
      ]
    },
    {
      "cell_type": "code",
      "source": [
        "# Creating confusion matrix for train set (hyperparameter tuned)\n",
        "print('Confusion Matrix Train Set Decision Tree (Hyperparameter Tuned)')\n",
        "cm = confusion_matrix(y_train, y_train_dt_final, labels=dt.classes_)\n",
        "disp = ConfusionMatrixDisplay(confusion_matrix=cm,display_labels=dt.classes_)\n",
        "\n",
        "matplotlib.rcParams['figure.figsize'] = (10,8)\n",
        "disp.plot()\n",
        "plt.show()"
      ],
      "metadata": {
        "colab": {
          "base_uri": "https://localhost:8080/",
          "height": 518
        },
        "id": "3UZeimLdhjzG",
        "outputId": "27fc57d2-7f35-4754-a73f-08d736c2504e"
      },
      "execution_count": 79,
      "outputs": [
        {
          "output_type": "stream",
          "name": "stdout",
          "text": [
            "Confusion Matrix Train Set Decision Tree (Hyperparameter Tuned)\n"
          ]
        },
        {
          "output_type": "display_data",
          "data": {
            "text/plain": [
              "<Figure size 720x576 with 2 Axes>"
            ],
            "image/png": "[encoded data removed]"
          },
          "metadata": {
            "needs_background": "light"
          }
        }
      ]
    },
    {
      "cell_type": "code",
      "source": [
        "# Creating confusion matrix for test set (hyperparameter tuned)\n",
        "print('Confusion Matrix Train Set Decision Tree (Hyperparameter Tuned)')\n",
        "cm = confusion_matrix(y_test, y_test_dt_final, labels=dt.classes_)\n",
        "disp = ConfusionMatrixDisplay(confusion_matrix=cm,display_labels=dt.classes_)\n",
        "\n",
        "matplotlib.rcParams['figure.figsize'] = (10,8)\n",
        "disp.plot()\n",
        "plt.show()"
      ],
      "metadata": {
        "colab": {
          "base_uri": "https://localhost:8080/",
          "height": 518
        },
        "id": "cTuqooyQiNQF",
        "outputId": "df53f77b-55ad-47b4-d7be-b27752508d1c"
      },
      "execution_count": 80,
      "outputs": [
        {
          "output_type": "stream",
          "name": "stdout",
          "text": [
            "Confusion Matrix Train Set Decision Tree (Hyperparameter Tuned)\n"
          ]
        },
        {
          "output_type": "display_data",
          "data": {
            "text/plain": [
              "<Figure size 720x576 with 2 Axes>"
            ],
            "image/png": "[encoded data removed]"
          },
          "metadata": {
            "needs_background": "light"
          }
        }
      ]
    },
    {
      "cell_type": "markdown",
      "source": [
        "### **Random Forest**"
      ],
      "metadata": {
        "id": "WJn5gS6Qh4c8"
      }
    },
    {
      "cell_type": "code",
      "source": [
        "# Evaluating Train set (Default Parameter)\n",
        "print('Train Set (Defaul Parameter)')\n",
        "print('Accuracy - Train Set  : ', accuracy_score(y_train, y_train_rfc))\n",
        "print('F1 Score - Train Set  : ', f1_score(y_train, y_train_rfc), '\\n')\n",
        "print('Classification Report : \\n', classification_report(y_train, y_train_rfc), '\\n')"
      ],
      "metadata": {
        "colab": {
          "base_uri": "https://localhost:8080/"
        },
        "id": "NoRkaOi8h62R",
        "outputId": "65060088-a9cc-4f45-8e58-ffe99db428ea"
      },
      "execution_count": 81,
      "outputs": [
        {
          "output_type": "stream",
          "name": "stdout",
          "text": [
            "Train Set (Defaul Parameter)\n",
            "Accuracy - Train Set  :  1.0\n",
            "F1 Score - Train Set  :  1.0 \n",
            "\n",
            "Classification Report : \n",
            "               precision    recall  f1-score   support\n",
            "\n",
            "           0       1.00      1.00      1.00        22\n",
            "           1       1.00      1.00      1.00        21\n",
            "\n",
            "    accuracy                           1.00        43\n",
            "   macro avg       1.00      1.00      1.00        43\n",
            "weighted avg       1.00      1.00      1.00        43\n",
            " \n",
            "\n"
          ]
        }
      ]
    },
    {
      "cell_type": "code",
      "source": [
        "# Creating confusion matrix for train set (default parameter)\n",
        "print('Confusion Matrix Train Set Random Forest Classifier (Default Parameter)')\n",
        "cm = confusion_matrix(y_train, y_train_rfc, labels=rfc.classes_)\n",
        "disp = ConfusionMatrixDisplay(confusion_matrix=cm,display_labels=rfc.classes_)\n",
        "\n",
        "matplotlib.rcParams['figure.figsize'] = (10,8)\n",
        "disp.plot()\n",
        "plt.show()"
      ],
      "metadata": {
        "colab": {
          "base_uri": "https://localhost:8080/",
          "height": 514
        },
        "id": "ouiUbiUkiBR9",
        "outputId": "0a0feba0-77c2-48e9-a132-343465e0059b"
      },
      "execution_count": 82,
      "outputs": [
        {
          "output_type": "stream",
          "name": "stdout",
          "text": [
            "Confusion Matrix Train Set Random Forest Classifier (Default Parameter)\n"
          ]
        },
        {
          "output_type": "display_data",
          "data": {
            "text/plain": [
              "<Figure size 720x576 with 2 Axes>"
            ],
            "image/png": "[encoded data removed]"
          },
          "metadata": {
            "needs_background": "light"
          }
        }
      ]
    },
    {
      "cell_type": "code",
      "source": [
        "# Evaluating Train set (Hyperparameter Tuned)\n",
        "print('Train Set (Hyperparameter Tuned)')\n",
        "print('Accuracy - Train Set  : ', accuracy_score(y_train, y_train_rfc_final),)\n",
        "print('F1 Score - Train Set  : ', f1_score(y_train, y_train_rfc_final), '\\n')\n",
        "print('Classification Report : \\n', classification_report(y_train, y_train_rfc_final), '\\n')"
      ],
      "metadata": {
        "colab": {
          "base_uri": "https://localhost:8080/"
        },
        "id": "DFMpYoQBh-r9",
        "outputId": "0664ee2c-e508-474e-d6d7-fa7a333785c0"
      },
      "execution_count": 83,
      "outputs": [
        {
          "output_type": "stream",
          "name": "stdout",
          "text": [
            "Train Set (Hyperparameter Tuned)\n",
            "Accuracy - Train Set  :  0.9534883720930233\n",
            "F1 Score - Train Set  :  0.9500000000000001 \n",
            "\n",
            "Classification Report : \n",
            "               precision    recall  f1-score   support\n",
            "\n",
            "           0       0.92      1.00      0.96        22\n",
            "           1       1.00      0.90      0.95        21\n",
            "\n",
            "    accuracy                           0.95        43\n",
            "   macro avg       0.96      0.95      0.95        43\n",
            "weighted avg       0.96      0.95      0.95        43\n",
            " \n",
            "\n"
          ]
        }
      ]
    },
    {
      "cell_type": "code",
      "source": [
        "# Creating confusion matrix for train set (hyperparameter tuned)\n",
        "print('Confusion Matrix Train Set Random Forest Classifier (Hyperparameter Tuned)')\n",
        "cm = confusion_matrix(y_train, y_train_rfc_final, labels=rfc.classes_)\n",
        "disp = ConfusionMatrixDisplay(confusion_matrix=cm,display_labels=rfc.classes_)\n",
        "\n",
        "matplotlib.rcParams['figure.figsize'] = (10,8)\n",
        "disp.plot()\n",
        "plt.show()"
      ],
      "metadata": {
        "colab": {
          "base_uri": "https://localhost:8080/",
          "height": 514
        },
        "id": "OU8UEm1ciDza",
        "outputId": "f368ba42-715f-4a86-df5e-169ca0e40a52"
      },
      "execution_count": 84,
      "outputs": [
        {
          "output_type": "stream",
          "name": "stdout",
          "text": [
            "Confusion Matrix Train Set Random Forest Classifier (Hyperparameter Tuned)\n"
          ]
        },
        {
          "output_type": "display_data",
          "data": {
            "text/plain": [
              "<Figure size 720x576 with 2 Axes>"
            ],
            "image/png": "[encoded data removed]"
          },
          "metadata": {
            "needs_background": "light"
          }
        }
      ]
    },
    {
      "cell_type": "code",
      "source": [
        "# Creating confusion matrix for train set (hyperparameter tuned)\n",
        "print('Confusion Matrix Train Set Random Forest Classifier (Hyperparameter Tuned)')\n",
        "cm = confusion_matrix(y_test, y_test_rfc_final, labels=rfc.classes_)\n",
        "disp = ConfusionMatrixDisplay(confusion_matrix=cm,display_labels=rfc.classes_)\n",
        "\n",
        "matplotlib.rcParams['figure.figsize'] = (10,8)\n",
        "disp.plot()\n",
        "plt.show()"
      ],
      "metadata": {
        "colab": {
          "base_uri": "https://localhost:8080/",
          "height": 518
        },
        "id": "_FZrqaCxiGac",
        "outputId": "c1bf0ac3-e3f6-4a5b-cfc1-e1d706ba0cee"
      },
      "execution_count": 85,
      "outputs": [
        {
          "output_type": "stream",
          "name": "stdout",
          "text": [
            "Confusion Matrix Train Set Random Forest Classifier (Hyperparameter Tuned)\n"
          ]
        },
        {
          "output_type": "display_data",
          "data": {
            "text/plain": [
              "<Figure size 720x576 with 2 Axes>"
            ],
            "image/png": "[encoded data removed]"
          },
          "metadata": {
            "needs_background": "light"
          }
        }
      ]
    },
    {
      "cell_type": "markdown",
      "source": [
        "## **Model Saving**"
      ],
      "metadata": {
        "id": "cnaEqCw7kpex"
      }
    },
    {
      "cell_type": "code",
      "source": [
        "# Save the model files\n",
        "with open('rfc_gridcv.pkl', 'wb') as file_1:\n",
        "  joblib.dump(rfc_gridcv_best, file_1)"
      ],
      "metadata": {
        "id": "3LyXhd93kq2y"
      },
      "execution_count": 86,
      "outputs": []
    },
    {
      "cell_type": "code",
      "source": [
        "# Load all model files\n",
        "with open('rfc_gridcv.pkl', 'rb') as file_1:\n",
        "  rfc_model = joblib.load(file_1)"
      ],
      "metadata": {
        "id": "aK2EFzj2lCh2"
      },
      "execution_count": 87,
      "outputs": []
    },
    {
      "cell_type": "markdown",
      "source": [
        "## **Model Inference**"
      ],
      "metadata": {
        "id": "_ENJhWBpkXwM"
      }
    },
    {
      "cell_type": "code",
      "source": [
        "df_inf"
      ],
      "metadata": {
        "colab": {
          "base_uri": "https://localhost:8080/",
          "height": 206
        },
        "id": "7CvNa72IkZ0O",
        "outputId": "8eb05cd8-b649-4a1c-a329-a31b8e4eeeab"
      },
      "execution_count": 88,
      "outputs": [
        {
          "output_type": "execute_result",
          "data": {
            "text/plain": [
              "         Date        Present           Next  Class\n",
              "5  2022-09-23    2842.770000    2835.970000      0\n",
              "6  2022-09-26    2835.970000    2834.390000      0\n",
              "29 2022-10-27    2814.640000    2815.700000      1\n",
              "48 2022-11-23    2840.690000    2845.480000      1\n",
              "61 2022-12-12    2854.530000    2852.740000      0"
            ],
            "text/html": [
              "\n",
              "  <div id=\"df-be2173ba-e87a-46df-adab-ba459018b99d\">\n",
              "    <div class=\"colab-df-container\">\n",
              "      <div>\n",
              "<style scoped>\n",
              "    .dataframe tbody tr th:only-of-type {\n",
              "        vertical-align: middle;\n",
              "    }\n",
              "\n",
              "    .dataframe tbody tr th {\n",
              "        vertical-align: top;\n",
              "    }\n",
              "\n",
              "    .dataframe thead th {\n",
              "        text-align: right;\n",
              "    }\n",
              "</style>\n",
              "<table border=\"1\" class=\"dataframe\">\n",
              "  <thead>\n",
              "    <tr style=\"text-align: right;\">\n",
              "      <th></th>\n",
              "      <th>Date</th>\n",
              "      <th>Present</th>\n",
              "      <th>Next</th>\n",
              "      <th>Class</th>\n",
              "    </tr>\n",
              "  </thead>\n",
              "  <tbody>\n",
              "    <tr>\n",
              "      <th>5</th>\n",
              "      <td>2022-09-23</td>\n",
              "      <td>2842.770000</td>\n",
              "      <td>2835.970000</td>\n",
              "      <td>0</td>\n",
              "    </tr>\n",
              "    <tr>\n",
              "      <th>6</th>\n",
              "      <td>2022-09-26</td>\n",
              "      <td>2835.970000</td>\n",
              "      <td>2834.390000</td>\n",
              "      <td>0</td>\n",
              "    </tr>\n",
              "    <tr>\n",
              "      <th>29</th>\n",
              "      <td>2022-10-27</td>\n",
              "      <td>2814.640000</td>\n",
              "      <td>2815.700000</td>\n",
              "      <td>1</td>\n",
              "    </tr>\n",
              "    <tr>\n",
              "      <th>48</th>\n",
              "      <td>2022-11-23</td>\n",
              "      <td>2840.690000</td>\n",
              "      <td>2845.480000</td>\n",
              "      <td>1</td>\n",
              "    </tr>\n",
              "    <tr>\n",
              "      <th>61</th>\n",
              "      <td>2022-12-12</td>\n",
              "      <td>2854.530000</td>\n",
              "      <td>2852.740000</td>\n",
              "      <td>0</td>\n",
              "    </tr>\n",
              "  </tbody>\n",
              "</table>\n",
              "</div>\n",
              "      <button class=\"colab-df-convert\" onclick=\"convertToInteractive('df-be2173ba-e87a-46df-adab-ba459018b99d')\"\n",
              "              title=\"Convert this dataframe to an interactive table.\"\n",
              "              style=\"display:none;\">\n",
              "        \n",
              "  <svg xmlns=\"http://www.w3.org/2000/svg\" height=\"24px\"viewBox=\"0 0 24 24\"\n",
              "       width=\"24px\">\n",
              "    <path d=\"M0 0h24v24H0V0z\" fill=\"none\"/>\n",
              "    <path d=\"M18.56 5.44l.94 2.06.94-2.06 2.06-.94-2.06-.94-.94-2.06-.94 2.06-2.06.94zm-11 1L8.5 8.5l.94-2.06 2.06-.94-2.06-.94L8.5 2.5l-.94 2.06-2.06.94zm10 10l.94 2.06.94-2.06 2.06-.94-2.06-.94-.94-2.06-.94 2.06-2.06.94z\"/><path d=\"M17.41 7.96l-1.37-1.37c-.4-.4-.92-.59-1.43-.59-.52 0-1.04.2-1.43.59L10.3 9.45l-7.72 7.72c-.78.78-.78 2.05 0 2.83L4 21.41c.39.39.9.59 1.41.59.51 0 1.02-.2 1.41-.59l7.78-7.78 2.81-2.81c.8-.78.8-2.07 0-2.86zM5.41 20L4 18.59l7.72-7.72 1.47 1.35L5.41 20z\"/>\n",
              "  </svg>\n",
              "      </button>\n",
              "      \n",
              "  <style>\n",
              "    .colab-df-container {\n",
              "      display:flex;\n",
              "      flex-wrap:wrap;\n",
              "      gap: 12px;\n",
              "    }\n",
              "\n",
              "    .colab-df-convert {\n",
              "      background-color: #E8F0FE;\n",
              "      border: none;\n",
              "      border-radius: 50%;\n",
              "      cursor: pointer;\n",
              "      display: none;\n",
              "      fill: #1967D2;\n",
              "      height: 32px;\n",
              "      padding: 0 0 0 0;\n",
              "      width: 32px;\n",
              "    }\n",
              "\n",
              "    .colab-df-convert:hover {\n",
              "      background-color: #E2EBFA;\n",
              "      box-shadow: 0px 1px 2px rgba(60, 64, 67, 0.3), 0px 1px 3px 1px rgba(60, 64, 67, 0.15);\n",
              "      fill: #174EA6;\n",
              "    }\n",
              "\n",
              "    [theme=dark] .colab-df-convert {\n",
              "      background-color: #3B4455;\n",
              "      fill: #D2E3FC;\n",
              "    }\n",
              "\n",
              "    [theme=dark] .colab-df-convert:hover {\n",
              "      background-color: #434B5C;\n",
              "      box-shadow: 0px 1px 3px 1px rgba(0, 0, 0, 0.15);\n",
              "      filter: drop-shadow(0px 1px 2px rgba(0, 0, 0, 0.3));\n",
              "      fill: #FFFFFF;\n",
              "    }\n",
              "  </style>\n",
              "\n",
              "      <script>\n",
              "        const buttonEl =\n",
              "          document.querySelector('#df-be2173ba-e87a-46df-adab-ba459018b99d button.colab-df-convert');\n",
              "        buttonEl.style.display =\n",
              "          google.colab.kernel.accessAllowed ? 'block' : 'none';\n",
              "\n",
              "        async function convertToInteractive(key) {\n",
              "          const element = document.querySelector('#df-be2173ba-e87a-46df-adab-ba459018b99d');\n",
              "          const dataTable =\n",
              "            await google.colab.kernel.invokeFunction('convertToInteractive',\n",
              "                                                     [key], {});\n",
              "          if (!dataTable) return;\n",
              "\n",
              "          const docLinkHtml = 'Like what you see? Visit the ' +\n",
              "            '<a target=\"_blank\" href=https://colab.research.google.com/notebooks/data_table.ipynb>data table notebook</a>'\n",
              "            + ' to learn more about interactive tables.';\n",
              "          element.innerHTML = '';\n",
              "          dataTable['output_type'] = 'display_data';\n",
              "          await google.colab.output.renderOutput(dataTable, element);\n",
              "          const docLink = document.createElement('div');\n",
              "          docLink.innerHTML = docLinkHtml;\n",
              "          element.appendChild(docLink);\n",
              "        }\n",
              "      </script>\n",
              "    </div>\n",
              "  </div>\n",
              "  "
            ]
          },
          "metadata": {},
          "execution_count": 88
        }
      ]
    },
    {
      "cell_type": "code",
      "source": [
        "# Predict target inference\n",
        "y_inf = rfc_model.predict(df_inf)\n",
        "y_inf = pd.DataFrame(y_inf, columns=['Prediction'],index=df_inf.index)"
      ],
      "metadata": {
        "id": "ooUyIdYwkfGS"
      },
      "execution_count": 89,
      "outputs": []
    },
    {
      "cell_type": "code",
      "source": [
        "# Comparing the real target and prediction\n",
        "model_inf = pd.concat([df_inf['Class'], y_inf['Prediction']], axis=1).sort_index()\n",
        "model_inf"
      ],
      "metadata": {
        "colab": {
          "base_uri": "https://localhost:8080/",
          "height": 206
        },
        "id": "Ji7LnK-elJ0J",
        "outputId": "fa4ad6f2-6c34-4865-e194-1db2d1833ad3"
      },
      "execution_count": 90,
      "outputs": [
        {
          "output_type": "execute_result",
          "data": {
            "text/plain": [
              "    Class  Prediction\n",
              "5       0           0\n",
              "6       0           0\n",
              "29      1           0\n",
              "48      1           1\n",
              "61      0           0"
            ],
            "text/html": [
              "\n",
              "  <div id=\"df-137aa6f4-51fd-49a9-b064-39f09bb15305\">\n",
              "    <div class=\"colab-df-container\">\n",
              "      <div>\n",
              "<style scoped>\n",
              "    .dataframe tbody tr th:only-of-type {\n",
              "        vertical-align: middle;\n",
              "    }\n",
              "\n",
              "    .dataframe tbody tr th {\n",
              "        vertical-align: top;\n",
              "    }\n",
              "\n",
              "    .dataframe thead th {\n",
              "        text-align: right;\n",
              "    }\n",
              "</style>\n",
              "<table border=\"1\" class=\"dataframe\">\n",
              "  <thead>\n",
              "    <tr style=\"text-align: right;\">\n",
              "      <th></th>\n",
              "      <th>Class</th>\n",
              "      <th>Prediction</th>\n",
              "    </tr>\n",
              "  </thead>\n",
              "  <tbody>\n",
              "    <tr>\n",
              "      <th>5</th>\n",
              "      <td>0</td>\n",
              "      <td>0</td>\n",
              "    </tr>\n",
              "    <tr>\n",
              "      <th>6</th>\n",
              "      <td>0</td>\n",
              "      <td>0</td>\n",
              "    </tr>\n",
              "    <tr>\n",
              "      <th>29</th>\n",
              "      <td>1</td>\n",
              "      <td>0</td>\n",
              "    </tr>\n",
              "    <tr>\n",
              "      <th>48</th>\n",
              "      <td>1</td>\n",
              "      <td>1</td>\n",
              "    </tr>\n",
              "    <tr>\n",
              "      <th>61</th>\n",
              "      <td>0</td>\n",
              "      <td>0</td>\n",
              "    </tr>\n",
              "  </tbody>\n",
              "</table>\n",
              "</div>\n",
              "      <button class=\"colab-df-convert\" onclick=\"convertToInteractive('df-137aa6f4-51fd-49a9-b064-39f09bb15305')\"\n",
              "              title=\"Convert this dataframe to an interactive table.\"\n",
              "              style=\"display:none;\">\n",
              "        \n",
              "  <svg xmlns=\"http://www.w3.org/2000/svg\" height=\"24px\"viewBox=\"0 0 24 24\"\n",
              "       width=\"24px\">\n",
              "    <path d=\"M0 0h24v24H0V0z\" fill=\"none\"/>\n",
              "    <path d=\"M18.56 5.44l.94 2.06.94-2.06 2.06-.94-2.06-.94-.94-2.06-.94 2.06-2.06.94zm-11 1L8.5 8.5l.94-2.06 2.06-.94-2.06-.94L8.5 2.5l-.94 2.06-2.06.94zm10 10l.94 2.06.94-2.06 2.06-.94-2.06-.94-.94-2.06-.94 2.06-2.06.94z\"/><path d=\"M17.41 7.96l-1.37-1.37c-.4-.4-.92-.59-1.43-.59-.52 0-1.04.2-1.43.59L10.3 9.45l-7.72 7.72c-.78.78-.78 2.05 0 2.83L4 21.41c.39.39.9.59 1.41.59.51 0 1.02-.2 1.41-.59l7.78-7.78 2.81-2.81c.8-.78.8-2.07 0-2.86zM5.41 20L4 18.59l7.72-7.72 1.47 1.35L5.41 20z\"/>\n",
              "  </svg>\n",
              "      </button>\n",
              "      \n",
              "  <style>\n",
              "    .colab-df-container {\n",
              "      display:flex;\n",
              "      flex-wrap:wrap;\n",
              "      gap: 12px;\n",
              "    }\n",
              "\n",
              "    .colab-df-convert {\n",
              "      background-color: #E8F0FE;\n",
              "      border: none;\n",
              "      border-radius: 50%;\n",
              "      cursor: pointer;\n",
              "      display: none;\n",
              "      fill: #1967D2;\n",
              "      height: 32px;\n",
              "      padding: 0 0 0 0;\n",
              "      width: 32px;\n",
              "    }\n",
              "\n",
              "    .colab-df-convert:hover {\n",
              "      background-color: #E2EBFA;\n",
              "      box-shadow: 0px 1px 2px rgba(60, 64, 67, 0.3), 0px 1px 3px 1px rgba(60, 64, 67, 0.15);\n",
              "      fill: #174EA6;\n",
              "    }\n",
              "\n",
              "    [theme=dark] .colab-df-convert {\n",
              "      background-color: #3B4455;\n",
              "      fill: #D2E3FC;\n",
              "    }\n",
              "\n",
              "    [theme=dark] .colab-df-convert:hover {\n",
              "      background-color: #434B5C;\n",
              "      box-shadow: 0px 1px 3px 1px rgba(0, 0, 0, 0.15);\n",
              "      filter: drop-shadow(0px 1px 2px rgba(0, 0, 0, 0.3));\n",
              "      fill: #FFFFFF;\n",
              "    }\n",
              "  </style>\n",
              "\n",
              "      <script>\n",
              "        const buttonEl =\n",
              "          document.querySelector('#df-137aa6f4-51fd-49a9-b064-39f09bb15305 button.colab-df-convert');\n",
              "        buttonEl.style.display =\n",
              "          google.colab.kernel.accessAllowed ? 'block' : 'none';\n",
              "\n",
              "        async function convertToInteractive(key) {\n",
              "          const element = document.querySelector('#df-137aa6f4-51fd-49a9-b064-39f09bb15305');\n",
              "          const dataTable =\n",
              "            await google.colab.kernel.invokeFunction('convertToInteractive',\n",
              "                                                     [key], {});\n",
              "          if (!dataTable) return;\n",
              "\n",
              "          const docLinkHtml = 'Like what you see? Visit the ' +\n",
              "            '<a target=\"_blank\" href=https://colab.research.google.com/notebooks/data_table.ipynb>data table notebook</a>'\n",
              "            + ' to learn more about interactive tables.';\n",
              "          element.innerHTML = '';\n",
              "          dataTable['output_type'] = 'display_data';\n",
              "          await google.colab.output.renderOutput(dataTable, element);\n",
              "          const docLink = document.createElement('div');\n",
              "          docLink.innerHTML = docLinkHtml;\n",
              "          element.appendChild(docLink);\n",
              "        }\n",
              "      </script>\n",
              "    </div>\n",
              "  </div>\n",
              "  "
            ]
          },
          "metadata": {},
          "execution_count": 90
        }
      ]
    }
  ]
}