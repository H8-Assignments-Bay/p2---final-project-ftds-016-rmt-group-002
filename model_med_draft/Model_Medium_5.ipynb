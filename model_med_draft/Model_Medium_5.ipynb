{
  "nbformat": 4,
  "nbformat_minor": 0,
  "metadata": {
    "colab": {
      "provenance": [],
      "toc_visible": true
    },
    "kernelspec": {
      "name": "python3",
      "display_name": "Python 3"
    },
    "language_info": {
      "name": "python"
    },
    "gpuClass": "standard"
  },
  "cells": [
    {
      "cell_type": "markdown",
      "source": [
        "# **Manulife Obligasi Negara Indonesia II Kelas A**"
      ],
      "metadata": {
        "id": "PetGFZKdliQu"
      }
    },
    {
      "cell_type": "markdown",
      "source": [
        "## **Importing Libraries**"
      ],
      "metadata": {
        "id": "zjg1MHE5iQ47"
      }
    },
    {
      "cell_type": "code",
      "execution_count": 98,
      "metadata": {
        "id": "1AKF5pcUiL5Z"
      },
      "outputs": [],
      "source": [
        "#main\n",
        "import pandas as pd\n",
        "import numpy as np\n",
        "\n",
        "import warnings\n",
        "warnings.filterwarnings('ignore')\n",
        "\n",
        "#viz\n",
        "import seaborn as sns \n",
        "\n",
        "import matplotlib\n",
        "from matplotlib import pyplot as plt\n",
        "%matplotlib inline\n",
        "matplotlib.rcParams['figure.figsize'] = (20,8)\n",
        "\n",
        "# Feature Selection\n",
        "from sklearn.model_selection import train_test_split, cross_val_score, GridSearchCV\n",
        "\n",
        "# Preprocessing Libraries\n",
        "from sklearn.pipeline import Pipeline\n",
        "from sklearn.compose import ColumnTransformer\n",
        "from sklearn.preprocessing import MinMaxScaler\n",
        "\n",
        "# For Regression Problems\n",
        "from sklearn.linear_model import LinearRegression\n",
        "\n",
        "# Import Classification Algorithms\n",
        "from sklearn.linear_model import LogisticRegression\n",
        "from sklearn.svm import SVC\n",
        "from sklearn.tree import DecisionTreeClassifier\n",
        "from sklearn.ensemble import RandomForestClassifier\n",
        "\n",
        "# Import Evaluation Libraries for Classification\n",
        "from sklearn.metrics import accuracy_score, classification_report, ConfusionMatrixDisplay, confusion_matrix\n",
        "from sklearn.metrics import precision_score, recall_score, f1_score\n",
        "\n",
        "# Import Evaluation Libraries for Regression\n",
        "from sklearn.metrics import mean_squared_error, mean_absolute_error, r2_score\n",
        "\n",
        "#mod\n",
        "import tensorflow as tf\n",
        "from tensorflow.keras import Sequential\n",
        "from sklearn.preprocessing import MinMaxScaler\n",
        "from tensorflow.keras.layers import Dense, LSTM, Dropout \n",
        "from sklearn.metrics import mean_absolute_error\n",
        "\n",
        "# Save and Load Model\n",
        "import joblib\n",
        "import json"
      ]
    },
    {
      "cell_type": "markdown",
      "source": [
        "## **Data Loading**"
      ],
      "metadata": {
        "id": "WsnVbewEiUlU"
      }
    },
    {
      "cell_type": "code",
      "source": [
        "# Data Loading Raw\n",
        "df = pd.read_csv('https://raw.githubusercontent.com/H8-Assignments-Bay/p2---final-project-ftds-016-rmt-group-002/main/Dataset_clean/Med%20Clean/Manulife%20Obligasi%20Negara%20Indonesia%20II%20Kelas%20A%20Clean.csv')\n",
        "df"
      ],
      "metadata": {
        "colab": {
          "base_uri": "https://localhost:8080/",
          "height": 424
        },
        "id": "iN8JqGBbiW_Q",
        "outputId": "e9a2e2d0-13b1-4ee2-bda5-c805ae7cbaad"
      },
      "execution_count": 2,
      "outputs": [
        {
          "output_type": "execute_result",
          "data": {
            "text/plain": [
              "    Unnamed: 0        date    value    Next   Class\n",
              "0            0  2022-09-16  2652.53  2652.97      1\n",
              "1            1  2022-09-19  2652.97  2654.66      1\n",
              "2            2  2022-09-20  2654.66  2652.17      0\n",
              "3            3  2022-09-21  2652.17  2648.18      0\n",
              "4            4  2022-09-22  2648.18  2641.43      0\n",
              "..         ...         ...      ...      ...    ...\n",
              "61          61  2022-12-12  2708.59  2708.52      0\n",
              "62          62  2022-12-13  2708.52  2709.80      1\n",
              "63          63  2022-12-14  2709.80  2711.85      1\n",
              "64          64  2022-12-15  2711.85  2713.70      1\n",
              "65          65  2022-12-16  2713.70      NaN      0\n",
              "\n",
              "[66 rows x 5 columns]"
            ],
            "text/html": [
              "\n",
              "  <div id=\"df-aa469b4e-e7d0-4b2a-8bc4-2f9a999cd7ca\">\n",
              "    <div class=\"colab-df-container\">\n",
              "      <div>\n",
              "<style scoped>\n",
              "    .dataframe tbody tr th:only-of-type {\n",
              "        vertical-align: middle;\n",
              "    }\n",
              "\n",
              "    .dataframe tbody tr th {\n",
              "        vertical-align: top;\n",
              "    }\n",
              "\n",
              "    .dataframe thead th {\n",
              "        text-align: right;\n",
              "    }\n",
              "</style>\n",
              "<table border=\"1\" class=\"dataframe\">\n",
              "  <thead>\n",
              "    <tr style=\"text-align: right;\">\n",
              "      <th></th>\n",
              "      <th>Unnamed: 0</th>\n",
              "      <th>date</th>\n",
              "      <th>value</th>\n",
              "      <th>Next</th>\n",
              "      <th>Class</th>\n",
              "    </tr>\n",
              "  </thead>\n",
              "  <tbody>\n",
              "    <tr>\n",
              "      <th>0</th>\n",
              "      <td>0</td>\n",
              "      <td>2022-09-16</td>\n",
              "      <td>2652.53</td>\n",
              "      <td>2652.97</td>\n",
              "      <td>1</td>\n",
              "    </tr>\n",
              "    <tr>\n",
              "      <th>1</th>\n",
              "      <td>1</td>\n",
              "      <td>2022-09-19</td>\n",
              "      <td>2652.97</td>\n",
              "      <td>2654.66</td>\n",
              "      <td>1</td>\n",
              "    </tr>\n",
              "    <tr>\n",
              "      <th>2</th>\n",
              "      <td>2</td>\n",
              "      <td>2022-09-20</td>\n",
              "      <td>2654.66</td>\n",
              "      <td>2652.17</td>\n",
              "      <td>0</td>\n",
              "    </tr>\n",
              "    <tr>\n",
              "      <th>3</th>\n",
              "      <td>3</td>\n",
              "      <td>2022-09-21</td>\n",
              "      <td>2652.17</td>\n",
              "      <td>2648.18</td>\n",
              "      <td>0</td>\n",
              "    </tr>\n",
              "    <tr>\n",
              "      <th>4</th>\n",
              "      <td>4</td>\n",
              "      <td>2022-09-22</td>\n",
              "      <td>2648.18</td>\n",
              "      <td>2641.43</td>\n",
              "      <td>0</td>\n",
              "    </tr>\n",
              "    <tr>\n",
              "      <th>...</th>\n",
              "      <td>...</td>\n",
              "      <td>...</td>\n",
              "      <td>...</td>\n",
              "      <td>...</td>\n",
              "      <td>...</td>\n",
              "    </tr>\n",
              "    <tr>\n",
              "      <th>61</th>\n",
              "      <td>61</td>\n",
              "      <td>2022-12-12</td>\n",
              "      <td>2708.59</td>\n",
              "      <td>2708.52</td>\n",
              "      <td>0</td>\n",
              "    </tr>\n",
              "    <tr>\n",
              "      <th>62</th>\n",
              "      <td>62</td>\n",
              "      <td>2022-12-13</td>\n",
              "      <td>2708.52</td>\n",
              "      <td>2709.80</td>\n",
              "      <td>1</td>\n",
              "    </tr>\n",
              "    <tr>\n",
              "      <th>63</th>\n",
              "      <td>63</td>\n",
              "      <td>2022-12-14</td>\n",
              "      <td>2709.80</td>\n",
              "      <td>2711.85</td>\n",
              "      <td>1</td>\n",
              "    </tr>\n",
              "    <tr>\n",
              "      <th>64</th>\n",
              "      <td>64</td>\n",
              "      <td>2022-12-15</td>\n",
              "      <td>2711.85</td>\n",
              "      <td>2713.70</td>\n",
              "      <td>1</td>\n",
              "    </tr>\n",
              "    <tr>\n",
              "      <th>65</th>\n",
              "      <td>65</td>\n",
              "      <td>2022-12-16</td>\n",
              "      <td>2713.70</td>\n",
              "      <td>NaN</td>\n",
              "      <td>0</td>\n",
              "    </tr>\n",
              "  </tbody>\n",
              "</table>\n",
              "<p>66 rows × 5 columns</p>\n",
              "</div>\n",
              "      <button class=\"colab-df-convert\" onclick=\"convertToInteractive('df-aa469b4e-e7d0-4b2a-8bc4-2f9a999cd7ca')\"\n",
              "              title=\"Convert this dataframe to an interactive table.\"\n",
              "              style=\"display:none;\">\n",
              "        \n",
              "  <svg xmlns=\"http://www.w3.org/2000/svg\" height=\"24px\"viewBox=\"0 0 24 24\"\n",
              "       width=\"24px\">\n",
              "    <path d=\"M0 0h24v24H0V0z\" fill=\"none\"/>\n",
              "    <path d=\"M18.56 5.44l.94 2.06.94-2.06 2.06-.94-2.06-.94-.94-2.06-.94 2.06-2.06.94zm-11 1L8.5 8.5l.94-2.06 2.06-.94-2.06-.94L8.5 2.5l-.94 2.06-2.06.94zm10 10l.94 2.06.94-2.06 2.06-.94-2.06-.94-.94-2.06-.94 2.06-2.06.94z\"/><path d=\"M17.41 7.96l-1.37-1.37c-.4-.4-.92-.59-1.43-.59-.52 0-1.04.2-1.43.59L10.3 9.45l-7.72 7.72c-.78.78-.78 2.05 0 2.83L4 21.41c.39.39.9.59 1.41.59.51 0 1.02-.2 1.41-.59l7.78-7.78 2.81-2.81c.8-.78.8-2.07 0-2.86zM5.41 20L4 18.59l7.72-7.72 1.47 1.35L5.41 20z\"/>\n",
              "  </svg>\n",
              "      </button>\n",
              "      \n",
              "  <style>\n",
              "    .colab-df-container {\n",
              "      display:flex;\n",
              "      flex-wrap:wrap;\n",
              "      gap: 12px;\n",
              "    }\n",
              "\n",
              "    .colab-df-convert {\n",
              "      background-color: #E8F0FE;\n",
              "      border: none;\n",
              "      border-radius: 50%;\n",
              "      cursor: pointer;\n",
              "      display: none;\n",
              "      fill: #1967D2;\n",
              "      height: 32px;\n",
              "      padding: 0 0 0 0;\n",
              "      width: 32px;\n",
              "    }\n",
              "\n",
              "    .colab-df-convert:hover {\n",
              "      background-color: #E2EBFA;\n",
              "      box-shadow: 0px 1px 2px rgba(60, 64, 67, 0.3), 0px 1px 3px 1px rgba(60, 64, 67, 0.15);\n",
              "      fill: #174EA6;\n",
              "    }\n",
              "\n",
              "    [theme=dark] .colab-df-convert {\n",
              "      background-color: #3B4455;\n",
              "      fill: #D2E3FC;\n",
              "    }\n",
              "\n",
              "    [theme=dark] .colab-df-convert:hover {\n",
              "      background-color: #434B5C;\n",
              "      box-shadow: 0px 1px 3px 1px rgba(0, 0, 0, 0.15);\n",
              "      filter: drop-shadow(0px 1px 2px rgba(0, 0, 0, 0.3));\n",
              "      fill: #FFFFFF;\n",
              "    }\n",
              "  </style>\n",
              "\n",
              "      <script>\n",
              "        const buttonEl =\n",
              "          document.querySelector('#df-aa469b4e-e7d0-4b2a-8bc4-2f9a999cd7ca button.colab-df-convert');\n",
              "        buttonEl.style.display =\n",
              "          google.colab.kernel.accessAllowed ? 'block' : 'none';\n",
              "\n",
              "        async function convertToInteractive(key) {\n",
              "          const element = document.querySelector('#df-aa469b4e-e7d0-4b2a-8bc4-2f9a999cd7ca');\n",
              "          const dataTable =\n",
              "            await google.colab.kernel.invokeFunction('convertToInteractive',\n",
              "                                                     [key], {});\n",
              "          if (!dataTable) return;\n",
              "\n",
              "          const docLinkHtml = 'Like what you see? Visit the ' +\n",
              "            '<a target=\"_blank\" href=https://colab.research.google.com/notebooks/data_table.ipynb>data table notebook</a>'\n",
              "            + ' to learn more about interactive tables.';\n",
              "          element.innerHTML = '';\n",
              "          dataTable['output_type'] = 'display_data';\n",
              "          await google.colab.output.renderOutput(dataTable, element);\n",
              "          const docLink = document.createElement('div');\n",
              "          docLink.innerHTML = docLinkHtml;\n",
              "          element.appendChild(docLink);\n",
              "        }\n",
              "      </script>\n",
              "    </div>\n",
              "  </div>\n",
              "  "
            ]
          },
          "metadata": {},
          "execution_count": 2
        }
      ]
    },
    {
      "cell_type": "code",
      "source": [
        "df.tail()"
      ],
      "metadata": {
        "colab": {
          "base_uri": "https://localhost:8080/",
          "height": 206
        },
        "id": "BJzsuxyX-SfU",
        "outputId": "0d5bca5a-ed3b-40c1-a7c3-55bf975145a4"
      },
      "execution_count": 3,
      "outputs": [
        {
          "output_type": "execute_result",
          "data": {
            "text/plain": [
              "    Unnamed: 0        date    value    Next   Class\n",
              "61          61  2022-12-12  2708.59  2708.52      0\n",
              "62          62  2022-12-13  2708.52  2709.80      1\n",
              "63          63  2022-12-14  2709.80  2711.85      1\n",
              "64          64  2022-12-15  2711.85  2713.70      1\n",
              "65          65  2022-12-16  2713.70      NaN      0"
            ],
            "text/html": [
              "\n",
              "  <div id=\"df-2bfde846-17e3-454c-8e6d-4491720edb8f\">\n",
              "    <div class=\"colab-df-container\">\n",
              "      <div>\n",
              "<style scoped>\n",
              "    .dataframe tbody tr th:only-of-type {\n",
              "        vertical-align: middle;\n",
              "    }\n",
              "\n",
              "    .dataframe tbody tr th {\n",
              "        vertical-align: top;\n",
              "    }\n",
              "\n",
              "    .dataframe thead th {\n",
              "        text-align: right;\n",
              "    }\n",
              "</style>\n",
              "<table border=\"1\" class=\"dataframe\">\n",
              "  <thead>\n",
              "    <tr style=\"text-align: right;\">\n",
              "      <th></th>\n",
              "      <th>Unnamed: 0</th>\n",
              "      <th>date</th>\n",
              "      <th>value</th>\n",
              "      <th>Next</th>\n",
              "      <th>Class</th>\n",
              "    </tr>\n",
              "  </thead>\n",
              "  <tbody>\n",
              "    <tr>\n",
              "      <th>61</th>\n",
              "      <td>61</td>\n",
              "      <td>2022-12-12</td>\n",
              "      <td>2708.59</td>\n",
              "      <td>2708.52</td>\n",
              "      <td>0</td>\n",
              "    </tr>\n",
              "    <tr>\n",
              "      <th>62</th>\n",
              "      <td>62</td>\n",
              "      <td>2022-12-13</td>\n",
              "      <td>2708.52</td>\n",
              "      <td>2709.80</td>\n",
              "      <td>1</td>\n",
              "    </tr>\n",
              "    <tr>\n",
              "      <th>63</th>\n",
              "      <td>63</td>\n",
              "      <td>2022-12-14</td>\n",
              "      <td>2709.80</td>\n",
              "      <td>2711.85</td>\n",
              "      <td>1</td>\n",
              "    </tr>\n",
              "    <tr>\n",
              "      <th>64</th>\n",
              "      <td>64</td>\n",
              "      <td>2022-12-15</td>\n",
              "      <td>2711.85</td>\n",
              "      <td>2713.70</td>\n",
              "      <td>1</td>\n",
              "    </tr>\n",
              "    <tr>\n",
              "      <th>65</th>\n",
              "      <td>65</td>\n",
              "      <td>2022-12-16</td>\n",
              "      <td>2713.70</td>\n",
              "      <td>NaN</td>\n",
              "      <td>0</td>\n",
              "    </tr>\n",
              "  </tbody>\n",
              "</table>\n",
              "</div>\n",
              "      <button class=\"colab-df-convert\" onclick=\"convertToInteractive('df-2bfde846-17e3-454c-8e6d-4491720edb8f')\"\n",
              "              title=\"Convert this dataframe to an interactive table.\"\n",
              "              style=\"display:none;\">\n",
              "        \n",
              "  <svg xmlns=\"http://www.w3.org/2000/svg\" height=\"24px\"viewBox=\"0 0 24 24\"\n",
              "       width=\"24px\">\n",
              "    <path d=\"M0 0h24v24H0V0z\" fill=\"none\"/>\n",
              "    <path d=\"M18.56 5.44l.94 2.06.94-2.06 2.06-.94-2.06-.94-.94-2.06-.94 2.06-2.06.94zm-11 1L8.5 8.5l.94-2.06 2.06-.94-2.06-.94L8.5 2.5l-.94 2.06-2.06.94zm10 10l.94 2.06.94-2.06 2.06-.94-2.06-.94-.94-2.06-.94 2.06-2.06.94z\"/><path d=\"M17.41 7.96l-1.37-1.37c-.4-.4-.92-.59-1.43-.59-.52 0-1.04.2-1.43.59L10.3 9.45l-7.72 7.72c-.78.78-.78 2.05 0 2.83L4 21.41c.39.39.9.59 1.41.59.51 0 1.02-.2 1.41-.59l7.78-7.78 2.81-2.81c.8-.78.8-2.07 0-2.86zM5.41 20L4 18.59l7.72-7.72 1.47 1.35L5.41 20z\"/>\n",
              "  </svg>\n",
              "      </button>\n",
              "      \n",
              "  <style>\n",
              "    .colab-df-container {\n",
              "      display:flex;\n",
              "      flex-wrap:wrap;\n",
              "      gap: 12px;\n",
              "    }\n",
              "\n",
              "    .colab-df-convert {\n",
              "      background-color: #E8F0FE;\n",
              "      border: none;\n",
              "      border-radius: 50%;\n",
              "      cursor: pointer;\n",
              "      display: none;\n",
              "      fill: #1967D2;\n",
              "      height: 32px;\n",
              "      padding: 0 0 0 0;\n",
              "      width: 32px;\n",
              "    }\n",
              "\n",
              "    .colab-df-convert:hover {\n",
              "      background-color: #E2EBFA;\n",
              "      box-shadow: 0px 1px 2px rgba(60, 64, 67, 0.3), 0px 1px 3px 1px rgba(60, 64, 67, 0.15);\n",
              "      fill: #174EA6;\n",
              "    }\n",
              "\n",
              "    [theme=dark] .colab-df-convert {\n",
              "      background-color: #3B4455;\n",
              "      fill: #D2E3FC;\n",
              "    }\n",
              "\n",
              "    [theme=dark] .colab-df-convert:hover {\n",
              "      background-color: #434B5C;\n",
              "      box-shadow: 0px 1px 3px 1px rgba(0, 0, 0, 0.15);\n",
              "      filter: drop-shadow(0px 1px 2px rgba(0, 0, 0, 0.3));\n",
              "      fill: #FFFFFF;\n",
              "    }\n",
              "  </style>\n",
              "\n",
              "      <script>\n",
              "        const buttonEl =\n",
              "          document.querySelector('#df-2bfde846-17e3-454c-8e6d-4491720edb8f button.colab-df-convert');\n",
              "        buttonEl.style.display =\n",
              "          google.colab.kernel.accessAllowed ? 'block' : 'none';\n",
              "\n",
              "        async function convertToInteractive(key) {\n",
              "          const element = document.querySelector('#df-2bfde846-17e3-454c-8e6d-4491720edb8f');\n",
              "          const dataTable =\n",
              "            await google.colab.kernel.invokeFunction('convertToInteractive',\n",
              "                                                     [key], {});\n",
              "          if (!dataTable) return;\n",
              "\n",
              "          const docLinkHtml = 'Like what you see? Visit the ' +\n",
              "            '<a target=\"_blank\" href=https://colab.research.google.com/notebooks/data_table.ipynb>data table notebook</a>'\n",
              "            + ' to learn more about interactive tables.';\n",
              "          element.innerHTML = '';\n",
              "          dataTable['output_type'] = 'display_data';\n",
              "          await google.colab.output.renderOutput(dataTable, element);\n",
              "          const docLink = document.createElement('div');\n",
              "          docLink.innerHTML = docLinkHtml;\n",
              "          element.appendChild(docLink);\n",
              "        }\n",
              "      </script>\n",
              "    </div>\n",
              "  </div>\n",
              "  "
            ]
          },
          "metadata": {},
          "execution_count": 3
        }
      ]
    },
    {
      "cell_type": "code",
      "source": [
        "df.info()"
      ],
      "metadata": {
        "colab": {
          "base_uri": "https://localhost:8080/"
        },
        "id": "A1oLs9Vy-Vzr",
        "outputId": "98aaf249-4538-42d3-8380-7f43d77010fd"
      },
      "execution_count": 4,
      "outputs": [
        {
          "output_type": "stream",
          "name": "stdout",
          "text": [
            "<class 'pandas.core.frame.DataFrame'>\n",
            "RangeIndex: 66 entries, 0 to 65\n",
            "Data columns (total 5 columns):\n",
            " #   Column      Non-Null Count  Dtype  \n",
            "---  ------      --------------  -----  \n",
            " 0   Unnamed: 0  66 non-null     int64  \n",
            " 1   date        66 non-null     object \n",
            " 2   value       66 non-null     float64\n",
            " 3   Next        65 non-null     float64\n",
            " 4   Class       66 non-null     int64  \n",
            "dtypes: float64(2), int64(2), object(1)\n",
            "memory usage: 2.7+ KB\n"
          ]
        }
      ]
    },
    {
      "cell_type": "code",
      "source": [
        "# Checking if the dataframe is already in the type we want to use\n",
        "df['date'] = pd.to_datetime(df['date'])\n",
        "df.columns = df.columns.str.replace(' ', '')\n",
        "df.rename(columns = {'date':'Date', 'value':'Present', 'class':'Class'}, inplace = True)\n",
        "df.info()"
      ],
      "metadata": {
        "colab": {
          "base_uri": "https://localhost:8080/"
        },
        "id": "Tol9MZug9zJI",
        "outputId": "59c4de3c-63cf-4178-90df-d8ab3d5af94e"
      },
      "execution_count": 5,
      "outputs": [
        {
          "output_type": "stream",
          "name": "stdout",
          "text": [
            "<class 'pandas.core.frame.DataFrame'>\n",
            "RangeIndex: 66 entries, 0 to 65\n",
            "Data columns (total 5 columns):\n",
            " #   Column     Non-Null Count  Dtype         \n",
            "---  ------     --------------  -----         \n",
            " 0   Unnamed:0  66 non-null     int64         \n",
            " 1   Date       66 non-null     datetime64[ns]\n",
            " 2   Present    66 non-null     float64       \n",
            " 3   Next       65 non-null     float64       \n",
            " 4   Class      66 non-null     int64         \n",
            "dtypes: datetime64[ns](1), float64(2), int64(2)\n",
            "memory usage: 2.7 KB\n"
          ]
        }
      ]
    },
    {
      "cell_type": "markdown",
      "source": [
        "## **EDA**"
      ],
      "metadata": {
        "id": "olZMO5EK-z-w"
      }
    },
    {
      "cell_type": "markdown",
      "source": [
        "### **Labels Analysis**\n",
        "\n",
        "Labels between up and down are **imbalanced**."
      ],
      "metadata": {
        "id": "iJpxwqJUA5Og"
      }
    },
    {
      "cell_type": "code",
      "source": [
        "# Label counts\n",
        "df.Class.value_counts()"
      ],
      "metadata": {
        "colab": {
          "base_uri": "https://localhost:8080/"
        },
        "id": "9QTMY9IRA7go",
        "outputId": "b719779d-a65a-4954-c570-9a0a67a82b04"
      },
      "execution_count": 6,
      "outputs": [
        {
          "output_type": "execute_result",
          "data": {
            "text/plain": [
              "1    36\n",
              "0    30\n",
              "Name: Class, dtype: int64"
            ]
          },
          "metadata": {},
          "execution_count": 6
        }
      ]
    },
    {
      "cell_type": "code",
      "source": [
        "# Creating Plot piechart of Up and Down labels\n",
        "ClassType = dict(df.Class.value_counts())\n",
        "labels = 'Up', 'Down'\n",
        "sizes = [ClassType[1], ClassType[0]]\n",
        "explode = (0, 0.2)\n",
        "\n",
        "with sns.color_palette(\"deep\"):\n",
        "    plt.pie(sizes, explode=explode, labels=labels,\n",
        "    autopct='%1.1f%%', shadow=True, startangle=200)\n",
        "\n",
        "# Plot title\n",
        "plt.axis('equal')\n",
        "plt.title('Piechart of Up and Down Class Prediction')\n",
        "plt.show()\n",
        "     "
      ],
      "metadata": {
        "colab": {
          "base_uri": "https://localhost:8080/",
          "height": 482
        },
        "id": "lNF_B4wABBfx",
        "outputId": "e25d9d47-010e-4c06-f499-93e42d0b3574"
      },
      "execution_count": 7,
      "outputs": [
        {
          "output_type": "display_data",
          "data": {
            "text/plain": [
              "<Figure size 1440x576 with 1 Axes>"
            ],
            "image/png": "[encoded data removed]"
          },
          "metadata": {}
        }
      ]
    },
    {
      "cell_type": "markdown",
      "source": [
        "### **NAV Analysis**"
      ],
      "metadata": {
        "id": "9mm4ta2uA1u2"
      }
    },
    {
      "cell_type": "code",
      "source": [
        "# Lineplot Present NAV\n",
        "present_nav = sns.lineplot(data=df, x=\"Date\", y=\"Present\")\n",
        "present_nav"
      ],
      "metadata": {
        "colab": {
          "base_uri": "https://localhost:8080/",
          "height": 514
        },
        "id": "E-cri5O2_C7N",
        "outputId": "3cb8a71d-323b-4976-b05d-78f3bc51f18e"
      },
      "execution_count": 8,
      "outputs": [
        {
          "output_type": "execute_result",
          "data": {
            "text/plain": [
              "<matplotlib.axes._subplots.AxesSubplot at 0x7fd83d94c7f0>"
            ]
          },
          "metadata": {},
          "execution_count": 8
        },
        {
          "output_type": "display_data",
          "data": {
            "text/plain": [
              "<Figure size 1440x576 with 1 Axes>"
            ],
            "image/png": "[encoded data removed]"
          },
          "metadata": {
            "needs_background": "light"
          }
        }
      ]
    },
    {
      "cell_type": "code",
      "source": [
        "# Lineplot Present NAV\n",
        "next_nav = sns.lineplot(data=df, x=\"Date\", y=\"Next\")\n",
        "next_nav"
      ],
      "metadata": {
        "colab": {
          "base_uri": "https://localhost:8080/",
          "height": 514
        },
        "id": "Ex5Qe5rAAXdm",
        "outputId": "92e02610-ae37-4f76-86d8-d66f8e7fbaef"
      },
      "execution_count": 9,
      "outputs": [
        {
          "output_type": "execute_result",
          "data": {
            "text/plain": [
              "<matplotlib.axes._subplots.AxesSubplot at 0x7fd83d43f610>"
            ]
          },
          "metadata": {},
          "execution_count": 9
        },
        {
          "output_type": "display_data",
          "data": {
            "text/plain": [
              "<Figure size 1440x576 with 1 Axes>"
            ],
            "image/png": "[encoded data removed]"
          },
          "metadata": {
            "needs_background": "light"
          }
        }
      ]
    },
    {
      "cell_type": "markdown",
      "source": [
        "### **Correlation Analysis**\n",
        "\n",
        "Apparently \"Next\" NAV\" is 100% correlated with \"Present\" NAV. People tend to predict NAV at least a day before. However, the class correlation with NAV has weak correlations. This means, the model prediction depends on NAV, both Present and Next.\n",
        "\n",
        "The prediction will be using Regression and Classification."
      ],
      "metadata": {
        "id": "8wEeVsOJBufN"
      }
    },
    {
      "cell_type": "code",
      "source": [
        "# Creating new dataframe for NAV and Class correlation\n",
        "nav_correlation = ['Present', 'Next', 'Class']\n",
        "df_corr = df[nav_correlation]\n",
        "df_corr.head()"
      ],
      "metadata": {
        "colab": {
          "base_uri": "https://localhost:8080/",
          "height": 206
        },
        "id": "78kF6raiBx2M",
        "outputId": "e5fcd831-1a9b-4c7c-b050-afe130f0da39"
      },
      "execution_count": 10,
      "outputs": [
        {
          "output_type": "execute_result",
          "data": {
            "text/plain": [
              "   Present     Next  Class\n",
              "0  2652.53  2652.97      1\n",
              "1  2652.97  2654.66      1\n",
              "2  2654.66  2652.17      0\n",
              "3  2652.17  2648.18      0\n",
              "4  2648.18  2641.43      0"
            ],
            "text/html": [
              "\n",
              "  <div id=\"df-7270c37c-3caa-4090-9b33-7738270c0fba\">\n",
              "    <div class=\"colab-df-container\">\n",
              "      <div>\n",
              "<style scoped>\n",
              "    .dataframe tbody tr th:only-of-type {\n",
              "        vertical-align: middle;\n",
              "    }\n",
              "\n",
              "    .dataframe tbody tr th {\n",
              "        vertical-align: top;\n",
              "    }\n",
              "\n",
              "    .dataframe thead th {\n",
              "        text-align: right;\n",
              "    }\n",
              "</style>\n",
              "<table border=\"1\" class=\"dataframe\">\n",
              "  <thead>\n",
              "    <tr style=\"text-align: right;\">\n",
              "      <th></th>\n",
              "      <th>Present</th>\n",
              "      <th>Next</th>\n",
              "      <th>Class</th>\n",
              "    </tr>\n",
              "  </thead>\n",
              "  <tbody>\n",
              "    <tr>\n",
              "      <th>0</th>\n",
              "      <td>2652.53</td>\n",
              "      <td>2652.97</td>\n",
              "      <td>1</td>\n",
              "    </tr>\n",
              "    <tr>\n",
              "      <th>1</th>\n",
              "      <td>2652.97</td>\n",
              "      <td>2654.66</td>\n",
              "      <td>1</td>\n",
              "    </tr>\n",
              "    <tr>\n",
              "      <th>2</th>\n",
              "      <td>2654.66</td>\n",
              "      <td>2652.17</td>\n",
              "      <td>0</td>\n",
              "    </tr>\n",
              "    <tr>\n",
              "      <th>3</th>\n",
              "      <td>2652.17</td>\n",
              "      <td>2648.18</td>\n",
              "      <td>0</td>\n",
              "    </tr>\n",
              "    <tr>\n",
              "      <th>4</th>\n",
              "      <td>2648.18</td>\n",
              "      <td>2641.43</td>\n",
              "      <td>0</td>\n",
              "    </tr>\n",
              "  </tbody>\n",
              "</table>\n",
              "</div>\n",
              "      <button class=\"colab-df-convert\" onclick=\"convertToInteractive('df-7270c37c-3caa-4090-9b33-7738270c0fba')\"\n",
              "              title=\"Convert this dataframe to an interactive table.\"\n",
              "              style=\"display:none;\">\n",
              "        \n",
              "  <svg xmlns=\"http://www.w3.org/2000/svg\" height=\"24px\"viewBox=\"0 0 24 24\"\n",
              "       width=\"24px\">\n",
              "    <path d=\"M0 0h24v24H0V0z\" fill=\"none\"/>\n",
              "    <path d=\"M18.56 5.44l.94 2.06.94-2.06 2.06-.94-2.06-.94-.94-2.06-.94 2.06-2.06.94zm-11 1L8.5 8.5l.94-2.06 2.06-.94-2.06-.94L8.5 2.5l-.94 2.06-2.06.94zm10 10l.94 2.06.94-2.06 2.06-.94-2.06-.94-.94-2.06-.94 2.06-2.06.94z\"/><path d=\"M17.41 7.96l-1.37-1.37c-.4-.4-.92-.59-1.43-.59-.52 0-1.04.2-1.43.59L10.3 9.45l-7.72 7.72c-.78.78-.78 2.05 0 2.83L4 21.41c.39.39.9.59 1.41.59.51 0 1.02-.2 1.41-.59l7.78-7.78 2.81-2.81c.8-.78.8-2.07 0-2.86zM5.41 20L4 18.59l7.72-7.72 1.47 1.35L5.41 20z\"/>\n",
              "  </svg>\n",
              "      </button>\n",
              "      \n",
              "  <style>\n",
              "    .colab-df-container {\n",
              "      display:flex;\n",
              "      flex-wrap:wrap;\n",
              "      gap: 12px;\n",
              "    }\n",
              "\n",
              "    .colab-df-convert {\n",
              "      background-color: #E8F0FE;\n",
              "      border: none;\n",
              "      border-radius: 50%;\n",
              "      cursor: pointer;\n",
              "      display: none;\n",
              "      fill: #1967D2;\n",
              "      height: 32px;\n",
              "      padding: 0 0 0 0;\n",
              "      width: 32px;\n",
              "    }\n",
              "\n",
              "    .colab-df-convert:hover {\n",
              "      background-color: #E2EBFA;\n",
              "      box-shadow: 0px 1px 2px rgba(60, 64, 67, 0.3), 0px 1px 3px 1px rgba(60, 64, 67, 0.15);\n",
              "      fill: #174EA6;\n",
              "    }\n",
              "\n",
              "    [theme=dark] .colab-df-convert {\n",
              "      background-color: #3B4455;\n",
              "      fill: #D2E3FC;\n",
              "    }\n",
              "\n",
              "    [theme=dark] .colab-df-convert:hover {\n",
              "      background-color: #434B5C;\n",
              "      box-shadow: 0px 1px 3px 1px rgba(0, 0, 0, 0.15);\n",
              "      filter: drop-shadow(0px 1px 2px rgba(0, 0, 0, 0.3));\n",
              "      fill: #FFFFFF;\n",
              "    }\n",
              "  </style>\n",
              "\n",
              "      <script>\n",
              "        const buttonEl =\n",
              "          document.querySelector('#df-7270c37c-3caa-4090-9b33-7738270c0fba button.colab-df-convert');\n",
              "        buttonEl.style.display =\n",
              "          google.colab.kernel.accessAllowed ? 'block' : 'none';\n",
              "\n",
              "        async function convertToInteractive(key) {\n",
              "          const element = document.querySelector('#df-7270c37c-3caa-4090-9b33-7738270c0fba');\n",
              "          const dataTable =\n",
              "            await google.colab.kernel.invokeFunction('convertToInteractive',\n",
              "                                                     [key], {});\n",
              "          if (!dataTable) return;\n",
              "\n",
              "          const docLinkHtml = 'Like what you see? Visit the ' +\n",
              "            '<a target=\"_blank\" href=https://colab.research.google.com/notebooks/data_table.ipynb>data table notebook</a>'\n",
              "            + ' to learn more about interactive tables.';\n",
              "          element.innerHTML = '';\n",
              "          dataTable['output_type'] = 'display_data';\n",
              "          await google.colab.output.renderOutput(dataTable, element);\n",
              "          const docLink = document.createElement('div');\n",
              "          docLink.innerHTML = docLinkHtml;\n",
              "          element.appendChild(docLink);\n",
              "        }\n",
              "      </script>\n",
              "    </div>\n",
              "  </div>\n",
              "  "
            ]
          },
          "metadata": {},
          "execution_count": 10
        }
      ]
    },
    {
      "cell_type": "code",
      "source": [
        "# Plotting Correlation Matrix of NAV and Class\n",
        "plt.figure(figsize=(8.5,7))\n",
        "sns.heatmap(df_corr.corr(),annot=True)"
      ],
      "metadata": {
        "colab": {
          "base_uri": "https://localhost:8080/",
          "height": 449
        },
        "id": "JdtUIUqnCLgS",
        "outputId": "30f94dc1-241b-4254-d0ef-29beb1488ed5"
      },
      "execution_count": 11,
      "outputs": [
        {
          "output_type": "execute_result",
          "data": {
            "text/plain": [
              "<matplotlib.axes._subplots.AxesSubplot at 0x7fd83d3bd1c0>"
            ]
          },
          "metadata": {},
          "execution_count": 11
        },
        {
          "output_type": "display_data",
          "data": {
            "text/plain": [
              "<Figure size 612x504 with 2 Axes>"
            ],
            "image/png": "[encoded data removed]"
          },
          "metadata": {
            "needs_background": "light"
          }
        }
      ]
    },
    {
      "cell_type": "markdown",
      "source": [
        "## **Data Preprocessing**"
      ],
      "metadata": {
        "id": "PO4QKfKFDIND"
      }
    },
    {
      "cell_type": "markdown",
      "source": [
        "### **Data Inference**"
      ],
      "metadata": {
        "id": "Gk7S4kXtDidL"
      }
    },
    {
      "cell_type": "code",
      "source": [
        "# Dropping unneccessary features\n",
        "df_ori = df.copy()\n",
        "\n",
        "df = df.drop([65])\n",
        "df = df.drop(['Unnamed:0'],axis=1)"
      ],
      "metadata": {
        "id": "OsCzOURKD0u4"
      },
      "execution_count": 12,
      "outputs": []
    },
    {
      "cell_type": "code",
      "source": [
        "# Creating data inference\n",
        "df_inf = df.sample(5, random_state=33).sort_index()\n",
        "df_inf"
      ],
      "metadata": {
        "colab": {
          "base_uri": "https://localhost:8080/",
          "height": 206
        },
        "id": "fTe1NL6BDh44",
        "outputId": "1219c2a5-416b-4a6b-fbfc-6d83cc748816"
      },
      "execution_count": 13,
      "outputs": [
        {
          "output_type": "execute_result",
          "data": {
            "text/plain": [
              "         Date  Present     Next  Class\n",
              "5  2022-09-23  2641.43  2634.77      0\n",
              "6  2022-09-26  2634.77  2633.18      0\n",
              "29 2022-10-27  2609.28  2612.89      1\n",
              "48 2022-11-23  2674.24  2684.35      1\n",
              "61 2022-12-12  2708.59  2708.52      0"
            ],
            "text/html": [
              "\n",
              "  <div id=\"df-bf7429de-e5db-4716-8cad-36df5243bcbc\">\n",
              "    <div class=\"colab-df-container\">\n",
              "      <div>\n",
              "<style scoped>\n",
              "    .dataframe tbody tr th:only-of-type {\n",
              "        vertical-align: middle;\n",
              "    }\n",
              "\n",
              "    .dataframe tbody tr th {\n",
              "        vertical-align: top;\n",
              "    }\n",
              "\n",
              "    .dataframe thead th {\n",
              "        text-align: right;\n",
              "    }\n",
              "</style>\n",
              "<table border=\"1\" class=\"dataframe\">\n",
              "  <thead>\n",
              "    <tr style=\"text-align: right;\">\n",
              "      <th></th>\n",
              "      <th>Date</th>\n",
              "      <th>Present</th>\n",
              "      <th>Next</th>\n",
              "      <th>Class</th>\n",
              "    </tr>\n",
              "  </thead>\n",
              "  <tbody>\n",
              "    <tr>\n",
              "      <th>5</th>\n",
              "      <td>2022-09-23</td>\n",
              "      <td>2641.43</td>\n",
              "      <td>2634.77</td>\n",
              "      <td>0</td>\n",
              "    </tr>\n",
              "    <tr>\n",
              "      <th>6</th>\n",
              "      <td>2022-09-26</td>\n",
              "      <td>2634.77</td>\n",
              "      <td>2633.18</td>\n",
              "      <td>0</td>\n",
              "    </tr>\n",
              "    <tr>\n",
              "      <th>29</th>\n",
              "      <td>2022-10-27</td>\n",
              "      <td>2609.28</td>\n",
              "      <td>2612.89</td>\n",
              "      <td>1</td>\n",
              "    </tr>\n",
              "    <tr>\n",
              "      <th>48</th>\n",
              "      <td>2022-11-23</td>\n",
              "      <td>2674.24</td>\n",
              "      <td>2684.35</td>\n",
              "      <td>1</td>\n",
              "    </tr>\n",
              "    <tr>\n",
              "      <th>61</th>\n",
              "      <td>2022-12-12</td>\n",
              "      <td>2708.59</td>\n",
              "      <td>2708.52</td>\n",
              "      <td>0</td>\n",
              "    </tr>\n",
              "  </tbody>\n",
              "</table>\n",
              "</div>\n",
              "      <button class=\"colab-df-convert\" onclick=\"convertToInteractive('df-bf7429de-e5db-4716-8cad-36df5243bcbc')\"\n",
              "              title=\"Convert this dataframe to an interactive table.\"\n",
              "              style=\"display:none;\">\n",
              "        \n",
              "  <svg xmlns=\"http://www.w3.org/2000/svg\" height=\"24px\"viewBox=\"0 0 24 24\"\n",
              "       width=\"24px\">\n",
              "    <path d=\"M0 0h24v24H0V0z\" fill=\"none\"/>\n",
              "    <path d=\"M18.56 5.44l.94 2.06.94-2.06 2.06-.94-2.06-.94-.94-2.06-.94 2.06-2.06.94zm-11 1L8.5 8.5l.94-2.06 2.06-.94-2.06-.94L8.5 2.5l-.94 2.06-2.06.94zm10 10l.94 2.06.94-2.06 2.06-.94-2.06-.94-.94-2.06-.94 2.06-2.06.94z\"/><path d=\"M17.41 7.96l-1.37-1.37c-.4-.4-.92-.59-1.43-.59-.52 0-1.04.2-1.43.59L10.3 9.45l-7.72 7.72c-.78.78-.78 2.05 0 2.83L4 21.41c.39.39.9.59 1.41.59.51 0 1.02-.2 1.41-.59l7.78-7.78 2.81-2.81c.8-.78.8-2.07 0-2.86zM5.41 20L4 18.59l7.72-7.72 1.47 1.35L5.41 20z\"/>\n",
              "  </svg>\n",
              "      </button>\n",
              "      \n",
              "  <style>\n",
              "    .colab-df-container {\n",
              "      display:flex;\n",
              "      flex-wrap:wrap;\n",
              "      gap: 12px;\n",
              "    }\n",
              "\n",
              "    .colab-df-convert {\n",
              "      background-color: #E8F0FE;\n",
              "      border: none;\n",
              "      border-radius: 50%;\n",
              "      cursor: pointer;\n",
              "      display: none;\n",
              "      fill: #1967D2;\n",
              "      height: 32px;\n",
              "      padding: 0 0 0 0;\n",
              "      width: 32px;\n",
              "    }\n",
              "\n",
              "    .colab-df-convert:hover {\n",
              "      background-color: #E2EBFA;\n",
              "      box-shadow: 0px 1px 2px rgba(60, 64, 67, 0.3), 0px 1px 3px 1px rgba(60, 64, 67, 0.15);\n",
              "      fill: #174EA6;\n",
              "    }\n",
              "\n",
              "    [theme=dark] .colab-df-convert {\n",
              "      background-color: #3B4455;\n",
              "      fill: #D2E3FC;\n",
              "    }\n",
              "\n",
              "    [theme=dark] .colab-df-convert:hover {\n",
              "      background-color: #434B5C;\n",
              "      box-shadow: 0px 1px 3px 1px rgba(0, 0, 0, 0.15);\n",
              "      filter: drop-shadow(0px 1px 2px rgba(0, 0, 0, 0.3));\n",
              "      fill: #FFFFFF;\n",
              "    }\n",
              "  </style>\n",
              "\n",
              "      <script>\n",
              "        const buttonEl =\n",
              "          document.querySelector('#df-bf7429de-e5db-4716-8cad-36df5243bcbc button.colab-df-convert');\n",
              "        buttonEl.style.display =\n",
              "          google.colab.kernel.accessAllowed ? 'block' : 'none';\n",
              "\n",
              "        async function convertToInteractive(key) {\n",
              "          const element = document.querySelector('#df-bf7429de-e5db-4716-8cad-36df5243bcbc');\n",
              "          const dataTable =\n",
              "            await google.colab.kernel.invokeFunction('convertToInteractive',\n",
              "                                                     [key], {});\n",
              "          if (!dataTable) return;\n",
              "\n",
              "          const docLinkHtml = 'Like what you see? Visit the ' +\n",
              "            '<a target=\"_blank\" href=https://colab.research.google.com/notebooks/data_table.ipynb>data table notebook</a>'\n",
              "            + ' to learn more about interactive tables.';\n",
              "          element.innerHTML = '';\n",
              "          dataTable['output_type'] = 'display_data';\n",
              "          await google.colab.output.renderOutput(dataTable, element);\n",
              "          const docLink = document.createElement('div');\n",
              "          docLink.innerHTML = docLinkHtml;\n",
              "          element.appendChild(docLink);\n",
              "        }\n",
              "      </script>\n",
              "    </div>\n",
              "  </div>\n",
              "  "
            ]
          },
          "metadata": {},
          "execution_count": 13
        }
      ]
    },
    {
      "cell_type": "code",
      "source": [
        "# Drop data inference as a new dataframe\n",
        "df_train_test = df.drop(df_inf.index)\n",
        "df_train_test.shape"
      ],
      "metadata": {
        "colab": {
          "base_uri": "https://localhost:8080/"
        },
        "id": "6lUCtGHTE1bf",
        "outputId": "10858c6e-f800-443f-99ab-a8c3ff246f44"
      },
      "execution_count": 14,
      "outputs": [
        {
          "output_type": "execute_result",
          "data": {
            "text/plain": [
              "(60, 4)"
            ]
          },
          "metadata": {},
          "execution_count": 14
        }
      ]
    },
    {
      "cell_type": "markdown",
      "source": [
        "### **Train-Test Set**\n",
        "\n",
        "There is no need to drop any feature. However, train-test dataset splitting needs to be done."
      ],
      "metadata": {
        "id": "uMwjP0TbDLhh"
      }
    },
    {
      "cell_type": "code",
      "source": [
        "# Defining X and y\n",
        "X = df_train_test.drop(['Class','Date'],axis=1)\n",
        "y = pd.DataFrame(df_train_test['Class'])"
      ],
      "metadata": {
        "id": "9XjrbninDcfC"
      },
      "execution_count": 15,
      "outputs": []
    },
    {
      "cell_type": "markdown",
      "source": [
        "#### **Imbalanced Data**\n",
        "\n",
        "Imbalanced Data should be handled first to reduce the bias of the model results, especially for the label/target. The Imbalanced Data will be done by Oversampling."
      ],
      "metadata": {
        "id": "lbWw40o8EDsG"
      }
    },
    {
      "cell_type": "code",
      "source": [
        "print('Original number of target: ', len(y))"
      ],
      "metadata": {
        "colab": {
          "base_uri": "https://localhost:8080/"
        },
        "id": "654zZai8EQ8T",
        "outputId": "734e34e0-e9e0-480d-b55c-0ddcc7f7239d"
      },
      "execution_count": 16,
      "outputs": [
        {
          "output_type": "stream",
          "name": "stdout",
          "text": [
            "Original number of target:  60\n"
          ]
        }
      ]
    },
    {
      "cell_type": "code",
      "source": [
        "# Define Oversampling\n",
        "from imblearn.over_sampling import SMOTE\n",
        "\n",
        "# Define Oversampling\n",
        "smote = SMOTE(random_state=42)\n",
        "\n",
        "# Fit an resample\n",
        "X, y = smote.fit_resample(X, y)"
      ],
      "metadata": {
        "id": "dOaylEVMGJHS"
      },
      "execution_count": 17,
      "outputs": []
    },
    {
      "cell_type": "code",
      "source": [
        "print('New number of target after oversampling: ', len(y))"
      ],
      "metadata": {
        "colab": {
          "base_uri": "https://localhost:8080/"
        },
        "id": "m8aGSI-PGdIL",
        "outputId": "a2ad2e32-ce3f-4782-c28b-3ebd4a76d115"
      },
      "execution_count": 18,
      "outputs": [
        {
          "output_type": "stream",
          "name": "stdout",
          "text": [
            "New number of target after oversampling:  68\n"
          ]
        }
      ]
    },
    {
      "cell_type": "code",
      "source": [
        "# Number of Class after oversampling\n",
        "y.Class.value_counts()"
      ],
      "metadata": {
        "colab": {
          "base_uri": "https://localhost:8080/"
        },
        "id": "VynmMC01Gm2p",
        "outputId": "98bee8d6-16b4-4f0b-c81b-5b91654be276"
      },
      "execution_count": 19,
      "outputs": [
        {
          "output_type": "execute_result",
          "data": {
            "text/plain": [
              "1    34\n",
              "0    34\n",
              "Name: Class, dtype: int64"
            ]
          },
          "metadata": {},
          "execution_count": 19
        }
      ]
    },
    {
      "cell_type": "markdown",
      "source": [
        "#### **Train-Test Set Splitting**"
      ],
      "metadata": {
        "id": "Ztd_l-BfG0ce"
      }
    },
    {
      "cell_type": "code",
      "source": [
        "# Splitting dataset into training and testing set\n",
        "X_train, X_test, y_train, y_test = train_test_split(X, y,\n",
        "                                                    test_size=0.3,\n",
        "                                                    random_state=3)\n",
        "\n",
        "print('Train size : ', X_train.shape)\n",
        "print('Test size. : ', X_test.shape)\n",
        "\n",
        "X_train.head()"
      ],
      "metadata": {
        "colab": {
          "base_uri": "https://localhost:8080/",
          "height": 241
        },
        "id": "6O8073W2Gyg-",
        "outputId": "6f21d83b-dc8c-49a4-c34b-3d93a026babb"
      },
      "execution_count": 20,
      "outputs": [
        {
          "output_type": "stream",
          "name": "stdout",
          "text": [
            "Train size :  (47, 2)\n",
            "Test size. :  (21, 2)\n"
          ]
        },
        {
          "output_type": "execute_result",
          "data": {
            "text/plain": [
              "        Present        Next\n",
              "18  2632.960000  2627.22000\n",
              "9   2630.850000  2636.25000\n",
              "36  2633.910000  2644.54000\n",
              "64  2611.895426  2608.42174\n",
              "51  2715.650000  2711.60000"
            ],
            "text/html": [
              "\n",
              "  <div id=\"df-935eb435-0c8c-483e-ad51-1ea49217a020\">\n",
              "    <div class=\"colab-df-container\">\n",
              "      <div>\n",
              "<style scoped>\n",
              "    .dataframe tbody tr th:only-of-type {\n",
              "        vertical-align: middle;\n",
              "    }\n",
              "\n",
              "    .dataframe tbody tr th {\n",
              "        vertical-align: top;\n",
              "    }\n",
              "\n",
              "    .dataframe thead th {\n",
              "        text-align: right;\n",
              "    }\n",
              "</style>\n",
              "<table border=\"1\" class=\"dataframe\">\n",
              "  <thead>\n",
              "    <tr style=\"text-align: right;\">\n",
              "      <th></th>\n",
              "      <th>Present</th>\n",
              "      <th>Next</th>\n",
              "    </tr>\n",
              "  </thead>\n",
              "  <tbody>\n",
              "    <tr>\n",
              "      <th>18</th>\n",
              "      <td>2632.960000</td>\n",
              "      <td>2627.22000</td>\n",
              "    </tr>\n",
              "    <tr>\n",
              "      <th>9</th>\n",
              "      <td>2630.850000</td>\n",
              "      <td>2636.25000</td>\n",
              "    </tr>\n",
              "    <tr>\n",
              "      <th>36</th>\n",
              "      <td>2633.910000</td>\n",
              "      <td>2644.54000</td>\n",
              "    </tr>\n",
              "    <tr>\n",
              "      <th>64</th>\n",
              "      <td>2611.895426</td>\n",
              "      <td>2608.42174</td>\n",
              "    </tr>\n",
              "    <tr>\n",
              "      <th>51</th>\n",
              "      <td>2715.650000</td>\n",
              "      <td>2711.60000</td>\n",
              "    </tr>\n",
              "  </tbody>\n",
              "</table>\n",
              "</div>\n",
              "      <button class=\"colab-df-convert\" onclick=\"convertToInteractive('df-935eb435-0c8c-483e-ad51-1ea49217a020')\"\n",
              "              title=\"Convert this dataframe to an interactive table.\"\n",
              "              style=\"display:none;\">\n",
              "        \n",
              "  <svg xmlns=\"http://www.w3.org/2000/svg\" height=\"24px\"viewBox=\"0 0 24 24\"\n",
              "       width=\"24px\">\n",
              "    <path d=\"M0 0h24v24H0V0z\" fill=\"none\"/>\n",
              "    <path d=\"M18.56 5.44l.94 2.06.94-2.06 2.06-.94-2.06-.94-.94-2.06-.94 2.06-2.06.94zm-11 1L8.5 8.5l.94-2.06 2.06-.94-2.06-.94L8.5 2.5l-.94 2.06-2.06.94zm10 10l.94 2.06.94-2.06 2.06-.94-2.06-.94-.94-2.06-.94 2.06-2.06.94z\"/><path d=\"M17.41 7.96l-1.37-1.37c-.4-.4-.92-.59-1.43-.59-.52 0-1.04.2-1.43.59L10.3 9.45l-7.72 7.72c-.78.78-.78 2.05 0 2.83L4 21.41c.39.39.9.59 1.41.59.51 0 1.02-.2 1.41-.59l7.78-7.78 2.81-2.81c.8-.78.8-2.07 0-2.86zM5.41 20L4 18.59l7.72-7.72 1.47 1.35L5.41 20z\"/>\n",
              "  </svg>\n",
              "      </button>\n",
              "      \n",
              "  <style>\n",
              "    .colab-df-container {\n",
              "      display:flex;\n",
              "      flex-wrap:wrap;\n",
              "      gap: 12px;\n",
              "    }\n",
              "\n",
              "    .colab-df-convert {\n",
              "      background-color: #E8F0FE;\n",
              "      border: none;\n",
              "      border-radius: 50%;\n",
              "      cursor: pointer;\n",
              "      display: none;\n",
              "      fill: #1967D2;\n",
              "      height: 32px;\n",
              "      padding: 0 0 0 0;\n",
              "      width: 32px;\n",
              "    }\n",
              "\n",
              "    .colab-df-convert:hover {\n",
              "      background-color: #E2EBFA;\n",
              "      box-shadow: 0px 1px 2px rgba(60, 64, 67, 0.3), 0px 1px 3px 1px rgba(60, 64, 67, 0.15);\n",
              "      fill: #174EA6;\n",
              "    }\n",
              "\n",
              "    [theme=dark] .colab-df-convert {\n",
              "      background-color: #3B4455;\n",
              "      fill: #D2E3FC;\n",
              "    }\n",
              "\n",
              "    [theme=dark] .colab-df-convert:hover {\n",
              "      background-color: #434B5C;\n",
              "      box-shadow: 0px 1px 3px 1px rgba(0, 0, 0, 0.15);\n",
              "      filter: drop-shadow(0px 1px 2px rgba(0, 0, 0, 0.3));\n",
              "      fill: #FFFFFF;\n",
              "    }\n",
              "  </style>\n",
              "\n",
              "      <script>\n",
              "        const buttonEl =\n",
              "          document.querySelector('#df-935eb435-0c8c-483e-ad51-1ea49217a020 button.colab-df-convert');\n",
              "        buttonEl.style.display =\n",
              "          google.colab.kernel.accessAllowed ? 'block' : 'none';\n",
              "\n",
              "        async function convertToInteractive(key) {\n",
              "          const element = document.querySelector('#df-935eb435-0c8c-483e-ad51-1ea49217a020');\n",
              "          const dataTable =\n",
              "            await google.colab.kernel.invokeFunction('convertToInteractive',\n",
              "                                                     [key], {});\n",
              "          if (!dataTable) return;\n",
              "\n",
              "          const docLinkHtml = 'Like what you see? Visit the ' +\n",
              "            '<a target=\"_blank\" href=https://colab.research.google.com/notebooks/data_table.ipynb>data table notebook</a>'\n",
              "            + ' to learn more about interactive tables.';\n",
              "          element.innerHTML = '';\n",
              "          dataTable['output_type'] = 'display_data';\n",
              "          await google.colab.output.renderOutput(dataTable, element);\n",
              "          const docLink = document.createElement('div');\n",
              "          docLink.innerHTML = docLinkHtml;\n",
              "          element.appendChild(docLink);\n",
              "        }\n",
              "      </script>\n",
              "    </div>\n",
              "  </div>\n",
              "  "
            ]
          },
          "metadata": {},
          "execution_count": 20
        }
      ]
    },
    {
      "cell_type": "markdown",
      "source": [
        "### **Pipelines**"
      ],
      "metadata": {
        "id": "jW9jPJYsHVRo"
      }
    },
    {
      "cell_type": "markdown",
      "source": [
        "#### **Data Skewness**\n",
        "\n",
        "Numerical scaler that will be used is MinMaxScaler because of data skewnesses are more than 0.5, which is not even Normal at all."
      ],
      "metadata": {
        "id": "2ZnShVNBHbg9"
      }
    },
    {
      "cell_type": "code",
      "source": [
        "X_train.skew()"
      ],
      "metadata": {
        "colab": {
          "base_uri": "https://localhost:8080/"
        },
        "id": "46-bR3LFHjtK",
        "outputId": "d1a0b330-7071-468b-8912-c569d2f9233f"
      },
      "execution_count": 21,
      "outputs": [
        {
          "output_type": "execute_result",
          "data": {
            "text/plain": [
              "Present    0.453590\n",
              "Next       0.369405\n",
              "dtype: float64"
            ]
          },
          "metadata": {},
          "execution_count": 21
        }
      ]
    },
    {
      "cell_type": "markdown",
      "source": [
        "#### **Making Pipelines**"
      ],
      "metadata": {
        "id": "dTQc78wBHuhn"
      }
    },
    {
      "cell_type": "code",
      "source": [
        "num_columns = ['Present', 'Next']\n",
        "print('Numerical columns  : ', num_columns)"
      ],
      "metadata": {
        "colab": {
          "base_uri": "https://localhost:8080/"
        },
        "id": "FLo6oc43PReU",
        "outputId": "efa7de8a-910f-4412-acbf-e9e8e94b1e6f"
      },
      "execution_count": 22,
      "outputs": [
        {
          "output_type": "stream",
          "name": "stdout",
          "text": [
            "Numerical columns  :  ['Present', 'Next']\n"
          ]
        }
      ]
    },
    {
      "cell_type": "code",
      "source": [
        "# Preprocessing for numerical data\n",
        "numerical_pipe = Pipeline(steps=\n",
        "                          [('scaler', MinMaxScaler())])\n",
        "\n",
        "# Bundle preprocessing for numerical and categorical data\n",
        "preprocessor = ColumnTransformer(\n",
        "    transformers=[\n",
        "        ('num', numerical_pipe, num_columns)\n",
        "    ])\n",
        "preprocessor"
      ],
      "metadata": {
        "colab": {
          "base_uri": "https://localhost:8080/"
        },
        "id": "_2ssNTMrHZWD",
        "outputId": "dbf5c115-2f09-49d0-8a10-063a6dcae460"
      },
      "execution_count": 23,
      "outputs": [
        {
          "output_type": "execute_result",
          "data": {
            "text/plain": [
              "ColumnTransformer(transformers=[('num',\n",
              "                                 Pipeline(steps=[('scaler', MinMaxScaler())]),\n",
              "                                 ['Present', 'Next'])])"
            ]
          },
          "metadata": {},
          "execution_count": 23
        }
      ]
    },
    {
      "cell_type": "markdown",
      "source": [
        "## **Model Definition**\n",
        "\n",
        "1. Regression (Linear Regression): to find the predicted value\n",
        "2. Classification (Logistic Regression, SVC, Decision Tree, and Ensambles Learning)"
      ],
      "metadata": {
        "id": "uR1IN_B-JDE7"
      }
    },
    {
      "cell_type": "markdown",
      "source": [
        "### **Liniear Regression**"
      ],
      "metadata": {
        "id": "t3QVsf-IJU9r"
      }
    },
    {
      "cell_type": "code",
      "source": [
        "# Training using Linear Regression\n",
        "linreg = LinearRegression()"
      ],
      "metadata": {
        "id": "QdxDg3HBJF7K"
      },
      "execution_count": 88,
      "outputs": []
    },
    {
      "cell_type": "code",
      "source": [
        "# Bundle preprocessing and modeling code in a pipeline\n",
        "pipe_lin = Pipeline(steps=[('preprocessor', preprocessor),\n",
        "                           ('linreg', linreg)\n",
        "                             ])\n",
        "\n",
        "pipe_lin"
      ],
      "metadata": {
        "colab": {
          "base_uri": "https://localhost:8080/"
        },
        "id": "RO_JFBVANFM7",
        "outputId": "2c05126f-a1dc-4510-cbef-1ed0f3e7f5d4"
      },
      "execution_count": 89,
      "outputs": [
        {
          "output_type": "execute_result",
          "data": {
            "text/plain": [
              "Pipeline(steps=[('preprocessor',\n",
              "                 ColumnTransformer(transformers=[('num',\n",
              "                                                  Pipeline(steps=[('scaler',\n",
              "                                                                   MinMaxScaler())]),\n",
              "                                                  ['Present', 'Next'])])),\n",
              "                ('linreg', LinearRegression())])"
            ]
          },
          "metadata": {},
          "execution_count": 89
        }
      ]
    },
    {
      "cell_type": "markdown",
      "source": [
        "### **Classification**"
      ],
      "metadata": {
        "id": "eknoMSvFJb_J"
      }
    },
    {
      "cell_type": "markdown",
      "source": [
        "#### **Logistic Regression**"
      ],
      "metadata": {
        "id": "xHn9NgcRJeDS"
      }
    },
    {
      "cell_type": "code",
      "source": [
        "# Defining Logistic Regression\n",
        "logreg = LogisticRegression(random_state=3)"
      ],
      "metadata": {
        "id": "ocOBdgBLJgRS"
      },
      "execution_count": 24,
      "outputs": []
    },
    {
      "cell_type": "code",
      "source": [
        "# Bundle preprocessing and modeling code in a pipeline\n",
        "pipe_log = Pipeline(steps=[('preprocessor', preprocessor),\n",
        "                           ('logreg', logreg)\n",
        "                             ])\n",
        "\n",
        "pipe_log"
      ],
      "metadata": {
        "colab": {
          "base_uri": "https://localhost:8080/"
        },
        "id": "R-q9iKyMJr2l",
        "outputId": "fdfb9dad-2030-4d97-a777-31403c4d3089"
      },
      "execution_count": 25,
      "outputs": [
        {
          "output_type": "execute_result",
          "data": {
            "text/plain": [
              "Pipeline(steps=[('preprocessor',\n",
              "                 ColumnTransformer(transformers=[('num',\n",
              "                                                  Pipeline(steps=[('scaler',\n",
              "                                                                   MinMaxScaler())]),\n",
              "                                                  ['Present', 'Next'])])),\n",
              "                ('logreg', LogisticRegression(random_state=3))])"
            ]
          },
          "metadata": {},
          "execution_count": 25
        }
      ]
    },
    {
      "cell_type": "markdown",
      "source": [
        "#### **SVC**"
      ],
      "metadata": {
        "id": "lhCtsWn1Jvas"
      }
    },
    {
      "cell_type": "code",
      "source": [
        "# SVC Classifier model\n",
        "svm = SVC(random_state=3)"
      ],
      "metadata": {
        "id": "I08b1RT_J237"
      },
      "execution_count": 26,
      "outputs": []
    },
    {
      "cell_type": "code",
      "source": [
        "# Bundle preprocessing and modeling code in a pipeline\n",
        "pipe_svm = Pipeline(steps=[('preprocessor', preprocessor),\n",
        "                           ('svm', svm)\n",
        "                             ])\n",
        "\n",
        "pipe_svm"
      ],
      "metadata": {
        "colab": {
          "base_uri": "https://localhost:8080/"
        },
        "id": "1jPsb60mJ9kH",
        "outputId": "863b7304-1a06-4954-b314-722c6c5940ef"
      },
      "execution_count": 27,
      "outputs": [
        {
          "output_type": "execute_result",
          "data": {
            "text/plain": [
              "Pipeline(steps=[('preprocessor',\n",
              "                 ColumnTransformer(transformers=[('num',\n",
              "                                                  Pipeline(steps=[('scaler',\n",
              "                                                                   MinMaxScaler())]),\n",
              "                                                  ['Present', 'Next'])])),\n",
              "                ('svm', SVC(random_state=3))])"
            ]
          },
          "metadata": {},
          "execution_count": 27
        }
      ]
    },
    {
      "cell_type": "markdown",
      "source": [
        "#### **Decision Tree**"
      ],
      "metadata": {
        "id": "h5t7xoVmJ-xA"
      }
    },
    {
      "cell_type": "code",
      "source": [
        "# Defining DecisionTreeClassifier\n",
        "dt = DecisionTreeClassifier(random_state=3)"
      ],
      "metadata": {
        "id": "FzmH9fsmKB-L"
      },
      "execution_count": 28,
      "outputs": []
    },
    {
      "cell_type": "code",
      "source": [
        "# Bundle preprocessing and modeling code in a pipeline\n",
        "pipe_dt = Pipeline(steps=[('preprocessor', preprocessor),\n",
        "                           ('dt', dt)\n",
        "                             ])\n",
        "\n",
        "pipe_dt"
      ],
      "metadata": {
        "colab": {
          "base_uri": "https://localhost:8080/"
        },
        "id": "szV26-ScKGha",
        "outputId": "7b3d98df-86bf-4f3d-e47d-d8de96a3ceef"
      },
      "execution_count": 29,
      "outputs": [
        {
          "output_type": "execute_result",
          "data": {
            "text/plain": [
              "Pipeline(steps=[('preprocessor',\n",
              "                 ColumnTransformer(transformers=[('num',\n",
              "                                                  Pipeline(steps=[('scaler',\n",
              "                                                                   MinMaxScaler())]),\n",
              "                                                  ['Present', 'Next'])])),\n",
              "                ('dt', DecisionTreeClassifier(random_state=3))])"
            ]
          },
          "metadata": {},
          "execution_count": 29
        }
      ]
    },
    {
      "cell_type": "markdown",
      "source": [
        "#### **Ensambles Learning: Random Forest**"
      ],
      "metadata": {
        "id": "iuI8M_lYKHoz"
      }
    },
    {
      "cell_type": "code",
      "source": [
        "# Define RandomForestClassifier \n",
        "rfc = RandomForestClassifier(random_state=3)"
      ],
      "metadata": {
        "id": "7SpjCBQkKLKi"
      },
      "execution_count": 30,
      "outputs": []
    },
    {
      "cell_type": "code",
      "source": [
        "# Bundle preprocessing and modeling code in a pipeline\n",
        "pipe_rfc = Pipeline(steps=[('preprocessor', preprocessor),\n",
        "                           ('rfc', rfc)\n",
        "                             ])\n",
        "\n",
        "pipe_rfc"
      ],
      "metadata": {
        "colab": {
          "base_uri": "https://localhost:8080/"
        },
        "id": "k3CTHAbvKORI",
        "outputId": "0f6e5458-42e8-4b14-8437-038cef8c21a8"
      },
      "execution_count": 31,
      "outputs": [
        {
          "output_type": "execute_result",
          "data": {
            "text/plain": [
              "Pipeline(steps=[('preprocessor',\n",
              "                 ColumnTransformer(transformers=[('num',\n",
              "                                                  Pipeline(steps=[('scaler',\n",
              "                                                                   MinMaxScaler())]),\n",
              "                                                  ['Present', 'Next'])])),\n",
              "                ('rfc', RandomForestClassifier(random_state=3))])"
            ]
          },
          "metadata": {},
          "execution_count": 31
        }
      ]
    },
    {
      "cell_type": "markdown",
      "source": [
        "## **Model Training**"
      ],
      "metadata": {
        "id": "OXWnyfk8KP9N"
      }
    },
    {
      "cell_type": "markdown",
      "source": [
        "### **Linear Regression**"
      ],
      "metadata": {
        "id": "WtwJ7KnTKSgM"
      }
    },
    {
      "cell_type": "code",
      "source": [
        "# Default Parameters\n",
        "# Fit model \n",
        "pipe_lin.fit(X_train, y_train)\n",
        "\n",
        "# Prediction, using X_train\n",
        "y_train_lin = pipe_lin.predict(X_train)\n",
        "\n",
        "# Prediction, using X_test\n",
        "y_test_lin = pipe_lin.predict(X_test)"
      ],
      "metadata": {
        "id": "0M_ufr3UKVw-"
      },
      "execution_count": 90,
      "outputs": []
    },
    {
      "cell_type": "markdown",
      "source": [
        "**Cross-validation**"
      ],
      "metadata": {
        "id": "4I48aFMrM6NM"
      }
    },
    {
      "cell_type": "code",
      "source": [
        "# Cross Validation using `cross_val_score` for train set\n",
        "train_cross_val = cross_val_score(pipe_lin, \n",
        "                                  X, \n",
        "                                  y, \n",
        "                                  cv=5, \n",
        "                                  scoring='r2')\n",
        "\n",
        "print(\"Accuracy Score All - Cross Validation :\", train_cross_val)\n",
        "print(\"Mean - Cross-Validation               :\", train_cross_val.mean())\n",
        "print(\"Standard Deviation Cross-Validation   :\", train_cross_val.std())"
      ],
      "metadata": {
        "colab": {
          "base_uri": "https://localhost:8080/"
        },
        "id": "_SRLguH4NRM9",
        "outputId": "39c7034a-2f8c-48fd-c707-c1c832d85888"
      },
      "execution_count": 93,
      "outputs": [
        {
          "output_type": "stream",
          "name": "stdout",
          "text": [
            "Accuracy Score All - Cross Validation : [0.6976993  0.23479415 0.33952168 0.52186107 0.66785873]\n",
            "Mean - Cross-Validation               : 0.4923469856903794\n",
            "Standard Deviation Cross-Validation   : 0.1808502490293946\n"
          ]
        }
      ]
    },
    {
      "cell_type": "markdown",
      "source": [
        "### **Classification**"
      ],
      "metadata": {
        "id": "yeJ_typvKV_3"
      }
    },
    {
      "cell_type": "markdown",
      "source": [
        "#### **Logistic Regression**"
      ],
      "metadata": {
        "id": "rGmNLM4oKYjl"
      }
    },
    {
      "cell_type": "code",
      "source": [
        "# Default Parameters\n",
        "# Fit model \n",
        "pipe_log.fit(X_train, y_train)\n",
        "\n",
        "# Prediction, using X_train\n",
        "y_train_log = pipe_log.predict(X_train)\n",
        "\n",
        "# Prediction, using X_test\n",
        "y_test_log = pipe_log.predict(X_test)"
      ],
      "metadata": {
        "id": "lF_AmibLKX7N"
      },
      "execution_count": 32,
      "outputs": []
    },
    {
      "cell_type": "markdown",
      "source": [
        "**Cross-Validation**"
      ],
      "metadata": {
        "id": "nhpcmqc3QyKU"
      }
    },
    {
      "cell_type": "code",
      "source": [
        "# Cross Validation using `cross_val_score` for train set\n",
        "train_cross_val = cross_val_score(pipe_log, \n",
        "                                  X, \n",
        "                                  y, \n",
        "                                  cv=5, \n",
        "                                  scoring='f1')\n",
        "\n",
        "print(\"Accuracy Score All - Cross Validation :\", train_cross_val)\n",
        "print(\"Mean - Cross-Validation               :\", train_cross_val.mean())\n",
        "print(\"Standard Deviation Cross-Validation   :\", train_cross_val.std())"
      ],
      "metadata": {
        "colab": {
          "base_uri": "https://localhost:8080/"
        },
        "id": "CCFnDqC0QzqY",
        "outputId": "7032a7e7-3f42-4888-a954-fb15f4210718"
      },
      "execution_count": 33,
      "outputs": [
        {
          "output_type": "stream",
          "name": "stdout",
          "text": [
            "Accuracy Score All - Cross Validation : [0.25       0.         0.72727273 0.73684211 0.8       ]\n",
            "Mean - Cross-Validation               : 0.502822966507177\n",
            "Standard Deviation Cross-Validation   : 0.3194392679956442\n"
          ]
        }
      ]
    },
    {
      "cell_type": "markdown",
      "source": [
        "**Hyperparameter Tuning**"
      ],
      "metadata": {
        "id": "2pviaF04Rr4s"
      }
    },
    {
      "cell_type": "code",
      "source": [
        "# Define Hyperparameters for LogReg\n",
        "solver = ['newton-cg', 'lbfgs', 'liblinear', 'sag', 'saga']\n",
        "max_iter = [int(x) for x in np.linspace(start=10, stop=100, num = 7)]\n",
        "penalty = ['l1', 'l2', 'elasticnet', 'none']\n",
        "\n",
        "param_grid_log = {'logreg__solver': solver,\n",
        "              'logreg__max_iter':max_iter,\n",
        "              'logreg__penalty': penalty}\n",
        "param_grid_log"
      ],
      "metadata": {
        "colab": {
          "base_uri": "https://localhost:8080/"
        },
        "id": "IBb3StdVRtez",
        "outputId": "cfde7e6f-abca-437f-90a7-a35cc68089f0"
      },
      "execution_count": 34,
      "outputs": [
        {
          "output_type": "execute_result",
          "data": {
            "text/plain": [
              "{'logreg__solver': ['newton-cg', 'lbfgs', 'liblinear', 'sag', 'saga'],\n",
              " 'logreg__max_iter': [10, 25, 40, 55, 70, 85, 100],\n",
              " 'logreg__penalty': ['l1', 'l2', 'elasticnet', 'none']}"
            ]
          },
          "metadata": {},
          "execution_count": 34
        }
      ]
    },
    {
      "cell_type": "code",
      "source": [
        "# Train with Grid Search\n",
        "%%time\n",
        "logreg_gridcv = GridSearchCV(pipe_log,\n",
        "                          param_grid_log,\n",
        "                          n_jobs=-1,\n",
        "                          verbose=2,\n",
        "                          scoring='f1')\n",
        "\n",
        "logreg_gridcv.fit(X_train, y_train)"
      ],
      "metadata": {
        "colab": {
          "base_uri": "https://localhost:8080/"
        },
        "id": "D8Rgjy-GR1B8",
        "outputId": "ab386ea1-63f0-49c1-fb9c-7a3f460a967a"
      },
      "execution_count": 35,
      "outputs": [
        {
          "output_type": "stream",
          "name": "stdout",
          "text": [
            "Fitting 5 folds for each of 140 candidates, totalling 700 fits\n",
            "CPU times: user 1.13 s, sys: 109 ms, total: 1.24 s\n",
            "Wall time: 12.8 s\n"
          ]
        },
        {
          "output_type": "execute_result",
          "data": {
            "text/plain": [
              "GridSearchCV(estimator=Pipeline(steps=[('preprocessor',\n",
              "                                        ColumnTransformer(transformers=[('num',\n",
              "                                                                         Pipeline(steps=[('scaler',\n",
              "                                                                                          MinMaxScaler())]),\n",
              "                                                                         ['Present',\n",
              "                                                                          'Next'])])),\n",
              "                                       ('logreg',\n",
              "                                        LogisticRegression(random_state=3))]),\n",
              "             n_jobs=-1,\n",
              "             param_grid={'logreg__max_iter': [10, 25, 40, 55, 70, 85, 100],\n",
              "                         'logreg__penalty': ['l1', 'l2', 'elasticnet', 'none'],\n",
              "                         'logreg__solver': ['newton-cg', 'lbfgs', 'liblinear',\n",
              "                                            'sag', 'saga']},\n",
              "             scoring='f1', verbose=2)"
            ]
          },
          "metadata": {},
          "execution_count": 35
        }
      ]
    },
    {
      "cell_type": "code",
      "source": [
        "# Display Best Hyperparamters from Grid Search for Train Set\n",
        "logreg_gridcv.best_params_"
      ],
      "metadata": {
        "colab": {
          "base_uri": "https://localhost:8080/"
        },
        "id": "juRw9zRKR7Sq",
        "outputId": "0b93866d-9052-472e-8d1d-f17ede7fa7ff"
      },
      "execution_count": 36,
      "outputs": [
        {
          "output_type": "execute_result",
          "data": {
            "text/plain": [
              "{'logreg__max_iter': 10,\n",
              " 'logreg__penalty': 'none',\n",
              " 'logreg__solver': 'newton-cg'}"
            ]
          },
          "metadata": {},
          "execution_count": 36
        }
      ]
    },
    {
      "cell_type": "markdown",
      "source": [
        "**Redefine Model**"
      ],
      "metadata": {
        "id": "XrkN_WzdR-_W"
      }
    },
    {
      "cell_type": "code",
      "source": [
        "# Redefining Logistic Regression with best estimator\n",
        "logreg_gridcv_best = logreg_gridcv.best_estimator_"
      ],
      "metadata": {
        "id": "icBNmz43SA3q"
      },
      "execution_count": 37,
      "outputs": []
    },
    {
      "cell_type": "code",
      "source": [
        "# Prediction Final\n",
        "y_train_log_final = logreg_gridcv_best.predict(X_train)\n",
        "y_test_log_final = logreg_gridcv_best.predict(X_test)"
      ],
      "metadata": {
        "id": "TluIW3wgSDGB"
      },
      "execution_count": 38,
      "outputs": []
    },
    {
      "cell_type": "markdown",
      "source": [
        "#### **SVC**"
      ],
      "metadata": {
        "id": "7WLUbEh8Qneh"
      }
    },
    {
      "cell_type": "code",
      "source": [
        "# Default Parameters\n",
        "# Fit model \n",
        "pipe_svm.fit(X_train, y_train)\n",
        "\n",
        "# Prediction, using X_train\n",
        "y_train_svm = pipe_svm.predict(X_train)\n",
        "\n",
        "# Prediction, using X_test\n",
        "y_test_svm = pipe_svm.predict(X_test)"
      ],
      "metadata": {
        "id": "nNSydEinQosf"
      },
      "execution_count": 39,
      "outputs": []
    },
    {
      "cell_type": "markdown",
      "source": [
        "**Cross-validation**"
      ],
      "metadata": {
        "id": "RJN9RKaxREeH"
      }
    },
    {
      "cell_type": "code",
      "source": [
        "# Cross Validation using `cross_val_score` for train set\n",
        "train_cross_val = cross_val_score(pipe_svm, \n",
        "                                  X, \n",
        "                                  y, \n",
        "                                  cv=5, \n",
        "                                  scoring='f1')\n",
        "\n",
        "print(\"Accuracy Score All - Cross Validation :\", train_cross_val)\n",
        "print(\"Mean - Cross-Validation               :\", train_cross_val.mean())\n",
        "print(\"Standard Deviation Cross-Validation   :\", train_cross_val.std())"
      ],
      "metadata": {
        "colab": {
          "base_uri": "https://localhost:8080/"
        },
        "id": "d4Z7kzEdRG_c",
        "outputId": "a38294a8-475c-41d5-da6d-94f564119518"
      },
      "execution_count": 40,
      "outputs": [
        {
          "output_type": "stream",
          "name": "stdout",
          "text": [
            "Accuracy Score All - Cross Validation : [0.4        0.         0.         0.73684211 0.76923077]\n",
            "Mean - Cross-Validation               : 0.3812145748987854\n",
            "Standard Deviation Cross-Validation   : 0.3370547444685196\n"
          ]
        }
      ]
    },
    {
      "cell_type": "markdown",
      "source": [
        "**Hyperparameter Tuning**"
      ],
      "metadata": {
        "id": "j449RtmdScvm"
      }
    },
    {
      "cell_type": "code",
      "source": [
        "# Define Hyperparameters\n",
        "C = [int(x) for x in np.linspace(start=10, stop=100, num = 7)]\n",
        "kernel = ['linear', 'poly', 'rbf', 'sigmoid', 'precomputed']\n",
        "gamma = ['scale', 'auto']\n",
        "decision_function_shape = ['ovo', 'ovr']\n",
        "\n",
        "param_grid_svm = {'svm__C': C,\n",
        "              'svm__kernel':kernel,\n",
        "              'svm__gamma': gamma,\n",
        "              'svm__decision_function_shape': decision_function_shape}\n",
        "param_grid_svm"
      ],
      "metadata": {
        "colab": {
          "base_uri": "https://localhost:8080/"
        },
        "id": "Qrct7df5SdGp",
        "outputId": "0865b1e0-ead0-4594-bca7-90371de0cee4"
      },
      "execution_count": 41,
      "outputs": [
        {
          "output_type": "execute_result",
          "data": {
            "text/plain": [
              "{'svm__C': [10, 25, 40, 55, 70, 85, 100],\n",
              " 'svm__kernel': ['linear', 'poly', 'rbf', 'sigmoid', 'precomputed'],\n",
              " 'svm__gamma': ['scale', 'auto'],\n",
              " 'svm__decision_function_shape': ['ovo', 'ovr']}"
            ]
          },
          "metadata": {},
          "execution_count": 41
        }
      ]
    },
    {
      "cell_type": "code",
      "source": [
        "# Train with Grid Search\n",
        "%%time\n",
        "svm_gridcv = GridSearchCV(pipe_svm,\n",
        "                          param_grid_svm,\n",
        "                          n_jobs=-1,\n",
        "                          verbose=2,\n",
        "                          scoring='f1')\n",
        "\n",
        "svm_gridcv.fit(X_train, y_train)"
      ],
      "metadata": {
        "colab": {
          "base_uri": "https://localhost:8080/"
        },
        "id": "KoVlXD8ASiXl",
        "outputId": "7bed11b3-b126-4545-dbd0-08153f2e6e28"
      },
      "execution_count": 42,
      "outputs": [
        {
          "output_type": "stream",
          "name": "stdout",
          "text": [
            "Fitting 5 folds for each of 140 candidates, totalling 700 fits\n",
            "CPU times: user 1.1 s, sys: 24.4 ms, total: 1.13 s\n",
            "Wall time: 9.45 s\n"
          ]
        },
        {
          "output_type": "execute_result",
          "data": {
            "text/plain": [
              "GridSearchCV(estimator=Pipeline(steps=[('preprocessor',\n",
              "                                        ColumnTransformer(transformers=[('num',\n",
              "                                                                         Pipeline(steps=[('scaler',\n",
              "                                                                                          MinMaxScaler())]),\n",
              "                                                                         ['Present',\n",
              "                                                                          'Next'])])),\n",
              "                                       ('svm', SVC(random_state=3))]),\n",
              "             n_jobs=-1,\n",
              "             param_grid={'svm__C': [10, 25, 40, 55, 70, 85, 100],\n",
              "                         'svm__decision_function_shape': ['ovo', 'ovr'],\n",
              "                         'svm__gamma': ['scale', 'auto'],\n",
              "                         'svm__kernel': ['linear', 'poly', 'rbf', 'sigmoid',\n",
              "                                         'precomputed']},\n",
              "             scoring='f1', verbose=2)"
            ]
          },
          "metadata": {},
          "execution_count": 42
        }
      ]
    },
    {
      "cell_type": "code",
      "source": [
        "# Display Best Hyperparamters from Grid Search for Train Set\n",
        "svm_gridcv.best_params_"
      ],
      "metadata": {
        "colab": {
          "base_uri": "https://localhost:8080/"
        },
        "id": "dZDyyf_oSmYd",
        "outputId": "6ba3ac41-7af5-4094-bf86-6c8c48d9e90d"
      },
      "execution_count": 43,
      "outputs": [
        {
          "output_type": "execute_result",
          "data": {
            "text/plain": [
              "{'svm__C': 100,\n",
              " 'svm__decision_function_shape': 'ovo',\n",
              " 'svm__gamma': 'scale',\n",
              " 'svm__kernel': 'rbf'}"
            ]
          },
          "metadata": {},
          "execution_count": 43
        }
      ]
    },
    {
      "cell_type": "markdown",
      "source": [
        "**Redefine Model**"
      ],
      "metadata": {
        "id": "donOqCwHSrOz"
      }
    },
    {
      "cell_type": "code",
      "source": [
        "# Redefining Logistic Regression with best estimator\n",
        "svm_gridcv_best = svm_gridcv.best_estimator_"
      ],
      "metadata": {
        "id": "8YgLWMu_Ssdy"
      },
      "execution_count": 44,
      "outputs": []
    },
    {
      "cell_type": "code",
      "source": [
        "# Prediction Final\n",
        "y_train_svm_final = svm_gridcv_best.predict(X_train)\n",
        "y_test_svm_final = svm_gridcv_best.predict(X_test)"
      ],
      "metadata": {
        "id": "p2juAgwYStZg"
      },
      "execution_count": 45,
      "outputs": []
    },
    {
      "cell_type": "markdown",
      "source": [
        "#### **Decision Tree**"
      ],
      "metadata": {
        "id": "gFNTfvRDRNPP"
      }
    },
    {
      "cell_type": "code",
      "source": [
        "# Default Parameters\n",
        "# Fit model \n",
        "pipe_dt.fit(X_train, y_train)\n",
        "\n",
        "# Prediction, using X_train\n",
        "y_train_dt = pipe_dt.predict(X_train)\n",
        "\n",
        "# Prediction, using X_test\n",
        "y_test_dt = pipe_dt.predict(X_test)"
      ],
      "metadata": {
        "id": "vu2CTWpkRPZd"
      },
      "execution_count": 46,
      "outputs": []
    },
    {
      "cell_type": "markdown",
      "source": [
        "**Cross-validation**"
      ],
      "metadata": {
        "id": "zWfzOzf7RQ6f"
      }
    },
    {
      "cell_type": "code",
      "source": [
        "# Cross Validation using `cross_val_score` for train set\n",
        "train_cross_val = cross_val_score(pipe_dt, \n",
        "                                  X, \n",
        "                                  y, \n",
        "                                  cv=5, \n",
        "                                  scoring='f1')\n",
        "\n",
        "print(\"Accuracy Score All - Cross Validation :\", train_cross_val)\n",
        "print(\"Mean - Cross-Validation               :\", train_cross_val.mean())\n",
        "print(\"Standard Deviation Cross-Validation   :\", train_cross_val.std())"
      ],
      "metadata": {
        "colab": {
          "base_uri": "https://localhost:8080/"
        },
        "id": "vob377v_RSvv",
        "outputId": "2a126a54-fe0b-41cb-86d6-7c788e29e9bc"
      },
      "execution_count": 47,
      "outputs": [
        {
          "output_type": "stream",
          "name": "stdout",
          "text": [
            "Accuracy Score All - Cross Validation : [0.57142857 0.16666667 0.4        0.77777778 0.25      ]\n",
            "Mean - Cross-Validation               : 0.43317460317460316\n",
            "Standard Deviation Cross-Validation   : 0.22070137174482599\n"
          ]
        }
      ]
    },
    {
      "cell_type": "markdown",
      "source": [
        "**Hyperparameter Tuning**"
      ],
      "metadata": {
        "id": "AkfNdKMUTIpe"
      }
    },
    {
      "cell_type": "code",
      "source": [
        "# Define Hyperparameters\n",
        "criterion = ['gini', 'entropy', 'log_loss']\n",
        "splitter = ['best', 'random']\n",
        "max_depth = [i for i in range(2, 12, 1)]\n",
        "min_samples_split = [i for i in range(2, 10, 2)]\n",
        "min_samples_leaf = [i for i in range(2, 10, 2)]\n",
        "\n",
        "param_grid_dt = {'dt__criterion': criterion,\n",
        "                  'dt__splitter': splitter,\n",
        "                  'dt__max_depth': max_depth,\n",
        "                  'dt__min_samples_split': min_samples_split,\n",
        "                  'dt__min_samples_leaf': min_samples_leaf}\n",
        "param_grid_dt"
      ],
      "metadata": {
        "colab": {
          "base_uri": "https://localhost:8080/"
        },
        "id": "furi4srKTLoc",
        "outputId": "b5e3467e-db05-4ba9-f25f-88dee86abdd8"
      },
      "execution_count": 48,
      "outputs": [
        {
          "output_type": "execute_result",
          "data": {
            "text/plain": [
              "{'dt__criterion': ['gini', 'entropy', 'log_loss'],\n",
              " 'dt__splitter': ['best', 'random'],\n",
              " 'dt__max_depth': [2, 3, 4, 5, 6, 7, 8, 9, 10, 11],\n",
              " 'dt__min_samples_split': [2, 4, 6, 8],\n",
              " 'dt__min_samples_leaf': [2, 4, 6, 8]}"
            ]
          },
          "metadata": {},
          "execution_count": 48
        }
      ]
    },
    {
      "cell_type": "code",
      "source": [
        "# Train with Grid Search\n",
        "%%time\n",
        "dt_gridcv = GridSearchCV(pipe_dt,\n",
        "                          param_grid_dt,\n",
        "                          n_jobs=-1,\n",
        "                          verbose=2,\n",
        "                          scoring='f1')\n",
        "\n",
        "dt_gridcv.fit(X_train, y_train)"
      ],
      "metadata": {
        "colab": {
          "base_uri": "https://localhost:8080/"
        },
        "id": "dYKdwCSUTPpU",
        "outputId": "92af14dd-b193-4708-ee98-84705938bbc0"
      },
      "execution_count": 49,
      "outputs": [
        {
          "output_type": "stream",
          "name": "stdout",
          "text": [
            "Fitting 5 folds for each of 960 candidates, totalling 4800 fits\n",
            "CPU times: user 6.71 s, sys: 116 ms, total: 6.82 s\n",
            "Wall time: 41.8 s\n"
          ]
        },
        {
          "output_type": "execute_result",
          "data": {
            "text/plain": [
              "GridSearchCV(estimator=Pipeline(steps=[('preprocessor',\n",
              "                                        ColumnTransformer(transformers=[('num',\n",
              "                                                                         Pipeline(steps=[('scaler',\n",
              "                                                                                          MinMaxScaler())]),\n",
              "                                                                         ['Present',\n",
              "                                                                          'Next'])])),\n",
              "                                       ('dt',\n",
              "                                        DecisionTreeClassifier(random_state=3))]),\n",
              "             n_jobs=-1,\n",
              "             param_grid={'dt__criterion': ['gini', 'entropy', 'log_loss'],\n",
              "                         'dt__max_depth': [2, 3, 4, 5, 6, 7, 8, 9, 10, 11],\n",
              "                         'dt__min_samples_leaf': [2, 4, 6, 8],\n",
              "                         'dt__min_samples_split': [2, 4, 6, 8],\n",
              "                         'dt__splitter': ['best', 'random']},\n",
              "             scoring='f1', verbose=2)"
            ]
          },
          "metadata": {},
          "execution_count": 49
        }
      ]
    },
    {
      "cell_type": "code",
      "source": [
        "# Display Best Hyperparamters from Grid Search for Train Set\n",
        "dt_gridcv.best_params_"
      ],
      "metadata": {
        "colab": {
          "base_uri": "https://localhost:8080/"
        },
        "id": "kFXohtu8TSDO",
        "outputId": "a825ebc3-4440-4224-99de-447ca3429dca"
      },
      "execution_count": 50,
      "outputs": [
        {
          "output_type": "execute_result",
          "data": {
            "text/plain": [
              "{'dt__criterion': 'entropy',\n",
              " 'dt__max_depth': 5,\n",
              " 'dt__min_samples_leaf': 2,\n",
              " 'dt__min_samples_split': 8,\n",
              " 'dt__splitter': 'best'}"
            ]
          },
          "metadata": {},
          "execution_count": 50
        }
      ]
    },
    {
      "cell_type": "markdown",
      "source": [
        "**Redefine Model**"
      ],
      "metadata": {
        "id": "Py2mxWWlTSnC"
      }
    },
    {
      "cell_type": "code",
      "source": [
        "# Redefining Logistic Regression with best estimator\n",
        "dt_gridcv_best = dt_gridcv.best_estimator_"
      ],
      "metadata": {
        "id": "inNv0lPSTUGB"
      },
      "execution_count": 51,
      "outputs": []
    },
    {
      "cell_type": "code",
      "source": [
        "# Prediction Final\n",
        "y_train_dt_final = dt_gridcv_best.predict(X_train)\n",
        "y_test_dt_final = dt_gridcv_best.predict(X_test)"
      ],
      "metadata": {
        "id": "B4tsu20BTWNa"
      },
      "execution_count": 52,
      "outputs": []
    },
    {
      "cell_type": "markdown",
      "source": [
        "#### **Random Forest**"
      ],
      "metadata": {
        "id": "NKUCoxB7RXsv"
      }
    },
    {
      "cell_type": "code",
      "source": [
        "# Default Parameters\n",
        "# Fit model \n",
        "pipe_rfc.fit(X_train, y_train)\n",
        "\n",
        "# Prediction, using X_train\n",
        "y_train_rfc = pipe_rfc.predict(X_train)\n",
        "\n",
        "# Prediction, using X_test\n",
        "y_test_rfc = pipe_rfc.predict(X_test)"
      ],
      "metadata": {
        "id": "LhbMbJ8NRZ0R"
      },
      "execution_count": 53,
      "outputs": []
    },
    {
      "cell_type": "code",
      "source": [
        "# Cross Validation using `cross_val_score` for train set\n",
        "train_cross_val = cross_val_score(pipe_rfc, \n",
        "                                  X, \n",
        "                                  y, \n",
        "                                  cv=5, \n",
        "                                  scoring='f1')\n",
        "\n",
        "print(\"Accuracy Score All - Cross Validation :\", train_cross_val)\n",
        "print(\"Mean - Cross-Validation               :\", train_cross_val.mean())\n",
        "print(\"Standard Deviation Cross-Validation   :\", train_cross_val.std())"
      ],
      "metadata": {
        "colab": {
          "base_uri": "https://localhost:8080/"
        },
        "id": "OvZtzH7RRcK-",
        "outputId": "3500c91f-3097-427b-de27-15f21131cf7a"
      },
      "execution_count": 54,
      "outputs": [
        {
          "output_type": "stream",
          "name": "stdout",
          "text": [
            "Accuracy Score All - Cross Validation : [0.6        0.16666667 0.6        0.77777778 0.25      ]\n",
            "Mean - Cross-Validation               : 0.47888888888888886\n",
            "Standard Deviation Cross-Validation   : 0.23175125021304338\n"
          ]
        }
      ]
    },
    {
      "cell_type": "markdown",
      "source": [
        "**Hyperparameter Tuning**"
      ],
      "metadata": {
        "id": "7pjMH2I4Tj0T"
      }
    },
    {
      "cell_type": "code",
      "source": [
        "# Define Hyperparameters\n",
        "n_estimators = [int(x) for x in np.linspace(start = 10, stop = 50, num = 5)]\n",
        "max_features = ['auto', 'sqrt']\n",
        "max_depth = [int(x) for x in np.linspace(2, 10, num = 5)]\n",
        "min_samples_leaf = [int(x) for x in np.linspace(3, 6, num = 4)]\n",
        "min_samples_split = [2, 6, 10]\n",
        "bootstrap = [True, False]\n",
        "\n",
        "param_grid_rfc = {'rfc__n_estimators': n_estimators,\n",
        "               'rfc__max_features': max_features,\n",
        "               'rfc__max_depth': max_depth,\n",
        "               'rfc__min_samples_leaf': min_samples_leaf,\n",
        "               'rfc__criterion':['entropy','gini'],\n",
        "               'rfc__bootstrap': bootstrap}\n",
        "param_grid_rfc"
      ],
      "metadata": {
        "colab": {
          "base_uri": "https://localhost:8080/"
        },
        "id": "FBz9papZTlba",
        "outputId": "e4298503-c61e-4184-9803-d75def52ae4e"
      },
      "execution_count": 55,
      "outputs": [
        {
          "output_type": "execute_result",
          "data": {
            "text/plain": [
              "{'rfc__n_estimators': [10, 20, 30, 40, 50],\n",
              " 'rfc__max_features': ['auto', 'sqrt'],\n",
              " 'rfc__max_depth': [2, 4, 6, 8, 10],\n",
              " 'rfc__min_samples_leaf': [3, 4, 5, 6],\n",
              " 'rfc__criterion': ['entropy', 'gini'],\n",
              " 'rfc__bootstrap': [True, False]}"
            ]
          },
          "metadata": {},
          "execution_count": 55
        }
      ]
    },
    {
      "cell_type": "code",
      "source": [
        "# Train with Grid Search\n",
        "%%time\n",
        "rfc_gridcv = GridSearchCV(pipe_rfc,\n",
        "                          param_grid_rfc,\n",
        "                          n_jobs=-1,\n",
        "                          verbose=2,\n",
        "                          scoring='f1')\n",
        "\n",
        "rfc_gridcv.fit(X_train, y_train)"
      ],
      "metadata": {
        "colab": {
          "base_uri": "https://localhost:8080/"
        },
        "id": "o_enVKP8TsG9",
        "outputId": "9db00459-eb1f-4fda-ae53-44f11d8310e6"
      },
      "execution_count": 56,
      "outputs": [
        {
          "output_type": "stream",
          "name": "stdout",
          "text": [
            "Fitting 5 folds for each of 800 candidates, totalling 4000 fits\n",
            "CPU times: user 8.81 s, sys: 249 ms, total: 9.06 s\n",
            "Wall time: 2min 29s\n"
          ]
        },
        {
          "output_type": "execute_result",
          "data": {
            "text/plain": [
              "GridSearchCV(estimator=Pipeline(steps=[('preprocessor',\n",
              "                                        ColumnTransformer(transformers=[('num',\n",
              "                                                                         Pipeline(steps=[('scaler',\n",
              "                                                                                          MinMaxScaler())]),\n",
              "                                                                         ['Present',\n",
              "                                                                          'Next'])])),\n",
              "                                       ('rfc',\n",
              "                                        RandomForestClassifier(random_state=3))]),\n",
              "             n_jobs=-1,\n",
              "             param_grid={'rfc__bootstrap': [True, False],\n",
              "                         'rfc__criterion': ['entropy', 'gini'],\n",
              "                         'rfc__max_depth': [2, 4, 6, 8, 10],\n",
              "                         'rfc__max_features': ['auto', 'sqrt'],\n",
              "                         'rfc__min_samples_leaf': [3, 4, 5, 6],\n",
              "                         'rfc__n_estimators': [10, 20, 30, 40, 50]},\n",
              "             scoring='f1', verbose=2)"
            ]
          },
          "metadata": {},
          "execution_count": 56
        }
      ]
    },
    {
      "cell_type": "code",
      "source": [
        "# Display Best Hyperparamters from Grid Search for Train Set\n",
        "rfc_gridcv.best_params_"
      ],
      "metadata": {
        "colab": {
          "base_uri": "https://localhost:8080/"
        },
        "id": "S-WXmHhzTuZo",
        "outputId": "ba8245b6-2736-4ebe-965b-f2787b491d21"
      },
      "execution_count": 57,
      "outputs": [
        {
          "output_type": "execute_result",
          "data": {
            "text/plain": [
              "{'rfc__bootstrap': False,\n",
              " 'rfc__criterion': 'entropy',\n",
              " 'rfc__max_depth': 4,\n",
              " 'rfc__max_features': 'auto',\n",
              " 'rfc__min_samples_leaf': 4,\n",
              " 'rfc__n_estimators': 20}"
            ]
          },
          "metadata": {},
          "execution_count": 57
        }
      ]
    },
    {
      "cell_type": "markdown",
      "source": [
        "**Redefine Model**"
      ],
      "metadata": {
        "id": "TiUX75g0Tu9R"
      }
    },
    {
      "cell_type": "code",
      "source": [
        "# Redefining Logistic Regression with best estimator\n",
        "rfc_gridcv_best = svm_gridcv.best_estimator_"
      ],
      "metadata": {
        "id": "vZ-g_UusTwwl"
      },
      "execution_count": 58,
      "outputs": []
    },
    {
      "cell_type": "code",
      "source": [
        "# Prediction Final\n",
        "y_train_rfc_final = rfc_gridcv_best.predict(X_train)\n",
        "y_test_rfc_final = rfc_gridcv_best.predict(X_test)"
      ],
      "metadata": {
        "id": "QFXhE8znTywS"
      },
      "execution_count": 59,
      "outputs": []
    },
    {
      "cell_type": "markdown",
      "source": [
        "## **Model Evaluation**"
      ],
      "metadata": {
        "id": "DAD_JWFyXzxa"
      }
    },
    {
      "cell_type": "markdown",
      "source": [
        "### **Linear Regression**"
      ],
      "metadata": {
        "id": "wGzeLE8WOndn"
      }
    },
    {
      "cell_type": "code",
      "source": [
        "# Model Evaluation using MAE (Mean Absolute Error)\n",
        "print('Mean Absolute Error (MAE) Train Set: ', mean_absolute_error(y_train, y_train_lin))\n",
        "print('Maen Absolute Error (MAE) Test Set: ', mean_absolute_error(y_test, y_test_lin))"
      ],
      "metadata": {
        "colab": {
          "base_uri": "https://localhost:8080/"
        },
        "id": "yF_l6geMOp4Q",
        "outputId": "15115b5b-7143-48a7-f1f6-3b1b6fc98bed"
      },
      "execution_count": 95,
      "outputs": [
        {
          "output_type": "stream",
          "name": "stdout",
          "text": [
            "Mean Absolute Error (MAE) Train Set:  0.2538364337986154\n",
            "Maen Absolute Error (MAE) Test Set:  0.28520583920681386\n"
          ]
        }
      ]
    },
    {
      "cell_type": "code",
      "source": [
        "# Model Evaluation using MSE (Mean Squared Error)\n",
        "print('Mean Squared Error (MSE) Train Set: ', mean_squared_error(y_train, y_train_lin))\n",
        "print('Maen Squared Error (MSE) Test Set: ', mean_squared_error(y_test, y_test_lin))"
      ],
      "metadata": {
        "colab": {
          "base_uri": "https://localhost:8080/"
        },
        "id": "F4jhRTOpPWEe",
        "outputId": "ce0b00a4-cd9d-4568-ef43-6c0f7ca953eb"
      },
      "execution_count": 99,
      "outputs": [
        {
          "output_type": "stream",
          "name": "stdout",
          "text": [
            "Mean Squared Error (MSE) Train Set:  0.0840004021378295\n",
            "Maen Squared Error (MSE) Test Set:  0.1029127467069709\n"
          ]
        }
      ]
    },
    {
      "cell_type": "code",
      "source": [
        "# Model Evaluation using r2 Score\n",
        "print('r2 Score Train Set: ', round(r2_score(y_train, y_train_lin)*100, 2),'%')\n",
        "print('r2 Score Test Set: ', round(r2_score(y_test, y_test_lin)*100, 2),'%')"
      ],
      "metadata": {
        "colab": {
          "base_uri": "https://localhost:8080/"
        },
        "id": "oiN8U6TrPkQo",
        "outputId": "4cb052c1-79fb-4554-b6c5-64a5d3755916"
      },
      "execution_count": 100,
      "outputs": [
        {
          "output_type": "stream",
          "name": "stdout",
          "text": [
            "r2 Score Train Set:  66.26 %\n",
            "r2 Score Test Set:  57.98 %\n"
          ]
        }
      ]
    },
    {
      "cell_type": "markdown",
      "source": [
        "### **Logistic Regression**"
      ],
      "metadata": {
        "id": "qJDf5rQMX7VE"
      }
    },
    {
      "cell_type": "code",
      "source": [
        "# Evaluating Train set (Default Parameter)\n",
        "print('Train Set (Defaul Parameter)')\n",
        "print('Accuracy - Train Set  : ', accuracy_score(y_train, y_train_log))\n",
        "print('F1 Score - Train Set  : ', f1_score(y_train, y_train_log), '\\n')\n",
        "print('Classification Report : \\n', classification_report(y_train, y_train_log), '\\n')"
      ],
      "metadata": {
        "colab": {
          "base_uri": "https://localhost:8080/"
        },
        "id": "0RFmB56uX2ZL",
        "outputId": "0197b930-6181-41d7-9e98-3d7faf47144e"
      },
      "execution_count": 60,
      "outputs": [
        {
          "output_type": "stream",
          "name": "stdout",
          "text": [
            "Train Set (Defaul Parameter)\n",
            "Accuracy - Train Set  :  0.6808510638297872\n",
            "F1 Score - Train Set  :  0.6938775510204083 \n",
            "\n",
            "Classification Report : \n",
            "               precision    recall  f1-score   support\n",
            "\n",
            "           0       0.65      0.68      0.67        22\n",
            "           1       0.71      0.68      0.69        25\n",
            "\n",
            "    accuracy                           0.68        47\n",
            "   macro avg       0.68      0.68      0.68        47\n",
            "weighted avg       0.68      0.68      0.68        47\n",
            " \n",
            "\n"
          ]
        }
      ]
    },
    {
      "cell_type": "code",
      "source": [
        "# Creating confusion matrix for train set (default parameter)\n",
        "print('Confusion Matrix Train Set LogReg (Default Parameter)')\n",
        "cm = confusion_matrix(y_train, y_train_log, labels=logreg.classes_)\n",
        "disp = ConfusionMatrixDisplay(confusion_matrix=cm,display_labels=logreg.classes_)\n",
        "\n",
        "matplotlib.rcParams['figure.figsize'] = (10,8)\n",
        "disp.plot()\n",
        "plt.show()\n",
        "     "
      ],
      "metadata": {
        "colab": {
          "base_uri": "https://localhost:8080/",
          "height": 514
        },
        "id": "aDMorrN7g0Qk",
        "outputId": "1f1bd212-2a99-4f33-f78d-39a6646884bd"
      },
      "execution_count": 61,
      "outputs": [
        {
          "output_type": "stream",
          "name": "stdout",
          "text": [
            "Confusion Matrix Train Set LogReg (Default Parameter)\n"
          ]
        },
        {
          "output_type": "display_data",
          "data": {
            "text/plain": [
              "<Figure size 720x576 with 2 Axes>"
            ],
            "image/png": "[encoded data removed]"
          },
          "metadata": {
            "needs_background": "light"
          }
        }
      ]
    },
    {
      "cell_type": "code",
      "source": [
        "# Evaluating Train set (Hyperparameter Tuned)\n",
        "print('Train Set (Hyperparameter Tuned)')\n",
        "print('Accuracy - Train Set  : ', accuracy_score(y_train, y_train_log_final),)\n",
        "print('F1 Score - Train Set  : ', f1_score(y_train, y_train_log_final), '\\n')\n",
        "print('Classification Report : \\n', classification_report(y_train, y_train_log_final), '\\n')"
      ],
      "metadata": {
        "colab": {
          "base_uri": "https://localhost:8080/"
        },
        "id": "Oo8L5g1Jgn-Z",
        "outputId": "cd09298b-38d0-4cf7-81a7-842655f360db"
      },
      "execution_count": 62,
      "outputs": [
        {
          "output_type": "stream",
          "name": "stdout",
          "text": [
            "Train Set (Hyperparameter Tuned)\n",
            "Accuracy - Train Set  :  1.0\n",
            "F1 Score - Train Set  :  1.0 \n",
            "\n",
            "Classification Report : \n",
            "               precision    recall  f1-score   support\n",
            "\n",
            "           0       1.00      1.00      1.00        22\n",
            "           1       1.00      1.00      1.00        25\n",
            "\n",
            "    accuracy                           1.00        47\n",
            "   macro avg       1.00      1.00      1.00        47\n",
            "weighted avg       1.00      1.00      1.00        47\n",
            " \n",
            "\n"
          ]
        }
      ]
    },
    {
      "cell_type": "code",
      "source": [
        "# Creating confusion matrix for train set (labels parameter)\n",
        "print('Confusion Matrix Train Set LogReg (Hyperparameter Tuned)')\n",
        "cm = confusion_matrix(y_train, y_train_log_final, labels=logreg.classes_)\n",
        "disp = ConfusionMatrixDisplay(confusion_matrix=cm,display_labels=logreg.classes_)\n",
        "\n",
        "matplotlib.rcParams['figure.figsize'] = (10,8)\n",
        "disp.plot()\n",
        "plt.show()\n",
        "     "
      ],
      "metadata": {
        "colab": {
          "base_uri": "https://localhost:8080/",
          "height": 518
        },
        "id": "Yes6Xy6xg5RA",
        "outputId": "127a9f62-4b50-4339-aabd-135d9daae46d"
      },
      "execution_count": 63,
      "outputs": [
        {
          "output_type": "stream",
          "name": "stdout",
          "text": [
            "Confusion Matrix Train Set LogReg (Hyperparameter Tuned)\n"
          ]
        },
        {
          "output_type": "display_data",
          "data": {
            "text/plain": [
              "<Figure size 720x576 with 2 Axes>"
            ],
            "image/png": "[encoded data removed]"
          },
          "metadata": {
            "needs_background": "light"
          }
        }
      ]
    },
    {
      "cell_type": "markdown",
      "source": [
        "### **SVC**"
      ],
      "metadata": {
        "id": "PqQwm1Ffgj3b"
      }
    },
    {
      "cell_type": "code",
      "source": [
        "# Evaluating Train set (Default Parameter)\n",
        "print('Train Set (Defaul Parameter)')\n",
        "print('Accuracy - Train Set  : ', accuracy_score(y_train, y_train_svm))\n",
        "print('F1 Score - Train Set  : ', f1_score(y_train, y_train_svm), '\\n')\n",
        "print('Classification Report : \\n', classification_report(y_train, y_train_svm), '\\n')"
      ],
      "metadata": {
        "colab": {
          "base_uri": "https://localhost:8080/"
        },
        "id": "Jq-M6gvghA_g",
        "outputId": "ee7e590e-ba4d-4baf-a98e-f676b7d925c5"
      },
      "execution_count": 64,
      "outputs": [
        {
          "output_type": "stream",
          "name": "stdout",
          "text": [
            "Train Set (Defaul Parameter)\n",
            "Accuracy - Train Set  :  0.6808510638297872\n",
            "F1 Score - Train Set  :  0.6938775510204083 \n",
            "\n",
            "Classification Report : \n",
            "               precision    recall  f1-score   support\n",
            "\n",
            "           0       0.65      0.68      0.67        22\n",
            "           1       0.71      0.68      0.69        25\n",
            "\n",
            "    accuracy                           0.68        47\n",
            "   macro avg       0.68      0.68      0.68        47\n",
            "weighted avg       0.68      0.68      0.68        47\n",
            " \n",
            "\n"
          ]
        }
      ]
    },
    {
      "cell_type": "code",
      "source": [
        "# Creating confusion matrix for train set (default parameter)\n",
        "print('Confusion Matrix Train Set SVM (Default Parameter)')\n",
        "cm = confusion_matrix(y_train, y_train_svm, labels=svm.classes_)\n",
        "disp = ConfusionMatrixDisplay(confusion_matrix=cm,display_labels=svm.classes_)\n",
        "\n",
        "matplotlib.rcParams['figure.figsize'] = (10,8)\n",
        "disp.plot()\n",
        "plt.show()"
      ],
      "metadata": {
        "colab": {
          "base_uri": "https://localhost:8080/",
          "height": 514
        },
        "id": "15wXnsPZhIWm",
        "outputId": "be84b9f4-576c-492e-9573-dc6579a15403"
      },
      "execution_count": 65,
      "outputs": [
        {
          "output_type": "stream",
          "name": "stdout",
          "text": [
            "Confusion Matrix Train Set SVM (Default Parameter)\n"
          ]
        },
        {
          "output_type": "display_data",
          "data": {
            "text/plain": [
              "<Figure size 720x576 with 2 Axes>"
            ],
            "image/png": "[encoded data removed]"
          },
          "metadata": {
            "needs_background": "light"
          }
        }
      ]
    },
    {
      "cell_type": "code",
      "source": [
        "# Evaluating Train set (Hyperparameter Tuned)\n",
        "print('Train Set (Hyperparameter Tuned)')\n",
        "print('Accuracy - Train Set  : ', accuracy_score(y_train, y_train_svm_final),)\n",
        "print('F1 Score - Train Set  : ', f1_score(y_train, y_train_svm_final), '\\n')\n",
        "print('Classification Report : \\n', classification_report(y_train, y_train_svm_final), '\\n')\n",
        "     "
      ],
      "metadata": {
        "colab": {
          "base_uri": "https://localhost:8080/"
        },
        "id": "HrNbPFndhDVG",
        "outputId": "9b8aea9d-c7f6-4fd9-b0b7-e1d1d43b8ede"
      },
      "execution_count": 66,
      "outputs": [
        {
          "output_type": "stream",
          "name": "stdout",
          "text": [
            "Train Set (Hyperparameter Tuned)\n",
            "Accuracy - Train Set  :  0.9787234042553191\n",
            "F1 Score - Train Set  :  0.9795918367346939 \n",
            "\n",
            "Classification Report : \n",
            "               precision    recall  f1-score   support\n",
            "\n",
            "           0       0.96      1.00      0.98        22\n",
            "           1       1.00      0.96      0.98        25\n",
            "\n",
            "    accuracy                           0.98        47\n",
            "   macro avg       0.98      0.98      0.98        47\n",
            "weighted avg       0.98      0.98      0.98        47\n",
            " \n",
            "\n"
          ]
        }
      ]
    },
    {
      "cell_type": "code",
      "source": [
        "# Creating confusion matrix for train set (hyperparameter tuned)\n",
        "print('Confusion Matrix Train Set SVM (Hyperparameter Tuned)')\n",
        "cm = confusion_matrix(y_train, y_train_svm_final, labels=svm.classes_)\n",
        "disp = ConfusionMatrixDisplay(confusion_matrix=cm,display_labels=svm.classes_)\n",
        "\n",
        "matplotlib.rcParams['figure.figsize'] = (10,8)\n",
        "disp.plot()\n",
        "plt.show()"
      ],
      "metadata": {
        "colab": {
          "base_uri": "https://localhost:8080/",
          "height": 514
        },
        "id": "hHLnf3fIhRJJ",
        "outputId": "a2beef23-9fca-434f-ede5-4effba262f68"
      },
      "execution_count": 67,
      "outputs": [
        {
          "output_type": "stream",
          "name": "stdout",
          "text": [
            "Confusion Matrix Train Set SVM (Hyperparameter Tuned)\n"
          ]
        },
        {
          "output_type": "display_data",
          "data": {
            "text/plain": [
              "<Figure size 720x576 with 2 Axes>"
            ],
            "image/png": "[encoded data removed]"
          },
          "metadata": {
            "needs_background": "light"
          }
        }
      ]
    },
    {
      "cell_type": "markdown",
      "source": [
        "### **Decision Tree**"
      ],
      "metadata": {
        "id": "8KFlyHZShT3Q"
      }
    },
    {
      "cell_type": "code",
      "source": [
        "# Evaluating Train set (Default Parameter)\n",
        "print('Train Set (Defaul Parameter)')\n",
        "print('Accuracy - Train Set  : ', accuracy_score(y_train, y_train_dt))\n",
        "print('F1 Score - Train Set  : ', f1_score(y_train, y_train_dt), '\\n')\n",
        "print('Classification Report : \\n', classification_report(y_train, y_train_dt), '\\n')"
      ],
      "metadata": {
        "colab": {
          "base_uri": "https://localhost:8080/"
        },
        "id": "cA3A6MZlhWeW",
        "outputId": "3fba8470-78c4-44a9-ae52-5b813a27cb28"
      },
      "execution_count": 68,
      "outputs": [
        {
          "output_type": "stream",
          "name": "stdout",
          "text": [
            "Train Set (Defaul Parameter)\n",
            "Accuracy - Train Set  :  1.0\n",
            "F1 Score - Train Set  :  1.0 \n",
            "\n",
            "Classification Report : \n",
            "               precision    recall  f1-score   support\n",
            "\n",
            "           0       1.00      1.00      1.00        22\n",
            "           1       1.00      1.00      1.00        25\n",
            "\n",
            "    accuracy                           1.00        47\n",
            "   macro avg       1.00      1.00      1.00        47\n",
            "weighted avg       1.00      1.00      1.00        47\n",
            " \n",
            "\n"
          ]
        }
      ]
    },
    {
      "cell_type": "code",
      "source": [
        "# Creating confusion matrix for train set (default parameter)\n",
        "print('Confusion Matrix Train Set Decision Tree (Default Parameter)')\n",
        "cm = confusion_matrix(y_train, y_train_dt, labels=dt.classes_)\n",
        "disp = ConfusionMatrixDisplay(confusion_matrix=cm,display_labels=dt.classes_)\n",
        "\n",
        "matplotlib.rcParams['figure.figsize'] = (10,8)\n",
        "disp.plot()\n",
        "plt.show()"
      ],
      "metadata": {
        "colab": {
          "base_uri": "https://localhost:8080/",
          "height": 518
        },
        "id": "SEb2yTN4hgua",
        "outputId": "3e1ec16a-cc49-4921-d900-92c00a0dea82"
      },
      "execution_count": 69,
      "outputs": [
        {
          "output_type": "stream",
          "name": "stdout",
          "text": [
            "Confusion Matrix Train Set Decision Tree (Default Parameter)\n"
          ]
        },
        {
          "output_type": "display_data",
          "data": {
            "text/plain": [
              "<Figure size 720x576 with 2 Axes>"
            ],
            "image/png": "[encoded data removed]"
          },
          "metadata": {
            "needs_background": "light"
          }
        }
      ]
    },
    {
      "cell_type": "code",
      "source": [
        "# Evaluating Train set (Hyperparameter Tuned)\n",
        "print('Train Set (Hyperparameter Tuned)')\n",
        "print('Accuracy - Train Set  : ', accuracy_score(y_train, y_train_dt_final),)\n",
        "print('F1 Score - Train Set  : ', f1_score(y_train, y_train_dt_final), '\\n')\n",
        "print('Classification Report : \\n', classification_report(y_train, y_train_dt_final), '\\n')"
      ],
      "metadata": {
        "colab": {
          "base_uri": "https://localhost:8080/"
        },
        "id": "MrpdOB3VhdHY",
        "outputId": "6789e0e9-11d3-4983-cc96-27b21cea0ace"
      },
      "execution_count": 70,
      "outputs": [
        {
          "output_type": "stream",
          "name": "stdout",
          "text": [
            "Train Set (Hyperparameter Tuned)\n",
            "Accuracy - Train Set  :  0.9148936170212766\n",
            "F1 Score - Train Set  :  0.923076923076923 \n",
            "\n",
            "Classification Report : \n",
            "               precision    recall  f1-score   support\n",
            "\n",
            "           0       0.95      0.86      0.90        22\n",
            "           1       0.89      0.96      0.92        25\n",
            "\n",
            "    accuracy                           0.91        47\n",
            "   macro avg       0.92      0.91      0.91        47\n",
            "weighted avg       0.92      0.91      0.91        47\n",
            " \n",
            "\n"
          ]
        }
      ]
    },
    {
      "cell_type": "code",
      "source": [
        "# Evaluating Test set (Hyperparameter Tuned)\n",
        "print('Train Set (Hyperparameter Tuned)')\n",
        "print('Accuracy - Train Set  : ', accuracy_score(y_test, y_test_dt_final),)\n",
        "print('F1 Score - Train Set  : ', f1_score(y_test, y_test_dt_final), '\\n')\n",
        "print('Classification Report : \\n', classification_report(y_test, y_test_dt_final), '\\n')"
      ],
      "metadata": {
        "colab": {
          "base_uri": "https://localhost:8080/"
        },
        "id": "b5BAFvdy4_WI",
        "outputId": "5aee2ecd-185f-4eed-cfbc-f8b96d1b4a6d"
      },
      "execution_count": 71,
      "outputs": [
        {
          "output_type": "stream",
          "name": "stdout",
          "text": [
            "Train Set (Hyperparameter Tuned)\n",
            "Accuracy - Train Set  :  0.47619047619047616\n",
            "F1 Score - Train Set  :  0.4761904761904762 \n",
            "\n",
            "Classification Report : \n",
            "               precision    recall  f1-score   support\n",
            "\n",
            "           0       0.56      0.42      0.48        12\n",
            "           1       0.42      0.56      0.48         9\n",
            "\n",
            "    accuracy                           0.48        21\n",
            "   macro avg       0.49      0.49      0.48        21\n",
            "weighted avg       0.50      0.48      0.48        21\n",
            " \n",
            "\n"
          ]
        }
      ]
    },
    {
      "cell_type": "code",
      "source": [
        "# Creating confusion matrix for train set (hyperparameter tuned)\n",
        "print('Confusion Matrix Train Set Decision Tree (Hyperparameter Tuned)')\n",
        "cm = confusion_matrix(y_train, y_train_dt_final, labels=dt.classes_)\n",
        "disp = ConfusionMatrixDisplay(confusion_matrix=cm,display_labels=dt.classes_)\n",
        "\n",
        "matplotlib.rcParams['figure.figsize'] = (10,8)\n",
        "disp.plot()\n",
        "plt.show()"
      ],
      "metadata": {
        "colab": {
          "base_uri": "https://localhost:8080/",
          "height": 514
        },
        "id": "3UZeimLdhjzG",
        "outputId": "2760134e-d9f0-43a0-f94c-e889fe7c096a"
      },
      "execution_count": 72,
      "outputs": [
        {
          "output_type": "stream",
          "name": "stdout",
          "text": [
            "Confusion Matrix Train Set Decision Tree (Hyperparameter Tuned)\n"
          ]
        },
        {
          "output_type": "display_data",
          "data": {
            "text/plain": [
              "<Figure size 720x576 with 2 Axes>"
            ],
            "image/png": "[encoded data removed]"
          },
          "metadata": {
            "needs_background": "light"
          }
        }
      ]
    },
    {
      "cell_type": "code",
      "source": [
        "# Creating confusion matrix for test set (hyperparameter tuned)\n",
        "print('Confusion Matrix Train Set Decision Tree (Hyperparameter Tuned)')\n",
        "cm = confusion_matrix(y_test, y_test_dt_final, labels=dt.classes_)\n",
        "disp = ConfusionMatrixDisplay(confusion_matrix=cm,display_labels=dt.classes_)\n",
        "\n",
        "matplotlib.rcParams['figure.figsize'] = (10,8)\n",
        "disp.plot()\n",
        "plt.show()"
      ],
      "metadata": {
        "colab": {
          "base_uri": "https://localhost:8080/",
          "height": 518
        },
        "id": "cTuqooyQiNQF",
        "outputId": "4b388a94-fa25-4b01-b803-2a0e67f4b16b"
      },
      "execution_count": 73,
      "outputs": [
        {
          "output_type": "stream",
          "name": "stdout",
          "text": [
            "Confusion Matrix Train Set Decision Tree (Hyperparameter Tuned)\n"
          ]
        },
        {
          "output_type": "display_data",
          "data": {
            "text/plain": [
              "<Figure size 720x576 with 2 Axes>"
            ],
            "image/png": "[encoded data removed]"
          },
          "metadata": {
            "needs_background": "light"
          }
        }
      ]
    },
    {
      "cell_type": "markdown",
      "source": [
        "### **Random Forest**"
      ],
      "metadata": {
        "id": "WJn5gS6Qh4c8"
      }
    },
    {
      "cell_type": "code",
      "source": [
        "# Evaluating Train set (Default Parameter)\n",
        "print('Train Set (Defaul Parameter)')\n",
        "print('Accuracy - Train Set  : ', accuracy_score(y_train, y_train_rfc))\n",
        "print('F1 Score - Train Set  : ', f1_score(y_train, y_train_rfc), '\\n')\n",
        "print('Classification Report : \\n', classification_report(y_train, y_train_rfc), '\\n')"
      ],
      "metadata": {
        "colab": {
          "base_uri": "https://localhost:8080/"
        },
        "id": "NoRkaOi8h62R",
        "outputId": "eee5b27a-e1b9-4716-f695-da8c362b822d"
      },
      "execution_count": 74,
      "outputs": [
        {
          "output_type": "stream",
          "name": "stdout",
          "text": [
            "Train Set (Defaul Parameter)\n",
            "Accuracy - Train Set  :  1.0\n",
            "F1 Score - Train Set  :  1.0 \n",
            "\n",
            "Classification Report : \n",
            "               precision    recall  f1-score   support\n",
            "\n",
            "           0       1.00      1.00      1.00        22\n",
            "           1       1.00      1.00      1.00        25\n",
            "\n",
            "    accuracy                           1.00        47\n",
            "   macro avg       1.00      1.00      1.00        47\n",
            "weighted avg       1.00      1.00      1.00        47\n",
            " \n",
            "\n"
          ]
        }
      ]
    },
    {
      "cell_type": "code",
      "source": [
        "# Creating confusion matrix for train set (default parameter)\n",
        "print('Confusion Matrix Train Set Random Forest Classifier (Default Parameter)')\n",
        "cm = confusion_matrix(y_train, y_train_rfc, labels=rfc.classes_)\n",
        "disp = ConfusionMatrixDisplay(confusion_matrix=cm,display_labels=rfc.classes_)\n",
        "\n",
        "matplotlib.rcParams['figure.figsize'] = (10,8)\n",
        "disp.plot()\n",
        "plt.show()"
      ],
      "metadata": {
        "colab": {
          "base_uri": "https://localhost:8080/",
          "height": 518
        },
        "id": "ouiUbiUkiBR9",
        "outputId": "88b10d37-ae59-4a4d-921b-328e34856bd9"
      },
      "execution_count": 75,
      "outputs": [
        {
          "output_type": "stream",
          "name": "stdout",
          "text": [
            "Confusion Matrix Train Set Random Forest Classifier (Default Parameter)\n"
          ]
        },
        {
          "output_type": "display_data",
          "data": {
            "text/plain": [
              "<Figure size 720x576 with 2 Axes>"
            ],
            "image/png": "[encoded data removed]"
          },
          "metadata": {
            "needs_background": "light"
          }
        }
      ]
    },
    {
      "cell_type": "code",
      "source": [
        "# Evaluating Train set (Hyperparameter Tuned)\n",
        "print('Train Set (Hyperparameter Tuned)')\n",
        "print('Accuracy - Train Set  : ', accuracy_score(y_train, y_train_rfc_final),)\n",
        "print('F1 Score - Train Set  : ', f1_score(y_train, y_train_rfc_final), '\\n')\n",
        "print('Classification Report : \\n', classification_report(y_train, y_train_rfc_final), '\\n')"
      ],
      "metadata": {
        "colab": {
          "base_uri": "https://localhost:8080/"
        },
        "id": "DFMpYoQBh-r9",
        "outputId": "bf745bf4-a485-4770-b57c-80279dd8e20f"
      },
      "execution_count": 76,
      "outputs": [
        {
          "output_type": "stream",
          "name": "stdout",
          "text": [
            "Train Set (Hyperparameter Tuned)\n",
            "Accuracy - Train Set  :  0.9787234042553191\n",
            "F1 Score - Train Set  :  0.9795918367346939 \n",
            "\n",
            "Classification Report : \n",
            "               precision    recall  f1-score   support\n",
            "\n",
            "           0       0.96      1.00      0.98        22\n",
            "           1       1.00      0.96      0.98        25\n",
            "\n",
            "    accuracy                           0.98        47\n",
            "   macro avg       0.98      0.98      0.98        47\n",
            "weighted avg       0.98      0.98      0.98        47\n",
            " \n",
            "\n"
          ]
        }
      ]
    },
    {
      "cell_type": "code",
      "source": [
        "# Creating confusion matrix for train set (hyperparameter tuned)\n",
        "print('Confusion Matrix Train Set Random Forest Classifier (Hyperparameter Tuned)')\n",
        "cm = confusion_matrix(y_train, y_train_rfc_final, labels=rfc.classes_)\n",
        "disp = ConfusionMatrixDisplay(confusion_matrix=cm,display_labels=rfc.classes_)\n",
        "\n",
        "matplotlib.rcParams['figure.figsize'] = (10,8)\n",
        "disp.plot()\n",
        "plt.show()"
      ],
      "metadata": {
        "colab": {
          "base_uri": "https://localhost:8080/",
          "height": 514
        },
        "id": "OU8UEm1ciDza",
        "outputId": "d45c1550-fd14-4e65-92fc-9bb113f41f07"
      },
      "execution_count": 77,
      "outputs": [
        {
          "output_type": "stream",
          "name": "stdout",
          "text": [
            "Confusion Matrix Train Set Random Forest Classifier (Hyperparameter Tuned)\n"
          ]
        },
        {
          "output_type": "display_data",
          "data": {
            "text/plain": [
              "<Figure size 720x576 with 2 Axes>"
            ],
            "image/png": "[encoded data removed]"
          },
          "metadata": {
            "needs_background": "light"
          }
        }
      ]
    },
    {
      "cell_type": "code",
      "source": [
        "# Creating confusion matrix for train set (hyperparameter tuned)\n",
        "print('Confusion Matrix Train Set Random Forest Classifier (Hyperparameter Tuned)')\n",
        "cm = confusion_matrix(y_test, y_test_rfc_final, labels=rfc.classes_)\n",
        "disp = ConfusionMatrixDisplay(confusion_matrix=cm,display_labels=rfc.classes_)\n",
        "\n",
        "matplotlib.rcParams['figure.figsize'] = (10,8)\n",
        "disp.plot()\n",
        "plt.show()"
      ],
      "metadata": {
        "colab": {
          "base_uri": "https://localhost:8080/",
          "height": 518
        },
        "id": "_FZrqaCxiGac",
        "outputId": "486bfa77-365e-4cd5-d2d1-ce6fdc0cf518"
      },
      "execution_count": 78,
      "outputs": [
        {
          "output_type": "stream",
          "name": "stdout",
          "text": [
            "Confusion Matrix Train Set Random Forest Classifier (Hyperparameter Tuned)\n"
          ]
        },
        {
          "output_type": "display_data",
          "data": {
            "text/plain": [
              "<Figure size 720x576 with 2 Axes>"
            ],
            "image/png": "[encoded data removed]"
          },
          "metadata": {
            "needs_background": "light"
          }
        }
      ]
    },
    {
      "cell_type": "markdown",
      "source": [
        "## **Model Saving**"
      ],
      "metadata": {
        "id": "cnaEqCw7kpex"
      }
    },
    {
      "cell_type": "code",
      "source": [
        "# Save the model files\n",
        "with open('rfc_gridcv.pkl', 'wb') as file_1:\n",
        "  joblib.dump(rfc_gridcv_best, file_1)"
      ],
      "metadata": {
        "id": "3LyXhd93kq2y"
      },
      "execution_count": 79,
      "outputs": []
    },
    {
      "cell_type": "code",
      "source": [
        "# Load all model files\n",
        "with open('rfc_gridcv.pkl', 'rb') as file_1:\n",
        "  rfc_model = joblib.load(file_1)"
      ],
      "metadata": {
        "id": "aK2EFzj2lCh2"
      },
      "execution_count": 80,
      "outputs": []
    },
    {
      "cell_type": "markdown",
      "source": [
        "## **Model Inference**"
      ],
      "metadata": {
        "id": "_ENJhWBpkXwM"
      }
    },
    {
      "cell_type": "code",
      "source": [
        "df_inf"
      ],
      "metadata": {
        "colab": {
          "base_uri": "https://localhost:8080/",
          "height": 206
        },
        "id": "7CvNa72IkZ0O",
        "outputId": "f86f176a-fb46-49e9-db07-1e87565d0768"
      },
      "execution_count": 81,
      "outputs": [
        {
          "output_type": "execute_result",
          "data": {
            "text/plain": [
              "         Date  Present     Next  Class\n",
              "5  2022-09-23  2641.43  2634.77      0\n",
              "6  2022-09-26  2634.77  2633.18      0\n",
              "29 2022-10-27  2609.28  2612.89      1\n",
              "48 2022-11-23  2674.24  2684.35      1\n",
              "61 2022-12-12  2708.59  2708.52      0"
            ],
            "text/html": [
              "\n",
              "  <div id=\"df-2fc8b82c-cf48-40d0-b248-35e7da4691c0\">\n",
              "    <div class=\"colab-df-container\">\n",
              "      <div>\n",
              "<style scoped>\n",
              "    .dataframe tbody tr th:only-of-type {\n",
              "        vertical-align: middle;\n",
              "    }\n",
              "\n",
              "    .dataframe tbody tr th {\n",
              "        vertical-align: top;\n",
              "    }\n",
              "\n",
              "    .dataframe thead th {\n",
              "        text-align: right;\n",
              "    }\n",
              "</style>\n",
              "<table border=\"1\" class=\"dataframe\">\n",
              "  <thead>\n",
              "    <tr style=\"text-align: right;\">\n",
              "      <th></th>\n",
              "      <th>Date</th>\n",
              "      <th>Present</th>\n",
              "      <th>Next</th>\n",
              "      <th>Class</th>\n",
              "    </tr>\n",
              "  </thead>\n",
              "  <tbody>\n",
              "    <tr>\n",
              "      <th>5</th>\n",
              "      <td>2022-09-23</td>\n",
              "      <td>2641.43</td>\n",
              "      <td>2634.77</td>\n",
              "      <td>0</td>\n",
              "    </tr>\n",
              "    <tr>\n",
              "      <th>6</th>\n",
              "      <td>2022-09-26</td>\n",
              "      <td>2634.77</td>\n",
              "      <td>2633.18</td>\n",
              "      <td>0</td>\n",
              "    </tr>\n",
              "    <tr>\n",
              "      <th>29</th>\n",
              "      <td>2022-10-27</td>\n",
              "      <td>2609.28</td>\n",
              "      <td>2612.89</td>\n",
              "      <td>1</td>\n",
              "    </tr>\n",
              "    <tr>\n",
              "      <th>48</th>\n",
              "      <td>2022-11-23</td>\n",
              "      <td>2674.24</td>\n",
              "      <td>2684.35</td>\n",
              "      <td>1</td>\n",
              "    </tr>\n",
              "    <tr>\n",
              "      <th>61</th>\n",
              "      <td>2022-12-12</td>\n",
              "      <td>2708.59</td>\n",
              "      <td>2708.52</td>\n",
              "      <td>0</td>\n",
              "    </tr>\n",
              "  </tbody>\n",
              "</table>\n",
              "</div>\n",
              "      <button class=\"colab-df-convert\" onclick=\"convertToInteractive('df-2fc8b82c-cf48-40d0-b248-35e7da4691c0')\"\n",
              "              title=\"Convert this dataframe to an interactive table.\"\n",
              "              style=\"display:none;\">\n",
              "        \n",
              "  <svg xmlns=\"http://www.w3.org/2000/svg\" height=\"24px\"viewBox=\"0 0 24 24\"\n",
              "       width=\"24px\">\n",
              "    <path d=\"M0 0h24v24H0V0z\" fill=\"none\"/>\n",
              "    <path d=\"M18.56 5.44l.94 2.06.94-2.06 2.06-.94-2.06-.94-.94-2.06-.94 2.06-2.06.94zm-11 1L8.5 8.5l.94-2.06 2.06-.94-2.06-.94L8.5 2.5l-.94 2.06-2.06.94zm10 10l.94 2.06.94-2.06 2.06-.94-2.06-.94-.94-2.06-.94 2.06-2.06.94z\"/><path d=\"M17.41 7.96l-1.37-1.37c-.4-.4-.92-.59-1.43-.59-.52 0-1.04.2-1.43.59L10.3 9.45l-7.72 7.72c-.78.78-.78 2.05 0 2.83L4 21.41c.39.39.9.59 1.41.59.51 0 1.02-.2 1.41-.59l7.78-7.78 2.81-2.81c.8-.78.8-2.07 0-2.86zM5.41 20L4 18.59l7.72-7.72 1.47 1.35L5.41 20z\"/>\n",
              "  </svg>\n",
              "      </button>\n",
              "      \n",
              "  <style>\n",
              "    .colab-df-container {\n",
              "      display:flex;\n",
              "      flex-wrap:wrap;\n",
              "      gap: 12px;\n",
              "    }\n",
              "\n",
              "    .colab-df-convert {\n",
              "      background-color: #E8F0FE;\n",
              "      border: none;\n",
              "      border-radius: 50%;\n",
              "      cursor: pointer;\n",
              "      display: none;\n",
              "      fill: #1967D2;\n",
              "      height: 32px;\n",
              "      padding: 0 0 0 0;\n",
              "      width: 32px;\n",
              "    }\n",
              "\n",
              "    .colab-df-convert:hover {\n",
              "      background-color: #E2EBFA;\n",
              "      box-shadow: 0px 1px 2px rgba(60, 64, 67, 0.3), 0px 1px 3px 1px rgba(60, 64, 67, 0.15);\n",
              "      fill: #174EA6;\n",
              "    }\n",
              "\n",
              "    [theme=dark] .colab-df-convert {\n",
              "      background-color: #3B4455;\n",
              "      fill: #D2E3FC;\n",
              "    }\n",
              "\n",
              "    [theme=dark] .colab-df-convert:hover {\n",
              "      background-color: #434B5C;\n",
              "      box-shadow: 0px 1px 3px 1px rgba(0, 0, 0, 0.15);\n",
              "      filter: drop-shadow(0px 1px 2px rgba(0, 0, 0, 0.3));\n",
              "      fill: #FFFFFF;\n",
              "    }\n",
              "  </style>\n",
              "\n",
              "      <script>\n",
              "        const buttonEl =\n",
              "          document.querySelector('#df-2fc8b82c-cf48-40d0-b248-35e7da4691c0 button.colab-df-convert');\n",
              "        buttonEl.style.display =\n",
              "          google.colab.kernel.accessAllowed ? 'block' : 'none';\n",
              "\n",
              "        async function convertToInteractive(key) {\n",
              "          const element = document.querySelector('#df-2fc8b82c-cf48-40d0-b248-35e7da4691c0');\n",
              "          const dataTable =\n",
              "            await google.colab.kernel.invokeFunction('convertToInteractive',\n",
              "                                                     [key], {});\n",
              "          if (!dataTable) return;\n",
              "\n",
              "          const docLinkHtml = 'Like what you see? Visit the ' +\n",
              "            '<a target=\"_blank\" href=https://colab.research.google.com/notebooks/data_table.ipynb>data table notebook</a>'\n",
              "            + ' to learn more about interactive tables.';\n",
              "          element.innerHTML = '';\n",
              "          dataTable['output_type'] = 'display_data';\n",
              "          await google.colab.output.renderOutput(dataTable, element);\n",
              "          const docLink = document.createElement('div');\n",
              "          docLink.innerHTML = docLinkHtml;\n",
              "          element.appendChild(docLink);\n",
              "        }\n",
              "      </script>\n",
              "    </div>\n",
              "  </div>\n",
              "  "
            ]
          },
          "metadata": {},
          "execution_count": 81
        }
      ]
    },
    {
      "cell_type": "code",
      "source": [
        "# Predict target inference\n",
        "y_inf = rfc_model.predict(df_inf)\n",
        "y_inf = pd.DataFrame(y_inf, columns=['Prediction'],index=df_inf.index)"
      ],
      "metadata": {
        "id": "ooUyIdYwkfGS"
      },
      "execution_count": 82,
      "outputs": []
    },
    {
      "cell_type": "code",
      "source": [
        "# Comparing the real target and prediction\n",
        "model_inf = pd.concat([df_inf['Class'], y_inf['Prediction']], axis=1).sort_index()\n",
        "model_inf"
      ],
      "metadata": {
        "colab": {
          "base_uri": "https://localhost:8080/",
          "height": 206
        },
        "id": "Ji7LnK-elJ0J",
        "outputId": "e248e21c-2e6a-48e2-8877-b8ebef3c1f02"
      },
      "execution_count": 83,
      "outputs": [
        {
          "output_type": "execute_result",
          "data": {
            "text/plain": [
              "    Class  Prediction\n",
              "5       0           0\n",
              "6       0           0\n",
              "29      1           1\n",
              "48      1           1\n",
              "61      0           1"
            ],
            "text/html": [
              "\n",
              "  <div id=\"df-9c7a92d0-6a5e-4229-95cf-e08f09d211e3\">\n",
              "    <div class=\"colab-df-container\">\n",
              "      <div>\n",
              "<style scoped>\n",
              "    .dataframe tbody tr th:only-of-type {\n",
              "        vertical-align: middle;\n",
              "    }\n",
              "\n",
              "    .dataframe tbody tr th {\n",
              "        vertical-align: top;\n",
              "    }\n",
              "\n",
              "    .dataframe thead th {\n",
              "        text-align: right;\n",
              "    }\n",
              "</style>\n",
              "<table border=\"1\" class=\"dataframe\">\n",
              "  <thead>\n",
              "    <tr style=\"text-align: right;\">\n",
              "      <th></th>\n",
              "      <th>Class</th>\n",
              "      <th>Prediction</th>\n",
              "    </tr>\n",
              "  </thead>\n",
              "  <tbody>\n",
              "    <tr>\n",
              "      <th>5</th>\n",
              "      <td>0</td>\n",
              "      <td>0</td>\n",
              "    </tr>\n",
              "    <tr>\n",
              "      <th>6</th>\n",
              "      <td>0</td>\n",
              "      <td>0</td>\n",
              "    </tr>\n",
              "    <tr>\n",
              "      <th>29</th>\n",
              "      <td>1</td>\n",
              "      <td>1</td>\n",
              "    </tr>\n",
              "    <tr>\n",
              "      <th>48</th>\n",
              "      <td>1</td>\n",
              "      <td>1</td>\n",
              "    </tr>\n",
              "    <tr>\n",
              "      <th>61</th>\n",
              "      <td>0</td>\n",
              "      <td>1</td>\n",
              "    </tr>\n",
              "  </tbody>\n",
              "</table>\n",
              "</div>\n",
              "      <button class=\"colab-df-convert\" onclick=\"convertToInteractive('df-9c7a92d0-6a5e-4229-95cf-e08f09d211e3')\"\n",
              "              title=\"Convert this dataframe to an interactive table.\"\n",
              "              style=\"display:none;\">\n",
              "        \n",
              "  <svg xmlns=\"http://www.w3.org/2000/svg\" height=\"24px\"viewBox=\"0 0 24 24\"\n",
              "       width=\"24px\">\n",
              "    <path d=\"M0 0h24v24H0V0z\" fill=\"none\"/>\n",
              "    <path d=\"M18.56 5.44l.94 2.06.94-2.06 2.06-.94-2.06-.94-.94-2.06-.94 2.06-2.06.94zm-11 1L8.5 8.5l.94-2.06 2.06-.94-2.06-.94L8.5 2.5l-.94 2.06-2.06.94zm10 10l.94 2.06.94-2.06 2.06-.94-2.06-.94-.94-2.06-.94 2.06-2.06.94z\"/><path d=\"M17.41 7.96l-1.37-1.37c-.4-.4-.92-.59-1.43-.59-.52 0-1.04.2-1.43.59L10.3 9.45l-7.72 7.72c-.78.78-.78 2.05 0 2.83L4 21.41c.39.39.9.59 1.41.59.51 0 1.02-.2 1.41-.59l7.78-7.78 2.81-2.81c.8-.78.8-2.07 0-2.86zM5.41 20L4 18.59l7.72-7.72 1.47 1.35L5.41 20z\"/>\n",
              "  </svg>\n",
              "      </button>\n",
              "      \n",
              "  <style>\n",
              "    .colab-df-container {\n",
              "      display:flex;\n",
              "      flex-wrap:wrap;\n",
              "      gap: 12px;\n",
              "    }\n",
              "\n",
              "    .colab-df-convert {\n",
              "      background-color: #E8F0FE;\n",
              "      border: none;\n",
              "      border-radius: 50%;\n",
              "      cursor: pointer;\n",
              "      display: none;\n",
              "      fill: #1967D2;\n",
              "      height: 32px;\n",
              "      padding: 0 0 0 0;\n",
              "      width: 32px;\n",
              "    }\n",
              "\n",
              "    .colab-df-convert:hover {\n",
              "      background-color: #E2EBFA;\n",
              "      box-shadow: 0px 1px 2px rgba(60, 64, 67, 0.3), 0px 1px 3px 1px rgba(60, 64, 67, 0.15);\n",
              "      fill: #174EA6;\n",
              "    }\n",
              "\n",
              "    [theme=dark] .colab-df-convert {\n",
              "      background-color: #3B4455;\n",
              "      fill: #D2E3FC;\n",
              "    }\n",
              "\n",
              "    [theme=dark] .colab-df-convert:hover {\n",
              "      background-color: #434B5C;\n",
              "      box-shadow: 0px 1px 3px 1px rgba(0, 0, 0, 0.15);\n",
              "      filter: drop-shadow(0px 1px 2px rgba(0, 0, 0, 0.3));\n",
              "      fill: #FFFFFF;\n",
              "    }\n",
              "  </style>\n",
              "\n",
              "      <script>\n",
              "        const buttonEl =\n",
              "          document.querySelector('#df-9c7a92d0-6a5e-4229-95cf-e08f09d211e3 button.colab-df-convert');\n",
              "        buttonEl.style.display =\n",
              "          google.colab.kernel.accessAllowed ? 'block' : 'none';\n",
              "\n",
              "        async function convertToInteractive(key) {\n",
              "          const element = document.querySelector('#df-9c7a92d0-6a5e-4229-95cf-e08f09d211e3');\n",
              "          const dataTable =\n",
              "            await google.colab.kernel.invokeFunction('convertToInteractive',\n",
              "                                                     [key], {});\n",
              "          if (!dataTable) return;\n",
              "\n",
              "          const docLinkHtml = 'Like what you see? Visit the ' +\n",
              "            '<a target=\"_blank\" href=https://colab.research.google.com/notebooks/data_table.ipynb>data table notebook</a>'\n",
              "            + ' to learn more about interactive tables.';\n",
              "          element.innerHTML = '';\n",
              "          dataTable['output_type'] = 'display_data';\n",
              "          await google.colab.output.renderOutput(dataTable, element);\n",
              "          const docLink = document.createElement('div');\n",
              "          docLink.innerHTML = docLinkHtml;\n",
              "          element.appendChild(docLink);\n",
              "        }\n",
              "      </script>\n",
              "    </div>\n",
              "  </div>\n",
              "  "
            ]
          },
          "metadata": {},
          "execution_count": 83
        }
      ]
    }
  ]
}