{
  "nbformat": 4,
  "nbformat_minor": 0,
  "metadata": {
    "colab": {
      "provenance": [],
      "toc_visible": true
    },
    "kernelspec": {
      "name": "python3",
      "display_name": "Python 3"
    },
    "language_info": {
      "name": "python"
    },
    "gpuClass": "standard"
  },
  "cells": [
    {
      "cell_type": "markdown",
      "source": [
        "# **Manulife Obligasi Unggulan Kelas A**"
      ],
      "metadata": {
        "id": "PetGFZKdliQu"
      }
    },
    {
      "cell_type": "markdown",
      "source": [
        "## **Importing Libraries**"
      ],
      "metadata": {
        "id": "zjg1MHE5iQ47"
      }
    },
    {
      "cell_type": "code",
      "execution_count": 1,
      "metadata": {
        "id": "1AKF5pcUiL5Z"
      },
      "outputs": [],
      "source": [
        "#main\n",
        "import pandas as pd\n",
        "import numpy as np\n",
        "\n",
        "import warnings\n",
        "warnings.filterwarnings('ignore')\n",
        "\n",
        "#viz\n",
        "import seaborn as sns \n",
        "\n",
        "import matplotlib\n",
        "from matplotlib import pyplot as plt\n",
        "%matplotlib inline\n",
        "matplotlib.rcParams['figure.figsize'] = (20,8)\n",
        "\n",
        "# Feature Selection\n",
        "from sklearn.model_selection import train_test_split, cross_val_score, GridSearchCV\n",
        "\n",
        "# Preprocessing Libraries\n",
        "from sklearn.pipeline import Pipeline\n",
        "from sklearn.compose import ColumnTransformer\n",
        "from sklearn.preprocessing import MinMaxScaler, StandardScaler\n",
        "\n",
        "# For Regression Problems\n",
        "from sklearn.linear_model import LinearRegression\n",
        "\n",
        "# Import Classification Algorithms\n",
        "from sklearn.linear_model import LogisticRegression\n",
        "from sklearn.svm import SVC\n",
        "from sklearn.tree import DecisionTreeClassifier\n",
        "from sklearn.ensemble import RandomForestClassifier\n",
        "\n",
        "# Import Evaluation Libraries for Classification\n",
        "from sklearn.metrics import accuracy_score, classification_report, ConfusionMatrixDisplay, confusion_matrix\n",
        "from sklearn.metrics import precision_score, recall_score, f1_score\n",
        "\n",
        "# Import Evaluation Libraries for Regression\n",
        "from sklearn.metrics import mean_squared_error, mean_absolute_error, r2_score\n",
        "\n",
        "#mod\n",
        "import tensorflow as tf\n",
        "from tensorflow.keras import Sequential\n",
        "from sklearn.preprocessing import MinMaxScaler\n",
        "from tensorflow.keras.layers import Dense, LSTM, Dropout \n",
        "from sklearn.metrics import mean_absolute_error\n",
        "\n",
        "# Save and Load Model\n",
        "import joblib\n",
        "import json"
      ]
    },
    {
      "cell_type": "markdown",
      "source": [
        "## **Data Loading**"
      ],
      "metadata": {
        "id": "WsnVbewEiUlU"
      }
    },
    {
      "cell_type": "code",
      "source": [
        "# Data Loading Raw\n",
        "df = pd.read_csv('https://raw.githubusercontent.com/H8-Assignments-Bay/p2---final-project-ftds-016-rmt-group-002/draft_model/Dataset_clean/Med%20Clean/Manulife%20Obligasi%20Unggulan%20Kelas%20A.csv')\n",
        "df"
      ],
      "metadata": {
        "colab": {
          "base_uri": "https://localhost:8080/",
          "height": 424
        },
        "id": "iN8JqGBbiW_Q",
        "outputId": "c76803df-0faf-43cd-8f5e-fe51aaf95af4"
      },
      "execution_count": 2,
      "outputs": [
        {
          "output_type": "execute_result",
          "data": {
            "text/plain": [
              "    Unnamed: 0        date    value     Next  Class\n",
              "0            0  2022-09-16  2819.01  2817.60      0\n",
              "1            1  2022-09-19  2817.60  2818.42      1\n",
              "2            2  2022-09-20  2818.42  2817.41      0\n",
              "3            3  2022-09-21  2817.41  2811.73      0\n",
              "4            4  2022-09-22  2811.73  2808.77      0\n",
              "..         ...         ...      ...      ...    ...\n",
              "61          61  2022-12-12  2845.37  2844.53      0\n",
              "62          62  2022-12-13  2844.53  2847.11      1\n",
              "63          63  2022-12-14  2847.11  2809.19      0\n",
              "64          64  2022-12-15  2809.19  2812.27      1\n",
              "65          65  2022-12-16  2812.27      NaN      0\n",
              "\n",
              "[66 rows x 5 columns]"
            ],
            "text/html": [
              "\n",
              "  <div id=\"df-2e5b4d5b-78ff-4e4e-95cf-7c301515fcf8\">\n",
              "    <div class=\"colab-df-container\">\n",
              "      <div>\n",
              "<style scoped>\n",
              "    .dataframe tbody tr th:only-of-type {\n",
              "        vertical-align: middle;\n",
              "    }\n",
              "\n",
              "    .dataframe tbody tr th {\n",
              "        vertical-align: top;\n",
              "    }\n",
              "\n",
              "    .dataframe thead th {\n",
              "        text-align: right;\n",
              "    }\n",
              "</style>\n",
              "<table border=\"1\" class=\"dataframe\">\n",
              "  <thead>\n",
              "    <tr style=\"text-align: right;\">\n",
              "      <th></th>\n",
              "      <th>Unnamed: 0</th>\n",
              "      <th>date</th>\n",
              "      <th>value</th>\n",
              "      <th>Next</th>\n",
              "      <th>Class</th>\n",
              "    </tr>\n",
              "  </thead>\n",
              "  <tbody>\n",
              "    <tr>\n",
              "      <th>0</th>\n",
              "      <td>0</td>\n",
              "      <td>2022-09-16</td>\n",
              "      <td>2819.01</td>\n",
              "      <td>2817.60</td>\n",
              "      <td>0</td>\n",
              "    </tr>\n",
              "    <tr>\n",
              "      <th>1</th>\n",
              "      <td>1</td>\n",
              "      <td>2022-09-19</td>\n",
              "      <td>2817.60</td>\n",
              "      <td>2818.42</td>\n",
              "      <td>1</td>\n",
              "    </tr>\n",
              "    <tr>\n",
              "      <th>2</th>\n",
              "      <td>2</td>\n",
              "      <td>2022-09-20</td>\n",
              "      <td>2818.42</td>\n",
              "      <td>2817.41</td>\n",
              "      <td>0</td>\n",
              "    </tr>\n",
              "    <tr>\n",
              "      <th>3</th>\n",
              "      <td>3</td>\n",
              "      <td>2022-09-21</td>\n",
              "      <td>2817.41</td>\n",
              "      <td>2811.73</td>\n",
              "      <td>0</td>\n",
              "    </tr>\n",
              "    <tr>\n",
              "      <th>4</th>\n",
              "      <td>4</td>\n",
              "      <td>2022-09-22</td>\n",
              "      <td>2811.73</td>\n",
              "      <td>2808.77</td>\n",
              "      <td>0</td>\n",
              "    </tr>\n",
              "    <tr>\n",
              "      <th>...</th>\n",
              "      <td>...</td>\n",
              "      <td>...</td>\n",
              "      <td>...</td>\n",
              "      <td>...</td>\n",
              "      <td>...</td>\n",
              "    </tr>\n",
              "    <tr>\n",
              "      <th>61</th>\n",
              "      <td>61</td>\n",
              "      <td>2022-12-12</td>\n",
              "      <td>2845.37</td>\n",
              "      <td>2844.53</td>\n",
              "      <td>0</td>\n",
              "    </tr>\n",
              "    <tr>\n",
              "      <th>62</th>\n",
              "      <td>62</td>\n",
              "      <td>2022-12-13</td>\n",
              "      <td>2844.53</td>\n",
              "      <td>2847.11</td>\n",
              "      <td>1</td>\n",
              "    </tr>\n",
              "    <tr>\n",
              "      <th>63</th>\n",
              "      <td>63</td>\n",
              "      <td>2022-12-14</td>\n",
              "      <td>2847.11</td>\n",
              "      <td>2809.19</td>\n",
              "      <td>0</td>\n",
              "    </tr>\n",
              "    <tr>\n",
              "      <th>64</th>\n",
              "      <td>64</td>\n",
              "      <td>2022-12-15</td>\n",
              "      <td>2809.19</td>\n",
              "      <td>2812.27</td>\n",
              "      <td>1</td>\n",
              "    </tr>\n",
              "    <tr>\n",
              "      <th>65</th>\n",
              "      <td>65</td>\n",
              "      <td>2022-12-16</td>\n",
              "      <td>2812.27</td>\n",
              "      <td>NaN</td>\n",
              "      <td>0</td>\n",
              "    </tr>\n",
              "  </tbody>\n",
              "</table>\n",
              "<p>66 rows × 5 columns</p>\n",
              "</div>\n",
              "      <button class=\"colab-df-convert\" onclick=\"convertToInteractive('df-2e5b4d5b-78ff-4e4e-95cf-7c301515fcf8')\"\n",
              "              title=\"Convert this dataframe to an interactive table.\"\n",
              "              style=\"display:none;\">\n",
              "        \n",
              "  <svg xmlns=\"http://www.w3.org/2000/svg\" height=\"24px\"viewBox=\"0 0 24 24\"\n",
              "       width=\"24px\">\n",
              "    <path d=\"M0 0h24v24H0V0z\" fill=\"none\"/>\n",
              "    <path d=\"M18.56 5.44l.94 2.06.94-2.06 2.06-.94-2.06-.94-.94-2.06-.94 2.06-2.06.94zm-11 1L8.5 8.5l.94-2.06 2.06-.94-2.06-.94L8.5 2.5l-.94 2.06-2.06.94zm10 10l.94 2.06.94-2.06 2.06-.94-2.06-.94-.94-2.06-.94 2.06-2.06.94z\"/><path d=\"M17.41 7.96l-1.37-1.37c-.4-.4-.92-.59-1.43-.59-.52 0-1.04.2-1.43.59L10.3 9.45l-7.72 7.72c-.78.78-.78 2.05 0 2.83L4 21.41c.39.39.9.59 1.41.59.51 0 1.02-.2 1.41-.59l7.78-7.78 2.81-2.81c.8-.78.8-2.07 0-2.86zM5.41 20L4 18.59l7.72-7.72 1.47 1.35L5.41 20z\"/>\n",
              "  </svg>\n",
              "      </button>\n",
              "      \n",
              "  <style>\n",
              "    .colab-df-container {\n",
              "      display:flex;\n",
              "      flex-wrap:wrap;\n",
              "      gap: 12px;\n",
              "    }\n",
              "\n",
              "    .colab-df-convert {\n",
              "      background-color: #E8F0FE;\n",
              "      border: none;\n",
              "      border-radius: 50%;\n",
              "      cursor: pointer;\n",
              "      display: none;\n",
              "      fill: #1967D2;\n",
              "      height: 32px;\n",
              "      padding: 0 0 0 0;\n",
              "      width: 32px;\n",
              "    }\n",
              "\n",
              "    .colab-df-convert:hover {\n",
              "      background-color: #E2EBFA;\n",
              "      box-shadow: 0px 1px 2px rgba(60, 64, 67, 0.3), 0px 1px 3px 1px rgba(60, 64, 67, 0.15);\n",
              "      fill: #174EA6;\n",
              "    }\n",
              "\n",
              "    [theme=dark] .colab-df-convert {\n",
              "      background-color: #3B4455;\n",
              "      fill: #D2E3FC;\n",
              "    }\n",
              "\n",
              "    [theme=dark] .colab-df-convert:hover {\n",
              "      background-color: #434B5C;\n",
              "      box-shadow: 0px 1px 3px 1px rgba(0, 0, 0, 0.15);\n",
              "      filter: drop-shadow(0px 1px 2px rgba(0, 0, 0, 0.3));\n",
              "      fill: #FFFFFF;\n",
              "    }\n",
              "  </style>\n",
              "\n",
              "      <script>\n",
              "        const buttonEl =\n",
              "          document.querySelector('#df-2e5b4d5b-78ff-4e4e-95cf-7c301515fcf8 button.colab-df-convert');\n",
              "        buttonEl.style.display =\n",
              "          google.colab.kernel.accessAllowed ? 'block' : 'none';\n",
              "\n",
              "        async function convertToInteractive(key) {\n",
              "          const element = document.querySelector('#df-2e5b4d5b-78ff-4e4e-95cf-7c301515fcf8');\n",
              "          const dataTable =\n",
              "            await google.colab.kernel.invokeFunction('convertToInteractive',\n",
              "                                                     [key], {});\n",
              "          if (!dataTable) return;\n",
              "\n",
              "          const docLinkHtml = 'Like what you see? Visit the ' +\n",
              "            '<a target=\"_blank\" href=https://colab.research.google.com/notebooks/data_table.ipynb>data table notebook</a>'\n",
              "            + ' to learn more about interactive tables.';\n",
              "          element.innerHTML = '';\n",
              "          dataTable['output_type'] = 'display_data';\n",
              "          await google.colab.output.renderOutput(dataTable, element);\n",
              "          const docLink = document.createElement('div');\n",
              "          docLink.innerHTML = docLinkHtml;\n",
              "          element.appendChild(docLink);\n",
              "        }\n",
              "      </script>\n",
              "    </div>\n",
              "  </div>\n",
              "  "
            ]
          },
          "metadata": {},
          "execution_count": 2
        }
      ]
    },
    {
      "cell_type": "code",
      "source": [
        "df.tail()"
      ],
      "metadata": {
        "colab": {
          "base_uri": "https://localhost:8080/",
          "height": 206
        },
        "id": "BJzsuxyX-SfU",
        "outputId": "9a53dac0-f436-4cd9-d2ca-0ce250303670"
      },
      "execution_count": 3,
      "outputs": [
        {
          "output_type": "execute_result",
          "data": {
            "text/plain": [
              "    Unnamed: 0        date    value     Next  Class\n",
              "61          61  2022-12-12  2845.37  2844.53      0\n",
              "62          62  2022-12-13  2844.53  2847.11      1\n",
              "63          63  2022-12-14  2847.11  2809.19      0\n",
              "64          64  2022-12-15  2809.19  2812.27      1\n",
              "65          65  2022-12-16  2812.27      NaN      0"
            ],
            "text/html": [
              "\n",
              "  <div id=\"df-3cd3c17a-92b3-459c-9120-0855278cc445\">\n",
              "    <div class=\"colab-df-container\">\n",
              "      <div>\n",
              "<style scoped>\n",
              "    .dataframe tbody tr th:only-of-type {\n",
              "        vertical-align: middle;\n",
              "    }\n",
              "\n",
              "    .dataframe tbody tr th {\n",
              "        vertical-align: top;\n",
              "    }\n",
              "\n",
              "    .dataframe thead th {\n",
              "        text-align: right;\n",
              "    }\n",
              "</style>\n",
              "<table border=\"1\" class=\"dataframe\">\n",
              "  <thead>\n",
              "    <tr style=\"text-align: right;\">\n",
              "      <th></th>\n",
              "      <th>Unnamed: 0</th>\n",
              "      <th>date</th>\n",
              "      <th>value</th>\n",
              "      <th>Next</th>\n",
              "      <th>Class</th>\n",
              "    </tr>\n",
              "  </thead>\n",
              "  <tbody>\n",
              "    <tr>\n",
              "      <th>61</th>\n",
              "      <td>61</td>\n",
              "      <td>2022-12-12</td>\n",
              "      <td>2845.37</td>\n",
              "      <td>2844.53</td>\n",
              "      <td>0</td>\n",
              "    </tr>\n",
              "    <tr>\n",
              "      <th>62</th>\n",
              "      <td>62</td>\n",
              "      <td>2022-12-13</td>\n",
              "      <td>2844.53</td>\n",
              "      <td>2847.11</td>\n",
              "      <td>1</td>\n",
              "    </tr>\n",
              "    <tr>\n",
              "      <th>63</th>\n",
              "      <td>63</td>\n",
              "      <td>2022-12-14</td>\n",
              "      <td>2847.11</td>\n",
              "      <td>2809.19</td>\n",
              "      <td>0</td>\n",
              "    </tr>\n",
              "    <tr>\n",
              "      <th>64</th>\n",
              "      <td>64</td>\n",
              "      <td>2022-12-15</td>\n",
              "      <td>2809.19</td>\n",
              "      <td>2812.27</td>\n",
              "      <td>1</td>\n",
              "    </tr>\n",
              "    <tr>\n",
              "      <th>65</th>\n",
              "      <td>65</td>\n",
              "      <td>2022-12-16</td>\n",
              "      <td>2812.27</td>\n",
              "      <td>NaN</td>\n",
              "      <td>0</td>\n",
              "    </tr>\n",
              "  </tbody>\n",
              "</table>\n",
              "</div>\n",
              "      <button class=\"colab-df-convert\" onclick=\"convertToInteractive('df-3cd3c17a-92b3-459c-9120-0855278cc445')\"\n",
              "              title=\"Convert this dataframe to an interactive table.\"\n",
              "              style=\"display:none;\">\n",
              "        \n",
              "  <svg xmlns=\"http://www.w3.org/2000/svg\" height=\"24px\"viewBox=\"0 0 24 24\"\n",
              "       width=\"24px\">\n",
              "    <path d=\"M0 0h24v24H0V0z\" fill=\"none\"/>\n",
              "    <path d=\"M18.56 5.44l.94 2.06.94-2.06 2.06-.94-2.06-.94-.94-2.06-.94 2.06-2.06.94zm-11 1L8.5 8.5l.94-2.06 2.06-.94-2.06-.94L8.5 2.5l-.94 2.06-2.06.94zm10 10l.94 2.06.94-2.06 2.06-.94-2.06-.94-.94-2.06-.94 2.06-2.06.94z\"/><path d=\"M17.41 7.96l-1.37-1.37c-.4-.4-.92-.59-1.43-.59-.52 0-1.04.2-1.43.59L10.3 9.45l-7.72 7.72c-.78.78-.78 2.05 0 2.83L4 21.41c.39.39.9.59 1.41.59.51 0 1.02-.2 1.41-.59l7.78-7.78 2.81-2.81c.8-.78.8-2.07 0-2.86zM5.41 20L4 18.59l7.72-7.72 1.47 1.35L5.41 20z\"/>\n",
              "  </svg>\n",
              "      </button>\n",
              "      \n",
              "  <style>\n",
              "    .colab-df-container {\n",
              "      display:flex;\n",
              "      flex-wrap:wrap;\n",
              "      gap: 12px;\n",
              "    }\n",
              "\n",
              "    .colab-df-convert {\n",
              "      background-color: #E8F0FE;\n",
              "      border: none;\n",
              "      border-radius: 50%;\n",
              "      cursor: pointer;\n",
              "      display: none;\n",
              "      fill: #1967D2;\n",
              "      height: 32px;\n",
              "      padding: 0 0 0 0;\n",
              "      width: 32px;\n",
              "    }\n",
              "\n",
              "    .colab-df-convert:hover {\n",
              "      background-color: #E2EBFA;\n",
              "      box-shadow: 0px 1px 2px rgba(60, 64, 67, 0.3), 0px 1px 3px 1px rgba(60, 64, 67, 0.15);\n",
              "      fill: #174EA6;\n",
              "    }\n",
              "\n",
              "    [theme=dark] .colab-df-convert {\n",
              "      background-color: #3B4455;\n",
              "      fill: #D2E3FC;\n",
              "    }\n",
              "\n",
              "    [theme=dark] .colab-df-convert:hover {\n",
              "      background-color: #434B5C;\n",
              "      box-shadow: 0px 1px 3px 1px rgba(0, 0, 0, 0.15);\n",
              "      filter: drop-shadow(0px 1px 2px rgba(0, 0, 0, 0.3));\n",
              "      fill: #FFFFFF;\n",
              "    }\n",
              "  </style>\n",
              "\n",
              "      <script>\n",
              "        const buttonEl =\n",
              "          document.querySelector('#df-3cd3c17a-92b3-459c-9120-0855278cc445 button.colab-df-convert');\n",
              "        buttonEl.style.display =\n",
              "          google.colab.kernel.accessAllowed ? 'block' : 'none';\n",
              "\n",
              "        async function convertToInteractive(key) {\n",
              "          const element = document.querySelector('#df-3cd3c17a-92b3-459c-9120-0855278cc445');\n",
              "          const dataTable =\n",
              "            await google.colab.kernel.invokeFunction('convertToInteractive',\n",
              "                                                     [key], {});\n",
              "          if (!dataTable) return;\n",
              "\n",
              "          const docLinkHtml = 'Like what you see? Visit the ' +\n",
              "            '<a target=\"_blank\" href=https://colab.research.google.com/notebooks/data_table.ipynb>data table notebook</a>'\n",
              "            + ' to learn more about interactive tables.';\n",
              "          element.innerHTML = '';\n",
              "          dataTable['output_type'] = 'display_data';\n",
              "          await google.colab.output.renderOutput(dataTable, element);\n",
              "          const docLink = document.createElement('div');\n",
              "          docLink.innerHTML = docLinkHtml;\n",
              "          element.appendChild(docLink);\n",
              "        }\n",
              "      </script>\n",
              "    </div>\n",
              "  </div>\n",
              "  "
            ]
          },
          "metadata": {},
          "execution_count": 3
        }
      ]
    },
    {
      "cell_type": "code",
      "source": [
        "df.info()"
      ],
      "metadata": {
        "colab": {
          "base_uri": "https://localhost:8080/"
        },
        "id": "A1oLs9Vy-Vzr",
        "outputId": "3b72fdf8-8557-47d3-a02e-cd3a35ec12f5"
      },
      "execution_count": 4,
      "outputs": [
        {
          "output_type": "stream",
          "name": "stdout",
          "text": [
            "<class 'pandas.core.frame.DataFrame'>\n",
            "RangeIndex: 66 entries, 0 to 65\n",
            "Data columns (total 5 columns):\n",
            " #   Column      Non-Null Count  Dtype  \n",
            "---  ------      --------------  -----  \n",
            " 0   Unnamed: 0  66 non-null     int64  \n",
            " 1   date        66 non-null     object \n",
            " 2   value       66 non-null     float64\n",
            " 3   Next        65 non-null     float64\n",
            " 4   Class       66 non-null     int64  \n",
            "dtypes: float64(2), int64(2), object(1)\n",
            "memory usage: 2.7+ KB\n"
          ]
        }
      ]
    },
    {
      "cell_type": "code",
      "source": [
        "# Checking if the dataframe is already in the type we want to use\n",
        "df['date'] = pd.to_datetime(df['date'])\n",
        "df.columns = df.columns.str.replace(' ', '')\n",
        "df.rename(columns = {'date':'Date', 'value':'Present', 'class':'Class'}, inplace = True)\n",
        "df.info()"
      ],
      "metadata": {
        "colab": {
          "base_uri": "https://localhost:8080/"
        },
        "id": "Tol9MZug9zJI",
        "outputId": "994791b8-3f9d-4ccb-a178-b6e4ff2aafe3"
      },
      "execution_count": 5,
      "outputs": [
        {
          "output_type": "stream",
          "name": "stdout",
          "text": [
            "<class 'pandas.core.frame.DataFrame'>\n",
            "RangeIndex: 66 entries, 0 to 65\n",
            "Data columns (total 5 columns):\n",
            " #   Column     Non-Null Count  Dtype         \n",
            "---  ------     --------------  -----         \n",
            " 0   Unnamed:0  66 non-null     int64         \n",
            " 1   Date       66 non-null     datetime64[ns]\n",
            " 2   Present    66 non-null     float64       \n",
            " 3   Next       65 non-null     float64       \n",
            " 4   Class      66 non-null     int64         \n",
            "dtypes: datetime64[ns](1), float64(2), int64(2)\n",
            "memory usage: 2.7 KB\n"
          ]
        }
      ]
    },
    {
      "cell_type": "markdown",
      "source": [
        "## **EDA**"
      ],
      "metadata": {
        "id": "olZMO5EK-z-w"
      }
    },
    {
      "cell_type": "markdown",
      "source": [
        "### **Labels Analysis**\n",
        "\n",
        "Labels between up and down are **imbalanced**."
      ],
      "metadata": {
        "id": "iJpxwqJUA5Og"
      }
    },
    {
      "cell_type": "code",
      "source": [
        "# Label counts\n",
        "df.Class.value_counts()"
      ],
      "metadata": {
        "colab": {
          "base_uri": "https://localhost:8080/"
        },
        "id": "9QTMY9IRA7go",
        "outputId": "1ea5e0a2-c38c-4552-b9ce-8f11a13fe69b"
      },
      "execution_count": 6,
      "outputs": [
        {
          "output_type": "execute_result",
          "data": {
            "text/plain": [
              "1    37\n",
              "0    29\n",
              "Name: Class, dtype: int64"
            ]
          },
          "metadata": {},
          "execution_count": 6
        }
      ]
    },
    {
      "cell_type": "code",
      "source": [
        "# Creating Plot piechart of Up and Down labels\n",
        "ClassType = dict(df.Class.value_counts())\n",
        "labels = 'Up', 'Down'\n",
        "sizes = [ClassType[1], ClassType[0]]\n",
        "explode = (0, 0.2)\n",
        "\n",
        "with sns.color_palette(\"deep\"):\n",
        "    plt.pie(sizes, explode=explode, labels=labels,\n",
        "    autopct='%1.1f%%', shadow=True, startangle=200)\n",
        "\n",
        "# Plot title\n",
        "plt.axis('equal')\n",
        "plt.title('Piechart of Up and Down Class Prediction')\n",
        "plt.show()\n",
        "     "
      ],
      "metadata": {
        "colab": {
          "base_uri": "https://localhost:8080/",
          "height": 482
        },
        "id": "lNF_B4wABBfx",
        "outputId": "29d8065d-c77b-4bfa-8b6e-91b1252d5008"
      },
      "execution_count": 7,
      "outputs": [
        {
          "output_type": "display_data",
          "data": {
            "text/plain": [
              "<Figure size 1440x576 with 1 Axes>"
            ],
            "image/png": "[encoded data removed]"
          },
          "metadata": {}
        }
      ]
    },
    {
      "cell_type": "markdown",
      "source": [
        "### **NAV Analysis**"
      ],
      "metadata": {
        "id": "9mm4ta2uA1u2"
      }
    },
    {
      "cell_type": "code",
      "source": [
        "# Lineplot Present NAV\n",
        "present_nav = sns.lineplot(data=df, x=\"Date\", y=\"Present\")\n",
        "present_nav"
      ],
      "metadata": {
        "colab": {
          "base_uri": "https://localhost:8080/",
          "height": 514
        },
        "id": "E-cri5O2_C7N",
        "outputId": "c2741453-fc69-44f3-ff9c-91157dce573f"
      },
      "execution_count": 8,
      "outputs": [
        {
          "output_type": "execute_result",
          "data": {
            "text/plain": [
              "<matplotlib.axes._subplots.AxesSubplot at 0x7fd76d5dfe20>"
            ]
          },
          "metadata": {},
          "execution_count": 8
        },
        {
          "output_type": "display_data",
          "data": {
            "text/plain": [
              "<Figure size 1440x576 with 1 Axes>"
            ],
            "image/png": "[encoded data removed]"
          },
          "metadata": {
            "needs_background": "light"
          }
        }
      ]
    },
    {
      "cell_type": "code",
      "source": [
        "# Lineplot Present NAV\n",
        "next_nav = sns.lineplot(data=df, x=\"Date\", y=\"Next\")\n",
        "next_nav"
      ],
      "metadata": {
        "colab": {
          "base_uri": "https://localhost:8080/",
          "height": 514
        },
        "id": "Ex5Qe5rAAXdm",
        "outputId": "40232368-aee3-400c-c310-80625500b94c"
      },
      "execution_count": 9,
      "outputs": [
        {
          "output_type": "execute_result",
          "data": {
            "text/plain": [
              "<matplotlib.axes._subplots.AxesSubplot at 0x7fd7d38f9640>"
            ]
          },
          "metadata": {},
          "execution_count": 9
        },
        {
          "output_type": "display_data",
          "data": {
            "text/plain": [
              "<Figure size 1440x576 with 1 Axes>"
            ],
            "image/png": "[encoded data removed]"
          },
          "metadata": {
            "needs_background": "light"
          }
        }
      ]
    },
    {
      "cell_type": "markdown",
      "source": [
        "### **Correlation Analysis**\n",
        "\n",
        "Apparently \"Next\" NAV\" is 100% correlated with \"Present\" NAV. People tend to predict NAV at least a day before. However, the class correlation with NAV has weak correlations. This means, the model prediction depends on NAV, both Present and Next.\n",
        "\n",
        "The prediction will be using Regression and Classification."
      ],
      "metadata": {
        "id": "8wEeVsOJBufN"
      }
    },
    {
      "cell_type": "code",
      "source": [
        "# Creating new dataframe for NAV and Class correlation\n",
        "nav_correlation = ['Present', 'Next', 'Class']\n",
        "df_corr = df[nav_correlation]\n",
        "df_corr.head()"
      ],
      "metadata": {
        "colab": {
          "base_uri": "https://localhost:8080/",
          "height": 206
        },
        "id": "78kF6raiBx2M",
        "outputId": "2024098a-b70a-4f39-f290-bfa8f8131684"
      },
      "execution_count": 10,
      "outputs": [
        {
          "output_type": "execute_result",
          "data": {
            "text/plain": [
              "   Present     Next  Class\n",
              "0  2819.01  2817.60      0\n",
              "1  2817.60  2818.42      1\n",
              "2  2818.42  2817.41      0\n",
              "3  2817.41  2811.73      0\n",
              "4  2811.73  2808.77      0"
            ],
            "text/html": [
              "\n",
              "  <div id=\"df-5eac743b-8bff-42d0-8648-675adadd7eda\">\n",
              "    <div class=\"colab-df-container\">\n",
              "      <div>\n",
              "<style scoped>\n",
              "    .dataframe tbody tr th:only-of-type {\n",
              "        vertical-align: middle;\n",
              "    }\n",
              "\n",
              "    .dataframe tbody tr th {\n",
              "        vertical-align: top;\n",
              "    }\n",
              "\n",
              "    .dataframe thead th {\n",
              "        text-align: right;\n",
              "    }\n",
              "</style>\n",
              "<table border=\"1\" class=\"dataframe\">\n",
              "  <thead>\n",
              "    <tr style=\"text-align: right;\">\n",
              "      <th></th>\n",
              "      <th>Present</th>\n",
              "      <th>Next</th>\n",
              "      <th>Class</th>\n",
              "    </tr>\n",
              "  </thead>\n",
              "  <tbody>\n",
              "    <tr>\n",
              "      <th>0</th>\n",
              "      <td>2819.01</td>\n",
              "      <td>2817.60</td>\n",
              "      <td>0</td>\n",
              "    </tr>\n",
              "    <tr>\n",
              "      <th>1</th>\n",
              "      <td>2817.60</td>\n",
              "      <td>2818.42</td>\n",
              "      <td>1</td>\n",
              "    </tr>\n",
              "    <tr>\n",
              "      <th>2</th>\n",
              "      <td>2818.42</td>\n",
              "      <td>2817.41</td>\n",
              "      <td>0</td>\n",
              "    </tr>\n",
              "    <tr>\n",
              "      <th>3</th>\n",
              "      <td>2817.41</td>\n",
              "      <td>2811.73</td>\n",
              "      <td>0</td>\n",
              "    </tr>\n",
              "    <tr>\n",
              "      <th>4</th>\n",
              "      <td>2811.73</td>\n",
              "      <td>2808.77</td>\n",
              "      <td>0</td>\n",
              "    </tr>\n",
              "  </tbody>\n",
              "</table>\n",
              "</div>\n",
              "      <button class=\"colab-df-convert\" onclick=\"convertToInteractive('df-5eac743b-8bff-42d0-8648-675adadd7eda')\"\n",
              "              title=\"Convert this dataframe to an interactive table.\"\n",
              "              style=\"display:none;\">\n",
              "        \n",
              "  <svg xmlns=\"http://www.w3.org/2000/svg\" height=\"24px\"viewBox=\"0 0 24 24\"\n",
              "       width=\"24px\">\n",
              "    <path d=\"M0 0h24v24H0V0z\" fill=\"none\"/>\n",
              "    <path d=\"M18.56 5.44l.94 2.06.94-2.06 2.06-.94-2.06-.94-.94-2.06-.94 2.06-2.06.94zm-11 1L8.5 8.5l.94-2.06 2.06-.94-2.06-.94L8.5 2.5l-.94 2.06-2.06.94zm10 10l.94 2.06.94-2.06 2.06-.94-2.06-.94-.94-2.06-.94 2.06-2.06.94z\"/><path d=\"M17.41 7.96l-1.37-1.37c-.4-.4-.92-.59-1.43-.59-.52 0-1.04.2-1.43.59L10.3 9.45l-7.72 7.72c-.78.78-.78 2.05 0 2.83L4 21.41c.39.39.9.59 1.41.59.51 0 1.02-.2 1.41-.59l7.78-7.78 2.81-2.81c.8-.78.8-2.07 0-2.86zM5.41 20L4 18.59l7.72-7.72 1.47 1.35L5.41 20z\"/>\n",
              "  </svg>\n",
              "      </button>\n",
              "      \n",
              "  <style>\n",
              "    .colab-df-container {\n",
              "      display:flex;\n",
              "      flex-wrap:wrap;\n",
              "      gap: 12px;\n",
              "    }\n",
              "\n",
              "    .colab-df-convert {\n",
              "      background-color: #E8F0FE;\n",
              "      border: none;\n",
              "      border-radius: 50%;\n",
              "      cursor: pointer;\n",
              "      display: none;\n",
              "      fill: #1967D2;\n",
              "      height: 32px;\n",
              "      padding: 0 0 0 0;\n",
              "      width: 32px;\n",
              "    }\n",
              "\n",
              "    .colab-df-convert:hover {\n",
              "      background-color: #E2EBFA;\n",
              "      box-shadow: 0px 1px 2px rgba(60, 64, 67, 0.3), 0px 1px 3px 1px rgba(60, 64, 67, 0.15);\n",
              "      fill: #174EA6;\n",
              "    }\n",
              "\n",
              "    [theme=dark] .colab-df-convert {\n",
              "      background-color: #3B4455;\n",
              "      fill: #D2E3FC;\n",
              "    }\n",
              "\n",
              "    [theme=dark] .colab-df-convert:hover {\n",
              "      background-color: #434B5C;\n",
              "      box-shadow: 0px 1px 3px 1px rgba(0, 0, 0, 0.15);\n",
              "      filter: drop-shadow(0px 1px 2px rgba(0, 0, 0, 0.3));\n",
              "      fill: #FFFFFF;\n",
              "    }\n",
              "  </style>\n",
              "\n",
              "      <script>\n",
              "        const buttonEl =\n",
              "          document.querySelector('#df-5eac743b-8bff-42d0-8648-675adadd7eda button.colab-df-convert');\n",
              "        buttonEl.style.display =\n",
              "          google.colab.kernel.accessAllowed ? 'block' : 'none';\n",
              "\n",
              "        async function convertToInteractive(key) {\n",
              "          const element = document.querySelector('#df-5eac743b-8bff-42d0-8648-675adadd7eda');\n",
              "          const dataTable =\n",
              "            await google.colab.kernel.invokeFunction('convertToInteractive',\n",
              "                                                     [key], {});\n",
              "          if (!dataTable) return;\n",
              "\n",
              "          const docLinkHtml = 'Like what you see? Visit the ' +\n",
              "            '<a target=\"_blank\" href=https://colab.research.google.com/notebooks/data_table.ipynb>data table notebook</a>'\n",
              "            + ' to learn more about interactive tables.';\n",
              "          element.innerHTML = '';\n",
              "          dataTable['output_type'] = 'display_data';\n",
              "          await google.colab.output.renderOutput(dataTable, element);\n",
              "          const docLink = document.createElement('div');\n",
              "          docLink.innerHTML = docLinkHtml;\n",
              "          element.appendChild(docLink);\n",
              "        }\n",
              "      </script>\n",
              "    </div>\n",
              "  </div>\n",
              "  "
            ]
          },
          "metadata": {},
          "execution_count": 10
        }
      ]
    },
    {
      "cell_type": "code",
      "source": [
        "# Plotting Correlation Matrix of NAV and Class\n",
        "plt.figure(figsize=(8.5,7))\n",
        "sns.heatmap(df_corr.corr(),annot=True)"
      ],
      "metadata": {
        "colab": {
          "base_uri": "https://localhost:8080/",
          "height": 449
        },
        "id": "JdtUIUqnCLgS",
        "outputId": "af9c0a45-5027-4671-cfce-e472697f77ec"
      },
      "execution_count": 11,
      "outputs": [
        {
          "output_type": "execute_result",
          "data": {
            "text/plain": [
              "<matplotlib.axes._subplots.AxesSubplot at 0x7fd76c8fcc40>"
            ]
          },
          "metadata": {},
          "execution_count": 11
        },
        {
          "output_type": "display_data",
          "data": {
            "text/plain": [
              "<Figure size 612x504 with 2 Axes>"
            ],
            "image/png": "[encoded data removed]"
          },
          "metadata": {
            "needs_background": "light"
          }
        }
      ]
    },
    {
      "cell_type": "markdown",
      "source": [
        "## **Data Preprocessing**"
      ],
      "metadata": {
        "id": "PO4QKfKFDIND"
      }
    },
    {
      "cell_type": "markdown",
      "source": [
        "### **Data Inference**"
      ],
      "metadata": {
        "id": "Gk7S4kXtDidL"
      }
    },
    {
      "cell_type": "code",
      "source": [
        "# Dropping unneccessary features\n",
        "df_ori = df.copy()\n",
        "\n",
        "df = df.drop([65])\n",
        "df = df.drop(['Unnamed:0'],axis=1)"
      ],
      "metadata": {
        "id": "OsCzOURKD0u4"
      },
      "execution_count": 12,
      "outputs": []
    },
    {
      "cell_type": "code",
      "source": [
        "# Creating data inference\n",
        "df_inf = df.sample(5, random_state=33).sort_index()\n",
        "df_inf"
      ],
      "metadata": {
        "colab": {
          "base_uri": "https://localhost:8080/",
          "height": 206
        },
        "id": "fTe1NL6BDh44",
        "outputId": "d48924fb-c247-45ed-e5d8-8a7f4adbfdce"
      },
      "execution_count": 13,
      "outputs": [
        {
          "output_type": "execute_result",
          "data": {
            "text/plain": [
              "         Date  Present     Next  Class\n",
              "5  2022-09-23  2808.77  2803.99      0\n",
              "6  2022-09-26  2803.99  2800.80      0\n",
              "29 2022-10-27  2783.28  2783.62      1\n",
              "48 2022-11-23  2817.16  2822.19      1\n",
              "61 2022-12-12  2845.37  2844.53      0"
            ],
            "text/html": [
              "\n",
              "  <div id=\"df-fa25a25c-bb7f-46ca-ac2a-3823c6674fd6\">\n",
              "    <div class=\"colab-df-container\">\n",
              "      <div>\n",
              "<style scoped>\n",
              "    .dataframe tbody tr th:only-of-type {\n",
              "        vertical-align: middle;\n",
              "    }\n",
              "\n",
              "    .dataframe tbody tr th {\n",
              "        vertical-align: top;\n",
              "    }\n",
              "\n",
              "    .dataframe thead th {\n",
              "        text-align: right;\n",
              "    }\n",
              "</style>\n",
              "<table border=\"1\" class=\"dataframe\">\n",
              "  <thead>\n",
              "    <tr style=\"text-align: right;\">\n",
              "      <th></th>\n",
              "      <th>Date</th>\n",
              "      <th>Present</th>\n",
              "      <th>Next</th>\n",
              "      <th>Class</th>\n",
              "    </tr>\n",
              "  </thead>\n",
              "  <tbody>\n",
              "    <tr>\n",
              "      <th>5</th>\n",
              "      <td>2022-09-23</td>\n",
              "      <td>2808.77</td>\n",
              "      <td>2803.99</td>\n",
              "      <td>0</td>\n",
              "    </tr>\n",
              "    <tr>\n",
              "      <th>6</th>\n",
              "      <td>2022-09-26</td>\n",
              "      <td>2803.99</td>\n",
              "      <td>2800.80</td>\n",
              "      <td>0</td>\n",
              "    </tr>\n",
              "    <tr>\n",
              "      <th>29</th>\n",
              "      <td>2022-10-27</td>\n",
              "      <td>2783.28</td>\n",
              "      <td>2783.62</td>\n",
              "      <td>1</td>\n",
              "    </tr>\n",
              "    <tr>\n",
              "      <th>48</th>\n",
              "      <td>2022-11-23</td>\n",
              "      <td>2817.16</td>\n",
              "      <td>2822.19</td>\n",
              "      <td>1</td>\n",
              "    </tr>\n",
              "    <tr>\n",
              "      <th>61</th>\n",
              "      <td>2022-12-12</td>\n",
              "      <td>2845.37</td>\n",
              "      <td>2844.53</td>\n",
              "      <td>0</td>\n",
              "    </tr>\n",
              "  </tbody>\n",
              "</table>\n",
              "</div>\n",
              "      <button class=\"colab-df-convert\" onclick=\"convertToInteractive('df-fa25a25c-bb7f-46ca-ac2a-3823c6674fd6')\"\n",
              "              title=\"Convert this dataframe to an interactive table.\"\n",
              "              style=\"display:none;\">\n",
              "        \n",
              "  <svg xmlns=\"http://www.w3.org/2000/svg\" height=\"24px\"viewBox=\"0 0 24 24\"\n",
              "       width=\"24px\">\n",
              "    <path d=\"M0 0h24v24H0V0z\" fill=\"none\"/>\n",
              "    <path d=\"M18.56 5.44l.94 2.06.94-2.06 2.06-.94-2.06-.94-.94-2.06-.94 2.06-2.06.94zm-11 1L8.5 8.5l.94-2.06 2.06-.94-2.06-.94L8.5 2.5l-.94 2.06-2.06.94zm10 10l.94 2.06.94-2.06 2.06-.94-2.06-.94-.94-2.06-.94 2.06-2.06.94z\"/><path d=\"M17.41 7.96l-1.37-1.37c-.4-.4-.92-.59-1.43-.59-.52 0-1.04.2-1.43.59L10.3 9.45l-7.72 7.72c-.78.78-.78 2.05 0 2.83L4 21.41c.39.39.9.59 1.41.59.51 0 1.02-.2 1.41-.59l7.78-7.78 2.81-2.81c.8-.78.8-2.07 0-2.86zM5.41 20L4 18.59l7.72-7.72 1.47 1.35L5.41 20z\"/>\n",
              "  </svg>\n",
              "      </button>\n",
              "      \n",
              "  <style>\n",
              "    .colab-df-container {\n",
              "      display:flex;\n",
              "      flex-wrap:wrap;\n",
              "      gap: 12px;\n",
              "    }\n",
              "\n",
              "    .colab-df-convert {\n",
              "      background-color: #E8F0FE;\n",
              "      border: none;\n",
              "      border-radius: 50%;\n",
              "      cursor: pointer;\n",
              "      display: none;\n",
              "      fill: #1967D2;\n",
              "      height: 32px;\n",
              "      padding: 0 0 0 0;\n",
              "      width: 32px;\n",
              "    }\n",
              "\n",
              "    .colab-df-convert:hover {\n",
              "      background-color: #E2EBFA;\n",
              "      box-shadow: 0px 1px 2px rgba(60, 64, 67, 0.3), 0px 1px 3px 1px rgba(60, 64, 67, 0.15);\n",
              "      fill: #174EA6;\n",
              "    }\n",
              "\n",
              "    [theme=dark] .colab-df-convert {\n",
              "      background-color: #3B4455;\n",
              "      fill: #D2E3FC;\n",
              "    }\n",
              "\n",
              "    [theme=dark] .colab-df-convert:hover {\n",
              "      background-color: #434B5C;\n",
              "      box-shadow: 0px 1px 3px 1px rgba(0, 0, 0, 0.15);\n",
              "      filter: drop-shadow(0px 1px 2px rgba(0, 0, 0, 0.3));\n",
              "      fill: #FFFFFF;\n",
              "    }\n",
              "  </style>\n",
              "\n",
              "      <script>\n",
              "        const buttonEl =\n",
              "          document.querySelector('#df-fa25a25c-bb7f-46ca-ac2a-3823c6674fd6 button.colab-df-convert');\n",
              "        buttonEl.style.display =\n",
              "          google.colab.kernel.accessAllowed ? 'block' : 'none';\n",
              "\n",
              "        async function convertToInteractive(key) {\n",
              "          const element = document.querySelector('#df-fa25a25c-bb7f-46ca-ac2a-3823c6674fd6');\n",
              "          const dataTable =\n",
              "            await google.colab.kernel.invokeFunction('convertToInteractive',\n",
              "                                                     [key], {});\n",
              "          if (!dataTable) return;\n",
              "\n",
              "          const docLinkHtml = 'Like what you see? Visit the ' +\n",
              "            '<a target=\"_blank\" href=https://colab.research.google.com/notebooks/data_table.ipynb>data table notebook</a>'\n",
              "            + ' to learn more about interactive tables.';\n",
              "          element.innerHTML = '';\n",
              "          dataTable['output_type'] = 'display_data';\n",
              "          await google.colab.output.renderOutput(dataTable, element);\n",
              "          const docLink = document.createElement('div');\n",
              "          docLink.innerHTML = docLinkHtml;\n",
              "          element.appendChild(docLink);\n",
              "        }\n",
              "      </script>\n",
              "    </div>\n",
              "  </div>\n",
              "  "
            ]
          },
          "metadata": {},
          "execution_count": 13
        }
      ]
    },
    {
      "cell_type": "code",
      "source": [
        "# Drop data inference as a new dataframe\n",
        "df_train_test = df.drop(df_inf.index)\n",
        "df_train_test.shape"
      ],
      "metadata": {
        "colab": {
          "base_uri": "https://localhost:8080/"
        },
        "id": "6lUCtGHTE1bf",
        "outputId": "62f69ca3-2c08-4d88-9e4b-06054279b0b8"
      },
      "execution_count": 14,
      "outputs": [
        {
          "output_type": "execute_result",
          "data": {
            "text/plain": [
              "(60, 4)"
            ]
          },
          "metadata": {},
          "execution_count": 14
        }
      ]
    },
    {
      "cell_type": "markdown",
      "source": [
        "### **Train-Test Set**\n",
        "\n",
        "There is no need to drop any feature. However, train-test dataset splitting needs to be done."
      ],
      "metadata": {
        "id": "uMwjP0TbDLhh"
      }
    },
    {
      "cell_type": "code",
      "source": [
        "# Defining X and y\n",
        "X = df_train_test.drop(['Class','Date'],axis=1)\n",
        "y = pd.DataFrame(df_train_test['Class'])"
      ],
      "metadata": {
        "id": "9XjrbninDcfC"
      },
      "execution_count": 15,
      "outputs": []
    },
    {
      "cell_type": "markdown",
      "source": [
        "#### **Imbalanced Data**\n",
        "\n",
        "Imbalanced Data should be handled first to reduce the bias of the model results, especially for the label/target. The Imbalanced Data will be done by Oversampling."
      ],
      "metadata": {
        "id": "lbWw40o8EDsG"
      }
    },
    {
      "cell_type": "code",
      "source": [
        "print('Original number of target: ', len(y))"
      ],
      "metadata": {
        "colab": {
          "base_uri": "https://localhost:8080/"
        },
        "id": "654zZai8EQ8T",
        "outputId": "3d2839fd-a0eb-4bc3-d8ff-40c4eb5fbab0"
      },
      "execution_count": 16,
      "outputs": [
        {
          "output_type": "stream",
          "name": "stdout",
          "text": [
            "Original number of target:  60\n"
          ]
        }
      ]
    },
    {
      "cell_type": "code",
      "source": [
        "# Define Oversampling\n",
        "from imblearn.over_sampling import SMOTE\n",
        "\n",
        "# Define Oversampling\n",
        "smote = SMOTE(random_state=42)\n",
        "\n",
        "# Fit an resample\n",
        "X, y = smote.fit_resample(X, y)"
      ],
      "metadata": {
        "id": "dOaylEVMGJHS"
      },
      "execution_count": 17,
      "outputs": []
    },
    {
      "cell_type": "code",
      "source": [
        "print('New number of target after oversampling: ', len(y))"
      ],
      "metadata": {
        "colab": {
          "base_uri": "https://localhost:8080/"
        },
        "id": "m8aGSI-PGdIL",
        "outputId": "7062a2f9-dd8c-4af9-c619-9eec4a9d7494"
      },
      "execution_count": 18,
      "outputs": [
        {
          "output_type": "stream",
          "name": "stdout",
          "text": [
            "New number of target after oversampling:  70\n"
          ]
        }
      ]
    },
    {
      "cell_type": "code",
      "source": [
        "# Number of Class after oversampling\n",
        "y.Class.value_counts()"
      ],
      "metadata": {
        "colab": {
          "base_uri": "https://localhost:8080/"
        },
        "id": "VynmMC01Gm2p",
        "outputId": "cbfc7fc4-6594-49ea-f026-7e8a72ad8839"
      },
      "execution_count": 19,
      "outputs": [
        {
          "output_type": "execute_result",
          "data": {
            "text/plain": [
              "0    35\n",
              "1    35\n",
              "Name: Class, dtype: int64"
            ]
          },
          "metadata": {},
          "execution_count": 19
        }
      ]
    },
    {
      "cell_type": "markdown",
      "source": [
        "#### **Train-Test Set Splitting**"
      ],
      "metadata": {
        "id": "Ztd_l-BfG0ce"
      }
    },
    {
      "cell_type": "code",
      "source": [
        "# Splitting dataset into training and testing set\n",
        "X_train, X_test, y_train, y_test = train_test_split(X, y,\n",
        "                                                    test_size=0.3,\n",
        "                                                    random_state=3)\n",
        "\n",
        "print('Train size : ', X_train.shape)\n",
        "print('Test size. : ', X_test.shape)\n",
        "\n",
        "X_train.head()"
      ],
      "metadata": {
        "colab": {
          "base_uri": "https://localhost:8080/",
          "height": 241
        },
        "id": "6O8073W2Gyg-",
        "outputId": "88568bda-672d-469a-ff84-0190de319d72"
      },
      "execution_count": 20,
      "outputs": [
        {
          "output_type": "stream",
          "name": "stdout",
          "text": [
            "Train size :  (49, 2)\n",
            "Test size. :  (21, 2)\n"
          ]
        },
        {
          "output_type": "execute_result",
          "data": {
            "text/plain": [
              "        Present         Next\n",
              "28  2784.970000  2787.540000\n",
              "18  2799.940000  2796.540000\n",
              "9   2797.050000  2801.100000\n",
              "25  2780.280000  2779.660000\n",
              "66  2796.074443  2793.761314"
            ],
            "text/html": [
              "\n",
              "  <div id=\"df-76064a8a-f70a-48f6-bb8b-ca95c9ad5d09\">\n",
              "    <div class=\"colab-df-container\">\n",
              "      <div>\n",
              "<style scoped>\n",
              "    .dataframe tbody tr th:only-of-type {\n",
              "        vertical-align: middle;\n",
              "    }\n",
              "\n",
              "    .dataframe tbody tr th {\n",
              "        vertical-align: top;\n",
              "    }\n",
              "\n",
              "    .dataframe thead th {\n",
              "        text-align: right;\n",
              "    }\n",
              "</style>\n",
              "<table border=\"1\" class=\"dataframe\">\n",
              "  <thead>\n",
              "    <tr style=\"text-align: right;\">\n",
              "      <th></th>\n",
              "      <th>Present</th>\n",
              "      <th>Next</th>\n",
              "    </tr>\n",
              "  </thead>\n",
              "  <tbody>\n",
              "    <tr>\n",
              "      <th>28</th>\n",
              "      <td>2784.970000</td>\n",
              "      <td>2787.540000</td>\n",
              "    </tr>\n",
              "    <tr>\n",
              "      <th>18</th>\n",
              "      <td>2799.940000</td>\n",
              "      <td>2796.540000</td>\n",
              "    </tr>\n",
              "    <tr>\n",
              "      <th>9</th>\n",
              "      <td>2797.050000</td>\n",
              "      <td>2801.100000</td>\n",
              "    </tr>\n",
              "    <tr>\n",
              "      <th>25</th>\n",
              "      <td>2780.280000</td>\n",
              "      <td>2779.660000</td>\n",
              "    </tr>\n",
              "    <tr>\n",
              "      <th>66</th>\n",
              "      <td>2796.074443</td>\n",
              "      <td>2793.761314</td>\n",
              "    </tr>\n",
              "  </tbody>\n",
              "</table>\n",
              "</div>\n",
              "      <button class=\"colab-df-convert\" onclick=\"convertToInteractive('df-76064a8a-f70a-48f6-bb8b-ca95c9ad5d09')\"\n",
              "              title=\"Convert this dataframe to an interactive table.\"\n",
              "              style=\"display:none;\">\n",
              "        \n",
              "  <svg xmlns=\"http://www.w3.org/2000/svg\" height=\"24px\"viewBox=\"0 0 24 24\"\n",
              "       width=\"24px\">\n",
              "    <path d=\"M0 0h24v24H0V0z\" fill=\"none\"/>\n",
              "    <path d=\"M18.56 5.44l.94 2.06.94-2.06 2.06-.94-2.06-.94-.94-2.06-.94 2.06-2.06.94zm-11 1L8.5 8.5l.94-2.06 2.06-.94-2.06-.94L8.5 2.5l-.94 2.06-2.06.94zm10 10l.94 2.06.94-2.06 2.06-.94-2.06-.94-.94-2.06-.94 2.06-2.06.94z\"/><path d=\"M17.41 7.96l-1.37-1.37c-.4-.4-.92-.59-1.43-.59-.52 0-1.04.2-1.43.59L10.3 9.45l-7.72 7.72c-.78.78-.78 2.05 0 2.83L4 21.41c.39.39.9.59 1.41.59.51 0 1.02-.2 1.41-.59l7.78-7.78 2.81-2.81c.8-.78.8-2.07 0-2.86zM5.41 20L4 18.59l7.72-7.72 1.47 1.35L5.41 20z\"/>\n",
              "  </svg>\n",
              "      </button>\n",
              "      \n",
              "  <style>\n",
              "    .colab-df-container {\n",
              "      display:flex;\n",
              "      flex-wrap:wrap;\n",
              "      gap: 12px;\n",
              "    }\n",
              "\n",
              "    .colab-df-convert {\n",
              "      background-color: #E8F0FE;\n",
              "      border: none;\n",
              "      border-radius: 50%;\n",
              "      cursor: pointer;\n",
              "      display: none;\n",
              "      fill: #1967D2;\n",
              "      height: 32px;\n",
              "      padding: 0 0 0 0;\n",
              "      width: 32px;\n",
              "    }\n",
              "\n",
              "    .colab-df-convert:hover {\n",
              "      background-color: #E2EBFA;\n",
              "      box-shadow: 0px 1px 2px rgba(60, 64, 67, 0.3), 0px 1px 3px 1px rgba(60, 64, 67, 0.15);\n",
              "      fill: #174EA6;\n",
              "    }\n",
              "\n",
              "    [theme=dark] .colab-df-convert {\n",
              "      background-color: #3B4455;\n",
              "      fill: #D2E3FC;\n",
              "    }\n",
              "\n",
              "    [theme=dark] .colab-df-convert:hover {\n",
              "      background-color: #434B5C;\n",
              "      box-shadow: 0px 1px 3px 1px rgba(0, 0, 0, 0.15);\n",
              "      filter: drop-shadow(0px 1px 2px rgba(0, 0, 0, 0.3));\n",
              "      fill: #FFFFFF;\n",
              "    }\n",
              "  </style>\n",
              "\n",
              "      <script>\n",
              "        const buttonEl =\n",
              "          document.querySelector('#df-76064a8a-f70a-48f6-bb8b-ca95c9ad5d09 button.colab-df-convert');\n",
              "        buttonEl.style.display =\n",
              "          google.colab.kernel.accessAllowed ? 'block' : 'none';\n",
              "\n",
              "        async function convertToInteractive(key) {\n",
              "          const element = document.querySelector('#df-76064a8a-f70a-48f6-bb8b-ca95c9ad5d09');\n",
              "          const dataTable =\n",
              "            await google.colab.kernel.invokeFunction('convertToInteractive',\n",
              "                                                     [key], {});\n",
              "          if (!dataTable) return;\n",
              "\n",
              "          const docLinkHtml = 'Like what you see? Visit the ' +\n",
              "            '<a target=\"_blank\" href=https://colab.research.google.com/notebooks/data_table.ipynb>data table notebook</a>'\n",
              "            + ' to learn more about interactive tables.';\n",
              "          element.innerHTML = '';\n",
              "          dataTable['output_type'] = 'display_data';\n",
              "          await google.colab.output.renderOutput(dataTable, element);\n",
              "          const docLink = document.createElement('div');\n",
              "          docLink.innerHTML = docLinkHtml;\n",
              "          element.appendChild(docLink);\n",
              "        }\n",
              "      </script>\n",
              "    </div>\n",
              "  </div>\n",
              "  "
            ]
          },
          "metadata": {},
          "execution_count": 20
        }
      ]
    },
    {
      "cell_type": "markdown",
      "source": [
        "### **Pipelines**"
      ],
      "metadata": {
        "id": "jW9jPJYsHVRo"
      }
    },
    {
      "cell_type": "markdown",
      "source": [
        "#### **Data Skewness**\n",
        "\n",
        "Numerical scaler that will be used is MinMaxScaler because of data skewnesses are more than 0.5, which is not even Normal at all."
      ],
      "metadata": {
        "id": "2ZnShVNBHbg9"
      }
    },
    {
      "cell_type": "code",
      "source": [
        "X_train.skew()"
      ],
      "metadata": {
        "colab": {
          "base_uri": "https://localhost:8080/"
        },
        "id": "46-bR3LFHjtK",
        "outputId": "198c3fdc-9154-4c31-ca90-0ae4690b9ac0"
      },
      "execution_count": 21,
      "outputs": [
        {
          "output_type": "execute_result",
          "data": {
            "text/plain": [
              "Present    0.462841\n",
              "Next       0.569538\n",
              "dtype: float64"
            ]
          },
          "metadata": {},
          "execution_count": 21
        }
      ]
    },
    {
      "cell_type": "markdown",
      "source": [
        "#### **Making Pipelines**"
      ],
      "metadata": {
        "id": "dTQc78wBHuhn"
      }
    },
    {
      "cell_type": "code",
      "source": [
        "num_columns = ['Present', 'Next']\n",
        "print('Numerical columns  : ', num_columns)"
      ],
      "metadata": {
        "colab": {
          "base_uri": "https://localhost:8080/"
        },
        "id": "FLo6oc43PReU",
        "outputId": "be73a7ac-025d-4b70-a940-d3e927411cdc"
      },
      "execution_count": 22,
      "outputs": [
        {
          "output_type": "stream",
          "name": "stdout",
          "text": [
            "Numerical columns  :  ['Present', 'Next']\n"
          ]
        }
      ]
    },
    {
      "cell_type": "code",
      "source": [
        "# Preprocessing for numerical data\n",
        "numerical_pipe = Pipeline(steps=\n",
        "                          [('scaler', StandardScaler())])\n",
        "\n",
        "# Bundle preprocessing for numerical and categorical data\n",
        "preprocessor = ColumnTransformer(\n",
        "    transformers=[\n",
        "        ('num', numerical_pipe, num_columns)\n",
        "    ])\n",
        "preprocessor"
      ],
      "metadata": {
        "colab": {
          "base_uri": "https://localhost:8080/"
        },
        "id": "_2ssNTMrHZWD",
        "outputId": "d830236b-9bbc-4052-eca8-5de772e1def1"
      },
      "execution_count": 23,
      "outputs": [
        {
          "output_type": "execute_result",
          "data": {
            "text/plain": [
              "ColumnTransformer(transformers=[('num',\n",
              "                                 Pipeline(steps=[('scaler', StandardScaler())]),\n",
              "                                 ['Present', 'Next'])])"
            ]
          },
          "metadata": {},
          "execution_count": 23
        }
      ]
    },
    {
      "cell_type": "markdown",
      "source": [
        "## **Model Definition**\n",
        "\n",
        "1. Regression (Linear Regression): to find the predicted value\n",
        "2. Classification (Logistic Regression, SVC, Decision Tree, and Ensambles Learning)"
      ],
      "metadata": {
        "id": "uR1IN_B-JDE7"
      }
    },
    {
      "cell_type": "markdown",
      "source": [
        "### **Liniear Regression**"
      ],
      "metadata": {
        "id": "t3QVsf-IJU9r"
      }
    },
    {
      "cell_type": "code",
      "source": [
        "# Training using Linear Regression\n",
        "linreg = LinearRegression()"
      ],
      "metadata": {
        "id": "QdxDg3HBJF7K"
      },
      "execution_count": 24,
      "outputs": []
    },
    {
      "cell_type": "code",
      "source": [
        "# Bundle preprocessing and modeling code in a pipeline\n",
        "pipe_lin = Pipeline(steps=[('preprocessor', preprocessor),\n",
        "                           ('linreg', linreg)\n",
        "                             ])\n",
        "\n",
        "pipe_lin"
      ],
      "metadata": {
        "colab": {
          "base_uri": "https://localhost:8080/"
        },
        "id": "RO_JFBVANFM7",
        "outputId": "6ba7d291-daea-4232-abc6-876f38e2b1bc"
      },
      "execution_count": 25,
      "outputs": [
        {
          "output_type": "execute_result",
          "data": {
            "text/plain": [
              "Pipeline(steps=[('preprocessor',\n",
              "                 ColumnTransformer(transformers=[('num',\n",
              "                                                  Pipeline(steps=[('scaler',\n",
              "                                                                   StandardScaler())]),\n",
              "                                                  ['Present', 'Next'])])),\n",
              "                ('linreg', LinearRegression())])"
            ]
          },
          "metadata": {},
          "execution_count": 25
        }
      ]
    },
    {
      "cell_type": "markdown",
      "source": [
        "### **Classification**"
      ],
      "metadata": {
        "id": "eknoMSvFJb_J"
      }
    },
    {
      "cell_type": "markdown",
      "source": [
        "#### **Logistic Regression**"
      ],
      "metadata": {
        "id": "xHn9NgcRJeDS"
      }
    },
    {
      "cell_type": "code",
      "source": [
        "# Defining Logistic Regression\n",
        "logreg = LogisticRegression(random_state=3)"
      ],
      "metadata": {
        "id": "ocOBdgBLJgRS"
      },
      "execution_count": 26,
      "outputs": []
    },
    {
      "cell_type": "code",
      "source": [
        "# Bundle preprocessing and modeling code in a pipeline\n",
        "pipe_log = Pipeline(steps=[('preprocessor', preprocessor),\n",
        "                           ('logreg', logreg)\n",
        "                             ])\n",
        "\n",
        "pipe_log"
      ],
      "metadata": {
        "colab": {
          "base_uri": "https://localhost:8080/"
        },
        "id": "R-q9iKyMJr2l",
        "outputId": "b3c3713b-b210-4907-d40f-adf7ca9577a7"
      },
      "execution_count": 27,
      "outputs": [
        {
          "output_type": "execute_result",
          "data": {
            "text/plain": [
              "Pipeline(steps=[('preprocessor',\n",
              "                 ColumnTransformer(transformers=[('num',\n",
              "                                                  Pipeline(steps=[('scaler',\n",
              "                                                                   StandardScaler())]),\n",
              "                                                  ['Present', 'Next'])])),\n",
              "                ('logreg', LogisticRegression(random_state=3))])"
            ]
          },
          "metadata": {},
          "execution_count": 27
        }
      ]
    },
    {
      "cell_type": "markdown",
      "source": [
        "#### **SVC**"
      ],
      "metadata": {
        "id": "lhCtsWn1Jvas"
      }
    },
    {
      "cell_type": "code",
      "source": [
        "# SVC Classifier model\n",
        "svm = SVC(random_state=3)"
      ],
      "metadata": {
        "id": "I08b1RT_J237"
      },
      "execution_count": 28,
      "outputs": []
    },
    {
      "cell_type": "code",
      "source": [
        "# Bundle preprocessing and modeling code in a pipeline\n",
        "pipe_svm = Pipeline(steps=[('preprocessor', preprocessor),\n",
        "                           ('svm', svm)\n",
        "                             ])\n",
        "\n",
        "pipe_svm"
      ],
      "metadata": {
        "colab": {
          "base_uri": "https://localhost:8080/"
        },
        "id": "1jPsb60mJ9kH",
        "outputId": "c9278e05-0234-4a40-d585-2692dc2c9a34"
      },
      "execution_count": 29,
      "outputs": [
        {
          "output_type": "execute_result",
          "data": {
            "text/plain": [
              "Pipeline(steps=[('preprocessor',\n",
              "                 ColumnTransformer(transformers=[('num',\n",
              "                                                  Pipeline(steps=[('scaler',\n",
              "                                                                   StandardScaler())]),\n",
              "                                                  ['Present', 'Next'])])),\n",
              "                ('svm', SVC(random_state=3))])"
            ]
          },
          "metadata": {},
          "execution_count": 29
        }
      ]
    },
    {
      "cell_type": "markdown",
      "source": [
        "#### **Decision Tree**"
      ],
      "metadata": {
        "id": "h5t7xoVmJ-xA"
      }
    },
    {
      "cell_type": "code",
      "source": [
        "# Defining DecisionTreeClassifier\n",
        "dt = DecisionTreeClassifier(random_state=3)"
      ],
      "metadata": {
        "id": "FzmH9fsmKB-L"
      },
      "execution_count": 30,
      "outputs": []
    },
    {
      "cell_type": "code",
      "source": [
        "# Bundle preprocessing and modeling code in a pipeline\n",
        "pipe_dt = Pipeline(steps=[('preprocessor', preprocessor),\n",
        "                           ('dt', dt)\n",
        "                             ])\n",
        "\n",
        "pipe_dt"
      ],
      "metadata": {
        "colab": {
          "base_uri": "https://localhost:8080/"
        },
        "id": "szV26-ScKGha",
        "outputId": "6a566506-8353-451c-a686-8dc5d60619ad"
      },
      "execution_count": 31,
      "outputs": [
        {
          "output_type": "execute_result",
          "data": {
            "text/plain": [
              "Pipeline(steps=[('preprocessor',\n",
              "                 ColumnTransformer(transformers=[('num',\n",
              "                                                  Pipeline(steps=[('scaler',\n",
              "                                                                   StandardScaler())]),\n",
              "                                                  ['Present', 'Next'])])),\n",
              "                ('dt', DecisionTreeClassifier(random_state=3))])"
            ]
          },
          "metadata": {},
          "execution_count": 31
        }
      ]
    },
    {
      "cell_type": "markdown",
      "source": [
        "#### **Ensambles Learning: Random Forest**"
      ],
      "metadata": {
        "id": "iuI8M_lYKHoz"
      }
    },
    {
      "cell_type": "code",
      "source": [
        "# Define RandomForestClassifier \n",
        "rfc = RandomForestClassifier(random_state=3)"
      ],
      "metadata": {
        "id": "7SpjCBQkKLKi"
      },
      "execution_count": 32,
      "outputs": []
    },
    {
      "cell_type": "code",
      "source": [
        "# Bundle preprocessing and modeling code in a pipeline\n",
        "pipe_rfc = Pipeline(steps=[('preprocessor', preprocessor),\n",
        "                           ('rfc', rfc)\n",
        "                             ])\n",
        "\n",
        "pipe_rfc"
      ],
      "metadata": {
        "colab": {
          "base_uri": "https://localhost:8080/"
        },
        "id": "k3CTHAbvKORI",
        "outputId": "d6e0389a-4050-4c2a-f950-83513235b4ce"
      },
      "execution_count": 33,
      "outputs": [
        {
          "output_type": "execute_result",
          "data": {
            "text/plain": [
              "Pipeline(steps=[('preprocessor',\n",
              "                 ColumnTransformer(transformers=[('num',\n",
              "                                                  Pipeline(steps=[('scaler',\n",
              "                                                                   StandardScaler())]),\n",
              "                                                  ['Present', 'Next'])])),\n",
              "                ('rfc', RandomForestClassifier(random_state=3))])"
            ]
          },
          "metadata": {},
          "execution_count": 33
        }
      ]
    },
    {
      "cell_type": "markdown",
      "source": [
        "## **Model Training**"
      ],
      "metadata": {
        "id": "OXWnyfk8KP9N"
      }
    },
    {
      "cell_type": "markdown",
      "source": [
        "### **Linear Regression**"
      ],
      "metadata": {
        "id": "WtwJ7KnTKSgM"
      }
    },
    {
      "cell_type": "code",
      "source": [
        "# Default Parameters\n",
        "# Fit model \n",
        "pipe_lin.fit(X_train, y_train)\n",
        "\n",
        "# Prediction, using X_train\n",
        "y_train_lin = pipe_lin.predict(X_train)\n",
        "\n",
        "# Prediction, using X_test\n",
        "y_test_lin = pipe_lin.predict(X_test)"
      ],
      "metadata": {
        "id": "0M_ufr3UKVw-"
      },
      "execution_count": 34,
      "outputs": []
    },
    {
      "cell_type": "markdown",
      "source": [
        "**Cross-validation**"
      ],
      "metadata": {
        "id": "4I48aFMrM6NM"
      }
    },
    {
      "cell_type": "code",
      "source": [
        "# Cross Validation using `cross_val_score` for train set\n",
        "train_cross_val = cross_val_score(pipe_lin, \n",
        "                                  X, \n",
        "                                  y, \n",
        "                                  cv=5, \n",
        "                                  scoring='r2')\n",
        "\n",
        "print(\"Accuracy Score All - Cross Validation :\", train_cross_val)\n",
        "print(\"Mean - Cross-Validation               :\", train_cross_val.mean())\n",
        "print(\"Standard Deviation Cross-Validation   :\", train_cross_val.std())"
      ],
      "metadata": {
        "colab": {
          "base_uri": "https://localhost:8080/"
        },
        "id": "_SRLguH4NRM9",
        "outputId": "c1455b29-2a7e-4761-c5e0-7cd72ae38f34"
      },
      "execution_count": 35,
      "outputs": [
        {
          "output_type": "stream",
          "name": "stdout",
          "text": [
            "Accuracy Score All - Cross Validation : [  0.19271444  -0.22405959  -1.26833243   0.04577083 -14.45139741]\n",
            "Mean - Cross-Validation               : -3.141060832555813\n",
            "Standard Deviation Cross-Validation   : 5.6781982188790385\n"
          ]
        }
      ]
    },
    {
      "cell_type": "markdown",
      "source": [
        "### **Classification**"
      ],
      "metadata": {
        "id": "yeJ_typvKV_3"
      }
    },
    {
      "cell_type": "markdown",
      "source": [
        "#### **Logistic Regression**"
      ],
      "metadata": {
        "id": "rGmNLM4oKYjl"
      }
    },
    {
      "cell_type": "code",
      "source": [
        "# Default Parameters\n",
        "# Fit model \n",
        "pipe_log.fit(X_train, y_train)\n",
        "\n",
        "# Prediction, using X_train\n",
        "y_train_log = pipe_log.predict(X_train)\n",
        "\n",
        "# Prediction, using X_test\n",
        "y_test_log = pipe_log.predict(X_test)"
      ],
      "metadata": {
        "id": "lF_AmibLKX7N"
      },
      "execution_count": 37,
      "outputs": []
    },
    {
      "cell_type": "markdown",
      "source": [
        "**Cross-Validation**"
      ],
      "metadata": {
        "id": "nhpcmqc3QyKU"
      }
    },
    {
      "cell_type": "code",
      "source": [
        "# Cross Validation using `cross_val_score` for train set\n",
        "train_cross_val = cross_val_score(pipe_log, \n",
        "                                  X, \n",
        "                                  y, \n",
        "                                  cv=5, \n",
        "                                  scoring='f1')\n",
        "\n",
        "print(\"Accuracy Score All - Cross Validation :\", train_cross_val)\n",
        "print(\"Mean - Cross-Validation               :\", train_cross_val.mean())\n",
        "print(\"Standard Deviation Cross-Validation   :\", train_cross_val.std())"
      ],
      "metadata": {
        "colab": {
          "base_uri": "https://localhost:8080/"
        },
        "id": "CCFnDqC0QzqY",
        "outputId": "4bf461f1-e873-4ff9-d4fe-b09da1a8889e"
      },
      "execution_count": 38,
      "outputs": [
        {
          "output_type": "stream",
          "name": "stdout",
          "text": [
            "Accuracy Score All - Cross Validation : [0.71428571 0.         0.92307692 0.82352941 1.        ]\n",
            "Mean - Cross-Validation               : 0.6921784098254686\n",
            "Standard Deviation Cross-Validation   : 0.359143710636498\n"
          ]
        }
      ]
    },
    {
      "cell_type": "markdown",
      "source": [
        "**Hyperparameter Tuning**"
      ],
      "metadata": {
        "id": "2pviaF04Rr4s"
      }
    },
    {
      "cell_type": "code",
      "source": [
        "# Define Hyperparameters for LogReg\n",
        "solver = ['newton-cg', 'lbfgs', 'liblinear', 'sag', 'saga']\n",
        "max_iter = [int(x) for x in np.linspace(start=10, stop=100, num = 7)]\n",
        "penalty = ['l1', 'l2', 'elasticnet', 'none']\n",
        "\n",
        "param_grid_log = {'logreg__solver': solver,\n",
        "              'logreg__max_iter':max_iter,\n",
        "              'logreg__penalty': penalty}\n",
        "param_grid_log"
      ],
      "metadata": {
        "colab": {
          "base_uri": "https://localhost:8080/"
        },
        "id": "IBb3StdVRtez",
        "outputId": "b6360728-8762-4e8c-d751-6d418d6ed12c"
      },
      "execution_count": 39,
      "outputs": [
        {
          "output_type": "execute_result",
          "data": {
            "text/plain": [
              "{'logreg__solver': ['newton-cg', 'lbfgs', 'liblinear', 'sag', 'saga'],\n",
              " 'logreg__max_iter': [10, 25, 40, 55, 70, 85, 100],\n",
              " 'logreg__penalty': ['l1', 'l2', 'elasticnet', 'none']}"
            ]
          },
          "metadata": {},
          "execution_count": 39
        }
      ]
    },
    {
      "cell_type": "code",
      "source": [
        "# Train with Grid Search\n",
        "%%time\n",
        "logreg_gridcv = GridSearchCV(pipe_log,\n",
        "                          param_grid_log,\n",
        "                          n_jobs=-1,\n",
        "                          verbose=2,\n",
        "                          scoring='f1')\n",
        "\n",
        "logreg_gridcv.fit(X_train, y_train)"
      ],
      "metadata": {
        "colab": {
          "base_uri": "https://localhost:8080/"
        },
        "id": "D8Rgjy-GR1B8",
        "outputId": "10f4a28c-7e46-4368-b796-717750c44323"
      },
      "execution_count": 40,
      "outputs": [
        {
          "output_type": "stream",
          "name": "stdout",
          "text": [
            "Fitting 5 folds for each of 140 candidates, totalling 700 fits\n",
            "CPU times: user 1.04 s, sys: 68 ms, total: 1.11 s\n",
            "Wall time: 10.2 s\n"
          ]
        },
        {
          "output_type": "execute_result",
          "data": {
            "text/plain": [
              "GridSearchCV(estimator=Pipeline(steps=[('preprocessor',\n",
              "                                        ColumnTransformer(transformers=[('num',\n",
              "                                                                         Pipeline(steps=[('scaler',\n",
              "                                                                                          StandardScaler())]),\n",
              "                                                                         ['Present',\n",
              "                                                                          'Next'])])),\n",
              "                                       ('logreg',\n",
              "                                        LogisticRegression(random_state=3))]),\n",
              "             n_jobs=-1,\n",
              "             param_grid={'logreg__max_iter': [10, 25, 40, 55, 70, 85, 100],\n",
              "                         'logreg__penalty': ['l1', 'l2', 'elasticnet', 'none'],\n",
              "                         'logreg__solver': ['newton-cg', 'lbfgs', 'liblinear',\n",
              "                                            'sag', 'saga']},\n",
              "             scoring='f1', verbose=2)"
            ]
          },
          "metadata": {},
          "execution_count": 40
        }
      ]
    },
    {
      "cell_type": "code",
      "source": [
        "# Display Best Hyperparamters from Grid Search for Train Set\n",
        "logreg_gridcv.best_params_"
      ],
      "metadata": {
        "colab": {
          "base_uri": "https://localhost:8080/"
        },
        "id": "juRw9zRKR7Sq",
        "outputId": "075e22e3-b981-4486-a058-1a9c2660de3d"
      },
      "execution_count": 41,
      "outputs": [
        {
          "output_type": "execute_result",
          "data": {
            "text/plain": [
              "{'logreg__max_iter': 10,\n",
              " 'logreg__penalty': 'none',\n",
              " 'logreg__solver': 'newton-cg'}"
            ]
          },
          "metadata": {},
          "execution_count": 41
        }
      ]
    },
    {
      "cell_type": "markdown",
      "source": [
        "**Redefine Model**"
      ],
      "metadata": {
        "id": "XrkN_WzdR-_W"
      }
    },
    {
      "cell_type": "code",
      "source": [
        "# Redefining Logistic Regression with best estimator\n",
        "logreg_gridcv_best = logreg_gridcv.best_estimator_"
      ],
      "metadata": {
        "id": "icBNmz43SA3q"
      },
      "execution_count": 42,
      "outputs": []
    },
    {
      "cell_type": "code",
      "source": [
        "# Prediction Final\n",
        "y_train_log_final = logreg_gridcv_best.predict(X_train)\n",
        "y_test_log_final = logreg_gridcv_best.predict(X_test)"
      ],
      "metadata": {
        "id": "TluIW3wgSDGB"
      },
      "execution_count": 43,
      "outputs": []
    },
    {
      "cell_type": "markdown",
      "source": [
        "#### **SVC**"
      ],
      "metadata": {
        "id": "7WLUbEh8Qneh"
      }
    },
    {
      "cell_type": "code",
      "source": [
        "# Default Parameters\n",
        "# Fit model \n",
        "pipe_svm.fit(X_train, y_train)\n",
        "\n",
        "# Prediction, using X_train\n",
        "y_train_svm = pipe_svm.predict(X_train)\n",
        "\n",
        "# Prediction, using X_test\n",
        "y_test_svm = pipe_svm.predict(X_test)"
      ],
      "metadata": {
        "id": "nNSydEinQosf"
      },
      "execution_count": 44,
      "outputs": []
    },
    {
      "cell_type": "markdown",
      "source": [
        "**Cross-validation**"
      ],
      "metadata": {
        "id": "RJN9RKaxREeH"
      }
    },
    {
      "cell_type": "code",
      "source": [
        "# Cross Validation using `cross_val_score` for train set\n",
        "train_cross_val = cross_val_score(pipe_svm, \n",
        "                                  X, \n",
        "                                  y, \n",
        "                                  cv=5, \n",
        "                                  scoring='f1')\n",
        "\n",
        "print(\"Accuracy Score All - Cross Validation :\", train_cross_val)\n",
        "print(\"Mean - Cross-Validation               :\", train_cross_val.mean())\n",
        "print(\"Standard Deviation Cross-Validation   :\", train_cross_val.std())"
      ],
      "metadata": {
        "colab": {
          "base_uri": "https://localhost:8080/"
        },
        "id": "d4Z7kzEdRG_c",
        "outputId": "a0330d4f-50b6-402a-daf8-b257626cf626"
      },
      "execution_count": 45,
      "outputs": [
        {
          "output_type": "stream",
          "name": "stdout",
          "text": [
            "Accuracy Score All - Cross Validation : [0.30769231 0.         0.         0.57142857 0.4       ]\n",
            "Mean - Cross-Validation               : 0.2558241758241758\n",
            "Standard Deviation Cross-Validation   : 0.2253775160823819\n"
          ]
        }
      ]
    },
    {
      "cell_type": "markdown",
      "source": [
        "**Hyperparameter Tuning**"
      ],
      "metadata": {
        "id": "j449RtmdScvm"
      }
    },
    {
      "cell_type": "code",
      "source": [
        "# Define Hyperparameters\n",
        "C = [int(x) for x in np.linspace(start=10, stop=100, num = 7)]\n",
        "kernel = ['linear', 'poly', 'rbf', 'sigmoid', 'precomputed']\n",
        "gamma = ['scale', 'auto']\n",
        "decision_function_shape = ['ovo', 'ovr']\n",
        "\n",
        "param_grid_svm = {'svm__C': C,\n",
        "              'svm__kernel':kernel,\n",
        "              'svm__gamma': gamma,\n",
        "              'svm__decision_function_shape': decision_function_shape}\n",
        "param_grid_svm"
      ],
      "metadata": {
        "colab": {
          "base_uri": "https://localhost:8080/"
        },
        "id": "Qrct7df5SdGp",
        "outputId": "d9e5ce4a-5868-48ee-8e27-441e01a5483d"
      },
      "execution_count": 46,
      "outputs": [
        {
          "output_type": "execute_result",
          "data": {
            "text/plain": [
              "{'svm__C': [10, 25, 40, 55, 70, 85, 100],\n",
              " 'svm__kernel': ['linear', 'poly', 'rbf', 'sigmoid', 'precomputed'],\n",
              " 'svm__gamma': ['scale', 'auto'],\n",
              " 'svm__decision_function_shape': ['ovo', 'ovr']}"
            ]
          },
          "metadata": {},
          "execution_count": 46
        }
      ]
    },
    {
      "cell_type": "code",
      "source": [
        "# Train with Grid Search\n",
        "%%time\n",
        "svm_gridcv = GridSearchCV(pipe_svm,\n",
        "                          param_grid_svm,\n",
        "                          n_jobs=-1,\n",
        "                          verbose=2,\n",
        "                          scoring='f1')\n",
        "\n",
        "svm_gridcv.fit(X_train, y_train)"
      ],
      "metadata": {
        "colab": {
          "base_uri": "https://localhost:8080/"
        },
        "id": "KoVlXD8ASiXl",
        "outputId": "9e413469-2419-4442-c6de-b312799ecd0d"
      },
      "execution_count": 47,
      "outputs": [
        {
          "output_type": "stream",
          "name": "stdout",
          "text": [
            "Fitting 5 folds for each of 140 candidates, totalling 700 fits\n",
            "CPU times: user 977 ms, sys: 26.9 ms, total: 1 s\n",
            "Wall time: 8.05 s\n"
          ]
        },
        {
          "output_type": "execute_result",
          "data": {
            "text/plain": [
              "GridSearchCV(estimator=Pipeline(steps=[('preprocessor',\n",
              "                                        ColumnTransformer(transformers=[('num',\n",
              "                                                                         Pipeline(steps=[('scaler',\n",
              "                                                                                          StandardScaler())]),\n",
              "                                                                         ['Present',\n",
              "                                                                          'Next'])])),\n",
              "                                       ('svm', SVC(random_state=3))]),\n",
              "             n_jobs=-1,\n",
              "             param_grid={'svm__C': [10, 25, 40, 55, 70, 85, 100],\n",
              "                         'svm__decision_function_shape': ['ovo', 'ovr'],\n",
              "                         'svm__gamma': ['scale', 'auto'],\n",
              "                         'svm__kernel': ['linear', 'poly', 'rbf', 'sigmoid',\n",
              "                                         'precomputed']},\n",
              "             scoring='f1', verbose=2)"
            ]
          },
          "metadata": {},
          "execution_count": 47
        }
      ]
    },
    {
      "cell_type": "code",
      "source": [
        "# Display Best Hyperparamters from Grid Search for Train Set\n",
        "svm_gridcv.best_params_"
      ],
      "metadata": {
        "colab": {
          "base_uri": "https://localhost:8080/"
        },
        "id": "dZDyyf_oSmYd",
        "outputId": "3ff57ce1-3376-421a-b4f4-c6f8d86e08f4"
      },
      "execution_count": 48,
      "outputs": [
        {
          "output_type": "execute_result",
          "data": {
            "text/plain": [
              "{'svm__C': 55,\n",
              " 'svm__decision_function_shape': 'ovo',\n",
              " 'svm__gamma': 'scale',\n",
              " 'svm__kernel': 'linear'}"
            ]
          },
          "metadata": {},
          "execution_count": 48
        }
      ]
    },
    {
      "cell_type": "markdown",
      "source": [
        "**Redefine Model**"
      ],
      "metadata": {
        "id": "donOqCwHSrOz"
      }
    },
    {
      "cell_type": "code",
      "source": [
        "# Redefining Logistic Regression with best estimator\n",
        "svm_gridcv_best = svm_gridcv.best_estimator_"
      ],
      "metadata": {
        "id": "8YgLWMu_Ssdy"
      },
      "execution_count": 49,
      "outputs": []
    },
    {
      "cell_type": "code",
      "source": [
        "# Prediction Final\n",
        "y_train_svm_final = svm_gridcv_best.predict(X_train)\n",
        "y_test_svm_final = svm_gridcv_best.predict(X_test)"
      ],
      "metadata": {
        "id": "p2juAgwYStZg"
      },
      "execution_count": 50,
      "outputs": []
    },
    {
      "cell_type": "markdown",
      "source": [
        "#### **Decision Tree**"
      ],
      "metadata": {
        "id": "gFNTfvRDRNPP"
      }
    },
    {
      "cell_type": "code",
      "source": [
        "# Default Parameters\n",
        "# Fit model \n",
        "pipe_dt.fit(X_train, y_train)\n",
        "\n",
        "# Prediction, using X_train\n",
        "y_train_dt = pipe_dt.predict(X_train)\n",
        "\n",
        "# Prediction, using X_test\n",
        "y_test_dt = pipe_dt.predict(X_test)"
      ],
      "metadata": {
        "id": "vu2CTWpkRPZd"
      },
      "execution_count": 51,
      "outputs": []
    },
    {
      "cell_type": "markdown",
      "source": [
        "**Cross-validation**"
      ],
      "metadata": {
        "id": "zWfzOzf7RQ6f"
      }
    },
    {
      "cell_type": "code",
      "source": [
        "# Cross Validation using `cross_val_score` for train set\n",
        "train_cross_val = cross_val_score(pipe_dt, \n",
        "                                  X, \n",
        "                                  y, \n",
        "                                  cv=5, \n",
        "                                  scoring='f1')\n",
        "\n",
        "print(\"Accuracy Score All - Cross Validation :\", train_cross_val)\n",
        "print(\"Mean - Cross-Validation               :\", train_cross_val.mean())\n",
        "print(\"Standard Deviation Cross-Validation   :\", train_cross_val.std())"
      ],
      "metadata": {
        "colab": {
          "base_uri": "https://localhost:8080/"
        },
        "id": "vob377v_RSvv",
        "outputId": "4feaef80-bf55-4aa8-bf41-dab963eec782"
      },
      "execution_count": 52,
      "outputs": [
        {
          "output_type": "stream",
          "name": "stdout",
          "text": [
            "Accuracy Score All - Cross Validation : [0.42857143 0.33333333 0.53333333 0.72727273 0.4       ]\n",
            "Mean - Cross-Validation               : 0.4845021645021645\n",
            "Standard Deviation Cross-Validation   : 0.1374357360671591\n"
          ]
        }
      ]
    },
    {
      "cell_type": "markdown",
      "source": [
        "**Hyperparameter Tuning**"
      ],
      "metadata": {
        "id": "AkfNdKMUTIpe"
      }
    },
    {
      "cell_type": "code",
      "source": [
        "# Define Hyperparameters\n",
        "criterion = ['gini', 'entropy', 'log_loss']\n",
        "splitter = ['best', 'random']\n",
        "max_depth = [i for i in range(2, 12, 1)]\n",
        "min_samples_split = [i for i in range(2, 10, 2)]\n",
        "min_samples_leaf = [i for i in range(2, 10, 2)]\n",
        "\n",
        "param_grid_dt = {'dt__criterion': criterion,\n",
        "                  'dt__splitter': splitter,\n",
        "                  'dt__max_depth': max_depth,\n",
        "                  'dt__min_samples_split': min_samples_split,\n",
        "                  'dt__min_samples_leaf': min_samples_leaf}\n",
        "param_grid_dt"
      ],
      "metadata": {
        "colab": {
          "base_uri": "https://localhost:8080/"
        },
        "id": "furi4srKTLoc",
        "outputId": "db549c5c-1c14-4c46-bbcb-095f6a68ce14"
      },
      "execution_count": 53,
      "outputs": [
        {
          "output_type": "execute_result",
          "data": {
            "text/plain": [
              "{'dt__criterion': ['gini', 'entropy', 'log_loss'],\n",
              " 'dt__splitter': ['best', 'random'],\n",
              " 'dt__max_depth': [2, 3, 4, 5, 6, 7, 8, 9, 10, 11],\n",
              " 'dt__min_samples_split': [2, 4, 6, 8],\n",
              " 'dt__min_samples_leaf': [2, 4, 6, 8]}"
            ]
          },
          "metadata": {},
          "execution_count": 53
        }
      ]
    },
    {
      "cell_type": "code",
      "source": [
        "# Train with Grid Search\n",
        "%%time\n",
        "dt_gridcv = GridSearchCV(pipe_dt,\n",
        "                          param_grid_dt,\n",
        "                          n_jobs=-1,\n",
        "                          verbose=2,\n",
        "                          scoring='f1')\n",
        "\n",
        "dt_gridcv.fit(X_train, y_train)"
      ],
      "metadata": {
        "colab": {
          "base_uri": "https://localhost:8080/"
        },
        "id": "dYKdwCSUTPpU",
        "outputId": "5e9f5c0a-2b1e-4a39-d911-d42f79b202aa"
      },
      "execution_count": 54,
      "outputs": [
        {
          "output_type": "stream",
          "name": "stdout",
          "text": [
            "Fitting 5 folds for each of 960 candidates, totalling 4800 fits\n",
            "CPU times: user 5.64 s, sys: 124 ms, total: 5.77 s\n",
            "Wall time: 36.8 s\n"
          ]
        },
        {
          "output_type": "execute_result",
          "data": {
            "text/plain": [
              "GridSearchCV(estimator=Pipeline(steps=[('preprocessor',\n",
              "                                        ColumnTransformer(transformers=[('num',\n",
              "                                                                         Pipeline(steps=[('scaler',\n",
              "                                                                                          StandardScaler())]),\n",
              "                                                                         ['Present',\n",
              "                                                                          'Next'])])),\n",
              "                                       ('dt',\n",
              "                                        DecisionTreeClassifier(random_state=3))]),\n",
              "             n_jobs=-1,\n",
              "             param_grid={'dt__criterion': ['gini', 'entropy', 'log_loss'],\n",
              "                         'dt__max_depth': [2, 3, 4, 5, 6, 7, 8, 9, 10, 11],\n",
              "                         'dt__min_samples_leaf': [2, 4, 6, 8],\n",
              "                         'dt__min_samples_split': [2, 4, 6, 8],\n",
              "                         'dt__splitter': ['best', 'random']},\n",
              "             scoring='f1', verbose=2)"
            ]
          },
          "metadata": {},
          "execution_count": 54
        }
      ]
    },
    {
      "cell_type": "code",
      "source": [
        "# Display Best Hyperparamters from Grid Search for Train Set\n",
        "dt_gridcv.best_params_"
      ],
      "metadata": {
        "colab": {
          "base_uri": "https://localhost:8080/"
        },
        "id": "kFXohtu8TSDO",
        "outputId": "69f59777-52fd-4813-92a3-9a31a873571f"
      },
      "execution_count": 55,
      "outputs": [
        {
          "output_type": "execute_result",
          "data": {
            "text/plain": [
              "{'dt__criterion': 'gini',\n",
              " 'dt__max_depth': 5,\n",
              " 'dt__min_samples_leaf': 2,\n",
              " 'dt__min_samples_split': 6,\n",
              " 'dt__splitter': 'best'}"
            ]
          },
          "metadata": {},
          "execution_count": 55
        }
      ]
    },
    {
      "cell_type": "markdown",
      "source": [
        "**Redefine Model**"
      ],
      "metadata": {
        "id": "Py2mxWWlTSnC"
      }
    },
    {
      "cell_type": "code",
      "source": [
        "# Redefining Logistic Regression with best estimator\n",
        "dt_gridcv_best = dt_gridcv.best_estimator_"
      ],
      "metadata": {
        "id": "inNv0lPSTUGB"
      },
      "execution_count": 56,
      "outputs": []
    },
    {
      "cell_type": "code",
      "source": [
        "# Prediction Final\n",
        "y_train_dt_final = dt_gridcv_best.predict(X_train)\n",
        "y_test_dt_final = dt_gridcv_best.predict(X_test)"
      ],
      "metadata": {
        "id": "B4tsu20BTWNa"
      },
      "execution_count": 57,
      "outputs": []
    },
    {
      "cell_type": "markdown",
      "source": [
        "#### **Random Forest**"
      ],
      "metadata": {
        "id": "NKUCoxB7RXsv"
      }
    },
    {
      "cell_type": "code",
      "source": [
        "# Default Parameters\n",
        "# Fit model \n",
        "pipe_rfc.fit(X_train, y_train)\n",
        "\n",
        "# Prediction, using X_train\n",
        "y_train_rfc = pipe_rfc.predict(X_train)\n",
        "\n",
        "# Prediction, using X_test\n",
        "y_test_rfc = pipe_rfc.predict(X_test)"
      ],
      "metadata": {
        "id": "LhbMbJ8NRZ0R"
      },
      "execution_count": 58,
      "outputs": []
    },
    {
      "cell_type": "code",
      "source": [
        "# Cross Validation using `cross_val_score` for train set\n",
        "train_cross_val = cross_val_score(pipe_rfc, \n",
        "                                  X, \n",
        "                                  y, \n",
        "                                  cv=5, \n",
        "                                  scoring='f1')\n",
        "\n",
        "print(\"Accuracy Score All - Cross Validation :\", train_cross_val)\n",
        "print(\"Mean - Cross-Validation               :\", train_cross_val.mean())\n",
        "print(\"Standard Deviation Cross-Validation   :\", train_cross_val.std())"
      ],
      "metadata": {
        "colab": {
          "base_uri": "https://localhost:8080/"
        },
        "id": "OvZtzH7RRcK-",
        "outputId": "138a22a7-c83c-411f-862c-d2e5cb81e260"
      },
      "execution_count": 59,
      "outputs": [
        {
          "output_type": "stream",
          "name": "stdout",
          "text": [
            "Accuracy Score All - Cross Validation : [0.18181818 0.         0.42857143 0.36363636 0.4       ]\n",
            "Mean - Cross-Validation               : 0.27480519480519483\n",
            "Standard Deviation Cross-Validation   : 0.1620945712394446\n"
          ]
        }
      ]
    },
    {
      "cell_type": "markdown",
      "source": [
        "**Hyperparameter Tuning**"
      ],
      "metadata": {
        "id": "7pjMH2I4Tj0T"
      }
    },
    {
      "cell_type": "code",
      "source": [
        "# Define Hyperparameters\n",
        "n_estimators = [int(x) for x in np.linspace(start = 10, stop = 50, num = 5)]\n",
        "max_features = ['auto', 'sqrt']\n",
        "max_depth = [int(x) for x in np.linspace(2, 10, num = 5)]\n",
        "min_samples_leaf = [int(x) for x in np.linspace(3, 6, num = 4)]\n",
        "min_samples_split = [2, 6, 10]\n",
        "bootstrap = [True, False]\n",
        "\n",
        "param_grid_rfc = {'rfc__n_estimators': n_estimators,\n",
        "               'rfc__max_features': max_features,\n",
        "               'rfc__max_depth': max_depth,\n",
        "               'rfc__min_samples_leaf': min_samples_leaf,\n",
        "               'rfc__criterion':['entropy','gini'],\n",
        "               'rfc__bootstrap': bootstrap}\n",
        "param_grid_rfc"
      ],
      "metadata": {
        "colab": {
          "base_uri": "https://localhost:8080/"
        },
        "id": "FBz9papZTlba",
        "outputId": "30754f6c-3615-426d-c66b-6f93f88fccdc"
      },
      "execution_count": 60,
      "outputs": [
        {
          "output_type": "execute_result",
          "data": {
            "text/plain": [
              "{'rfc__n_estimators': [10, 20, 30, 40, 50],\n",
              " 'rfc__max_features': ['auto', 'sqrt'],\n",
              " 'rfc__max_depth': [2, 4, 6, 8, 10],\n",
              " 'rfc__min_samples_leaf': [3, 4, 5, 6],\n",
              " 'rfc__criterion': ['entropy', 'gini'],\n",
              " 'rfc__bootstrap': [True, False]}"
            ]
          },
          "metadata": {},
          "execution_count": 60
        }
      ]
    },
    {
      "cell_type": "code",
      "source": [
        "# Train with Grid Search\n",
        "%%time\n",
        "rfc_gridcv = GridSearchCV(pipe_rfc,\n",
        "                          param_grid_rfc,\n",
        "                          n_jobs=-1,\n",
        "                          verbose=2,\n",
        "                          scoring='f1')\n",
        "\n",
        "rfc_gridcv.fit(X_train, y_train)"
      ],
      "metadata": {
        "colab": {
          "base_uri": "https://localhost:8080/"
        },
        "id": "o_enVKP8TsG9",
        "outputId": "18b8ec97-33da-4d25-c47b-bcec4154663c"
      },
      "execution_count": 61,
      "outputs": [
        {
          "output_type": "stream",
          "name": "stdout",
          "text": [
            "Fitting 5 folds for each of 800 candidates, totalling 4000 fits\n",
            "CPU times: user 7.63 s, sys: 298 ms, total: 7.93 s\n",
            "Wall time: 2min 5s\n"
          ]
        },
        {
          "output_type": "execute_result",
          "data": {
            "text/plain": [
              "GridSearchCV(estimator=Pipeline(steps=[('preprocessor',\n",
              "                                        ColumnTransformer(transformers=[('num',\n",
              "                                                                         Pipeline(steps=[('scaler',\n",
              "                                                                                          StandardScaler())]),\n",
              "                                                                         ['Present',\n",
              "                                                                          'Next'])])),\n",
              "                                       ('rfc',\n",
              "                                        RandomForestClassifier(random_state=3))]),\n",
              "             n_jobs=-1,\n",
              "             param_grid={'rfc__bootstrap': [True, False],\n",
              "                         'rfc__criterion': ['entropy', 'gini'],\n",
              "                         'rfc__max_depth': [2, 4, 6, 8, 10],\n",
              "                         'rfc__max_features': ['auto', 'sqrt'],\n",
              "                         'rfc__min_samples_leaf': [3, 4, 5, 6],\n",
              "                         'rfc__n_estimators': [10, 20, 30, 40, 50]},\n",
              "             scoring='f1', verbose=2)"
            ]
          },
          "metadata": {},
          "execution_count": 61
        }
      ]
    },
    {
      "cell_type": "code",
      "source": [
        "# Display Best Hyperparamters from Grid Search for Train Set\n",
        "rfc_gridcv.best_params_"
      ],
      "metadata": {
        "colab": {
          "base_uri": "https://localhost:8080/"
        },
        "id": "S-WXmHhzTuZo",
        "outputId": "3826d98a-fa00-4329-ec14-ab6758be2cd7"
      },
      "execution_count": 62,
      "outputs": [
        {
          "output_type": "execute_result",
          "data": {
            "text/plain": [
              "{'rfc__bootstrap': False,\n",
              " 'rfc__criterion': 'entropy',\n",
              " 'rfc__max_depth': 6,\n",
              " 'rfc__max_features': 'auto',\n",
              " 'rfc__min_samples_leaf': 3,\n",
              " 'rfc__n_estimators': 40}"
            ]
          },
          "metadata": {},
          "execution_count": 62
        }
      ]
    },
    {
      "cell_type": "markdown",
      "source": [
        "**Redefine Model**"
      ],
      "metadata": {
        "id": "TiUX75g0Tu9R"
      }
    },
    {
      "cell_type": "code",
      "source": [
        "# Redefining Logistic Regression with best estimator\n",
        "rfc_gridcv_best = svm_gridcv.best_estimator_"
      ],
      "metadata": {
        "id": "vZ-g_UusTwwl"
      },
      "execution_count": 63,
      "outputs": []
    },
    {
      "cell_type": "code",
      "source": [
        "# Prediction Final\n",
        "y_train_rfc_final = rfc_gridcv_best.predict(X_train)\n",
        "y_test_rfc_final = rfc_gridcv_best.predict(X_test)"
      ],
      "metadata": {
        "id": "QFXhE8znTywS"
      },
      "execution_count": 64,
      "outputs": []
    },
    {
      "cell_type": "markdown",
      "source": [
        "## **Model Evaluation**"
      ],
      "metadata": {
        "id": "DAD_JWFyXzxa"
      }
    },
    {
      "cell_type": "markdown",
      "source": [
        "### **Linear Regression**"
      ],
      "metadata": {
        "id": "wGzeLE8WOndn"
      }
    },
    {
      "cell_type": "code",
      "source": [
        "# Model Evaluation using MAE (Mean Absolute Error)\n",
        "print('Mean Absolute Error (MAE) Train Set: ', mean_absolute_error(y_train, y_train_lin))\n",
        "print('Maen Absolute Error (MAE) Test Set: ', mean_absolute_error(y_test, y_test_lin))"
      ],
      "metadata": {
        "colab": {
          "base_uri": "https://localhost:8080/"
        },
        "id": "yF_l6geMOp4Q",
        "outputId": "2033b7ce-3be7-4cab-8064-beb5ae088586"
      },
      "execution_count": 65,
      "outputs": [
        {
          "output_type": "stream",
          "name": "stdout",
          "text": [
            "Mean Absolute Error (MAE) Train Set:  0.37263998373934293\n",
            "Maen Absolute Error (MAE) Test Set:  0.4403264127363973\n"
          ]
        }
      ]
    },
    {
      "cell_type": "code",
      "source": [
        "# Model Evaluation using MSE (Mean Squared Error)\n",
        "print('Mean Squared Error (MSE) Train Set: ', mean_squared_error(y_train, y_train_lin))\n",
        "print('Maen Squared Error (MSE) Test Set: ', mean_squared_error(y_test, y_test_lin))"
      ],
      "metadata": {
        "colab": {
          "base_uri": "https://localhost:8080/"
        },
        "id": "F4jhRTOpPWEe",
        "outputId": "f5be1a4e-1896-4f36-9101-266a11a3846e"
      },
      "execution_count": 66,
      "outputs": [
        {
          "output_type": "stream",
          "name": "stdout",
          "text": [
            "Mean Squared Error (MSE) Train Set:  0.16545104989884807\n",
            "Maen Squared Error (MSE) Test Set:  0.20879302992567256\n"
          ]
        }
      ]
    },
    {
      "cell_type": "code",
      "source": [
        "# Model Evaluation using r2 Score\n",
        "print('r2 Score Train Set: ', round(r2_score(y_train, y_train_lin)*100, 2),'%')\n",
        "print('r2 Score Test Set: ', round(r2_score(y_test, y_test_lin)*100, 2),'%')"
      ],
      "metadata": {
        "colab": {
          "base_uri": "https://localhost:8080/"
        },
        "id": "oiN8U6TrPkQo",
        "outputId": "e4e62d8b-9bef-424a-f005-77ad36971246"
      },
      "execution_count": 67,
      "outputs": [
        {
          "output_type": "stream",
          "name": "stdout",
          "text": [
            "r2 Score Train Set:  33.79 %\n",
            "r2 Score Test Set:  16.29 %\n"
          ]
        }
      ]
    },
    {
      "cell_type": "markdown",
      "source": [
        "### **Logistic Regression**"
      ],
      "metadata": {
        "id": "qJDf5rQMX7VE"
      }
    },
    {
      "cell_type": "code",
      "source": [
        "# Evaluating Train set (Default Parameter)\n",
        "print('Train Set (Defaul Parameter)')\n",
        "print('Accuracy - Train Set  : ', accuracy_score(y_train, y_train_log))\n",
        "print('F1 Score - Train Set  : ', f1_score(y_train, y_train_log), '\\n')\n",
        "print('Classification Report : \\n', classification_report(y_train, y_train_log), '\\n')"
      ],
      "metadata": {
        "colab": {
          "base_uri": "https://localhost:8080/"
        },
        "id": "0RFmB56uX2ZL",
        "outputId": "fdf7b913-55f7-43b6-fe15-6b40e7ce7a91"
      },
      "execution_count": 68,
      "outputs": [
        {
          "output_type": "stream",
          "name": "stdout",
          "text": [
            "Train Set (Defaul Parameter)\n",
            "Accuracy - Train Set  :  0.7959183673469388\n",
            "F1 Score - Train Set  :  0.7916666666666667 \n",
            "\n",
            "Classification Report : \n",
            "               precision    recall  f1-score   support\n",
            "\n",
            "           0       0.77      0.83      0.80        24\n",
            "           1       0.83      0.76      0.79        25\n",
            "\n",
            "    accuracy                           0.80        49\n",
            "   macro avg       0.80      0.80      0.80        49\n",
            "weighted avg       0.80      0.80      0.80        49\n",
            " \n",
            "\n"
          ]
        }
      ]
    },
    {
      "cell_type": "code",
      "source": [
        "# Creating confusion matrix for train set (default parameter)\n",
        "print('Confusion Matrix Train Set LogReg (Default Parameter)')\n",
        "cm = confusion_matrix(y_train, y_train_log, labels=logreg.classes_)\n",
        "disp = ConfusionMatrixDisplay(confusion_matrix=cm,display_labels=logreg.classes_)\n",
        "\n",
        "matplotlib.rcParams['figure.figsize'] = (10,8)\n",
        "disp.plot()\n",
        "plt.show()\n",
        "     "
      ],
      "metadata": {
        "colab": {
          "base_uri": "https://localhost:8080/",
          "height": 518
        },
        "id": "aDMorrN7g0Qk",
        "outputId": "3cf7928b-a55a-40a7-881f-c149b3a8d7d4"
      },
      "execution_count": 69,
      "outputs": [
        {
          "output_type": "stream",
          "name": "stdout",
          "text": [
            "Confusion Matrix Train Set LogReg (Default Parameter)\n"
          ]
        },
        {
          "output_type": "display_data",
          "data": {
            "text/plain": [
              "<Figure size 720x576 with 2 Axes>"
            ],
            "image/png": "[encoded data removed]"
          },
          "metadata": {
            "needs_background": "light"
          }
        }
      ]
    },
    {
      "cell_type": "code",
      "source": [
        "# Evaluating Train set (Hyperparameter Tuned)\n",
        "print('Train Set (Hyperparameter Tuned)')\n",
        "print('Accuracy - Train Set  : ', accuracy_score(y_train, y_train_log_final),)\n",
        "print('F1 Score - Train Set  : ', f1_score(y_train, y_train_log_final), '\\n')\n",
        "print('Classification Report : \\n', classification_report(y_train, y_train_log_final), '\\n')"
      ],
      "metadata": {
        "colab": {
          "base_uri": "https://localhost:8080/"
        },
        "id": "Oo8L5g1Jgn-Z",
        "outputId": "ad7ecd9a-f626-497e-9653-4eca3f119ab1"
      },
      "execution_count": 70,
      "outputs": [
        {
          "output_type": "stream",
          "name": "stdout",
          "text": [
            "Train Set (Hyperparameter Tuned)\n",
            "Accuracy - Train Set  :  1.0\n",
            "F1 Score - Train Set  :  1.0 \n",
            "\n",
            "Classification Report : \n",
            "               precision    recall  f1-score   support\n",
            "\n",
            "           0       1.00      1.00      1.00        24\n",
            "           1       1.00      1.00      1.00        25\n",
            "\n",
            "    accuracy                           1.00        49\n",
            "   macro avg       1.00      1.00      1.00        49\n",
            "weighted avg       1.00      1.00      1.00        49\n",
            " \n",
            "\n"
          ]
        }
      ]
    },
    {
      "cell_type": "code",
      "source": [
        "# Creating confusion matrix for train set (labels parameter)\n",
        "print('Confusion Matrix Train Set LogReg (Hyperparameter Tuned)')\n",
        "cm = confusion_matrix(y_train, y_train_log_final, labels=logreg.classes_)\n",
        "disp = ConfusionMatrixDisplay(confusion_matrix=cm,display_labels=logreg.classes_)\n",
        "\n",
        "matplotlib.rcParams['figure.figsize'] = (10,8)\n",
        "disp.plot()\n",
        "plt.show()\n",
        "     "
      ],
      "metadata": {
        "colab": {
          "base_uri": "https://localhost:8080/",
          "height": 518
        },
        "id": "Yes6Xy6xg5RA",
        "outputId": "408197ae-390d-49bd-c1ab-32436f580478"
      },
      "execution_count": 71,
      "outputs": [
        {
          "output_type": "stream",
          "name": "stdout",
          "text": [
            "Confusion Matrix Train Set LogReg (Hyperparameter Tuned)\n"
          ]
        },
        {
          "output_type": "display_data",
          "data": {
            "text/plain": [
              "<Figure size 720x576 with 2 Axes>"
            ],
            "image/png": "[encoded data removed]"
          },
          "metadata": {
            "needs_background": "light"
          }
        }
      ]
    },
    {
      "cell_type": "markdown",
      "source": [
        "### **SVC**"
      ],
      "metadata": {
        "id": "PqQwm1Ffgj3b"
      }
    },
    {
      "cell_type": "code",
      "source": [
        "# Evaluating Train set (Default Parameter)\n",
        "print('Train Set (Defaul Parameter)')\n",
        "print('Accuracy - Train Set  : ', accuracy_score(y_train, y_train_svm))\n",
        "print('F1 Score - Train Set  : ', f1_score(y_train, y_train_svm), '\\n')\n",
        "print('Classification Report : \\n', classification_report(y_train, y_train_svm), '\\n')"
      ],
      "metadata": {
        "colab": {
          "base_uri": "https://localhost:8080/"
        },
        "id": "Jq-M6gvghA_g",
        "outputId": "676ede07-edf1-462b-9c7d-0777115209c5"
      },
      "execution_count": 72,
      "outputs": [
        {
          "output_type": "stream",
          "name": "stdout",
          "text": [
            "Train Set (Defaul Parameter)\n",
            "Accuracy - Train Set  :  0.7346938775510204\n",
            "F1 Score - Train Set  :  0.7234042553191491 \n",
            "\n",
            "Classification Report : \n",
            "               precision    recall  f1-score   support\n",
            "\n",
            "           0       0.70      0.79      0.75        24\n",
            "           1       0.77      0.68      0.72        25\n",
            "\n",
            "    accuracy                           0.73        49\n",
            "   macro avg       0.74      0.74      0.73        49\n",
            "weighted avg       0.74      0.73      0.73        49\n",
            " \n",
            "\n"
          ]
        }
      ]
    },
    {
      "cell_type": "code",
      "source": [
        "# Creating confusion matrix for train set (default parameter)\n",
        "print('Confusion Matrix Train Set SVM (Default Parameter)')\n",
        "cm = confusion_matrix(y_train, y_train_svm, labels=svm.classes_)\n",
        "disp = ConfusionMatrixDisplay(confusion_matrix=cm,display_labels=svm.classes_)\n",
        "\n",
        "matplotlib.rcParams['figure.figsize'] = (10,8)\n",
        "disp.plot()\n",
        "plt.show()"
      ],
      "metadata": {
        "colab": {
          "base_uri": "https://localhost:8080/",
          "height": 514
        },
        "id": "15wXnsPZhIWm",
        "outputId": "7dc62e73-72cf-432c-f021-b873e0e72fab"
      },
      "execution_count": 73,
      "outputs": [
        {
          "output_type": "stream",
          "name": "stdout",
          "text": [
            "Confusion Matrix Train Set SVM (Default Parameter)\n"
          ]
        },
        {
          "output_type": "display_data",
          "data": {
            "text/plain": [
              "<Figure size 720x576 with 2 Axes>"
            ],
            "image/png": "[encoded data removed]"
          },
          "metadata": {
            "needs_background": "light"
          }
        }
      ]
    },
    {
      "cell_type": "code",
      "source": [
        "# Evaluating Train set (Hyperparameter Tuned)\n",
        "print('Train Set (Hyperparameter Tuned)')\n",
        "print('Accuracy - Train Set  : ', accuracy_score(y_train, y_train_svm_final),)\n",
        "print('F1 Score - Train Set  : ', f1_score(y_train, y_train_svm_final), '\\n')\n",
        "print('Classification Report : \\n', classification_report(y_train, y_train_svm_final), '\\n')\n",
        "     "
      ],
      "metadata": {
        "colab": {
          "base_uri": "https://localhost:8080/"
        },
        "id": "HrNbPFndhDVG",
        "outputId": "04a9cc46-5911-415a-bb09-2f1af347dd55"
      },
      "execution_count": 74,
      "outputs": [
        {
          "output_type": "stream",
          "name": "stdout",
          "text": [
            "Train Set (Hyperparameter Tuned)\n",
            "Accuracy - Train Set  :  0.9795918367346939\n",
            "F1 Score - Train Set  :  0.9795918367346939 \n",
            "\n",
            "Classification Report : \n",
            "               precision    recall  f1-score   support\n",
            "\n",
            "           0       0.96      1.00      0.98        24\n",
            "           1       1.00      0.96      0.98        25\n",
            "\n",
            "    accuracy                           0.98        49\n",
            "   macro avg       0.98      0.98      0.98        49\n",
            "weighted avg       0.98      0.98      0.98        49\n",
            " \n",
            "\n"
          ]
        }
      ]
    },
    {
      "cell_type": "code",
      "source": [
        "# Creating confusion matrix for train set (hyperparameter tuned)\n",
        "print('Confusion Matrix Train Set SVM (Hyperparameter Tuned)')\n",
        "cm = confusion_matrix(y_train, y_train_svm_final, labels=svm.classes_)\n",
        "disp = ConfusionMatrixDisplay(confusion_matrix=cm,display_labels=svm.classes_)\n",
        "\n",
        "matplotlib.rcParams['figure.figsize'] = (10,8)\n",
        "disp.plot()\n",
        "plt.show()"
      ],
      "metadata": {
        "colab": {
          "base_uri": "https://localhost:8080/",
          "height": 514
        },
        "id": "hHLnf3fIhRJJ",
        "outputId": "4b315270-c519-432e-81cb-1e28d2600460"
      },
      "execution_count": 75,
      "outputs": [
        {
          "output_type": "stream",
          "name": "stdout",
          "text": [
            "Confusion Matrix Train Set SVM (Hyperparameter Tuned)\n"
          ]
        },
        {
          "output_type": "display_data",
          "data": {
            "text/plain": [
              "<Figure size 720x576 with 2 Axes>"
            ],
            "image/png": "[encoded data removed]"
          },
          "metadata": {
            "needs_background": "light"
          }
        }
      ]
    },
    {
      "cell_type": "markdown",
      "source": [
        "### **Decision Tree**"
      ],
      "metadata": {
        "id": "8KFlyHZShT3Q"
      }
    },
    {
      "cell_type": "code",
      "source": [
        "# Evaluating Train set (Default Parameter)\n",
        "print('Train Set (Defaul Parameter)')\n",
        "print('Accuracy - Train Set  : ', accuracy_score(y_train, y_train_dt))\n",
        "print('F1 Score - Train Set  : ', f1_score(y_train, y_train_dt), '\\n')\n",
        "print('Classification Report : \\n', classification_report(y_train, y_train_dt), '\\n')"
      ],
      "metadata": {
        "colab": {
          "base_uri": "https://localhost:8080/"
        },
        "id": "cA3A6MZlhWeW",
        "outputId": "7dc6fc12-5c55-47f3-e4f2-b45f294b971b"
      },
      "execution_count": 76,
      "outputs": [
        {
          "output_type": "stream",
          "name": "stdout",
          "text": [
            "Train Set (Defaul Parameter)\n",
            "Accuracy - Train Set  :  1.0\n",
            "F1 Score - Train Set  :  1.0 \n",
            "\n",
            "Classification Report : \n",
            "               precision    recall  f1-score   support\n",
            "\n",
            "           0       1.00      1.00      1.00        24\n",
            "           1       1.00      1.00      1.00        25\n",
            "\n",
            "    accuracy                           1.00        49\n",
            "   macro avg       1.00      1.00      1.00        49\n",
            "weighted avg       1.00      1.00      1.00        49\n",
            " \n",
            "\n"
          ]
        }
      ]
    },
    {
      "cell_type": "code",
      "source": [
        "# Creating confusion matrix for train set (default parameter)\n",
        "print('Confusion Matrix Train Set Decision Tree (Default Parameter)')\n",
        "cm = confusion_matrix(y_train, y_train_dt, labels=dt.classes_)\n",
        "disp = ConfusionMatrixDisplay(confusion_matrix=cm,display_labels=dt.classes_)\n",
        "\n",
        "matplotlib.rcParams['figure.figsize'] = (10,8)\n",
        "disp.plot()\n",
        "plt.show()"
      ],
      "metadata": {
        "colab": {
          "base_uri": "https://localhost:8080/",
          "height": 518
        },
        "id": "SEb2yTN4hgua",
        "outputId": "b33df696-a375-4b64-d636-d7b20be74c8a"
      },
      "execution_count": 77,
      "outputs": [
        {
          "output_type": "stream",
          "name": "stdout",
          "text": [
            "Confusion Matrix Train Set Decision Tree (Default Parameter)\n"
          ]
        },
        {
          "output_type": "display_data",
          "data": {
            "text/plain": [
              "<Figure size 720x576 with 2 Axes>"
            ],
            "image/png": "[encoded data removed]"
          },
          "metadata": {
            "needs_background": "light"
          }
        }
      ]
    },
    {
      "cell_type": "code",
      "source": [
        "# Evaluating Train set (Hyperparameter Tuned)\n",
        "print('Train Set (Hyperparameter Tuned)')\n",
        "print('Accuracy - Train Set  : ', accuracy_score(y_train, y_train_dt_final),)\n",
        "print('F1 Score - Train Set  : ', f1_score(y_train, y_train_dt_final), '\\n')\n",
        "print('Classification Report : \\n', classification_report(y_train, y_train_dt_final), '\\n')"
      ],
      "metadata": {
        "colab": {
          "base_uri": "https://localhost:8080/"
        },
        "id": "MrpdOB3VhdHY",
        "outputId": "e15e1e35-07ce-49d7-a654-aa85ec6cf0f3"
      },
      "execution_count": 78,
      "outputs": [
        {
          "output_type": "stream",
          "name": "stdout",
          "text": [
            "Train Set (Hyperparameter Tuned)\n",
            "Accuracy - Train Set  :  0.9387755102040817\n",
            "F1 Score - Train Set  :  0.9361702127659575 \n",
            "\n",
            "Classification Report : \n",
            "               precision    recall  f1-score   support\n",
            "\n",
            "           0       0.89      1.00      0.94        24\n",
            "           1       1.00      0.88      0.94        25\n",
            "\n",
            "    accuracy                           0.94        49\n",
            "   macro avg       0.94      0.94      0.94        49\n",
            "weighted avg       0.95      0.94      0.94        49\n",
            " \n",
            "\n"
          ]
        }
      ]
    },
    {
      "cell_type": "code",
      "source": [
        "# Evaluating Test set (Hyperparameter Tuned)\n",
        "print('Train Set (Hyperparameter Tuned)')\n",
        "print('Accuracy - Train Set  : ', accuracy_score(y_test, y_test_dt_final),)\n",
        "print('F1 Score - Train Set  : ', f1_score(y_test, y_test_dt_final), '\\n')\n",
        "print('Classification Report : \\n', classification_report(y_test, y_test_dt_final), '\\n')"
      ],
      "metadata": {
        "colab": {
          "base_uri": "https://localhost:8080/"
        },
        "id": "b5BAFvdy4_WI",
        "outputId": "8f5bb1dc-1274-4fc6-f9fe-efcd4c345a38"
      },
      "execution_count": 79,
      "outputs": [
        {
          "output_type": "stream",
          "name": "stdout",
          "text": [
            "Train Set (Hyperparameter Tuned)\n",
            "Accuracy - Train Set  :  0.8095238095238095\n",
            "F1 Score - Train Set  :  0.7499999999999999 \n",
            "\n",
            "Classification Report : \n",
            "               precision    recall  f1-score   support\n",
            "\n",
            "           0       0.73      1.00      0.85        11\n",
            "           1       1.00      0.60      0.75        10\n",
            "\n",
            "    accuracy                           0.81        21\n",
            "   macro avg       0.87      0.80      0.80        21\n",
            "weighted avg       0.86      0.81      0.80        21\n",
            " \n",
            "\n"
          ]
        }
      ]
    },
    {
      "cell_type": "code",
      "source": [
        "# Creating confusion matrix for train set (hyperparameter tuned)\n",
        "print('Confusion Matrix Train Set Decision Tree (Hyperparameter Tuned)')\n",
        "cm = confusion_matrix(y_train, y_train_dt_final, labels=dt.classes_)\n",
        "disp = ConfusionMatrixDisplay(confusion_matrix=cm,display_labels=dt.classes_)\n",
        "\n",
        "matplotlib.rcParams['figure.figsize'] = (10,8)\n",
        "disp.plot()\n",
        "plt.show()"
      ],
      "metadata": {
        "colab": {
          "base_uri": "https://localhost:8080/",
          "height": 514
        },
        "id": "3UZeimLdhjzG",
        "outputId": "df54d162-3e9f-4024-e8e7-29b9a474ba04"
      },
      "execution_count": 80,
      "outputs": [
        {
          "output_type": "stream",
          "name": "stdout",
          "text": [
            "Confusion Matrix Train Set Decision Tree (Hyperparameter Tuned)\n"
          ]
        },
        {
          "output_type": "display_data",
          "data": {
            "text/plain": [
              "<Figure size 720x576 with 2 Axes>"
            ],
            "image/png": "[encoded data removed]"
          },
          "metadata": {
            "needs_background": "light"
          }
        }
      ]
    },
    {
      "cell_type": "code",
      "source": [
        "# Creating confusion matrix for test set (hyperparameter tuned)\n",
        "print('Confusion Matrix Train Set Decision Tree (Hyperparameter Tuned)')\n",
        "cm = confusion_matrix(y_test, y_test_dt_final, labels=dt.classes_)\n",
        "disp = ConfusionMatrixDisplay(confusion_matrix=cm,display_labels=dt.classes_)\n",
        "\n",
        "matplotlib.rcParams['figure.figsize'] = (10,8)\n",
        "disp.plot()\n",
        "plt.show()"
      ],
      "metadata": {
        "colab": {
          "base_uri": "https://localhost:8080/",
          "height": 514
        },
        "id": "cTuqooyQiNQF",
        "outputId": "d64ddcf5-d517-4a91-a284-ae0bb40b8272"
      },
      "execution_count": 81,
      "outputs": [
        {
          "output_type": "stream",
          "name": "stdout",
          "text": [
            "Confusion Matrix Train Set Decision Tree (Hyperparameter Tuned)\n"
          ]
        },
        {
          "output_type": "display_data",
          "data": {
            "text/plain": [
              "<Figure size 720x576 with 2 Axes>"
            ],
            "image/png": "[encoded data removed]"
          },
          "metadata": {
            "needs_background": "light"
          }
        }
      ]
    },
    {
      "cell_type": "markdown",
      "source": [
        "### **Random Forest**"
      ],
      "metadata": {
        "id": "WJn5gS6Qh4c8"
      }
    },
    {
      "cell_type": "code",
      "source": [
        "# Evaluating Train set (Default Parameter)\n",
        "print('Train Set (Defaul Parameter)')\n",
        "print('Accuracy - Train Set  : ', accuracy_score(y_train, y_train_rfc))\n",
        "print('F1 Score - Train Set  : ', f1_score(y_train, y_train_rfc), '\\n')\n",
        "print('Classification Report : \\n', classification_report(y_train, y_train_rfc), '\\n')"
      ],
      "metadata": {
        "colab": {
          "base_uri": "https://localhost:8080/"
        },
        "id": "NoRkaOi8h62R",
        "outputId": "edaf58e3-9d24-4246-ba20-c7e9407aeb3b"
      },
      "execution_count": 82,
      "outputs": [
        {
          "output_type": "stream",
          "name": "stdout",
          "text": [
            "Train Set (Defaul Parameter)\n",
            "Accuracy - Train Set  :  1.0\n",
            "F1 Score - Train Set  :  1.0 \n",
            "\n",
            "Classification Report : \n",
            "               precision    recall  f1-score   support\n",
            "\n",
            "           0       1.00      1.00      1.00        24\n",
            "           1       1.00      1.00      1.00        25\n",
            "\n",
            "    accuracy                           1.00        49\n",
            "   macro avg       1.00      1.00      1.00        49\n",
            "weighted avg       1.00      1.00      1.00        49\n",
            " \n",
            "\n"
          ]
        }
      ]
    },
    {
      "cell_type": "code",
      "source": [
        "# Creating confusion matrix for train set (default parameter)\n",
        "print('Confusion Matrix Train Set Random Forest Classifier (Default Parameter)')\n",
        "cm = confusion_matrix(y_train, y_train_rfc, labels=rfc.classes_)\n",
        "disp = ConfusionMatrixDisplay(confusion_matrix=cm,display_labels=rfc.classes_)\n",
        "\n",
        "matplotlib.rcParams['figure.figsize'] = (10,8)\n",
        "disp.plot()\n",
        "plt.show()"
      ],
      "metadata": {
        "colab": {
          "base_uri": "https://localhost:8080/",
          "height": 518
        },
        "id": "ouiUbiUkiBR9",
        "outputId": "c8b60dab-d044-4db8-b58a-2cb78ff9bda9"
      },
      "execution_count": 83,
      "outputs": [
        {
          "output_type": "stream",
          "name": "stdout",
          "text": [
            "Confusion Matrix Train Set Random Forest Classifier (Default Parameter)\n"
          ]
        },
        {
          "output_type": "display_data",
          "data": {
            "text/plain": [
              "<Figure size 720x576 with 2 Axes>"
            ],
            "image/png": "[encoded data removed]"
          },
          "metadata": {
            "needs_background": "light"
          }
        }
      ]
    },
    {
      "cell_type": "code",
      "source": [
        "# Evaluating Train set (Hyperparameter Tuned)\n",
        "print('Train Set (Hyperparameter Tuned)')\n",
        "print('Accuracy - Train Set  : ', accuracy_score(y_train, y_train_rfc_final),)\n",
        "print('F1 Score - Train Set  : ', f1_score(y_train, y_train_rfc_final), '\\n')\n",
        "print('Classification Report : \\n', classification_report(y_train, y_train_rfc_final), '\\n')"
      ],
      "metadata": {
        "colab": {
          "base_uri": "https://localhost:8080/"
        },
        "id": "DFMpYoQBh-r9",
        "outputId": "2a0f88c5-37c3-4b4a-9595-9d823ff76b4e"
      },
      "execution_count": 84,
      "outputs": [
        {
          "output_type": "stream",
          "name": "stdout",
          "text": [
            "Train Set (Hyperparameter Tuned)\n",
            "Accuracy - Train Set  :  0.9795918367346939\n",
            "F1 Score - Train Set  :  0.9795918367346939 \n",
            "\n",
            "Classification Report : \n",
            "               precision    recall  f1-score   support\n",
            "\n",
            "           0       0.96      1.00      0.98        24\n",
            "           1       1.00      0.96      0.98        25\n",
            "\n",
            "    accuracy                           0.98        49\n",
            "   macro avg       0.98      0.98      0.98        49\n",
            "weighted avg       0.98      0.98      0.98        49\n",
            " \n",
            "\n"
          ]
        }
      ]
    },
    {
      "cell_type": "code",
      "source": [
        "# Creating confusion matrix for train set (hyperparameter tuned)\n",
        "print('Confusion Matrix Train Set Random Forest Classifier (Hyperparameter Tuned)')\n",
        "cm = confusion_matrix(y_train, y_train_rfc_final, labels=rfc.classes_)\n",
        "disp = ConfusionMatrixDisplay(confusion_matrix=cm,display_labels=rfc.classes_)\n",
        "\n",
        "matplotlib.rcParams['figure.figsize'] = (10,8)\n",
        "disp.plot()\n",
        "plt.show()"
      ],
      "metadata": {
        "colab": {
          "base_uri": "https://localhost:8080/",
          "height": 514
        },
        "id": "OU8UEm1ciDza",
        "outputId": "7c987ac0-eab4-40c1-fd72-f35bd08a529f"
      },
      "execution_count": 85,
      "outputs": [
        {
          "output_type": "stream",
          "name": "stdout",
          "text": [
            "Confusion Matrix Train Set Random Forest Classifier (Hyperparameter Tuned)\n"
          ]
        },
        {
          "output_type": "display_data",
          "data": {
            "text/plain": [
              "<Figure size 720x576 with 2 Axes>"
            ],
            "image/png": "[encoded data removed]"
          },
          "metadata": {
            "needs_background": "light"
          }
        }
      ]
    },
    {
      "cell_type": "code",
      "source": [
        "# Creating confusion matrix for train set (hyperparameter tuned)\n",
        "print('Confusion Matrix Train Set Random Forest Classifier (Hyperparameter Tuned)')\n",
        "cm = confusion_matrix(y_test, y_test_rfc_final, labels=rfc.classes_)\n",
        "disp = ConfusionMatrixDisplay(confusion_matrix=cm,display_labels=rfc.classes_)\n",
        "\n",
        "matplotlib.rcParams['figure.figsize'] = (10,8)\n",
        "disp.plot()\n",
        "plt.show()"
      ],
      "metadata": {
        "colab": {
          "base_uri": "https://localhost:8080/",
          "height": 514
        },
        "id": "_FZrqaCxiGac",
        "outputId": "0094aae0-f2eb-4eab-eea1-08445eee0e24"
      },
      "execution_count": 86,
      "outputs": [
        {
          "output_type": "stream",
          "name": "stdout",
          "text": [
            "Confusion Matrix Train Set Random Forest Classifier (Hyperparameter Tuned)\n"
          ]
        },
        {
          "output_type": "display_data",
          "data": {
            "text/plain": [
              "<Figure size 720x576 with 2 Axes>"
            ],
            "image/png": "[encoded data removed]"
          },
          "metadata": {
            "needs_background": "light"
          }
        }
      ]
    },
    {
      "cell_type": "markdown",
      "source": [
        "## **Model Saving**"
      ],
      "metadata": {
        "id": "cnaEqCw7kpex"
      }
    },
    {
      "cell_type": "code",
      "source": [
        "# Save the model files\n",
        "with open('rfc_gridcv.pkl', 'wb') as file_1:\n",
        "  joblib.dump(rfc_gridcv_best, file_1)"
      ],
      "metadata": {
        "id": "3LyXhd93kq2y"
      },
      "execution_count": 87,
      "outputs": []
    },
    {
      "cell_type": "code",
      "source": [
        "# Load all model files\n",
        "with open('rfc_gridcv.pkl', 'rb') as file_1:\n",
        "  rfc_model = joblib.load(file_1)"
      ],
      "metadata": {
        "id": "aK2EFzj2lCh2"
      },
      "execution_count": 88,
      "outputs": []
    },
    {
      "cell_type": "markdown",
      "source": [
        "## **Model Inference**"
      ],
      "metadata": {
        "id": "_ENJhWBpkXwM"
      }
    },
    {
      "cell_type": "code",
      "source": [
        "df_inf"
      ],
      "metadata": {
        "colab": {
          "base_uri": "https://localhost:8080/",
          "height": 206
        },
        "id": "7CvNa72IkZ0O",
        "outputId": "ef7fa317-04ae-45f3-e8ae-993ef40b7b71"
      },
      "execution_count": 89,
      "outputs": [
        {
          "output_type": "execute_result",
          "data": {
            "text/plain": [
              "         Date  Present     Next  Class\n",
              "5  2022-09-23  2808.77  2803.99      0\n",
              "6  2022-09-26  2803.99  2800.80      0\n",
              "29 2022-10-27  2783.28  2783.62      1\n",
              "48 2022-11-23  2817.16  2822.19      1\n",
              "61 2022-12-12  2845.37  2844.53      0"
            ],
            "text/html": [
              "\n",
              "  <div id=\"df-1bccefad-0e47-489b-baeb-d56c5ab17538\">\n",
              "    <div class=\"colab-df-container\">\n",
              "      <div>\n",
              "<style scoped>\n",
              "    .dataframe tbody tr th:only-of-type {\n",
              "        vertical-align: middle;\n",
              "    }\n",
              "\n",
              "    .dataframe tbody tr th {\n",
              "        vertical-align: top;\n",
              "    }\n",
              "\n",
              "    .dataframe thead th {\n",
              "        text-align: right;\n",
              "    }\n",
              "</style>\n",
              "<table border=\"1\" class=\"dataframe\">\n",
              "  <thead>\n",
              "    <tr style=\"text-align: right;\">\n",
              "      <th></th>\n",
              "      <th>Date</th>\n",
              "      <th>Present</th>\n",
              "      <th>Next</th>\n",
              "      <th>Class</th>\n",
              "    </tr>\n",
              "  </thead>\n",
              "  <tbody>\n",
              "    <tr>\n",
              "      <th>5</th>\n",
              "      <td>2022-09-23</td>\n",
              "      <td>2808.77</td>\n",
              "      <td>2803.99</td>\n",
              "      <td>0</td>\n",
              "    </tr>\n",
              "    <tr>\n",
              "      <th>6</th>\n",
              "      <td>2022-09-26</td>\n",
              "      <td>2803.99</td>\n",
              "      <td>2800.80</td>\n",
              "      <td>0</td>\n",
              "    </tr>\n",
              "    <tr>\n",
              "      <th>29</th>\n",
              "      <td>2022-10-27</td>\n",
              "      <td>2783.28</td>\n",
              "      <td>2783.62</td>\n",
              "      <td>1</td>\n",
              "    </tr>\n",
              "    <tr>\n",
              "      <th>48</th>\n",
              "      <td>2022-11-23</td>\n",
              "      <td>2817.16</td>\n",
              "      <td>2822.19</td>\n",
              "      <td>1</td>\n",
              "    </tr>\n",
              "    <tr>\n",
              "      <th>61</th>\n",
              "      <td>2022-12-12</td>\n",
              "      <td>2845.37</td>\n",
              "      <td>2844.53</td>\n",
              "      <td>0</td>\n",
              "    </tr>\n",
              "  </tbody>\n",
              "</table>\n",
              "</div>\n",
              "      <button class=\"colab-df-convert\" onclick=\"convertToInteractive('df-1bccefad-0e47-489b-baeb-d56c5ab17538')\"\n",
              "              title=\"Convert this dataframe to an interactive table.\"\n",
              "              style=\"display:none;\">\n",
              "        \n",
              "  <svg xmlns=\"http://www.w3.org/2000/svg\" height=\"24px\"viewBox=\"0 0 24 24\"\n",
              "       width=\"24px\">\n",
              "    <path d=\"M0 0h24v24H0V0z\" fill=\"none\"/>\n",
              "    <path d=\"M18.56 5.44l.94 2.06.94-2.06 2.06-.94-2.06-.94-.94-2.06-.94 2.06-2.06.94zm-11 1L8.5 8.5l.94-2.06 2.06-.94-2.06-.94L8.5 2.5l-.94 2.06-2.06.94zm10 10l.94 2.06.94-2.06 2.06-.94-2.06-.94-.94-2.06-.94 2.06-2.06.94z\"/><path d=\"M17.41 7.96l-1.37-1.37c-.4-.4-.92-.59-1.43-.59-.52 0-1.04.2-1.43.59L10.3 9.45l-7.72 7.72c-.78.78-.78 2.05 0 2.83L4 21.41c.39.39.9.59 1.41.59.51 0 1.02-.2 1.41-.59l7.78-7.78 2.81-2.81c.8-.78.8-2.07 0-2.86zM5.41 20L4 18.59l7.72-7.72 1.47 1.35L5.41 20z\"/>\n",
              "  </svg>\n",
              "      </button>\n",
              "      \n",
              "  <style>\n",
              "    .colab-df-container {\n",
              "      display:flex;\n",
              "      flex-wrap:wrap;\n",
              "      gap: 12px;\n",
              "    }\n",
              "\n",
              "    .colab-df-convert {\n",
              "      background-color: #E8F0FE;\n",
              "      border: none;\n",
              "      border-radius: 50%;\n",
              "      cursor: pointer;\n",
              "      display: none;\n",
              "      fill: #1967D2;\n",
              "      height: 32px;\n",
              "      padding: 0 0 0 0;\n",
              "      width: 32px;\n",
              "    }\n",
              "\n",
              "    .colab-df-convert:hover {\n",
              "      background-color: #E2EBFA;\n",
              "      box-shadow: 0px 1px 2px rgba(60, 64, 67, 0.3), 0px 1px 3px 1px rgba(60, 64, 67, 0.15);\n",
              "      fill: #174EA6;\n",
              "    }\n",
              "\n",
              "    [theme=dark] .colab-df-convert {\n",
              "      background-color: #3B4455;\n",
              "      fill: #D2E3FC;\n",
              "    }\n",
              "\n",
              "    [theme=dark] .colab-df-convert:hover {\n",
              "      background-color: #434B5C;\n",
              "      box-shadow: 0px 1px 3px 1px rgba(0, 0, 0, 0.15);\n",
              "      filter: drop-shadow(0px 1px 2px rgba(0, 0, 0, 0.3));\n",
              "      fill: #FFFFFF;\n",
              "    }\n",
              "  </style>\n",
              "\n",
              "      <script>\n",
              "        const buttonEl =\n",
              "          document.querySelector('#df-1bccefad-0e47-489b-baeb-d56c5ab17538 button.colab-df-convert');\n",
              "        buttonEl.style.display =\n",
              "          google.colab.kernel.accessAllowed ? 'block' : 'none';\n",
              "\n",
              "        async function convertToInteractive(key) {\n",
              "          const element = document.querySelector('#df-1bccefad-0e47-489b-baeb-d56c5ab17538');\n",
              "          const dataTable =\n",
              "            await google.colab.kernel.invokeFunction('convertToInteractive',\n",
              "                                                     [key], {});\n",
              "          if (!dataTable) return;\n",
              "\n",
              "          const docLinkHtml = 'Like what you see? Visit the ' +\n",
              "            '<a target=\"_blank\" href=https://colab.research.google.com/notebooks/data_table.ipynb>data table notebook</a>'\n",
              "            + ' to learn more about interactive tables.';\n",
              "          element.innerHTML = '';\n",
              "          dataTable['output_type'] = 'display_data';\n",
              "          await google.colab.output.renderOutput(dataTable, element);\n",
              "          const docLink = document.createElement('div');\n",
              "          docLink.innerHTML = docLinkHtml;\n",
              "          element.appendChild(docLink);\n",
              "        }\n",
              "      </script>\n",
              "    </div>\n",
              "  </div>\n",
              "  "
            ]
          },
          "metadata": {},
          "execution_count": 89
        }
      ]
    },
    {
      "cell_type": "code",
      "source": [
        "# Predict target inference\n",
        "y_inf = rfc_model.predict(df_inf)\n",
        "y_inf = pd.DataFrame(y_inf, columns=['Prediction'],index=df_inf.index)"
      ],
      "metadata": {
        "id": "ooUyIdYwkfGS"
      },
      "execution_count": 90,
      "outputs": []
    },
    {
      "cell_type": "code",
      "source": [
        "# Comparing the real target and prediction\n",
        "model_inf = pd.concat([df_inf['Class'], y_inf['Prediction']], axis=1).sort_index()\n",
        "model_inf"
      ],
      "metadata": {
        "colab": {
          "base_uri": "https://localhost:8080/",
          "height": 206
        },
        "id": "Ji7LnK-elJ0J",
        "outputId": "866b088c-7d49-4de5-fa8f-8543ca3ef65c"
      },
      "execution_count": 91,
      "outputs": [
        {
          "output_type": "execute_result",
          "data": {
            "text/plain": [
              "    Class  Prediction\n",
              "5       0           0\n",
              "6       0           0\n",
              "29      1           0\n",
              "48      1           1\n",
              "61      0           0"
            ],
            "text/html": [
              "\n",
              "  <div id=\"df-5587f895-ada7-4444-8300-dfe4f178cabf\">\n",
              "    <div class=\"colab-df-container\">\n",
              "      <div>\n",
              "<style scoped>\n",
              "    .dataframe tbody tr th:only-of-type {\n",
              "        vertical-align: middle;\n",
              "    }\n",
              "\n",
              "    .dataframe tbody tr th {\n",
              "        vertical-align: top;\n",
              "    }\n",
              "\n",
              "    .dataframe thead th {\n",
              "        text-align: right;\n",
              "    }\n",
              "</style>\n",
              "<table border=\"1\" class=\"dataframe\">\n",
              "  <thead>\n",
              "    <tr style=\"text-align: right;\">\n",
              "      <th></th>\n",
              "      <th>Class</th>\n",
              "      <th>Prediction</th>\n",
              "    </tr>\n",
              "  </thead>\n",
              "  <tbody>\n",
              "    <tr>\n",
              "      <th>5</th>\n",
              "      <td>0</td>\n",
              "      <td>0</td>\n",
              "    </tr>\n",
              "    <tr>\n",
              "      <th>6</th>\n",
              "      <td>0</td>\n",
              "      <td>0</td>\n",
              "    </tr>\n",
              "    <tr>\n",
              "      <th>29</th>\n",
              "      <td>1</td>\n",
              "      <td>0</td>\n",
              "    </tr>\n",
              "    <tr>\n",
              "      <th>48</th>\n",
              "      <td>1</td>\n",
              "      <td>1</td>\n",
              "    </tr>\n",
              "    <tr>\n",
              "      <th>61</th>\n",
              "      <td>0</td>\n",
              "      <td>0</td>\n",
              "    </tr>\n",
              "  </tbody>\n",
              "</table>\n",
              "</div>\n",
              "      <button class=\"colab-df-convert\" onclick=\"convertToInteractive('df-5587f895-ada7-4444-8300-dfe4f178cabf')\"\n",
              "              title=\"Convert this dataframe to an interactive table.\"\n",
              "              style=\"display:none;\">\n",
              "        \n",
              "  <svg xmlns=\"http://www.w3.org/2000/svg\" height=\"24px\"viewBox=\"0 0 24 24\"\n",
              "       width=\"24px\">\n",
              "    <path d=\"M0 0h24v24H0V0z\" fill=\"none\"/>\n",
              "    <path d=\"M18.56 5.44l.94 2.06.94-2.06 2.06-.94-2.06-.94-.94-2.06-.94 2.06-2.06.94zm-11 1L8.5 8.5l.94-2.06 2.06-.94-2.06-.94L8.5 2.5l-.94 2.06-2.06.94zm10 10l.94 2.06.94-2.06 2.06-.94-2.06-.94-.94-2.06-.94 2.06-2.06.94z\"/><path d=\"M17.41 7.96l-1.37-1.37c-.4-.4-.92-.59-1.43-.59-.52 0-1.04.2-1.43.59L10.3 9.45l-7.72 7.72c-.78.78-.78 2.05 0 2.83L4 21.41c.39.39.9.59 1.41.59.51 0 1.02-.2 1.41-.59l7.78-7.78 2.81-2.81c.8-.78.8-2.07 0-2.86zM5.41 20L4 18.59l7.72-7.72 1.47 1.35L5.41 20z\"/>\n",
              "  </svg>\n",
              "      </button>\n",
              "      \n",
              "  <style>\n",
              "    .colab-df-container {\n",
              "      display:flex;\n",
              "      flex-wrap:wrap;\n",
              "      gap: 12px;\n",
              "    }\n",
              "\n",
              "    .colab-df-convert {\n",
              "      background-color: #E8F0FE;\n",
              "      border: none;\n",
              "      border-radius: 50%;\n",
              "      cursor: pointer;\n",
              "      display: none;\n",
              "      fill: #1967D2;\n",
              "      height: 32px;\n",
              "      padding: 0 0 0 0;\n",
              "      width: 32px;\n",
              "    }\n",
              "\n",
              "    .colab-df-convert:hover {\n",
              "      background-color: #E2EBFA;\n",
              "      box-shadow: 0px 1px 2px rgba(60, 64, 67, 0.3), 0px 1px 3px 1px rgba(60, 64, 67, 0.15);\n",
              "      fill: #174EA6;\n",
              "    }\n",
              "\n",
              "    [theme=dark] .colab-df-convert {\n",
              "      background-color: #3B4455;\n",
              "      fill: #D2E3FC;\n",
              "    }\n",
              "\n",
              "    [theme=dark] .colab-df-convert:hover {\n",
              "      background-color: #434B5C;\n",
              "      box-shadow: 0px 1px 3px 1px rgba(0, 0, 0, 0.15);\n",
              "      filter: drop-shadow(0px 1px 2px rgba(0, 0, 0, 0.3));\n",
              "      fill: #FFFFFF;\n",
              "    }\n",
              "  </style>\n",
              "\n",
              "      <script>\n",
              "        const buttonEl =\n",
              "          document.querySelector('#df-5587f895-ada7-4444-8300-dfe4f178cabf button.colab-df-convert');\n",
              "        buttonEl.style.display =\n",
              "          google.colab.kernel.accessAllowed ? 'block' : 'none';\n",
              "\n",
              "        async function convertToInteractive(key) {\n",
              "          const element = document.querySelector('#df-5587f895-ada7-4444-8300-dfe4f178cabf');\n",
              "          const dataTable =\n",
              "            await google.colab.kernel.invokeFunction('convertToInteractive',\n",
              "                                                     [key], {});\n",
              "          if (!dataTable) return;\n",
              "\n",
              "          const docLinkHtml = 'Like what you see? Visit the ' +\n",
              "            '<a target=\"_blank\" href=https://colab.research.google.com/notebooks/data_table.ipynb>data table notebook</a>'\n",
              "            + ' to learn more about interactive tables.';\n",
              "          element.innerHTML = '';\n",
              "          dataTable['output_type'] = 'display_data';\n",
              "          await google.colab.output.renderOutput(dataTable, element);\n",
              "          const docLink = document.createElement('div');\n",
              "          docLink.innerHTML = docLinkHtml;\n",
              "          element.appendChild(docLink);\n",
              "        }\n",
              "      </script>\n",
              "    </div>\n",
              "  </div>\n",
              "  "
            ]
          },
          "metadata": {},
          "execution_count": 91
        }
      ]
    }
  ]
}