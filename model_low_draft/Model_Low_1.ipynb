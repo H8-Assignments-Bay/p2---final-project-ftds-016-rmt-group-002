{
  "nbformat": 4,
  "nbformat_minor": 0,
  "metadata": {
    "colab": {
      "provenance": []
    },
    "kernelspec": {
      "name": "python3",
      "display_name": "Python 3"
    },
    "language_info": {
      "name": "python"
    }
  },
  "cells": [
    {
      "cell_type": "markdown",
      "source": [
        "# **BNI AM Dana Likuid**"
      ],
      "metadata": {
        "id": "PetGFZKdliQu"
      }
    },
    {
      "cell_type": "markdown",
      "source": [
        "## **Importing Libraries**"
      ],
      "metadata": {
        "id": "zjg1MHE5iQ47"
      }
    },
    {
      "cell_type": "code",
      "execution_count": null,
      "metadata": {
        "id": "1AKF5pcUiL5Z"
      },
      "outputs": [],
      "source": [
        "#main\n",
        "import pandas as pd\n",
        "import numpy as np\n",
        "\n",
        "import warnings\n",
        "warnings.filterwarnings('ignore')\n",
        "\n",
        "#viz\n",
        "import seaborn as sns \n",
        "\n",
        "import matplotlib\n",
        "from matplotlib import pyplot as plt\n",
        "%matplotlib inline\n",
        "matplotlib.rcParams['figure.figsize'] = (20,8)\n",
        "\n",
        "# Feature Selection\n",
        "from sklearn.model_selection import train_test_split, cross_val_score, GridSearchCV\n",
        "\n",
        "# Preprocessing Libraries\n",
        "from sklearn.pipeline import Pipeline\n",
        "from sklearn.compose import ColumnTransformer\n",
        "from sklearn.preprocessing import MinMaxScaler\n",
        "\n",
        "# Import Classification Algorithms\n",
        "from sklearn.linear_model import LogisticRegression\n",
        "from sklearn.svm import SVC\n",
        "from sklearn.tree import DecisionTreeClassifier\n",
        "from sklearn.ensemble import RandomForestClassifier\n",
        "\n",
        "# Import Evaluation Libraries for Classification\n",
        "from sklearn.metrics import accuracy_score, classification_report, ConfusionMatrixDisplay, confusion_matrix\n",
        "from sklearn.metrics import precision_score, recall_score, f1_score\n",
        "\n",
        "#mod\n",
        "import tensorflow as tf\n",
        "from tensorflow.keras import Sequential\n",
        "from sklearn.preprocessing import MinMaxScaler\n",
        "from tensorflow.keras.layers import Dense, LSTM, Dropout \n",
        "from sklearn.metrics import mean_absolute_error\n",
        "\n",
        "# Save and Load Model\n",
        "import joblib\n",
        "import json"
      ]
    },
    {
      "cell_type": "markdown",
      "source": [
        "## **Data Loading**"
      ],
      "metadata": {
        "id": "WsnVbewEiUlU"
      }
    },
    {
      "cell_type": "code",
      "source": [
        "# Data Loading Raw\n",
        "url = 'https://raw.githubusercontent.com/H8-Assignments-Bay/p2---final-project-ftds-016-rmt-group-002/main/Dataset_clean/Low%20Clean/BNI%20AM%20Dana%20Likuid%20Clean.csv'\n",
        "df = pd.read_csv(url)\n",
        "df.head()"
      ],
      "metadata": {
        "colab": {
          "base_uri": "https://localhost:8080/",
          "height": 206
        },
        "id": "iN8JqGBbiW_Q",
        "outputId": "deda93e0-2e21-4488-bb7f-66439b7720c5"
      },
      "execution_count": null,
      "outputs": [
        {
          "output_type": "execute_result",
          "data": {
            "text/plain": [
              "   Unnamed: 0        Date  Present     Next  Class\n",
              "0           0  2022-09-16  1741.06  1740.89      0\n",
              "1           1  2022-09-19  1740.89  1741.23      1\n",
              "2           2  2022-09-20  1741.23  1741.29      1\n",
              "3           3  2022-09-21  1741.29  1740.83      0\n",
              "4           4  2022-09-22  1740.83  1740.29      0"
            ],
            "text/html": [
              "\n",
              "  <div id=\"df-2828bab6-639f-420d-88de-615781a718ae\">\n",
              "    <div class=\"colab-df-container\">\n",
              "      <div>\n",
              "<style scoped>\n",
              "    .dataframe tbody tr th:only-of-type {\n",
              "        vertical-align: middle;\n",
              "    }\n",
              "\n",
              "    .dataframe tbody tr th {\n",
              "        vertical-align: top;\n",
              "    }\n",
              "\n",
              "    .dataframe thead th {\n",
              "        text-align: right;\n",
              "    }\n",
              "</style>\n",
              "<table border=\"1\" class=\"dataframe\">\n",
              "  <thead>\n",
              "    <tr style=\"text-align: right;\">\n",
              "      <th></th>\n",
              "      <th>Unnamed: 0</th>\n",
              "      <th>Date</th>\n",
              "      <th>Present</th>\n",
              "      <th>Next</th>\n",
              "      <th>Class</th>\n",
              "    </tr>\n",
              "  </thead>\n",
              "  <tbody>\n",
              "    <tr>\n",
              "      <th>0</th>\n",
              "      <td>0</td>\n",
              "      <td>2022-09-16</td>\n",
              "      <td>1741.06</td>\n",
              "      <td>1740.89</td>\n",
              "      <td>0</td>\n",
              "    </tr>\n",
              "    <tr>\n",
              "      <th>1</th>\n",
              "      <td>1</td>\n",
              "      <td>2022-09-19</td>\n",
              "      <td>1740.89</td>\n",
              "      <td>1741.23</td>\n",
              "      <td>1</td>\n",
              "    </tr>\n",
              "    <tr>\n",
              "      <th>2</th>\n",
              "      <td>2</td>\n",
              "      <td>2022-09-20</td>\n",
              "      <td>1741.23</td>\n",
              "      <td>1741.29</td>\n",
              "      <td>1</td>\n",
              "    </tr>\n",
              "    <tr>\n",
              "      <th>3</th>\n",
              "      <td>3</td>\n",
              "      <td>2022-09-21</td>\n",
              "      <td>1741.29</td>\n",
              "      <td>1740.83</td>\n",
              "      <td>0</td>\n",
              "    </tr>\n",
              "    <tr>\n",
              "      <th>4</th>\n",
              "      <td>4</td>\n",
              "      <td>2022-09-22</td>\n",
              "      <td>1740.83</td>\n",
              "      <td>1740.29</td>\n",
              "      <td>0</td>\n",
              "    </tr>\n",
              "  </tbody>\n",
              "</table>\n",
              "</div>\n",
              "      <button class=\"colab-df-convert\" onclick=\"convertToInteractive('df-2828bab6-639f-420d-88de-615781a718ae')\"\n",
              "              title=\"Convert this dataframe to an interactive table.\"\n",
              "              style=\"display:none;\">\n",
              "        \n",
              "  <svg xmlns=\"http://www.w3.org/2000/svg\" height=\"24px\"viewBox=\"0 0 24 24\"\n",
              "       width=\"24px\">\n",
              "    <path d=\"M0 0h24v24H0V0z\" fill=\"none\"/>\n",
              "    <path d=\"M18.56 5.44l.94 2.06.94-2.06 2.06-.94-2.06-.94-.94-2.06-.94 2.06-2.06.94zm-11 1L8.5 8.5l.94-2.06 2.06-.94-2.06-.94L8.5 2.5l-.94 2.06-2.06.94zm10 10l.94 2.06.94-2.06 2.06-.94-2.06-.94-.94-2.06-.94 2.06-2.06.94z\"/><path d=\"M17.41 7.96l-1.37-1.37c-.4-.4-.92-.59-1.43-.59-.52 0-1.04.2-1.43.59L10.3 9.45l-7.72 7.72c-.78.78-.78 2.05 0 2.83L4 21.41c.39.39.9.59 1.41.59.51 0 1.02-.2 1.41-.59l7.78-7.78 2.81-2.81c.8-.78.8-2.07 0-2.86zM5.41 20L4 18.59l7.72-7.72 1.47 1.35L5.41 20z\"/>\n",
              "  </svg>\n",
              "      </button>\n",
              "      \n",
              "  <style>\n",
              "    .colab-df-container {\n",
              "      display:flex;\n",
              "      flex-wrap:wrap;\n",
              "      gap: 12px;\n",
              "    }\n",
              "\n",
              "    .colab-df-convert {\n",
              "      background-color: #E8F0FE;\n",
              "      border: none;\n",
              "      border-radius: 50%;\n",
              "      cursor: pointer;\n",
              "      display: none;\n",
              "      fill: #1967D2;\n",
              "      height: 32px;\n",
              "      padding: 0 0 0 0;\n",
              "      width: 32px;\n",
              "    }\n",
              "\n",
              "    .colab-df-convert:hover {\n",
              "      background-color: #E2EBFA;\n",
              "      box-shadow: 0px 1px 2px rgba(60, 64, 67, 0.3), 0px 1px 3px 1px rgba(60, 64, 67, 0.15);\n",
              "      fill: #174EA6;\n",
              "    }\n",
              "\n",
              "    [theme=dark] .colab-df-convert {\n",
              "      background-color: #3B4455;\n",
              "      fill: #D2E3FC;\n",
              "    }\n",
              "\n",
              "    [theme=dark] .colab-df-convert:hover {\n",
              "      background-color: #434B5C;\n",
              "      box-shadow: 0px 1px 3px 1px rgba(0, 0, 0, 0.15);\n",
              "      filter: drop-shadow(0px 1px 2px rgba(0, 0, 0, 0.3));\n",
              "      fill: #FFFFFF;\n",
              "    }\n",
              "  </style>\n",
              "\n",
              "      <script>\n",
              "        const buttonEl =\n",
              "          document.querySelector('#df-2828bab6-639f-420d-88de-615781a718ae button.colab-df-convert');\n",
              "        buttonEl.style.display =\n",
              "          google.colab.kernel.accessAllowed ? 'block' : 'none';\n",
              "\n",
              "        async function convertToInteractive(key) {\n",
              "          const element = document.querySelector('#df-2828bab6-639f-420d-88de-615781a718ae');\n",
              "          const dataTable =\n",
              "            await google.colab.kernel.invokeFunction('convertToInteractive',\n",
              "                                                     [key], {});\n",
              "          if (!dataTable) return;\n",
              "\n",
              "          const docLinkHtml = 'Like what you see? Visit the ' +\n",
              "            '<a target=\"_blank\" href=https://colab.research.google.com/notebooks/data_table.ipynb>data table notebook</a>'\n",
              "            + ' to learn more about interactive tables.';\n",
              "          element.innerHTML = '';\n",
              "          dataTable['output_type'] = 'display_data';\n",
              "          await google.colab.output.renderOutput(dataTable, element);\n",
              "          const docLink = document.createElement('div');\n",
              "          docLink.innerHTML = docLinkHtml;\n",
              "          element.appendChild(docLink);\n",
              "        }\n",
              "      </script>\n",
              "    </div>\n",
              "  </div>\n",
              "  "
            ]
          },
          "metadata": {},
          "execution_count": 2
        }
      ]
    },
    {
      "cell_type": "code",
      "source": [
        "df.tail()"
      ],
      "metadata": {
        "colab": {
          "base_uri": "https://localhost:8080/",
          "height": 206
        },
        "id": "BJzsuxyX-SfU",
        "outputId": "189ebead-9ba1-402a-cf98-bbe84999464f"
      },
      "execution_count": null,
      "outputs": [
        {
          "output_type": "execute_result",
          "data": {
            "text/plain": [
              "    Unnamed: 0        Date  Present     Next  Class\n",
              "61          61  2022-12-12  1750.18  1750.45      1\n",
              "62          62  2022-12-13  1750.45  1750.58      1\n",
              "63          63  2022-12-14  1750.58  1750.75      1\n",
              "64          64  2022-12-15  1750.75  1750.96      1\n",
              "65          65  2022-12-16  1750.96      NaN      0"
            ],
            "text/html": [
              "\n",
              "  <div id=\"df-40cb58a3-9e9d-463c-b918-53fb24f0ca93\">\n",
              "    <div class=\"colab-df-container\">\n",
              "      <div>\n",
              "<style scoped>\n",
              "    .dataframe tbody tr th:only-of-type {\n",
              "        vertical-align: middle;\n",
              "    }\n",
              "\n",
              "    .dataframe tbody tr th {\n",
              "        vertical-align: top;\n",
              "    }\n",
              "\n",
              "    .dataframe thead th {\n",
              "        text-align: right;\n",
              "    }\n",
              "</style>\n",
              "<table border=\"1\" class=\"dataframe\">\n",
              "  <thead>\n",
              "    <tr style=\"text-align: right;\">\n",
              "      <th></th>\n",
              "      <th>Unnamed: 0</th>\n",
              "      <th>Date</th>\n",
              "      <th>Present</th>\n",
              "      <th>Next</th>\n",
              "      <th>Class</th>\n",
              "    </tr>\n",
              "  </thead>\n",
              "  <tbody>\n",
              "    <tr>\n",
              "      <th>61</th>\n",
              "      <td>61</td>\n",
              "      <td>2022-12-12</td>\n",
              "      <td>1750.18</td>\n",
              "      <td>1750.45</td>\n",
              "      <td>1</td>\n",
              "    </tr>\n",
              "    <tr>\n",
              "      <th>62</th>\n",
              "      <td>62</td>\n",
              "      <td>2022-12-13</td>\n",
              "      <td>1750.45</td>\n",
              "      <td>1750.58</td>\n",
              "      <td>1</td>\n",
              "    </tr>\n",
              "    <tr>\n",
              "      <th>63</th>\n",
              "      <td>63</td>\n",
              "      <td>2022-12-14</td>\n",
              "      <td>1750.58</td>\n",
              "      <td>1750.75</td>\n",
              "      <td>1</td>\n",
              "    </tr>\n",
              "    <tr>\n",
              "      <th>64</th>\n",
              "      <td>64</td>\n",
              "      <td>2022-12-15</td>\n",
              "      <td>1750.75</td>\n",
              "      <td>1750.96</td>\n",
              "      <td>1</td>\n",
              "    </tr>\n",
              "    <tr>\n",
              "      <th>65</th>\n",
              "      <td>65</td>\n",
              "      <td>2022-12-16</td>\n",
              "      <td>1750.96</td>\n",
              "      <td>NaN</td>\n",
              "      <td>0</td>\n",
              "    </tr>\n",
              "  </tbody>\n",
              "</table>\n",
              "</div>\n",
              "      <button class=\"colab-df-convert\" onclick=\"convertToInteractive('df-40cb58a3-9e9d-463c-b918-53fb24f0ca93')\"\n",
              "              title=\"Convert this dataframe to an interactive table.\"\n",
              "              style=\"display:none;\">\n",
              "        \n",
              "  <svg xmlns=\"http://www.w3.org/2000/svg\" height=\"24px\"viewBox=\"0 0 24 24\"\n",
              "       width=\"24px\">\n",
              "    <path d=\"M0 0h24v24H0V0z\" fill=\"none\"/>\n",
              "    <path d=\"M18.56 5.44l.94 2.06.94-2.06 2.06-.94-2.06-.94-.94-2.06-.94 2.06-2.06.94zm-11 1L8.5 8.5l.94-2.06 2.06-.94-2.06-.94L8.5 2.5l-.94 2.06-2.06.94zm10 10l.94 2.06.94-2.06 2.06-.94-2.06-.94-.94-2.06-.94 2.06-2.06.94z\"/><path d=\"M17.41 7.96l-1.37-1.37c-.4-.4-.92-.59-1.43-.59-.52 0-1.04.2-1.43.59L10.3 9.45l-7.72 7.72c-.78.78-.78 2.05 0 2.83L4 21.41c.39.39.9.59 1.41.59.51 0 1.02-.2 1.41-.59l7.78-7.78 2.81-2.81c.8-.78.8-2.07 0-2.86zM5.41 20L4 18.59l7.72-7.72 1.47 1.35L5.41 20z\"/>\n",
              "  </svg>\n",
              "      </button>\n",
              "      \n",
              "  <style>\n",
              "    .colab-df-container {\n",
              "      display:flex;\n",
              "      flex-wrap:wrap;\n",
              "      gap: 12px;\n",
              "    }\n",
              "\n",
              "    .colab-df-convert {\n",
              "      background-color: #E8F0FE;\n",
              "      border: none;\n",
              "      border-radius: 50%;\n",
              "      cursor: pointer;\n",
              "      display: none;\n",
              "      fill: #1967D2;\n",
              "      height: 32px;\n",
              "      padding: 0 0 0 0;\n",
              "      width: 32px;\n",
              "    }\n",
              "\n",
              "    .colab-df-convert:hover {\n",
              "      background-color: #E2EBFA;\n",
              "      box-shadow: 0px 1px 2px rgba(60, 64, 67, 0.3), 0px 1px 3px 1px rgba(60, 64, 67, 0.15);\n",
              "      fill: #174EA6;\n",
              "    }\n",
              "\n",
              "    [theme=dark] .colab-df-convert {\n",
              "      background-color: #3B4455;\n",
              "      fill: #D2E3FC;\n",
              "    }\n",
              "\n",
              "    [theme=dark] .colab-df-convert:hover {\n",
              "      background-color: #434B5C;\n",
              "      box-shadow: 0px 1px 3px 1px rgba(0, 0, 0, 0.15);\n",
              "      filter: drop-shadow(0px 1px 2px rgba(0, 0, 0, 0.3));\n",
              "      fill: #FFFFFF;\n",
              "    }\n",
              "  </style>\n",
              "\n",
              "      <script>\n",
              "        const buttonEl =\n",
              "          document.querySelector('#df-40cb58a3-9e9d-463c-b918-53fb24f0ca93 button.colab-df-convert');\n",
              "        buttonEl.style.display =\n",
              "          google.colab.kernel.accessAllowed ? 'block' : 'none';\n",
              "\n",
              "        async function convertToInteractive(key) {\n",
              "          const element = document.querySelector('#df-40cb58a3-9e9d-463c-b918-53fb24f0ca93');\n",
              "          const dataTable =\n",
              "            await google.colab.kernel.invokeFunction('convertToInteractive',\n",
              "                                                     [key], {});\n",
              "          if (!dataTable) return;\n",
              "\n",
              "          const docLinkHtml = 'Like what you see? Visit the ' +\n",
              "            '<a target=\"_blank\" href=https://colab.research.google.com/notebooks/data_table.ipynb>data table notebook</a>'\n",
              "            + ' to learn more about interactive tables.';\n",
              "          element.innerHTML = '';\n",
              "          dataTable['output_type'] = 'display_data';\n",
              "          await google.colab.output.renderOutput(dataTable, element);\n",
              "          const docLink = document.createElement('div');\n",
              "          docLink.innerHTML = docLinkHtml;\n",
              "          element.appendChild(docLink);\n",
              "        }\n",
              "      </script>\n",
              "    </div>\n",
              "  </div>\n",
              "  "
            ]
          },
          "metadata": {},
          "execution_count": 3
        }
      ]
    },
    {
      "cell_type": "code",
      "source": [
        "df.info()"
      ],
      "metadata": {
        "colab": {
          "base_uri": "https://localhost:8080/"
        },
        "id": "A1oLs9Vy-Vzr",
        "outputId": "18530eb8-9772-437d-8e6b-043236bd2e20"
      },
      "execution_count": null,
      "outputs": [
        {
          "output_type": "stream",
          "name": "stdout",
          "text": [
            "<class 'pandas.core.frame.DataFrame'>\n",
            "RangeIndex: 66 entries, 0 to 65\n",
            "Data columns (total 5 columns):\n",
            " #   Column      Non-Null Count  Dtype  \n",
            "---  ------      --------------  -----  \n",
            " 0   Unnamed: 0  66 non-null     int64  \n",
            " 1   Date        66 non-null     object \n",
            " 2   Present     66 non-null     float64\n",
            " 3   Next        65 non-null     float64\n",
            " 4   Class       66 non-null     int64  \n",
            "dtypes: float64(2), int64(2), object(1)\n",
            "memory usage: 2.7+ KB\n"
          ]
        }
      ]
    },
    {
      "cell_type": "code",
      "source": [
        "# Checking if the dataframe is already in the type we want to use\n",
        "df['Date'] = pd.to_datetime(df['Date'])\n",
        "df.info()"
      ],
      "metadata": {
        "colab": {
          "base_uri": "https://localhost:8080/"
        },
        "id": "Tol9MZug9zJI",
        "outputId": "786c9d3b-9ccf-4d3f-835e-ae780bef2169"
      },
      "execution_count": null,
      "outputs": [
        {
          "output_type": "stream",
          "name": "stdout",
          "text": [
            "<class 'pandas.core.frame.DataFrame'>\n",
            "RangeIndex: 66 entries, 0 to 65\n",
            "Data columns (total 5 columns):\n",
            " #   Column      Non-Null Count  Dtype         \n",
            "---  ------      --------------  -----         \n",
            " 0   Unnamed: 0  66 non-null     int64         \n",
            " 1   Date        66 non-null     datetime64[ns]\n",
            " 2   Present     66 non-null     float64       \n",
            " 3   Next        65 non-null     float64       \n",
            " 4   Class       66 non-null     int64         \n",
            "dtypes: datetime64[ns](1), float64(2), int64(2)\n",
            "memory usage: 2.7 KB\n"
          ]
        }
      ]
    },
    {
      "cell_type": "markdown",
      "source": [
        "## **EDA**"
      ],
      "metadata": {
        "id": "olZMO5EK-z-w"
      }
    },
    {
      "cell_type": "markdown",
      "source": [
        "### **Labels Analysis**\n",
        "\n",
        "Labels between up and down are **imbalanced**."
      ],
      "metadata": {
        "id": "iJpxwqJUA5Og"
      }
    },
    {
      "cell_type": "code",
      "source": [
        "# Label counts\n",
        "df.Class.value_counts()"
      ],
      "metadata": {
        "colab": {
          "base_uri": "https://localhost:8080/"
        },
        "id": "9QTMY9IRA7go",
        "outputId": "bc29301e-9226-4021-d37f-12d2f714667f"
      },
      "execution_count": null,
      "outputs": [
        {
          "output_type": "execute_result",
          "data": {
            "text/plain": [
              "1    57\n",
              "0     9\n",
              "Name: Class, dtype: int64"
            ]
          },
          "metadata": {},
          "execution_count": 6
        }
      ]
    },
    {
      "cell_type": "code",
      "source": [
        "# Creating Plot piechart of Up and Down labels\n",
        "ClassType = dict(df.Class.value_counts())\n",
        "labels = 'Up', 'Down'\n",
        "sizes = [ClassType[1], ClassType[0]]\n",
        "explode = (0, 0.2)\n",
        "\n",
        "with sns.color_palette(\"deep\"):\n",
        "    plt.pie(sizes, explode=explode, labels=labels,\n",
        "    autopct='%1.1f%%', shadow=True, startangle=200)\n",
        "\n",
        "# Plot title\n",
        "plt.axis('equal')\n",
        "plt.title('Piechart of Up and Down Class Prediction')\n",
        "plt.show()\n",
        "     "
      ],
      "metadata": {
        "colab": {
          "base_uri": "https://localhost:8080/",
          "height": 482
        },
        "id": "lNF_B4wABBfx",
        "outputId": "9725a887-bf52-431e-e708-a8ece3d0345f"
      },
      "execution_count": null,
      "outputs": [
        {
          "output_type": "display_data",
          "data": {
            "text/plain": [
              "<Figure size 1440x576 with 1 Axes>"
            ],
            "image/png": "[encoded data removed]"
          },
          "metadata": {}
        }
      ]
    },
    {
      "cell_type": "markdown",
      "source": [
        "### **NAV Analysis**"
      ],
      "metadata": {
        "id": "9mm4ta2uA1u2"
      }
    },
    {
      "cell_type": "code",
      "source": [
        "# Lineplot Present NAV\n",
        "present_nav = sns.lineplot(data=df, x=\"Date\", y=\"Present\")\n",
        "present_nav"
      ],
      "metadata": {
        "colab": {
          "base_uri": "https://localhost:8080/",
          "height": 514
        },
        "id": "E-cri5O2_C7N",
        "outputId": "78c520cf-c6c5-49c7-95ff-aeabce09cac4"
      },
      "execution_count": null,
      "outputs": [
        {
          "output_type": "execute_result",
          "data": {
            "text/plain": [
              "<matplotlib.axes._subplots.AxesSubplot at 0x7fbbf5d5d3a0>"
            ]
          },
          "metadata": {},
          "execution_count": 8
        },
        {
          "output_type": "display_data",
          "data": {
            "text/plain": [
              "<Figure size 1440x576 with 1 Axes>"
            ],
            "image/png": "[encoded data removed]"
          },
          "metadata": {
            "needs_background": "light"
          }
        }
      ]
    },
    {
      "cell_type": "code",
      "source": [
        "# Lineplot Present NAV\n",
        "next_nav = sns.lineplot(data=df, x=\"Date\", y=\"Next\")\n",
        "next_nav"
      ],
      "metadata": {
        "colab": {
          "base_uri": "https://localhost:8080/",
          "height": 514
        },
        "id": "Ex5Qe5rAAXdm",
        "outputId": "31cabce4-72d8-44fa-b20a-00f878a6fb12"
      },
      "execution_count": null,
      "outputs": [
        {
          "output_type": "execute_result",
          "data": {
            "text/plain": [
              "<matplotlib.axes._subplots.AxesSubplot at 0x7fbbf57e4dc0>"
            ]
          },
          "metadata": {},
          "execution_count": 9
        },
        {
          "output_type": "display_data",
          "data": {
            "text/plain": [
              "<Figure size 1440x576 with 1 Axes>"
            ],
            "image/png": "[encoded data removed]"
          },
          "metadata": {
            "needs_background": "light"
          }
        }
      ]
    },
    {
      "cell_type": "markdown",
      "source": [
        "### **Correlation Analysis**\n",
        "\n",
        "Apparently \"Next\" NAV\" is 100% correlated with \"Present\" NAV. People tend to predict NAV at least a day before. However, the class correlation with NAV has weak correlations. This means, the model prediction depends on NAV, both Present and Next.\n",
        "\n",
        "The prediction will be using Regression and Classification."
      ],
      "metadata": {
        "id": "8wEeVsOJBufN"
      }
    },
    {
      "cell_type": "code",
      "source": [
        "# Creating new dataframe for NAV and Class correlation\n",
        "nav_correlation = ['Present', 'Next', 'Class']\n",
        "df_corr = df[nav_correlation]\n",
        "df_corr.head()"
      ],
      "metadata": {
        "colab": {
          "base_uri": "https://localhost:8080/",
          "height": 206
        },
        "id": "78kF6raiBx2M",
        "outputId": "04a9e4c0-4c1e-4050-d881-582a5d144f6f"
      },
      "execution_count": null,
      "outputs": [
        {
          "output_type": "execute_result",
          "data": {
            "text/plain": [
              "   Present     Next  Class\n",
              "0  1741.06  1740.89      0\n",
              "1  1740.89  1741.23      1\n",
              "2  1741.23  1741.29      1\n",
              "3  1741.29  1740.83      0\n",
              "4  1740.83  1740.29      0"
            ],
            "text/html": [
              "\n",
              "  <div id=\"df-8e002a24-8e09-4de5-954b-fd4adedb0b1a\">\n",
              "    <div class=\"colab-df-container\">\n",
              "      <div>\n",
              "<style scoped>\n",
              "    .dataframe tbody tr th:only-of-type {\n",
              "        vertical-align: middle;\n",
              "    }\n",
              "\n",
              "    .dataframe tbody tr th {\n",
              "        vertical-align: top;\n",
              "    }\n",
              "\n",
              "    .dataframe thead th {\n",
              "        text-align: right;\n",
              "    }\n",
              "</style>\n",
              "<table border=\"1\" class=\"dataframe\">\n",
              "  <thead>\n",
              "    <tr style=\"text-align: right;\">\n",
              "      <th></th>\n",
              "      <th>Present</th>\n",
              "      <th>Next</th>\n",
              "      <th>Class</th>\n",
              "    </tr>\n",
              "  </thead>\n",
              "  <tbody>\n",
              "    <tr>\n",
              "      <th>0</th>\n",
              "      <td>1741.06</td>\n",
              "      <td>1740.89</td>\n",
              "      <td>0</td>\n",
              "    </tr>\n",
              "    <tr>\n",
              "      <th>1</th>\n",
              "      <td>1740.89</td>\n",
              "      <td>1741.23</td>\n",
              "      <td>1</td>\n",
              "    </tr>\n",
              "    <tr>\n",
              "      <th>2</th>\n",
              "      <td>1741.23</td>\n",
              "      <td>1741.29</td>\n",
              "      <td>1</td>\n",
              "    </tr>\n",
              "    <tr>\n",
              "      <th>3</th>\n",
              "      <td>1741.29</td>\n",
              "      <td>1740.83</td>\n",
              "      <td>0</td>\n",
              "    </tr>\n",
              "    <tr>\n",
              "      <th>4</th>\n",
              "      <td>1740.83</td>\n",
              "      <td>1740.29</td>\n",
              "      <td>0</td>\n",
              "    </tr>\n",
              "  </tbody>\n",
              "</table>\n",
              "</div>\n",
              "      <button class=\"colab-df-convert\" onclick=\"convertToInteractive('df-8e002a24-8e09-4de5-954b-fd4adedb0b1a')\"\n",
              "              title=\"Convert this dataframe to an interactive table.\"\n",
              "              style=\"display:none;\">\n",
              "        \n",
              "  <svg xmlns=\"http://www.w3.org/2000/svg\" height=\"24px\"viewBox=\"0 0 24 24\"\n",
              "       width=\"24px\">\n",
              "    <path d=\"M0 0h24v24H0V0z\" fill=\"none\"/>\n",
              "    <path d=\"M18.56 5.44l.94 2.06.94-2.06 2.06-.94-2.06-.94-.94-2.06-.94 2.06-2.06.94zm-11 1L8.5 8.5l.94-2.06 2.06-.94-2.06-.94L8.5 2.5l-.94 2.06-2.06.94zm10 10l.94 2.06.94-2.06 2.06-.94-2.06-.94-.94-2.06-.94 2.06-2.06.94z\"/><path d=\"M17.41 7.96l-1.37-1.37c-.4-.4-.92-.59-1.43-.59-.52 0-1.04.2-1.43.59L10.3 9.45l-7.72 7.72c-.78.78-.78 2.05 0 2.83L4 21.41c.39.39.9.59 1.41.59.51 0 1.02-.2 1.41-.59l7.78-7.78 2.81-2.81c.8-.78.8-2.07 0-2.86zM5.41 20L4 18.59l7.72-7.72 1.47 1.35L5.41 20z\"/>\n",
              "  </svg>\n",
              "      </button>\n",
              "      \n",
              "  <style>\n",
              "    .colab-df-container {\n",
              "      display:flex;\n",
              "      flex-wrap:wrap;\n",
              "      gap: 12px;\n",
              "    }\n",
              "\n",
              "    .colab-df-convert {\n",
              "      background-color: #E8F0FE;\n",
              "      border: none;\n",
              "      border-radius: 50%;\n",
              "      cursor: pointer;\n",
              "      display: none;\n",
              "      fill: #1967D2;\n",
              "      height: 32px;\n",
              "      padding: 0 0 0 0;\n",
              "      width: 32px;\n",
              "    }\n",
              "\n",
              "    .colab-df-convert:hover {\n",
              "      background-color: #E2EBFA;\n",
              "      box-shadow: 0px 1px 2px rgba(60, 64, 67, 0.3), 0px 1px 3px 1px rgba(60, 64, 67, 0.15);\n",
              "      fill: #174EA6;\n",
              "    }\n",
              "\n",
              "    [theme=dark] .colab-df-convert {\n",
              "      background-color: #3B4455;\n",
              "      fill: #D2E3FC;\n",
              "    }\n",
              "\n",
              "    [theme=dark] .colab-df-convert:hover {\n",
              "      background-color: #434B5C;\n",
              "      box-shadow: 0px 1px 3px 1px rgba(0, 0, 0, 0.15);\n",
              "      filter: drop-shadow(0px 1px 2px rgba(0, 0, 0, 0.3));\n",
              "      fill: #FFFFFF;\n",
              "    }\n",
              "  </style>\n",
              "\n",
              "      <script>\n",
              "        const buttonEl =\n",
              "          document.querySelector('#df-8e002a24-8e09-4de5-954b-fd4adedb0b1a button.colab-df-convert');\n",
              "        buttonEl.style.display =\n",
              "          google.colab.kernel.accessAllowed ? 'block' : 'none';\n",
              "\n",
              "        async function convertToInteractive(key) {\n",
              "          const element = document.querySelector('#df-8e002a24-8e09-4de5-954b-fd4adedb0b1a');\n",
              "          const dataTable =\n",
              "            await google.colab.kernel.invokeFunction('convertToInteractive',\n",
              "                                                     [key], {});\n",
              "          if (!dataTable) return;\n",
              "\n",
              "          const docLinkHtml = 'Like what you see? Visit the ' +\n",
              "            '<a target=\"_blank\" href=https://colab.research.google.com/notebooks/data_table.ipynb>data table notebook</a>'\n",
              "            + ' to learn more about interactive tables.';\n",
              "          element.innerHTML = '';\n",
              "          dataTable['output_type'] = 'display_data';\n",
              "          await google.colab.output.renderOutput(dataTable, element);\n",
              "          const docLink = document.createElement('div');\n",
              "          docLink.innerHTML = docLinkHtml;\n",
              "          element.appendChild(docLink);\n",
              "        }\n",
              "      </script>\n",
              "    </div>\n",
              "  </div>\n",
              "  "
            ]
          },
          "metadata": {},
          "execution_count": 10
        }
      ]
    },
    {
      "cell_type": "code",
      "source": [
        "# Plotting Correlation Matrix of NAV and Class\n",
        "plt.figure(figsize=(8.5,7))\n",
        "sns.heatmap(df_corr.corr(),annot=True)"
      ],
      "metadata": {
        "colab": {
          "base_uri": "https://localhost:8080/",
          "height": 449
        },
        "id": "JdtUIUqnCLgS",
        "outputId": "f298084d-538f-4ec5-9540-98eed1146812"
      },
      "execution_count": null,
      "outputs": [
        {
          "output_type": "execute_result",
          "data": {
            "text/plain": [
              "<matplotlib.axes._subplots.AxesSubplot at 0x7fbbf57b8b80>"
            ]
          },
          "metadata": {},
          "execution_count": 11
        },
        {
          "output_type": "display_data",
          "data": {
            "text/plain": [
              "<Figure size 612x504 with 2 Axes>"
            ],
            "image/png": "[encoded data removed]"
          },
          "metadata": {
            "needs_background": "light"
          }
        }
      ]
    },
    {
      "cell_type": "markdown",
      "source": [
        "## **Data Preprocessing**"
      ],
      "metadata": {
        "id": "PO4QKfKFDIND"
      }
    },
    {
      "cell_type": "markdown",
      "source": [
        "### **Data Inference**"
      ],
      "metadata": {
        "id": "Gk7S4kXtDidL"
      }
    },
    {
      "cell_type": "code",
      "source": [
        "# Dropping unneccessary features\n",
        "df_ori = df.copy()\n",
        "\n",
        "df = df.drop([65])\n",
        "df = df.drop(['Unnamed: 0'],axis=1)"
      ],
      "metadata": {
        "id": "OsCzOURKD0u4"
      },
      "execution_count": null,
      "outputs": []
    },
    {
      "cell_type": "code",
      "source": [
        "# Creating data inference\n",
        "df_inf = df.sample(5, random_state=33).sort_index()\n",
        "df_inf"
      ],
      "metadata": {
        "colab": {
          "base_uri": "https://localhost:8080/",
          "height": 206
        },
        "id": "fTe1NL6BDh44",
        "outputId": "ab58fc1a-d29c-4259-9d4d-a1b5ee319457"
      },
      "execution_count": null,
      "outputs": [
        {
          "output_type": "execute_result",
          "data": {
            "text/plain": [
              "         Date  Present     Next  Class\n",
              "5  2022-09-23  1740.29  1739.96      0\n",
              "6  2022-09-26  1739.96  1740.05      1\n",
              "29 2022-10-27  1743.27  1743.33      1\n",
              "48 2022-11-23  1747.29  1747.41      1\n",
              "61 2022-12-12  1750.18  1750.45      1"
            ],
            "text/html": [
              "\n",
              "  <div id=\"df-37982433-64f3-4664-bb58-de437af55ad7\">\n",
              "    <div class=\"colab-df-container\">\n",
              "      <div>\n",
              "<style scoped>\n",
              "    .dataframe tbody tr th:only-of-type {\n",
              "        vertical-align: middle;\n",
              "    }\n",
              "\n",
              "    .dataframe tbody tr th {\n",
              "        vertical-align: top;\n",
              "    }\n",
              "\n",
              "    .dataframe thead th {\n",
              "        text-align: right;\n",
              "    }\n",
              "</style>\n",
              "<table border=\"1\" class=\"dataframe\">\n",
              "  <thead>\n",
              "    <tr style=\"text-align: right;\">\n",
              "      <th></th>\n",
              "      <th>Date</th>\n",
              "      <th>Present</th>\n",
              "      <th>Next</th>\n",
              "      <th>Class</th>\n",
              "    </tr>\n",
              "  </thead>\n",
              "  <tbody>\n",
              "    <tr>\n",
              "      <th>5</th>\n",
              "      <td>2022-09-23</td>\n",
              "      <td>1740.29</td>\n",
              "      <td>1739.96</td>\n",
              "      <td>0</td>\n",
              "    </tr>\n",
              "    <tr>\n",
              "      <th>6</th>\n",
              "      <td>2022-09-26</td>\n",
              "      <td>1739.96</td>\n",
              "      <td>1740.05</td>\n",
              "      <td>1</td>\n",
              "    </tr>\n",
              "    <tr>\n",
              "      <th>29</th>\n",
              "      <td>2022-10-27</td>\n",
              "      <td>1743.27</td>\n",
              "      <td>1743.33</td>\n",
              "      <td>1</td>\n",
              "    </tr>\n",
              "    <tr>\n",
              "      <th>48</th>\n",
              "      <td>2022-11-23</td>\n",
              "      <td>1747.29</td>\n",
              "      <td>1747.41</td>\n",
              "      <td>1</td>\n",
              "    </tr>\n",
              "    <tr>\n",
              "      <th>61</th>\n",
              "      <td>2022-12-12</td>\n",
              "      <td>1750.18</td>\n",
              "      <td>1750.45</td>\n",
              "      <td>1</td>\n",
              "    </tr>\n",
              "  </tbody>\n",
              "</table>\n",
              "</div>\n",
              "      <button class=\"colab-df-convert\" onclick=\"convertToInteractive('df-37982433-64f3-4664-bb58-de437af55ad7')\"\n",
              "              title=\"Convert this dataframe to an interactive table.\"\n",
              "              style=\"display:none;\">\n",
              "        \n",
              "  <svg xmlns=\"http://www.w3.org/2000/svg\" height=\"24px\"viewBox=\"0 0 24 24\"\n",
              "       width=\"24px\">\n",
              "    <path d=\"M0 0h24v24H0V0z\" fill=\"none\"/>\n",
              "    <path d=\"M18.56 5.44l.94 2.06.94-2.06 2.06-.94-2.06-.94-.94-2.06-.94 2.06-2.06.94zm-11 1L8.5 8.5l.94-2.06 2.06-.94-2.06-.94L8.5 2.5l-.94 2.06-2.06.94zm10 10l.94 2.06.94-2.06 2.06-.94-2.06-.94-.94-2.06-.94 2.06-2.06.94z\"/><path d=\"M17.41 7.96l-1.37-1.37c-.4-.4-.92-.59-1.43-.59-.52 0-1.04.2-1.43.59L10.3 9.45l-7.72 7.72c-.78.78-.78 2.05 0 2.83L4 21.41c.39.39.9.59 1.41.59.51 0 1.02-.2 1.41-.59l7.78-7.78 2.81-2.81c.8-.78.8-2.07 0-2.86zM5.41 20L4 18.59l7.72-7.72 1.47 1.35L5.41 20z\"/>\n",
              "  </svg>\n",
              "      </button>\n",
              "      \n",
              "  <style>\n",
              "    .colab-df-container {\n",
              "      display:flex;\n",
              "      flex-wrap:wrap;\n",
              "      gap: 12px;\n",
              "    }\n",
              "\n",
              "    .colab-df-convert {\n",
              "      background-color: #E8F0FE;\n",
              "      border: none;\n",
              "      border-radius: 50%;\n",
              "      cursor: pointer;\n",
              "      display: none;\n",
              "      fill: #1967D2;\n",
              "      height: 32px;\n",
              "      padding: 0 0 0 0;\n",
              "      width: 32px;\n",
              "    }\n",
              "\n",
              "    .colab-df-convert:hover {\n",
              "      background-color: #E2EBFA;\n",
              "      box-shadow: 0px 1px 2px rgba(60, 64, 67, 0.3), 0px 1px 3px 1px rgba(60, 64, 67, 0.15);\n",
              "      fill: #174EA6;\n",
              "    }\n",
              "\n",
              "    [theme=dark] .colab-df-convert {\n",
              "      background-color: #3B4455;\n",
              "      fill: #D2E3FC;\n",
              "    }\n",
              "\n",
              "    [theme=dark] .colab-df-convert:hover {\n",
              "      background-color: #434B5C;\n",
              "      box-shadow: 0px 1px 3px 1px rgba(0, 0, 0, 0.15);\n",
              "      filter: drop-shadow(0px 1px 2px rgba(0, 0, 0, 0.3));\n",
              "      fill: #FFFFFF;\n",
              "    }\n",
              "  </style>\n",
              "\n",
              "      <script>\n",
              "        const buttonEl =\n",
              "          document.querySelector('#df-37982433-64f3-4664-bb58-de437af55ad7 button.colab-df-convert');\n",
              "        buttonEl.style.display =\n",
              "          google.colab.kernel.accessAllowed ? 'block' : 'none';\n",
              "\n",
              "        async function convertToInteractive(key) {\n",
              "          const element = document.querySelector('#df-37982433-64f3-4664-bb58-de437af55ad7');\n",
              "          const dataTable =\n",
              "            await google.colab.kernel.invokeFunction('convertToInteractive',\n",
              "                                                     [key], {});\n",
              "          if (!dataTable) return;\n",
              "\n",
              "          const docLinkHtml = 'Like what you see? Visit the ' +\n",
              "            '<a target=\"_blank\" href=https://colab.research.google.com/notebooks/data_table.ipynb>data table notebook</a>'\n",
              "            + ' to learn more about interactive tables.';\n",
              "          element.innerHTML = '';\n",
              "          dataTable['output_type'] = 'display_data';\n",
              "          await google.colab.output.renderOutput(dataTable, element);\n",
              "          const docLink = document.createElement('div');\n",
              "          docLink.innerHTML = docLinkHtml;\n",
              "          element.appendChild(docLink);\n",
              "        }\n",
              "      </script>\n",
              "    </div>\n",
              "  </div>\n",
              "  "
            ]
          },
          "metadata": {},
          "execution_count": 13
        }
      ]
    },
    {
      "cell_type": "code",
      "source": [
        "# Drop data inference as a new dataframe\n",
        "df_train_test = df.drop(df_inf.index)\n",
        "df_train_test.shape"
      ],
      "metadata": {
        "colab": {
          "base_uri": "https://localhost:8080/"
        },
        "id": "6lUCtGHTE1bf",
        "outputId": "d9e82e29-133f-46f4-e45e-49908865dbd1"
      },
      "execution_count": null,
      "outputs": [
        {
          "output_type": "execute_result",
          "data": {
            "text/plain": [
              "(60, 4)"
            ]
          },
          "metadata": {},
          "execution_count": 16
        }
      ]
    },
    {
      "cell_type": "markdown",
      "source": [
        "### **Train-Test Set**\n",
        "\n",
        "There is no need to drop any feature. However, train-test dataset splitting needs to be done."
      ],
      "metadata": {
        "id": "uMwjP0TbDLhh"
      }
    },
    {
      "cell_type": "code",
      "source": [
        "# Defining X and y\n",
        "X = df_train_test.drop(['Class','Date'],axis=1)\n",
        "y = pd.DataFrame(df_train_test['Class'])"
      ],
      "metadata": {
        "id": "9XjrbninDcfC"
      },
      "execution_count": null,
      "outputs": []
    },
    {
      "cell_type": "markdown",
      "source": [
        "#### **Imbalanced Data**\n",
        "\n",
        "Imbalanced Data should be handled first to reduce the bias of the model results, especially for the label/target. The Imbalanced Data will be done by Oversampling."
      ],
      "metadata": {
        "id": "lbWw40o8EDsG"
      }
    },
    {
      "cell_type": "code",
      "source": [
        "print('Original number of target: ', len(y))"
      ],
      "metadata": {
        "colab": {
          "base_uri": "https://localhost:8080/"
        },
        "id": "654zZai8EQ8T",
        "outputId": "f1ae89e9-cefa-421f-fb60-39081c2d69e3"
      },
      "execution_count": null,
      "outputs": [
        {
          "output_type": "stream",
          "name": "stdout",
          "text": [
            "Original number of target:  60\n"
          ]
        }
      ]
    },
    {
      "cell_type": "code",
      "source": [
        "# Define Oversampling\n",
        "from imblearn.over_sampling import SMOTE\n",
        "\n",
        "smote = SMOTE(random_state=33)\n",
        "\n",
        "# Fit an resample\n",
        "X, y = smote.fit_resample(X, y)"
      ],
      "metadata": {
        "id": "dOaylEVMGJHS"
      },
      "execution_count": null,
      "outputs": []
    },
    {
      "cell_type": "code",
      "source": [
        "print('New number of target after oversampling: ', len(y))"
      ],
      "metadata": {
        "colab": {
          "base_uri": "https://localhost:8080/"
        },
        "id": "m8aGSI-PGdIL",
        "outputId": "e36b6571-68b3-40b1-8131-eca8af404748"
      },
      "execution_count": null,
      "outputs": [
        {
          "output_type": "stream",
          "name": "stdout",
          "text": [
            "New number of target after oversampling:  106\n"
          ]
        }
      ]
    },
    {
      "cell_type": "code",
      "source": [
        "# Number of Class after oversampling\n",
        "y.Class.value_counts()"
      ],
      "metadata": {
        "colab": {
          "base_uri": "https://localhost:8080/"
        },
        "id": "VynmMC01Gm2p",
        "outputId": "139e37e1-8056-4d69-d188-34054a786d0b"
      },
      "execution_count": null,
      "outputs": [
        {
          "output_type": "execute_result",
          "data": {
            "text/plain": [
              "0    53\n",
              "1    53\n",
              "Name: Class, dtype: int64"
            ]
          },
          "metadata": {},
          "execution_count": 24
        }
      ]
    },
    {
      "cell_type": "markdown",
      "source": [
        "#### **Train-Test Set Splitting**"
      ],
      "metadata": {
        "id": "Ztd_l-BfG0ce"
      }
    },
    {
      "cell_type": "code",
      "source": [
        "# Splitting dataset into training and testing set\n",
        "X_train, X_test, y_train, y_test = train_test_split(X, y,\n",
        "                                                    test_size=0.3,\n",
        "                                                    random_state=3)\n",
        "\n",
        "print('Train size : ', X_train.shape)\n",
        "print('Test size. : ', X_test.shape)\n",
        "\n",
        "X_train.head()"
      ],
      "metadata": {
        "colab": {
          "base_uri": "https://localhost:8080/",
          "height": 241
        },
        "id": "6O8073W2Gyg-",
        "outputId": "f7d9c549-a838-4459-a0ee-693f3f62c143"
      },
      "execution_count": null,
      "outputs": [
        {
          "output_type": "stream",
          "name": "stdout",
          "text": [
            "Train size :  (74, 2)\n",
            "Test size. :  (32, 2)\n"
          ]
        },
        {
          "output_type": "execute_result",
          "data": {
            "text/plain": [
              "        Present         Next\n",
              "84  1741.506806  1741.167254\n",
              "89  1740.213180  1740.043180\n",
              "68  1741.672805  1741.465288\n",
              "85  1740.921283  1740.528131\n",
              "83  1740.785470  1740.639068"
            ],
            "text/html": [
              "\n",
              "  <div id=\"df-faac68d7-c6de-4ad9-8e48-665175010e31\">\n",
              "    <div class=\"colab-df-container\">\n",
              "      <div>\n",
              "<style scoped>\n",
              "    .dataframe tbody tr th:only-of-type {\n",
              "        vertical-align: middle;\n",
              "    }\n",
              "\n",
              "    .dataframe tbody tr th {\n",
              "        vertical-align: top;\n",
              "    }\n",
              "\n",
              "    .dataframe thead th {\n",
              "        text-align: right;\n",
              "    }\n",
              "</style>\n",
              "<table border=\"1\" class=\"dataframe\">\n",
              "  <thead>\n",
              "    <tr style=\"text-align: right;\">\n",
              "      <th></th>\n",
              "      <th>Present</th>\n",
              "      <th>Next</th>\n",
              "    </tr>\n",
              "  </thead>\n",
              "  <tbody>\n",
              "    <tr>\n",
              "      <th>84</th>\n",
              "      <td>1741.506806</td>\n",
              "      <td>1741.167254</td>\n",
              "    </tr>\n",
              "    <tr>\n",
              "      <th>89</th>\n",
              "      <td>1740.213180</td>\n",
              "      <td>1740.043180</td>\n",
              "    </tr>\n",
              "    <tr>\n",
              "      <th>68</th>\n",
              "      <td>1741.672805</td>\n",
              "      <td>1741.465288</td>\n",
              "    </tr>\n",
              "    <tr>\n",
              "      <th>85</th>\n",
              "      <td>1740.921283</td>\n",
              "      <td>1740.528131</td>\n",
              "    </tr>\n",
              "    <tr>\n",
              "      <th>83</th>\n",
              "      <td>1740.785470</td>\n",
              "      <td>1740.639068</td>\n",
              "    </tr>\n",
              "  </tbody>\n",
              "</table>\n",
              "</div>\n",
              "      <button class=\"colab-df-convert\" onclick=\"convertToInteractive('df-faac68d7-c6de-4ad9-8e48-665175010e31')\"\n",
              "              title=\"Convert this dataframe to an interactive table.\"\n",
              "              style=\"display:none;\">\n",
              "        \n",
              "  <svg xmlns=\"http://www.w3.org/2000/svg\" height=\"24px\"viewBox=\"0 0 24 24\"\n",
              "       width=\"24px\">\n",
              "    <path d=\"M0 0h24v24H0V0z\" fill=\"none\"/>\n",
              "    <path d=\"M18.56 5.44l.94 2.06.94-2.06 2.06-.94-2.06-.94-.94-2.06-.94 2.06-2.06.94zm-11 1L8.5 8.5l.94-2.06 2.06-.94-2.06-.94L8.5 2.5l-.94 2.06-2.06.94zm10 10l.94 2.06.94-2.06 2.06-.94-2.06-.94-.94-2.06-.94 2.06-2.06.94z\"/><path d=\"M17.41 7.96l-1.37-1.37c-.4-.4-.92-.59-1.43-.59-.52 0-1.04.2-1.43.59L10.3 9.45l-7.72 7.72c-.78.78-.78 2.05 0 2.83L4 21.41c.39.39.9.59 1.41.59.51 0 1.02-.2 1.41-.59l7.78-7.78 2.81-2.81c.8-.78.8-2.07 0-2.86zM5.41 20L4 18.59l7.72-7.72 1.47 1.35L5.41 20z\"/>\n",
              "  </svg>\n",
              "      </button>\n",
              "      \n",
              "  <style>\n",
              "    .colab-df-container {\n",
              "      display:flex;\n",
              "      flex-wrap:wrap;\n",
              "      gap: 12px;\n",
              "    }\n",
              "\n",
              "    .colab-df-convert {\n",
              "      background-color: #E8F0FE;\n",
              "      border: none;\n",
              "      border-radius: 50%;\n",
              "      cursor: pointer;\n",
              "      display: none;\n",
              "      fill: #1967D2;\n",
              "      height: 32px;\n",
              "      padding: 0 0 0 0;\n",
              "      width: 32px;\n",
              "    }\n",
              "\n",
              "    .colab-df-convert:hover {\n",
              "      background-color: #E2EBFA;\n",
              "      box-shadow: 0px 1px 2px rgba(60, 64, 67, 0.3), 0px 1px 3px 1px rgba(60, 64, 67, 0.15);\n",
              "      fill: #174EA6;\n",
              "    }\n",
              "\n",
              "    [theme=dark] .colab-df-convert {\n",
              "      background-color: #3B4455;\n",
              "      fill: #D2E3FC;\n",
              "    }\n",
              "\n",
              "    [theme=dark] .colab-df-convert:hover {\n",
              "      background-color: #434B5C;\n",
              "      box-shadow: 0px 1px 3px 1px rgba(0, 0, 0, 0.15);\n",
              "      filter: drop-shadow(0px 1px 2px rgba(0, 0, 0, 0.3));\n",
              "      fill: #FFFFFF;\n",
              "    }\n",
              "  </style>\n",
              "\n",
              "      <script>\n",
              "        const buttonEl =\n",
              "          document.querySelector('#df-faac68d7-c6de-4ad9-8e48-665175010e31 button.colab-df-convert');\n",
              "        buttonEl.style.display =\n",
              "          google.colab.kernel.accessAllowed ? 'block' : 'none';\n",
              "\n",
              "        async function convertToInteractive(key) {\n",
              "          const element = document.querySelector('#df-faac68d7-c6de-4ad9-8e48-665175010e31');\n",
              "          const dataTable =\n",
              "            await google.colab.kernel.invokeFunction('convertToInteractive',\n",
              "                                                     [key], {});\n",
              "          if (!dataTable) return;\n",
              "\n",
              "          const docLinkHtml = 'Like what you see? Visit the ' +\n",
              "            '<a target=\"_blank\" href=https://colab.research.google.com/notebooks/data_table.ipynb>data table notebook</a>'\n",
              "            + ' to learn more about interactive tables.';\n",
              "          element.innerHTML = '';\n",
              "          dataTable['output_type'] = 'display_data';\n",
              "          await google.colab.output.renderOutput(dataTable, element);\n",
              "          const docLink = document.createElement('div');\n",
              "          docLink.innerHTML = docLinkHtml;\n",
              "          element.appendChild(docLink);\n",
              "        }\n",
              "      </script>\n",
              "    </div>\n",
              "  </div>\n",
              "  "
            ]
          },
          "metadata": {},
          "execution_count": 27
        }
      ]
    },
    {
      "cell_type": "markdown",
      "source": [
        "### **Pipelines**"
      ],
      "metadata": {
        "id": "jW9jPJYsHVRo"
      }
    },
    {
      "cell_type": "markdown",
      "source": [
        "#### **Data Skewness**\n",
        "\n",
        "Numerical scaler that will be used is MinMaxScaler because of data skewnesses are more than 0.5, which is not even Normal at all."
      ],
      "metadata": {
        "id": "2ZnShVNBHbg9"
      }
    },
    {
      "cell_type": "code",
      "source": [
        "X_train.skew()"
      ],
      "metadata": {
        "colab": {
          "base_uri": "https://localhost:8080/"
        },
        "id": "46-bR3LFHjtK",
        "outputId": "880d2220-8a56-4470-cf1e-b96f520ab13d"
      },
      "execution_count": null,
      "outputs": [
        {
          "output_type": "execute_result",
          "data": {
            "text/plain": [
              "Present    1.021422\n",
              "Next       0.970346\n",
              "dtype: float64"
            ]
          },
          "metadata": {},
          "execution_count": 29
        }
      ]
    },
    {
      "cell_type": "markdown",
      "source": [
        "#### **Making Pipelines**"
      ],
      "metadata": {
        "id": "dTQc78wBHuhn"
      }
    },
    {
      "cell_type": "code",
      "source": [
        "num_columns = ['Present', 'Next']\n",
        "print('Numerical columns  : ', num_columns)"
      ],
      "metadata": {
        "colab": {
          "base_uri": "https://localhost:8080/"
        },
        "id": "FLo6oc43PReU",
        "outputId": "b78e3e69-9320-4756-b29c-dc49c880cad8"
      },
      "execution_count": null,
      "outputs": [
        {
          "output_type": "stream",
          "name": "stdout",
          "text": [
            "Numerical columns  :  ['Present', 'Next']\n"
          ]
        }
      ]
    },
    {
      "cell_type": "code",
      "source": [
        "# Preprocessing for numerical data\n",
        "numerical_pipe = Pipeline(steps=\n",
        "                          [('scaler', MinMaxScaler())])\n",
        "\n",
        "# Bundle preprocessing for numerical and categorical data\n",
        "preprocessor = ColumnTransformer(\n",
        "    transformers=[\n",
        "        ('num', numerical_pipe, num_columns)\n",
        "    ])\n",
        "preprocessor"
      ],
      "metadata": {
        "colab": {
          "base_uri": "https://localhost:8080/"
        },
        "id": "_2ssNTMrHZWD",
        "outputId": "2b422ed2-1db4-4da7-99bb-ee0390b8e5a7"
      },
      "execution_count": null,
      "outputs": [
        {
          "output_type": "execute_result",
          "data": {
            "text/plain": [
              "ColumnTransformer(transformers=[('num',\n",
              "                                 Pipeline(steps=[('scaler', MinMaxScaler())]),\n",
              "                                 ['Present', 'Next'])])"
            ]
          },
          "metadata": {},
          "execution_count": 79
        }
      ]
    },
    {
      "cell_type": "markdown",
      "source": [
        "## **Model Definition**\n",
        "\n",
        "1. Regression (Linear Regression): to find the predicted value\n",
        "2. Classification (Logistic Regression, SVC, Decision Tree, and Ensambles Learning)"
      ],
      "metadata": {
        "id": "uR1IN_B-JDE7"
      }
    },
    {
      "cell_type": "markdown",
      "source": [
        "### **Liniear Regression**"
      ],
      "metadata": {
        "id": "t3QVsf-IJU9r"
      }
    },
    {
      "cell_type": "code",
      "source": [],
      "metadata": {
        "id": "QdxDg3HBJF7K"
      },
      "execution_count": null,
      "outputs": []
    },
    {
      "cell_type": "markdown",
      "source": [
        "### **Classification**"
      ],
      "metadata": {
        "id": "eknoMSvFJb_J"
      }
    },
    {
      "cell_type": "markdown",
      "source": [
        "#### **Logistic Regression**"
      ],
      "metadata": {
        "id": "xHn9NgcRJeDS"
      }
    },
    {
      "cell_type": "code",
      "source": [
        "# Defining Logistic Regression\n",
        "logreg = LogisticRegression(random_state=3)"
      ],
      "metadata": {
        "id": "ocOBdgBLJgRS"
      },
      "execution_count": null,
      "outputs": []
    },
    {
      "cell_type": "code",
      "source": [
        "# Bundle preprocessing and modeling code in a pipeline\n",
        "pipe_log = Pipeline(steps=[('preprocessor', preprocessor),\n",
        "                           ('logreg', logreg)\n",
        "                             ])\n",
        "\n",
        "pipe_log"
      ],
      "metadata": {
        "colab": {
          "base_uri": "https://localhost:8080/"
        },
        "id": "R-q9iKyMJr2l",
        "outputId": "435c960a-97d8-4173-d309-4af02c7cf582"
      },
      "execution_count": null,
      "outputs": [
        {
          "output_type": "execute_result",
          "data": {
            "text/plain": [
              "Pipeline(steps=[('preprocessor',\n",
              "                 ColumnTransformer(transformers=[('num',\n",
              "                                                  Pipeline(steps=[('scaler',\n",
              "                                                                   MinMaxScaler())]),\n",
              "                                                  ['Present', 'Next'])])),\n",
              "                ('logreg', LogisticRegression(random_state=3))])"
            ]
          },
          "metadata": {},
          "execution_count": 81
        }
      ]
    },
    {
      "cell_type": "markdown",
      "source": [
        "#### **SVC**"
      ],
      "metadata": {
        "id": "lhCtsWn1Jvas"
      }
    },
    {
      "cell_type": "code",
      "source": [
        "# SVC Classifier model\n",
        "svm = SVC(random_state=3)"
      ],
      "metadata": {
        "id": "I08b1RT_J237"
      },
      "execution_count": null,
      "outputs": []
    },
    {
      "cell_type": "code",
      "source": [
        "# Bundle preprocessing and modeling code in a pipeline\n",
        "pipe_svm = Pipeline(steps=[('preprocessor', preprocessor),\n",
        "                           ('svm', svm)\n",
        "                             ])\n",
        "\n",
        "pipe_svm"
      ],
      "metadata": {
        "colab": {
          "base_uri": "https://localhost:8080/"
        },
        "id": "1jPsb60mJ9kH",
        "outputId": "ae393a13-3deb-4afd-9e6e-dfa33cb2e418"
      },
      "execution_count": null,
      "outputs": [
        {
          "output_type": "execute_result",
          "data": {
            "text/plain": [
              "Pipeline(steps=[('preprocessor',\n",
              "                 ColumnTransformer(transformers=[('num',\n",
              "                                                  Pipeline(steps=[('scaler',\n",
              "                                                                   MinMaxScaler())]),\n",
              "                                                  ['Present', 'Next'])])),\n",
              "                ('svm', SVC(random_state=3))])"
            ]
          },
          "metadata": {},
          "execution_count": 83
        }
      ]
    },
    {
      "cell_type": "markdown",
      "source": [
        "#### **Decision Tree**"
      ],
      "metadata": {
        "id": "h5t7xoVmJ-xA"
      }
    },
    {
      "cell_type": "code",
      "source": [
        "# Defining DecisionTreeClassifier\n",
        "dt = DecisionTreeClassifier(random_state=3)"
      ],
      "metadata": {
        "id": "FzmH9fsmKB-L"
      },
      "execution_count": null,
      "outputs": []
    },
    {
      "cell_type": "code",
      "source": [
        "# Bundle preprocessing and modeling code in a pipeline\n",
        "pipe_dt = Pipeline(steps=[('preprocessor', preprocessor),\n",
        "                           ('dt', dt)\n",
        "                             ])\n",
        "\n",
        "pipe_dt"
      ],
      "metadata": {
        "colab": {
          "base_uri": "https://localhost:8080/"
        },
        "id": "szV26-ScKGha",
        "outputId": "125a2ec8-890c-436f-e62a-cd939c5459f2"
      },
      "execution_count": null,
      "outputs": [
        {
          "output_type": "execute_result",
          "data": {
            "text/plain": [
              "Pipeline(steps=[('preprocessor',\n",
              "                 ColumnTransformer(transformers=[('num',\n",
              "                                                  Pipeline(steps=[('scaler',\n",
              "                                                                   MinMaxScaler())]),\n",
              "                                                  ['Present', 'Next'])])),\n",
              "                ('dt', DecisionTreeClassifier(random_state=3))])"
            ]
          },
          "metadata": {},
          "execution_count": 85
        }
      ]
    },
    {
      "cell_type": "markdown",
      "source": [
        "#### **Ensambles Learning: Random Forest**"
      ],
      "metadata": {
        "id": "iuI8M_lYKHoz"
      }
    },
    {
      "cell_type": "code",
      "source": [
        "# Define RandomForestClassifier \n",
        "rfc = RandomForestClassifier(random_state=3)"
      ],
      "metadata": {
        "id": "7SpjCBQkKLKi"
      },
      "execution_count": null,
      "outputs": []
    },
    {
      "cell_type": "code",
      "source": [
        "# Bundle preprocessing and modeling code in a pipeline\n",
        "pipe_rfc = Pipeline(steps=[('preprocessor', preprocessor),\n",
        "                           ('rfc', rfc)\n",
        "                             ])\n",
        "\n",
        "pipe_rfc"
      ],
      "metadata": {
        "colab": {
          "base_uri": "https://localhost:8080/"
        },
        "id": "k3CTHAbvKORI",
        "outputId": "e11283c0-3de3-4be2-9976-90a1d28ccb19"
      },
      "execution_count": null,
      "outputs": [
        {
          "output_type": "execute_result",
          "data": {
            "text/plain": [
              "Pipeline(steps=[('preprocessor',\n",
              "                 ColumnTransformer(transformers=[('num',\n",
              "                                                  Pipeline(steps=[('scaler',\n",
              "                                                                   MinMaxScaler())]),\n",
              "                                                  ['Present', 'Next'])])),\n",
              "                ('rfc', RandomForestClassifier(random_state=3))])"
            ]
          },
          "metadata": {},
          "execution_count": 87
        }
      ]
    },
    {
      "cell_type": "markdown",
      "source": [
        "## **Model Training**"
      ],
      "metadata": {
        "id": "OXWnyfk8KP9N"
      }
    },
    {
      "cell_type": "markdown",
      "source": [
        "### **Linear Regression**"
      ],
      "metadata": {
        "id": "WtwJ7KnTKSgM"
      }
    },
    {
      "cell_type": "code",
      "source": [],
      "metadata": {
        "id": "0M_ufr3UKVw-"
      },
      "execution_count": null,
      "outputs": []
    },
    {
      "cell_type": "markdown",
      "source": [
        "### **Classification**"
      ],
      "metadata": {
        "id": "yeJ_typvKV_3"
      }
    },
    {
      "cell_type": "markdown",
      "source": [
        "#### **Logistic Regression**"
      ],
      "metadata": {
        "id": "rGmNLM4oKYjl"
      }
    },
    {
      "cell_type": "code",
      "source": [
        "# Default Parameters\n",
        "# Fit model \n",
        "pipe_log.fit(X_train, y_train)\n",
        "\n",
        "# Prediction, using X_train\n",
        "y_train_log = pipe_log.predict(X_train)\n",
        "\n",
        "# Prediction, using X_test\n",
        "y_test_log = pipe_log.predict(X_test)"
      ],
      "metadata": {
        "id": "lF_AmibLKX7N"
      },
      "execution_count": null,
      "outputs": []
    },
    {
      "cell_type": "markdown",
      "source": [
        "**Cross-Validation**"
      ],
      "metadata": {
        "id": "nhpcmqc3QyKU"
      }
    },
    {
      "cell_type": "code",
      "source": [
        "# Cross Validation using `cross_val_score` for train set\n",
        "train_cross_val = cross_val_score(pipe_log, \n",
        "                                  X, \n",
        "                                  y, \n",
        "                                  cv=5, \n",
        "                                  scoring='f1')\n",
        "\n",
        "print(\"Accuracy Score All - Cross Validation :\", train_cross_val)\n",
        "print(\"Mean - Cross-Validation               :\", train_cross_val.mean())\n",
        "print(\"Standard Deviation Cross-Validation   :\", train_cross_val.std())"
      ],
      "metadata": {
        "colab": {
          "base_uri": "https://localhost:8080/"
        },
        "id": "CCFnDqC0QzqY",
        "outputId": "0e4a8c94-d977-4635-8136-32790829b9c8"
      },
      "execution_count": null,
      "outputs": [
        {
          "output_type": "stream",
          "name": "stdout",
          "text": [
            "Accuracy Score All - Cross Validation : [0.         0.53333333 1.         1.         0.91666667]\n",
            "Mean - Cross-Validation               : 0.69\n",
            "Standard Deviation Cross-Validation   : 0.385803634566141\n"
          ]
        }
      ]
    },
    {
      "cell_type": "markdown",
      "source": [
        "**Hyperparameter Tuning**"
      ],
      "metadata": {
        "id": "2pviaF04Rr4s"
      }
    },
    {
      "cell_type": "code",
      "source": [
        "# Define Hyperparameters for LogReg\n",
        "solver = ['newton-cg', 'lbfgs', 'liblinear', 'sag', 'saga']\n",
        "max_iter = [int(x) for x in np.linspace(start=10, stop=100, num = 7)]\n",
        "penalty = ['l1', 'l2', 'elasticnet', 'none']\n",
        "\n",
        "param_grid_log = {'logreg__solver': solver,\n",
        "              'logreg__max_iter':max_iter,\n",
        "              'logreg__penalty': penalty}\n",
        "param_grid_log"
      ],
      "metadata": {
        "colab": {
          "base_uri": "https://localhost:8080/"
        },
        "id": "IBb3StdVRtez",
        "outputId": "bfe8d580-fea0-465b-8f07-6fb056dd0c67"
      },
      "execution_count": null,
      "outputs": [
        {
          "output_type": "execute_result",
          "data": {
            "text/plain": [
              "{'logreg__solver': ['newton-cg', 'lbfgs', 'liblinear', 'sag', 'saga'],\n",
              " 'logreg__max_iter': [10, 25, 40, 55, 70, 85, 100],\n",
              " 'logreg__penalty': ['l1', 'l2', 'elasticnet', 'none']}"
            ]
          },
          "metadata": {},
          "execution_count": 109
        }
      ]
    },
    {
      "cell_type": "code",
      "source": [
        "# Train with Grid Search\n",
        "%%time\n",
        "logreg_gridcv = GridSearchCV(pipe_log,\n",
        "                          param_grid_log,\n",
        "                          n_jobs=-1,\n",
        "                          verbose=2,\n",
        "                          scoring='f1')\n",
        "\n",
        "logreg_gridcv.fit(X_train, y_train)"
      ],
      "metadata": {
        "colab": {
          "base_uri": "https://localhost:8080/"
        },
        "id": "D8Rgjy-GR1B8",
        "outputId": "d11759cc-a36e-41b3-9816-f47bc5e9482d"
      },
      "execution_count": null,
      "outputs": [
        {
          "output_type": "stream",
          "name": "stdout",
          "text": [
            "Fitting 5 folds for each of 140 candidates, totalling 700 fits\n",
            "CPU times: user 1.08 s, sys: 18.7 ms, total: 1.09 s\n",
            "Wall time: 5.53 s\n"
          ]
        },
        {
          "output_type": "execute_result",
          "data": {
            "text/plain": [
              "GridSearchCV(estimator=Pipeline(steps=[('preprocessor',\n",
              "                                        ColumnTransformer(transformers=[('num',\n",
              "                                                                         Pipeline(steps=[('scaler',\n",
              "                                                                                          MinMaxScaler())]),\n",
              "                                                                         ['Present',\n",
              "                                                                          'Next'])])),\n",
              "                                       ('logreg',\n",
              "                                        LogisticRegression(random_state=3))]),\n",
              "             n_jobs=-1,\n",
              "             param_grid={'logreg__max_iter': [10, 25, 40, 55, 70, 85, 100],\n",
              "                         'logreg__penalty': ['l1', 'l2', 'elasticnet', 'none'],\n",
              "                         'logreg__solver': ['newton-cg', 'lbfgs', 'liblinear',\n",
              "                                            'sag', 'saga']},\n",
              "             scoring='f1', verbose=2)"
            ]
          },
          "metadata": {},
          "execution_count": 110
        }
      ]
    },
    {
      "cell_type": "code",
      "source": [
        "# Display Best Hyperparamters from Grid Search for Train Set\n",
        "logreg_gridcv.best_params_"
      ],
      "metadata": {
        "colab": {
          "base_uri": "https://localhost:8080/"
        },
        "id": "juRw9zRKR7Sq",
        "outputId": "98bf7673-5603-464d-cdda-9ddf90540698"
      },
      "execution_count": null,
      "outputs": [
        {
          "output_type": "execute_result",
          "data": {
            "text/plain": [
              "{'logreg__max_iter': 10,\n",
              " 'logreg__penalty': 'none',\n",
              " 'logreg__solver': 'newton-cg'}"
            ]
          },
          "metadata": {},
          "execution_count": 111
        }
      ]
    },
    {
      "cell_type": "markdown",
      "source": [
        "**Redefine Model**"
      ],
      "metadata": {
        "id": "XrkN_WzdR-_W"
      }
    },
    {
      "cell_type": "code",
      "source": [
        "# Redefining Logistic Regression with best estimator\n",
        "logreg_gridcv_best = logreg_gridcv.best_estimator_"
      ],
      "metadata": {
        "id": "icBNmz43SA3q"
      },
      "execution_count": null,
      "outputs": []
    },
    {
      "cell_type": "code",
      "source": [
        "# Prediction Final\n",
        "y_train_log_final = logreg_gridcv_best.predict(X_train)\n",
        "y_test_log_final = logreg_gridcv_best.predict(X_test)"
      ],
      "metadata": {
        "id": "TluIW3wgSDGB"
      },
      "execution_count": null,
      "outputs": []
    },
    {
      "cell_type": "markdown",
      "source": [
        "#### **SVC**"
      ],
      "metadata": {
        "id": "7WLUbEh8Qneh"
      }
    },
    {
      "cell_type": "code",
      "source": [
        "# Default Parameters\n",
        "# Fit model \n",
        "pipe_svm.fit(X_train, y_train)\n",
        "\n",
        "# Prediction, using X_train\n",
        "y_train_svm = pipe_svm.predict(X_train)\n",
        "\n",
        "# Prediction, using X_test\n",
        "y_test_svm = pipe_svm.predict(X_test)"
      ],
      "metadata": {
        "id": "nNSydEinQosf"
      },
      "execution_count": null,
      "outputs": []
    },
    {
      "cell_type": "markdown",
      "source": [
        "**Cross-validation**"
      ],
      "metadata": {
        "id": "RJN9RKaxREeH"
      }
    },
    {
      "cell_type": "code",
      "source": [
        "# Cross Validation using `cross_val_score` for train set\n",
        "train_cross_val = cross_val_score(pipe_svm, \n",
        "                                  X, \n",
        "                                  y, \n",
        "                                  cv=5, \n",
        "                                  scoring='f1')\n",
        "\n",
        "print(\"Accuracy Score All - Cross Validation :\", train_cross_val)\n",
        "print(\"Mean - Cross-Validation               :\", train_cross_val.mean())\n",
        "print(\"Standard Deviation Cross-Validation   :\", train_cross_val.std())"
      ],
      "metadata": {
        "colab": {
          "base_uri": "https://localhost:8080/"
        },
        "id": "d4Z7kzEdRG_c",
        "outputId": "56d3702a-082e-4e1d-c480-150081504d11"
      },
      "execution_count": null,
      "outputs": [
        {
          "output_type": "stream",
          "name": "stdout",
          "text": [
            "Accuracy Score All - Cross Validation : [0.         0.46153846 1.         1.         0.91666667]\n",
            "Mean - Cross-Validation               : 0.6756410256410257\n",
            "Standard Deviation Cross-Validation   : 0.3926427260527775\n"
          ]
        }
      ]
    },
    {
      "cell_type": "markdown",
      "source": [
        "**Hyperparameter Tuning**"
      ],
      "metadata": {
        "id": "j449RtmdScvm"
      }
    },
    {
      "cell_type": "code",
      "source": [
        "# Define Hyperparameters\n",
        "C = [int(x) for x in np.linspace(start=10, stop=100, num = 7)]\n",
        "kernel = ['linear', 'poly', 'rbf', 'sigmoid', 'precomputed']\n",
        "gamma = ['scale', 'auto']\n",
        "decision_function_shape = ['ovo', 'ovr']\n",
        "\n",
        "param_grid_svm = {'svm__C': C,\n",
        "              'svm__kernel':kernel,\n",
        "              'svm__gamma': gamma,\n",
        "              'svm__decision_function_shape': decision_function_shape}\n",
        "param_grid_svm"
      ],
      "metadata": {
        "colab": {
          "base_uri": "https://localhost:8080/"
        },
        "id": "Qrct7df5SdGp",
        "outputId": "432cdf44-5e29-42ab-c53d-b59eb51cf447"
      },
      "execution_count": null,
      "outputs": [
        {
          "output_type": "execute_result",
          "data": {
            "text/plain": [
              "{'svm__C': [10, 25, 40, 55, 70, 85, 100],\n",
              " 'svm__kernel': ['linear', 'poly', 'rbf', 'sigmoid', 'precomputed'],\n",
              " 'svm__gamma': ['scale', 'auto'],\n",
              " 'svm__decision_function_shape': ['ovo', 'ovr']}"
            ]
          },
          "metadata": {},
          "execution_count": 117
        }
      ]
    },
    {
      "cell_type": "code",
      "source": [
        "# Train with Grid Search\n",
        "%%time\n",
        "svm_gridcv = GridSearchCV(pipe_svm,\n",
        "                          param_grid_svm,\n",
        "                          n_jobs=-1,\n",
        "                          verbose=2,\n",
        "                          scoring='f1')\n",
        "\n",
        "svm_gridcv.fit(X_train, y_train)"
      ],
      "metadata": {
        "colab": {
          "base_uri": "https://localhost:8080/"
        },
        "id": "KoVlXD8ASiXl",
        "outputId": "00bc44aa-a8ac-4a06-f5a1-dac20bbe52d3"
      },
      "execution_count": null,
      "outputs": [
        {
          "output_type": "stream",
          "name": "stdout",
          "text": [
            "Fitting 5 folds for each of 140 candidates, totalling 700 fits\n",
            "CPU times: user 994 ms, sys: 14.9 ms, total: 1.01 s\n",
            "Wall time: 6.4 s\n"
          ]
        },
        {
          "output_type": "execute_result",
          "data": {
            "text/plain": [
              "GridSearchCV(estimator=Pipeline(steps=[('preprocessor',\n",
              "                                        ColumnTransformer(transformers=[('num',\n",
              "                                                                         Pipeline(steps=[('scaler',\n",
              "                                                                                          MinMaxScaler())]),\n",
              "                                                                         ['Present',\n",
              "                                                                          'Next'])])),\n",
              "                                       ('svm', SVC(random_state=3))]),\n",
              "             n_jobs=-1,\n",
              "             param_grid={'svm__C': [10, 25, 40, 55, 70, 85, 100],\n",
              "                         'svm__decision_function_shape': ['ovo', 'ovr'],\n",
              "                         'svm__gamma': ['scale', 'auto'],\n",
              "                         'svm__kernel': ['linear', 'poly', 'rbf', 'sigmoid',\n",
              "                                         'precomputed']},\n",
              "             scoring='f1', verbose=2)"
            ]
          },
          "metadata": {},
          "execution_count": 118
        }
      ]
    },
    {
      "cell_type": "code",
      "source": [
        "# Display Best Hyperparamters from Grid Search for Train Set\n",
        "svm_gridcv.best_params_"
      ],
      "metadata": {
        "colab": {
          "base_uri": "https://localhost:8080/"
        },
        "id": "dZDyyf_oSmYd",
        "outputId": "9882bc4b-364b-46fe-d08c-338f0e678991"
      },
      "execution_count": null,
      "outputs": [
        {
          "output_type": "execute_result",
          "data": {
            "text/plain": [
              "{'svm__C': 100,\n",
              " 'svm__decision_function_shape': 'ovo',\n",
              " 'svm__gamma': 'scale',\n",
              " 'svm__kernel': 'rbf'}"
            ]
          },
          "metadata": {},
          "execution_count": 119
        }
      ]
    },
    {
      "cell_type": "markdown",
      "source": [
        "**Redefine Model**"
      ],
      "metadata": {
        "id": "donOqCwHSrOz"
      }
    },
    {
      "cell_type": "code",
      "source": [
        "# Redefining Logistic Regression with best estimator\n",
        "svm_gridcv_best = svm_gridcv.best_estimator_"
      ],
      "metadata": {
        "id": "8YgLWMu_Ssdy"
      },
      "execution_count": null,
      "outputs": []
    },
    {
      "cell_type": "code",
      "source": [
        "# Prediction Final\n",
        "y_train_svm_final = svm_gridcv_best.predict(X_train)\n",
        "y_test_svm_final = svm_gridcv_best.predict(X_test)"
      ],
      "metadata": {
        "id": "p2juAgwYStZg"
      },
      "execution_count": null,
      "outputs": []
    },
    {
      "cell_type": "markdown",
      "source": [
        "#### **Decision Tree**"
      ],
      "metadata": {
        "id": "gFNTfvRDRNPP"
      }
    },
    {
      "cell_type": "code",
      "source": [
        "# Default Parameters\n",
        "# Fit model \n",
        "pipe_dt.fit(X_train, y_train)\n",
        "\n",
        "# Prediction, using X_train\n",
        "y_train_dt = pipe_dt.predict(X_train)\n",
        "\n",
        "# Prediction, using X_test\n",
        "y_test_dt = pipe_dt.predict(X_test)"
      ],
      "metadata": {
        "id": "vu2CTWpkRPZd"
      },
      "execution_count": null,
      "outputs": []
    },
    {
      "cell_type": "markdown",
      "source": [
        "**Cross-validation**"
      ],
      "metadata": {
        "id": "zWfzOzf7RQ6f"
      }
    },
    {
      "cell_type": "code",
      "source": [
        "# Cross Validation using `cross_val_score` for train set\n",
        "train_cross_val = cross_val_score(pipe_dt, \n",
        "                                  X, \n",
        "                                  y, \n",
        "                                  cv=5, \n",
        "                                  scoring='f1')\n",
        "\n",
        "print(\"Accuracy Score All - Cross Validation :\", train_cross_val)\n",
        "print(\"Mean - Cross-Validation               :\", train_cross_val.mean())\n",
        "print(\"Standard Deviation Cross-Validation   :\", train_cross_val.std())"
      ],
      "metadata": {
        "colab": {
          "base_uri": "https://localhost:8080/"
        },
        "id": "vob377v_RSvv",
        "outputId": "cc5004a0-714a-46a8-9e9f-330bc720bd33"
      },
      "execution_count": null,
      "outputs": [
        {
          "output_type": "stream",
          "name": "stdout",
          "text": [
            "Accuracy Score All - Cross Validation : [0.         0.         0.95238095 1.         0.95652174]\n",
            "Mean - Cross-Validation               : 0.5817805383022774\n",
            "Standard Deviation Cross-Validation   : 0.4753147046222582\n"
          ]
        }
      ]
    },
    {
      "cell_type": "markdown",
      "source": [
        "**Hyperparameter Tuning**"
      ],
      "metadata": {
        "id": "AkfNdKMUTIpe"
      }
    },
    {
      "cell_type": "code",
      "source": [
        "# Define Hyperparameters\n",
        "criterion = ['gini', 'entropy', 'log_loss']\n",
        "splitter = ['best', 'random']\n",
        "max_depth = [i for i in range(2, 12, 1)]\n",
        "min_samples_split = [i for i in range(2, 10, 2)]\n",
        "min_samples_leaf = [i for i in range(2, 10, 2)]\n",
        "\n",
        "param_grid_dt = {'dt__criterion': criterion,\n",
        "                  'dt__splitter': splitter,\n",
        "                  'dt__max_depth': max_depth,\n",
        "                  'dt__min_samples_split': min_samples_split,\n",
        "                  'dt__min_samples_leaf': min_samples_leaf}\n",
        "param_grid_dt"
      ],
      "metadata": {
        "colab": {
          "base_uri": "https://localhost:8080/"
        },
        "id": "furi4srKTLoc",
        "outputId": "2fe84442-0f6b-425c-c398-5266e037d7cd"
      },
      "execution_count": null,
      "outputs": [
        {
          "output_type": "execute_result",
          "data": {
            "text/plain": [
              "{'dt__criterion': ['gini', 'entropy', 'log_loss'],\n",
              " 'dt__splitter': ['best', 'random'],\n",
              " 'dt__max_depth': [2, 3, 4, 5, 6, 7, 8, 9, 10, 11],\n",
              " 'dt__min_samples_split': [2, 4, 6, 8],\n",
              " 'dt__min_samples_leaf': [2, 4, 6, 8]}"
            ]
          },
          "metadata": {},
          "execution_count": 124
        }
      ]
    },
    {
      "cell_type": "code",
      "source": [
        "# Train with Grid Search\n",
        "%%time\n",
        "dt_gridcv = GridSearchCV(pipe_dt,\n",
        "                          param_grid_dt,\n",
        "                          n_jobs=-1,\n",
        "                          verbose=2,\n",
        "                          scoring='f1')\n",
        "\n",
        "dt_gridcv.fit(X_train, y_train)"
      ],
      "metadata": {
        "colab": {
          "base_uri": "https://localhost:8080/"
        },
        "id": "dYKdwCSUTPpU",
        "outputId": "1be11528-1f7f-479b-f5bb-9a9a00644825"
      },
      "execution_count": null,
      "outputs": [
        {
          "output_type": "stream",
          "name": "stdout",
          "text": [
            "Fitting 5 folds for each of 960 candidates, totalling 4800 fits\n",
            "CPU times: user 7.07 s, sys: 109 ms, total: 7.18 s\n",
            "Wall time: 47.3 s\n"
          ]
        },
        {
          "output_type": "execute_result",
          "data": {
            "text/plain": [
              "GridSearchCV(estimator=Pipeline(steps=[('preprocessor',\n",
              "                                        ColumnTransformer(transformers=[('num',\n",
              "                                                                         Pipeline(steps=[('scaler',\n",
              "                                                                                          MinMaxScaler())]),\n",
              "                                                                         ['Present',\n",
              "                                                                          'Next'])])),\n",
              "                                       ('dt',\n",
              "                                        DecisionTreeClassifier(random_state=3))]),\n",
              "             n_jobs=-1,\n",
              "             param_grid={'dt__criterion': ['gini', 'entropy', 'log_loss'],\n",
              "                         'dt__max_depth': [2, 3, 4, 5, 6, 7, 8, 9, 10, 11],\n",
              "                         'dt__min_samples_leaf': [2, 4, 6, 8],\n",
              "                         'dt__min_samples_split': [2, 4, 6, 8],\n",
              "                         'dt__splitter': ['best', 'random']},\n",
              "             scoring='f1', verbose=2)"
            ]
          },
          "metadata": {},
          "execution_count": 125
        }
      ]
    },
    {
      "cell_type": "code",
      "source": [
        "# Display Best Hyperparamters from Grid Search for Train Set\n",
        "dt_gridcv.best_params_"
      ],
      "metadata": {
        "colab": {
          "base_uri": "https://localhost:8080/"
        },
        "id": "kFXohtu8TSDO",
        "outputId": "056f9246-e136-4f3c-b0c6-966cc0bbcda9"
      },
      "execution_count": null,
      "outputs": [
        {
          "output_type": "execute_result",
          "data": {
            "text/plain": [
              "{'dt__criterion': 'gini',\n",
              " 'dt__max_depth': 3,\n",
              " 'dt__min_samples_leaf': 2,\n",
              " 'dt__min_samples_split': 2,\n",
              " 'dt__splitter': 'random'}"
            ]
          },
          "metadata": {},
          "execution_count": 126
        }
      ]
    },
    {
      "cell_type": "markdown",
      "source": [
        "**Redefine Model**"
      ],
      "metadata": {
        "id": "Py2mxWWlTSnC"
      }
    },
    {
      "cell_type": "code",
      "source": [
        "# Redefining Logistic Regression with best estimator\n",
        "dt_gridcv_best = dt_gridcv.best_estimator_"
      ],
      "metadata": {
        "id": "inNv0lPSTUGB"
      },
      "execution_count": null,
      "outputs": []
    },
    {
      "cell_type": "code",
      "source": [
        "# Prediction Final\n",
        "y_train_dt_final = dt_gridcv_best.predict(X_train)\n",
        "y_test_dt_final = dt_gridcv_best.predict(X_test)"
      ],
      "metadata": {
        "id": "B4tsu20BTWNa"
      },
      "execution_count": null,
      "outputs": []
    },
    {
      "cell_type": "markdown",
      "source": [
        "#### **Random Forest**"
      ],
      "metadata": {
        "id": "NKUCoxB7RXsv"
      }
    },
    {
      "cell_type": "code",
      "source": [
        "# Default Parameters\n",
        "# Fit model \n",
        "pipe_rfc.fit(X_train, y_train)\n",
        "\n",
        "# Prediction, using X_train\n",
        "y_train_rfc = pipe_rfc.predict(X_train)\n",
        "\n",
        "# Prediction, using X_test\n",
        "y_test_rfc = pipe_rfc.predict(X_test)"
      ],
      "metadata": {
        "id": "LhbMbJ8NRZ0R"
      },
      "execution_count": null,
      "outputs": []
    },
    {
      "cell_type": "code",
      "source": [
        "# Cross Validation using `cross_val_score` for train set\n",
        "train_cross_val = cross_val_score(pipe_rfc, \n",
        "                                  X, \n",
        "                                  y, \n",
        "                                  cv=5, \n",
        "                                  scoring='f1')\n",
        "\n",
        "print(\"Accuracy Score All - Cross Validation :\", train_cross_val)\n",
        "print(\"Mean - Cross-Validation               :\", train_cross_val.mean())\n",
        "print(\"Standard Deviation Cross-Validation   :\", train_cross_val.std())"
      ],
      "metadata": {
        "colab": {
          "base_uri": "https://localhost:8080/"
        },
        "id": "OvZtzH7RRcK-",
        "outputId": "3c1d1bf5-f19c-45af-b36a-4574956dc7a5"
      },
      "execution_count": null,
      "outputs": [
        {
          "output_type": "stream",
          "name": "stdout",
          "text": [
            "Accuracy Score All - Cross Validation : [0.         0.         1.         1.         0.95652174]\n",
            "Mean - Cross-Validation               : 0.5913043478260869\n",
            "Standard Deviation Cross-Validation   : 0.4830589360810835\n"
          ]
        }
      ]
    },
    {
      "cell_type": "markdown",
      "source": [
        "**Hyperparameter Tuning**"
      ],
      "metadata": {
        "id": "7pjMH2I4Tj0T"
      }
    },
    {
      "cell_type": "code",
      "source": [
        "# Define Hyperparameters\n",
        "n_estimators = [int(x) for x in np.linspace(start = 10, stop = 50, num = 5)]\n",
        "max_features = ['auto', 'sqrt']\n",
        "max_depth = [int(x) for x in np.linspace(2, 10, num = 5)]\n",
        "min_samples_leaf = [int(x) for x in np.linspace(3, 6, num = 4)]\n",
        "min_samples_split = [2, 6, 10]\n",
        "bootstrap = [True, False]\n",
        "\n",
        "param_grid_rfc = {'rfc__n_estimators': n_estimators,\n",
        "               'rfc__max_features': max_features,\n",
        "               'rfc__max_depth': max_depth,\n",
        "               'rfc__min_samples_leaf': min_samples_leaf,\n",
        "               'rfc__criterion':['entropy','gini'],\n",
        "               'rfc__bootstrap': bootstrap}\n",
        "param_grid_rfc"
      ],
      "metadata": {
        "colab": {
          "base_uri": "https://localhost:8080/"
        },
        "id": "FBz9papZTlba",
        "outputId": "0b804e00-4f03-4322-fa1b-1e372a98b13d"
      },
      "execution_count": null,
      "outputs": [
        {
          "output_type": "execute_result",
          "data": {
            "text/plain": [
              "{'rfc__n_estimators': [10, 20, 30, 40, 50],\n",
              " 'rfc__max_features': ['auto', 'sqrt'],\n",
              " 'rfc__max_depth': [2, 4, 6, 8, 10],\n",
              " 'rfc__min_samples_leaf': [3, 4, 5, 6],\n",
              " 'rfc__criterion': ['entropy', 'gini'],\n",
              " 'rfc__bootstrap': [True, False]}"
            ]
          },
          "metadata": {},
          "execution_count": 135
        }
      ]
    },
    {
      "cell_type": "code",
      "source": [
        "# Train with Grid Search\n",
        "%%time\n",
        "rfc_gridcv = GridSearchCV(pipe_rfc,\n",
        "                          param_grid_rfc,\n",
        "                          n_jobs=-1,\n",
        "                          verbose=2,\n",
        "                          scoring='f1')\n",
        "\n",
        "rfc_gridcv.fit(X_train, y_train)"
      ],
      "metadata": {
        "colab": {
          "base_uri": "https://localhost:8080/"
        },
        "id": "o_enVKP8TsG9",
        "outputId": "80b82593-6592-46d5-8732-3c3a0e476b02"
      },
      "execution_count": null,
      "outputs": [
        {
          "output_type": "stream",
          "name": "stdout",
          "text": [
            "Fitting 5 folds for each of 800 candidates, totalling 4000 fits\n",
            "CPU times: user 8.99 s, sys: 295 ms, total: 9.29 s\n",
            "Wall time: 2min 32s\n"
          ]
        },
        {
          "output_type": "execute_result",
          "data": {
            "text/plain": [
              "GridSearchCV(estimator=Pipeline(steps=[('preprocessor',\n",
              "                                        ColumnTransformer(transformers=[('num',\n",
              "                                                                         Pipeline(steps=[('scaler',\n",
              "                                                                                          MinMaxScaler())]),\n",
              "                                                                         ['Present',\n",
              "                                                                          'Next'])])),\n",
              "                                       ('rfc',\n",
              "                                        RandomForestClassifier(random_state=3))]),\n",
              "             n_jobs=-1,\n",
              "             param_grid={'rfc__bootstrap': [True, False],\n",
              "                         'rfc__criterion': ['entropy', 'gini'],\n",
              "                         'rfc__max_depth': [2, 4, 6, 8, 10],\n",
              "                         'rfc__max_features': ['auto', 'sqrt'],\n",
              "                         'rfc__min_samples_leaf': [3, 4, 5, 6],\n",
              "                         'rfc__n_estimators': [10, 20, 30, 40, 50]},\n",
              "             scoring='f1', verbose=2)"
            ]
          },
          "metadata": {},
          "execution_count": 136
        }
      ]
    },
    {
      "cell_type": "code",
      "source": [
        "# Display Best Hyperparamters from Grid Search for Train Set\n",
        "rfc_gridcv.best_params_"
      ],
      "metadata": {
        "colab": {
          "base_uri": "https://localhost:8080/"
        },
        "id": "S-WXmHhzTuZo",
        "outputId": "ceba2a59-c92e-4ce5-a0b2-eeeba6054d41"
      },
      "execution_count": null,
      "outputs": [
        {
          "output_type": "execute_result",
          "data": {
            "text/plain": [
              "{'rfc__bootstrap': False,\n",
              " 'rfc__criterion': 'gini',\n",
              " 'rfc__max_depth': 6,\n",
              " 'rfc__max_features': 'auto',\n",
              " 'rfc__min_samples_leaf': 3,\n",
              " 'rfc__n_estimators': 30}"
            ]
          },
          "metadata": {},
          "execution_count": 137
        }
      ]
    },
    {
      "cell_type": "markdown",
      "source": [
        "**Redefine Model**"
      ],
      "metadata": {
        "id": "TiUX75g0Tu9R"
      }
    },
    {
      "cell_type": "code",
      "source": [
        "# Redefining Logistic Regression with best estimator\n",
        "rfc_gridcv_best = svm_gridcv.best_estimator_"
      ],
      "metadata": {
        "id": "vZ-g_UusTwwl"
      },
      "execution_count": null,
      "outputs": []
    },
    {
      "cell_type": "code",
      "source": [
        "# Prediction Final\n",
        "y_train_rfc_final = rfc_gridcv_best.predict(X_train)\n",
        "y_test_rfc_final = rfc_gridcv_best.predict(X_test)"
      ],
      "metadata": {
        "id": "QFXhE8znTywS"
      },
      "execution_count": null,
      "outputs": []
    },
    {
      "cell_type": "markdown",
      "source": [
        "## **Model Evaluation**"
      ],
      "metadata": {
        "id": "DAD_JWFyXzxa"
      }
    },
    {
      "cell_type": "markdown",
      "source": [
        "### **Logistic Regression**"
      ],
      "metadata": {
        "id": "qJDf5rQMX7VE"
      }
    },
    {
      "cell_type": "code",
      "source": [
        "# Evaluating Train set (Default Parameter)\n",
        "print('Train Set (Defaul Parameter)')\n",
        "print('Accuracy - Train Set  : ', accuracy_score(y_train, y_train_log))\n",
        "print('F1 Score - Train Set  : ', f1_score(y_train, y_train_log), '\\n')\n",
        "print('Classification Report : \\n', classification_report(y_train, y_train_log), '\\n')"
      ],
      "metadata": {
        "colab": {
          "base_uri": "https://localhost:8080/"
        },
        "id": "0RFmB56uX2ZL",
        "outputId": "2e2cf59f-07bb-493b-d81c-9f285bc536c5"
      },
      "execution_count": null,
      "outputs": [
        {
          "output_type": "stream",
          "name": "stdout",
          "text": [
            "Train Set (Defaul Parameter)\n",
            "Accuracy - Train Set  :  0.8108108108108109\n",
            "F1 Score - Train Set  :  0.8108108108108107 \n",
            "\n",
            "Classification Report : \n",
            "               precision    recall  f1-score   support\n",
            "\n",
            "           0       0.75      0.88      0.81        34\n",
            "           1       0.88      0.75      0.81        40\n",
            "\n",
            "    accuracy                           0.81        74\n",
            "   macro avg       0.82      0.82      0.81        74\n",
            "weighted avg       0.82      0.81      0.81        74\n",
            " \n",
            "\n"
          ]
        }
      ]
    },
    {
      "cell_type": "code",
      "source": [
        "# Creating confusion matrix for train set (default parameter)\n",
        "print('Confusion Matrix Train Set LogReg (Default Parameter)')\n",
        "cm = confusion_matrix(y_train, y_train_log, labels=logreg.classes_)\n",
        "disp = ConfusionMatrixDisplay(confusion_matrix=cm,display_labels=logreg.classes_)\n",
        "\n",
        "matplotlib.rcParams['figure.figsize'] = (10,8)\n",
        "disp.plot()\n",
        "plt.show()\n",
        "     "
      ],
      "metadata": {
        "colab": {
          "base_uri": "https://localhost:8080/",
          "height": 518
        },
        "id": "aDMorrN7g0Qk",
        "outputId": "7fc58a6d-1e69-4e88-fe03-9c925487a154"
      },
      "execution_count": null,
      "outputs": [
        {
          "output_type": "stream",
          "name": "stdout",
          "text": [
            "Confusion Matrix Train Set LogReg (Default Parameter)\n"
          ]
        },
        {
          "output_type": "display_data",
          "data": {
            "text/plain": [
              "<Figure size 720x576 with 2 Axes>"
            ],
            "image/png": "[encoded data removed]"
          },
          "metadata": {
            "needs_background": "light"
          }
        }
      ]
    },
    {
      "cell_type": "code",
      "source": [
        "# Evaluating Train set (Hyperparameter Tuned)\n",
        "print('Train Set (Hyperparameter Tuned)')\n",
        "print('Accuracy - Train Set  : ', accuracy_score(y_train, y_train_log_final),)\n",
        "print('F1 Score - Train Set  : ', f1_score(y_train, y_train_log_final), '\\n')\n",
        "print('Classification Report : \\n', classification_report(y_train, y_train_log_final), '\\n')"
      ],
      "metadata": {
        "colab": {
          "base_uri": "https://localhost:8080/"
        },
        "id": "Oo8L5g1Jgn-Z",
        "outputId": "6358bdb2-2a80-42ea-a86c-a5688445cb2c"
      },
      "execution_count": null,
      "outputs": [
        {
          "output_type": "stream",
          "name": "stdout",
          "text": [
            "Train Set (Hyperparameter Tuned)\n",
            "Accuracy - Train Set  :  1.0\n",
            "F1 Score - Train Set  :  1.0 \n",
            "\n",
            "Classification Report : \n",
            "               precision    recall  f1-score   support\n",
            "\n",
            "           0       1.00      1.00      1.00        34\n",
            "           1       1.00      1.00      1.00        40\n",
            "\n",
            "    accuracy                           1.00        74\n",
            "   macro avg       1.00      1.00      1.00        74\n",
            "weighted avg       1.00      1.00      1.00        74\n",
            " \n",
            "\n"
          ]
        }
      ]
    },
    {
      "cell_type": "code",
      "source": [
        "# Creating confusion matrix for train set (labels parameter)\n",
        "print('Confusion Matrix Train Set LogReg (Hyperparameter Tuned)')\n",
        "cm = confusion_matrix(y_train, y_train_log_final, labels=logreg.classes_)\n",
        "disp = ConfusionMatrixDisplay(confusion_matrix=cm,display_labels=logreg.classes_)\n",
        "\n",
        "matplotlib.rcParams['figure.figsize'] = (10,8)\n",
        "disp.plot()\n",
        "plt.show()\n",
        "     "
      ],
      "metadata": {
        "colab": {
          "base_uri": "https://localhost:8080/",
          "height": 518
        },
        "id": "Yes6Xy6xg5RA",
        "outputId": "af1473ef-f1a3-4ee9-ff17-48d7b508b85a"
      },
      "execution_count": null,
      "outputs": [
        {
          "output_type": "stream",
          "name": "stdout",
          "text": [
            "Confusion Matrix Train Set LogReg (Hyperparameter Tuned)\n"
          ]
        },
        {
          "output_type": "display_data",
          "data": {
            "text/plain": [
              "<Figure size 720x576 with 2 Axes>"
            ],
            "image/png": "[encoded data removed]"
          },
          "metadata": {
            "needs_background": "light"
          }
        }
      ]
    },
    {
      "cell_type": "markdown",
      "source": [
        "### **SVC**"
      ],
      "metadata": {
        "id": "PqQwm1Ffgj3b"
      }
    },
    {
      "cell_type": "code",
      "source": [
        "# Evaluating Train set (Default Parameter)\n",
        "print('Train Set (Defaul Parameter)')\n",
        "print('Accuracy - Train Set  : ', accuracy_score(y_train, y_train_svm))\n",
        "print('F1 Score - Train Set  : ', f1_score(y_train, y_train_svm), '\\n')\n",
        "print('Classification Report : \\n', classification_report(y_train, y_train_svm), '\\n')"
      ],
      "metadata": {
        "colab": {
          "base_uri": "https://localhost:8080/"
        },
        "id": "Jq-M6gvghA_g",
        "outputId": "0e442818-44f3-4af6-8e1a-c4baa7188a41"
      },
      "execution_count": null,
      "outputs": [
        {
          "output_type": "stream",
          "name": "stdout",
          "text": [
            "Train Set (Defaul Parameter)\n",
            "Accuracy - Train Set  :  0.7972972972972973\n",
            "F1 Score - Train Set  :  0.7945205479452054 \n",
            "\n",
            "Classification Report : \n",
            "               precision    recall  f1-score   support\n",
            "\n",
            "           0       0.73      0.88      0.80        34\n",
            "           1       0.88      0.72      0.79        40\n",
            "\n",
            "    accuracy                           0.80        74\n",
            "   macro avg       0.81      0.80      0.80        74\n",
            "weighted avg       0.81      0.80      0.80        74\n",
            " \n",
            "\n"
          ]
        }
      ]
    },
    {
      "cell_type": "code",
      "source": [
        "# Creating confusion matrix for train set (default parameter)\n",
        "print('Confusion Matrix Train Set SVM (Default Parameter)')\n",
        "cm = confusion_matrix(y_train, y_train_svm, labels=svm.classes_)\n",
        "disp = ConfusionMatrixDisplay(confusion_matrix=cm,display_labels=svm.classes_)\n",
        "\n",
        "matplotlib.rcParams['figure.figsize'] = (10,8)\n",
        "disp.plot()\n",
        "plt.show()"
      ],
      "metadata": {
        "colab": {
          "base_uri": "https://localhost:8080/",
          "height": 518
        },
        "id": "15wXnsPZhIWm",
        "outputId": "c3bff5f6-1eb0-49ca-fa94-cdf31a3b564d"
      },
      "execution_count": null,
      "outputs": [
        {
          "output_type": "stream",
          "name": "stdout",
          "text": [
            "Confusion Matrix Train Set SVM (Default Parameter)\n"
          ]
        },
        {
          "output_type": "display_data",
          "data": {
            "text/plain": [
              "<Figure size 720x576 with 2 Axes>"
            ],
            "image/png": "[encoded data removed]"
          },
          "metadata": {
            "needs_background": "light"
          }
        }
      ]
    },
    {
      "cell_type": "code",
      "source": [
        "# Evaluating Train set (Hyperparameter Tuned)\n",
        "print('Train Set (Hyperparameter Tuned)')\n",
        "print('Accuracy - Train Set  : ', accuracy_score(y_train, y_train_svm_final),)\n",
        "print('F1 Score - Train Set  : ', f1_score(y_train, y_train_svm_final), '\\n')\n",
        "print('Classification Report : \\n', classification_report(y_train, y_train_svm_final), '\\n')\n",
        "     "
      ],
      "metadata": {
        "colab": {
          "base_uri": "https://localhost:8080/"
        },
        "id": "HrNbPFndhDVG",
        "outputId": "49d33954-9631-4239-8f23-fd4df9480bbd"
      },
      "execution_count": null,
      "outputs": [
        {
          "output_type": "stream",
          "name": "stdout",
          "text": [
            "Train Set (Hyperparameter Tuned)\n",
            "Accuracy - Train Set  :  1.0\n",
            "F1 Score - Train Set  :  1.0 \n",
            "\n",
            "Classification Report : \n",
            "               precision    recall  f1-score   support\n",
            "\n",
            "           0       1.00      1.00      1.00        34\n",
            "           1       1.00      1.00      1.00        40\n",
            "\n",
            "    accuracy                           1.00        74\n",
            "   macro avg       1.00      1.00      1.00        74\n",
            "weighted avg       1.00      1.00      1.00        74\n",
            " \n",
            "\n"
          ]
        }
      ]
    },
    {
      "cell_type": "code",
      "source": [
        "# Creating confusion matrix for train set (hyperparameter tuned)\n",
        "print('Confusion Matrix Train Set SVM (Hyperparameter Tuned)')\n",
        "cm = confusion_matrix(y_train, y_train_svm_final, labels=svm.classes_)\n",
        "disp = ConfusionMatrixDisplay(confusion_matrix=cm,display_labels=svm.classes_)\n",
        "\n",
        "matplotlib.rcParams['figure.figsize'] = (10,8)\n",
        "disp.plot()\n",
        "plt.show()"
      ],
      "metadata": {
        "colab": {
          "base_uri": "https://localhost:8080/",
          "height": 518
        },
        "id": "hHLnf3fIhRJJ",
        "outputId": "5c69c830-c4f0-431a-a8e3-06dfef1d6461"
      },
      "execution_count": null,
      "outputs": [
        {
          "output_type": "stream",
          "name": "stdout",
          "text": [
            "Confusion Matrix Train Set SVM (Hyperparameter Tuned)\n"
          ]
        },
        {
          "output_type": "display_data",
          "data": {
            "text/plain": [
              "<Figure size 720x576 with 2 Axes>"
            ],
            "image/png": "[encoded data removed]"
          },
          "metadata": {
            "needs_background": "light"
          }
        }
      ]
    },
    {
      "cell_type": "markdown",
      "source": [
        "### **Decision Tree**"
      ],
      "metadata": {
        "id": "8KFlyHZShT3Q"
      }
    },
    {
      "cell_type": "code",
      "source": [
        "# Evaluating Train set (Default Parameter)\n",
        "print('Train Set (Defaul Parameter)')\n",
        "print('Accuracy - Train Set  : ', accuracy_score(y_train, y_train_dt))\n",
        "print('F1 Score - Train Set  : ', f1_score(y_train, y_train_dt), '\\n')\n",
        "print('Classification Report : \\n', classification_report(y_train, y_train_dt), '\\n')"
      ],
      "metadata": {
        "colab": {
          "base_uri": "https://localhost:8080/"
        },
        "id": "cA3A6MZlhWeW",
        "outputId": "ec02b91f-3926-434d-91a0-0e6920eeba97"
      },
      "execution_count": null,
      "outputs": [
        {
          "output_type": "stream",
          "name": "stdout",
          "text": [
            "Train Set (Defaul Parameter)\n",
            "Accuracy - Train Set  :  1.0\n",
            "F1 Score - Train Set  :  1.0 \n",
            "\n",
            "Classification Report : \n",
            "               precision    recall  f1-score   support\n",
            "\n",
            "           0       1.00      1.00      1.00        34\n",
            "           1       1.00      1.00      1.00        40\n",
            "\n",
            "    accuracy                           1.00        74\n",
            "   macro avg       1.00      1.00      1.00        74\n",
            "weighted avg       1.00      1.00      1.00        74\n",
            " \n",
            "\n"
          ]
        }
      ]
    },
    {
      "cell_type": "code",
      "source": [
        "# Creating confusion matrix for train set (default parameter)\n",
        "print('Confusion Matrix Train Set Decision Tree (Default Parameter)')\n",
        "cm = confusion_matrix(y_train, y_train_dt, labels=dt.classes_)\n",
        "disp = ConfusionMatrixDisplay(confusion_matrix=cm,display_labels=dt.classes_)\n",
        "\n",
        "matplotlib.rcParams['figure.figsize'] = (10,8)\n",
        "disp.plot()\n",
        "plt.show()"
      ],
      "metadata": {
        "colab": {
          "base_uri": "https://localhost:8080/",
          "height": 518
        },
        "id": "SEb2yTN4hgua",
        "outputId": "0eadf88d-4591-429d-ef26-46777d89a653"
      },
      "execution_count": null,
      "outputs": [
        {
          "output_type": "stream",
          "name": "stdout",
          "text": [
            "Confusion Matrix Train Set Decision Tree (Default Parameter)\n"
          ]
        },
        {
          "output_type": "display_data",
          "data": {
            "text/plain": [
              "<Figure size 720x576 with 2 Axes>"
            ],
            "image/png": "[encoded data removed]"
          },
          "metadata": {
            "needs_background": "light"
          }
        }
      ]
    },
    {
      "cell_type": "code",
      "source": [
        "# Evaluating Train set (Hyperparameter Tuned)\n",
        "print('Train Set (Hyperparameter Tuned)')\n",
        "print('Accuracy - Train Set  : ', accuracy_score(y_train, y_train_dt_final),)\n",
        "print('F1 Score - Train Set  : ', f1_score(y_train, y_train_dt_final), '\\n')\n",
        "print('Classification Report : \\n', classification_report(y_train, y_train_dt_final), '\\n')"
      ],
      "metadata": {
        "colab": {
          "base_uri": "https://localhost:8080/"
        },
        "id": "MrpdOB3VhdHY",
        "outputId": "50e3dd18-9b88-4e71-a9e0-2a9c221c7a03"
      },
      "execution_count": null,
      "outputs": [
        {
          "output_type": "stream",
          "name": "stdout",
          "text": [
            "Train Set (Hyperparameter Tuned)\n",
            "Accuracy - Train Set  :  0.8918918918918919\n",
            "F1 Score - Train Set  :  0.9024390243902439 \n",
            "\n",
            "Classification Report : \n",
            "               precision    recall  f1-score   support\n",
            "\n",
            "           0       0.91      0.85      0.88        34\n",
            "           1       0.88      0.93      0.90        40\n",
            "\n",
            "    accuracy                           0.89        74\n",
            "   macro avg       0.89      0.89      0.89        74\n",
            "weighted avg       0.89      0.89      0.89        74\n",
            " \n",
            "\n"
          ]
        }
      ]
    },
    {
      "cell_type": "code",
      "source": [
        "# Creating confusion matrix for train set (hyperparameter tuned)\n",
        "print('Confusion Matrix Train Set Decision Tree (Hyperparameter Tuned)')\n",
        "cm = confusion_matrix(y_train, y_train_dt_final, labels=dt.classes_)\n",
        "disp = ConfusionMatrixDisplay(confusion_matrix=cm,display_labels=dt.classes_)\n",
        "\n",
        "matplotlib.rcParams['figure.figsize'] = (10,8)\n",
        "disp.plot()\n",
        "plt.show()"
      ],
      "metadata": {
        "colab": {
          "base_uri": "https://localhost:8080/",
          "height": 514
        },
        "id": "3UZeimLdhjzG",
        "outputId": "b4ea13b5-154c-4c97-a792-640953a2e17a"
      },
      "execution_count": null,
      "outputs": [
        {
          "output_type": "stream",
          "name": "stdout",
          "text": [
            "Confusion Matrix Train Set Decision Tree (Hyperparameter Tuned)\n"
          ]
        },
        {
          "output_type": "display_data",
          "data": {
            "text/plain": [
              "<Figure size 720x576 with 2 Axes>"
            ],
            "image/png": "[encoded data removed]"
          },
          "metadata": {
            "needs_background": "light"
          }
        }
      ]
    },
    {
      "cell_type": "code",
      "source": [
        "# Creating confusion matrix for test set (hyperparameter tuned)\n",
        "print('Confusion Matrix Train Set Decision Tree (Hyperparameter Tuned)')\n",
        "cm = confusion_matrix(y_test, y_test_dt_final, labels=dt.classes_)\n",
        "disp = ConfusionMatrixDisplay(confusion_matrix=cm,display_labels=dt.classes_)\n",
        "\n",
        "matplotlib.rcParams['figure.figsize'] = (10,8)\n",
        "disp.plot()\n",
        "plt.show()"
      ],
      "metadata": {
        "colab": {
          "base_uri": "https://localhost:8080/",
          "height": 518
        },
        "id": "cTuqooyQiNQF",
        "outputId": "6d8f9d97-3af7-409b-be91-1dafcf86d846"
      },
      "execution_count": null,
      "outputs": [
        {
          "output_type": "stream",
          "name": "stdout",
          "text": [
            "Confusion Matrix Train Set Decision Tree (Hyperparameter Tuned)\n"
          ]
        },
        {
          "output_type": "display_data",
          "data": {
            "text/plain": [
              "<Figure size 720x576 with 2 Axes>"
            ],
            "image/png": "[encoded data removed]"
          },
          "metadata": {
            "needs_background": "light"
          }
        }
      ]
    },
    {
      "cell_type": "markdown",
      "source": [
        "### **Random Forest**"
      ],
      "metadata": {
        "id": "WJn5gS6Qh4c8"
      }
    },
    {
      "cell_type": "code",
      "source": [
        "# Evaluating Train set (Default Parameter)\n",
        "print('Train Set (Defaul Parameter)')\n",
        "print('Accuracy - Train Set  : ', accuracy_score(y_train, y_train_rfc))\n",
        "print('F1 Score - Train Set  : ', f1_score(y_train, y_train_rfc), '\\n')\n",
        "print('Classification Report : \\n', classification_report(y_train, y_train_rfc), '\\n')"
      ],
      "metadata": {
        "colab": {
          "base_uri": "https://localhost:8080/"
        },
        "id": "NoRkaOi8h62R",
        "outputId": "517b2a1f-8155-4c2f-9d67-e4d417a1de61"
      },
      "execution_count": null,
      "outputs": [
        {
          "output_type": "stream",
          "name": "stdout",
          "text": [
            "Train Set (Defaul Parameter)\n",
            "Accuracy - Train Set  :  1.0\n",
            "F1 Score - Train Set  :  1.0 \n",
            "\n",
            "Classification Report : \n",
            "               precision    recall  f1-score   support\n",
            "\n",
            "           0       1.00      1.00      1.00        34\n",
            "           1       1.00      1.00      1.00        40\n",
            "\n",
            "    accuracy                           1.00        74\n",
            "   macro avg       1.00      1.00      1.00        74\n",
            "weighted avg       1.00      1.00      1.00        74\n",
            " \n",
            "\n"
          ]
        }
      ]
    },
    {
      "cell_type": "code",
      "source": [
        "# Creating confusion matrix for train set (default parameter)\n",
        "print('Confusion Matrix Train Set Random Forest Classifier (Default Parameter)')\n",
        "cm = confusion_matrix(y_train, y_train_rfc, labels=rfc.classes_)\n",
        "disp = ConfusionMatrixDisplay(confusion_matrix=cm,display_labels=rfc.classes_)\n",
        "\n",
        "matplotlib.rcParams['figure.figsize'] = (10,8)\n",
        "disp.plot()\n",
        "plt.show()"
      ],
      "metadata": {
        "colab": {
          "base_uri": "https://localhost:8080/",
          "height": 518
        },
        "id": "ouiUbiUkiBR9",
        "outputId": "58fd8fa0-fb39-46d2-db60-45f000c198b0"
      },
      "execution_count": null,
      "outputs": [
        {
          "output_type": "stream",
          "name": "stdout",
          "text": [
            "Confusion Matrix Train Set Random Forest Classifier (Default Parameter)\n"
          ]
        },
        {
          "output_type": "display_data",
          "data": {
            "text/plain": [
              "<Figure size 720x576 with 2 Axes>"
            ],
            "image/png": "[encoded data removed]"
          },
          "metadata": {
            "needs_background": "light"
          }
        }
      ]
    },
    {
      "cell_type": "code",
      "source": [
        "# Evaluating Train set (Hyperparameter Tuned)\n",
        "print('Train Set (Hyperparameter Tuned)')\n",
        "print('Accuracy - Train Set  : ', accuracy_score(y_train, y_train_rfc_final),)\n",
        "print('F1 Score - Train Set  : ', f1_score(y_train, y_train_rfc_final), '\\n')\n",
        "print('Classification Report : \\n', classification_report(y_train, y_train_rfc_final), '\\n')"
      ],
      "metadata": {
        "colab": {
          "base_uri": "https://localhost:8080/"
        },
        "id": "DFMpYoQBh-r9",
        "outputId": "361ecb89-19a9-4b37-9640-c3884505910f"
      },
      "execution_count": null,
      "outputs": [
        {
          "output_type": "stream",
          "name": "stdout",
          "text": [
            "Train Set (Hyperparameter Tuned)\n",
            "Accuracy - Train Set  :  1.0\n",
            "F1 Score - Train Set  :  1.0 \n",
            "\n",
            "Classification Report : \n",
            "               precision    recall  f1-score   support\n",
            "\n",
            "           0       1.00      1.00      1.00        34\n",
            "           1       1.00      1.00      1.00        40\n",
            "\n",
            "    accuracy                           1.00        74\n",
            "   macro avg       1.00      1.00      1.00        74\n",
            "weighted avg       1.00      1.00      1.00        74\n",
            " \n",
            "\n"
          ]
        }
      ]
    },
    {
      "cell_type": "code",
      "source": [
        "# Creating confusion matrix for train set (hyperparameter tuned)\n",
        "print('Confusion Matrix Train Set Random Forest Classifier (Hyperparameter Tuned)')\n",
        "cm = confusion_matrix(y_train, y_train_rfc_final, labels=rfc.classes_)\n",
        "disp = ConfusionMatrixDisplay(confusion_matrix=cm,display_labels=rfc.classes_)\n",
        "\n",
        "matplotlib.rcParams['figure.figsize'] = (10,8)\n",
        "disp.plot()\n",
        "plt.show()"
      ],
      "metadata": {
        "colab": {
          "base_uri": "https://localhost:8080/",
          "height": 518
        },
        "id": "OU8UEm1ciDza",
        "outputId": "cf6b4b36-dba8-47d4-acae-b05e65d802bf"
      },
      "execution_count": null,
      "outputs": [
        {
          "output_type": "stream",
          "name": "stdout",
          "text": [
            "Confusion Matrix Train Set Random Forest Classifier (Hyperparameter Tuned)\n"
          ]
        },
        {
          "output_type": "display_data",
          "data": {
            "text/plain": [
              "<Figure size 720x576 with 2 Axes>"
            ],
            "image/png": "[encoded data removed]"
          },
          "metadata": {
            "needs_background": "light"
          }
        }
      ]
    },
    {
      "cell_type": "code",
      "source": [
        "# Creating confusion matrix for train set (hyperparameter tuned)\n",
        "print('Confusion Matrix Train Set Random Forest Classifier (Hyperparameter Tuned)')\n",
        "cm = confusion_matrix(y_test, y_test_rfc_final, labels=rfc.classes_)\n",
        "disp = ConfusionMatrixDisplay(confusion_matrix=cm,display_labels=rfc.classes_)\n",
        "\n",
        "matplotlib.rcParams['figure.figsize'] = (10,8)\n",
        "disp.plot()\n",
        "plt.show()"
      ],
      "metadata": {
        "colab": {
          "base_uri": "https://localhost:8080/",
          "height": 514
        },
        "id": "_FZrqaCxiGac",
        "outputId": "e15f1d0f-7f05-4721-db36-14f80b534d4e"
      },
      "execution_count": null,
      "outputs": [
        {
          "output_type": "stream",
          "name": "stdout",
          "text": [
            "Confusion Matrix Train Set Random Forest Classifier (Hyperparameter Tuned)\n"
          ]
        },
        {
          "output_type": "display_data",
          "data": {
            "text/plain": [
              "<Figure size 720x576 with 2 Axes>"
            ],
            "image/png": "[encoded data removed]"
          },
          "metadata": {
            "needs_background": "light"
          }
        }
      ]
    },
    {
      "cell_type": "markdown",
      "source": [
        "## **Model Saving**"
      ],
      "metadata": {
        "id": "cnaEqCw7kpex"
      }
    },
    {
      "cell_type": "code",
      "source": [
        "# Save the model files\n",
        "with open('dt_gridcv.pkl', 'wb') as file_1:\n",
        "  joblib.dump(dt_gridcv_best, file_1)"
      ],
      "metadata": {
        "id": "3LyXhd93kq2y"
      },
      "execution_count": null,
      "outputs": []
    },
    {
      "cell_type": "code",
      "source": [
        "# Load all model files\n",
        "with open('dt_gridcv.pkl', 'rb') as file_1:\n",
        "  dt_model = joblib.load(file_1)"
      ],
      "metadata": {
        "id": "aK2EFzj2lCh2"
      },
      "execution_count": null,
      "outputs": []
    },
    {
      "cell_type": "markdown",
      "source": [
        "## **Model Inference**"
      ],
      "metadata": {
        "id": "_ENJhWBpkXwM"
      }
    },
    {
      "cell_type": "code",
      "source": [
        "df_inf"
      ],
      "metadata": {
        "colab": {
          "base_uri": "https://localhost:8080/",
          "height": 206
        },
        "id": "7CvNa72IkZ0O",
        "outputId": "495867de-9bdb-411c-9ee2-06be61fd3f82"
      },
      "execution_count": null,
      "outputs": [
        {
          "output_type": "execute_result",
          "data": {
            "text/plain": [
              "         Date  Present     Next  Class\n",
              "5  2022-09-23  1740.29  1739.96      0\n",
              "6  2022-09-26  1739.96  1740.05      1\n",
              "29 2022-10-27  1743.27  1743.33      1\n",
              "48 2022-11-23  1747.29  1747.41      1\n",
              "61 2022-12-12  1750.18  1750.45      1"
            ],
            "text/html": [
              "\n",
              "  <div id=\"df-10cfe842-d0dc-4acf-a5a1-b0e35958d165\">\n",
              "    <div class=\"colab-df-container\">\n",
              "      <div>\n",
              "<style scoped>\n",
              "    .dataframe tbody tr th:only-of-type {\n",
              "        vertical-align: middle;\n",
              "    }\n",
              "\n",
              "    .dataframe tbody tr th {\n",
              "        vertical-align: top;\n",
              "    }\n",
              "\n",
              "    .dataframe thead th {\n",
              "        text-align: right;\n",
              "    }\n",
              "</style>\n",
              "<table border=\"1\" class=\"dataframe\">\n",
              "  <thead>\n",
              "    <tr style=\"text-align: right;\">\n",
              "      <th></th>\n",
              "      <th>Date</th>\n",
              "      <th>Present</th>\n",
              "      <th>Next</th>\n",
              "      <th>Class</th>\n",
              "    </tr>\n",
              "  </thead>\n",
              "  <tbody>\n",
              "    <tr>\n",
              "      <th>5</th>\n",
              "      <td>2022-09-23</td>\n",
              "      <td>1740.29</td>\n",
              "      <td>1739.96</td>\n",
              "      <td>0</td>\n",
              "    </tr>\n",
              "    <tr>\n",
              "      <th>6</th>\n",
              "      <td>2022-09-26</td>\n",
              "      <td>1739.96</td>\n",
              "      <td>1740.05</td>\n",
              "      <td>1</td>\n",
              "    </tr>\n",
              "    <tr>\n",
              "      <th>29</th>\n",
              "      <td>2022-10-27</td>\n",
              "      <td>1743.27</td>\n",
              "      <td>1743.33</td>\n",
              "      <td>1</td>\n",
              "    </tr>\n",
              "    <tr>\n",
              "      <th>48</th>\n",
              "      <td>2022-11-23</td>\n",
              "      <td>1747.29</td>\n",
              "      <td>1747.41</td>\n",
              "      <td>1</td>\n",
              "    </tr>\n",
              "    <tr>\n",
              "      <th>61</th>\n",
              "      <td>2022-12-12</td>\n",
              "      <td>1750.18</td>\n",
              "      <td>1750.45</td>\n",
              "      <td>1</td>\n",
              "    </tr>\n",
              "  </tbody>\n",
              "</table>\n",
              "</div>\n",
              "      <button class=\"colab-df-convert\" onclick=\"convertToInteractive('df-10cfe842-d0dc-4acf-a5a1-b0e35958d165')\"\n",
              "              title=\"Convert this dataframe to an interactive table.\"\n",
              "              style=\"display:none;\">\n",
              "        \n",
              "  <svg xmlns=\"http://www.w3.org/2000/svg\" height=\"24px\"viewBox=\"0 0 24 24\"\n",
              "       width=\"24px\">\n",
              "    <path d=\"M0 0h24v24H0V0z\" fill=\"none\"/>\n",
              "    <path d=\"M18.56 5.44l.94 2.06.94-2.06 2.06-.94-2.06-.94-.94-2.06-.94 2.06-2.06.94zm-11 1L8.5 8.5l.94-2.06 2.06-.94-2.06-.94L8.5 2.5l-.94 2.06-2.06.94zm10 10l.94 2.06.94-2.06 2.06-.94-2.06-.94-.94-2.06-.94 2.06-2.06.94z\"/><path d=\"M17.41 7.96l-1.37-1.37c-.4-.4-.92-.59-1.43-.59-.52 0-1.04.2-1.43.59L10.3 9.45l-7.72 7.72c-.78.78-.78 2.05 0 2.83L4 21.41c.39.39.9.59 1.41.59.51 0 1.02-.2 1.41-.59l7.78-7.78 2.81-2.81c.8-.78.8-2.07 0-2.86zM5.41 20L4 18.59l7.72-7.72 1.47 1.35L5.41 20z\"/>\n",
              "  </svg>\n",
              "      </button>\n",
              "      \n",
              "  <style>\n",
              "    .colab-df-container {\n",
              "      display:flex;\n",
              "      flex-wrap:wrap;\n",
              "      gap: 12px;\n",
              "    }\n",
              "\n",
              "    .colab-df-convert {\n",
              "      background-color: #E8F0FE;\n",
              "      border: none;\n",
              "      border-radius: 50%;\n",
              "      cursor: pointer;\n",
              "      display: none;\n",
              "      fill: #1967D2;\n",
              "      height: 32px;\n",
              "      padding: 0 0 0 0;\n",
              "      width: 32px;\n",
              "    }\n",
              "\n",
              "    .colab-df-convert:hover {\n",
              "      background-color: #E2EBFA;\n",
              "      box-shadow: 0px 1px 2px rgba(60, 64, 67, 0.3), 0px 1px 3px 1px rgba(60, 64, 67, 0.15);\n",
              "      fill: #174EA6;\n",
              "    }\n",
              "\n",
              "    [theme=dark] .colab-df-convert {\n",
              "      background-color: #3B4455;\n",
              "      fill: #D2E3FC;\n",
              "    }\n",
              "\n",
              "    [theme=dark] .colab-df-convert:hover {\n",
              "      background-color: #434B5C;\n",
              "      box-shadow: 0px 1px 3px 1px rgba(0, 0, 0, 0.15);\n",
              "      filter: drop-shadow(0px 1px 2px rgba(0, 0, 0, 0.3));\n",
              "      fill: #FFFFFF;\n",
              "    }\n",
              "  </style>\n",
              "\n",
              "      <script>\n",
              "        const buttonEl =\n",
              "          document.querySelector('#df-10cfe842-d0dc-4acf-a5a1-b0e35958d165 button.colab-df-convert');\n",
              "        buttonEl.style.display =\n",
              "          google.colab.kernel.accessAllowed ? 'block' : 'none';\n",
              "\n",
              "        async function convertToInteractive(key) {\n",
              "          const element = document.querySelector('#df-10cfe842-d0dc-4acf-a5a1-b0e35958d165');\n",
              "          const dataTable =\n",
              "            await google.colab.kernel.invokeFunction('convertToInteractive',\n",
              "                                                     [key], {});\n",
              "          if (!dataTable) return;\n",
              "\n",
              "          const docLinkHtml = 'Like what you see? Visit the ' +\n",
              "            '<a target=\"_blank\" href=https://colab.research.google.com/notebooks/data_table.ipynb>data table notebook</a>'\n",
              "            + ' to learn more about interactive tables.';\n",
              "          element.innerHTML = '';\n",
              "          dataTable['output_type'] = 'display_data';\n",
              "          await google.colab.output.renderOutput(dataTable, element);\n",
              "          const docLink = document.createElement('div');\n",
              "          docLink.innerHTML = docLinkHtml;\n",
              "          element.appendChild(docLink);\n",
              "        }\n",
              "      </script>\n",
              "    </div>\n",
              "  </div>\n",
              "  "
            ]
          },
          "metadata": {},
          "execution_count": 162
        }
      ]
    },
    {
      "cell_type": "code",
      "source": [
        "# Predict target inference\n",
        "y_inf = dt_model.predict(df_inf)\n",
        "y_inf = pd.DataFrame(y_inf, columns=['Prediction'],index=df_inf.index)"
      ],
      "metadata": {
        "id": "ooUyIdYwkfGS"
      },
      "execution_count": null,
      "outputs": []
    },
    {
      "cell_type": "code",
      "source": [
        "# Comparing the real target and prediction\n",
        "model_inf = pd.concat([df_inf['Class'], y_inf['Prediction']], axis=1).sort_index()\n",
        "model_inf"
      ],
      "metadata": {
        "colab": {
          "base_uri": "https://localhost:8080/",
          "height": 206
        },
        "id": "Ji7LnK-elJ0J",
        "outputId": "23cc965b-8ffb-4c19-9f65-71f3d3cf6be0"
      },
      "execution_count": null,
      "outputs": [
        {
          "output_type": "execute_result",
          "data": {
            "text/plain": [
              "    Class  Prediction\n",
              "5       0           0\n",
              "6       1           0\n",
              "29      1           1\n",
              "48      1           1\n",
              "61      1           1"
            ],
            "text/html": [
              "\n",
              "  <div id=\"df-137de99f-ba28-44ba-86ab-2e109db079fc\">\n",
              "    <div class=\"colab-df-container\">\n",
              "      <div>\n",
              "<style scoped>\n",
              "    .dataframe tbody tr th:only-of-type {\n",
              "        vertical-align: middle;\n",
              "    }\n",
              "\n",
              "    .dataframe tbody tr th {\n",
              "        vertical-align: top;\n",
              "    }\n",
              "\n",
              "    .dataframe thead th {\n",
              "        text-align: right;\n",
              "    }\n",
              "</style>\n",
              "<table border=\"1\" class=\"dataframe\">\n",
              "  <thead>\n",
              "    <tr style=\"text-align: right;\">\n",
              "      <th></th>\n",
              "      <th>Class</th>\n",
              "      <th>Prediction</th>\n",
              "    </tr>\n",
              "  </thead>\n",
              "  <tbody>\n",
              "    <tr>\n",
              "      <th>5</th>\n",
              "      <td>0</td>\n",
              "      <td>0</td>\n",
              "    </tr>\n",
              "    <tr>\n",
              "      <th>6</th>\n",
              "      <td>1</td>\n",
              "      <td>0</td>\n",
              "    </tr>\n",
              "    <tr>\n",
              "      <th>29</th>\n",
              "      <td>1</td>\n",
              "      <td>1</td>\n",
              "    </tr>\n",
              "    <tr>\n",
              "      <th>48</th>\n",
              "      <td>1</td>\n",
              "      <td>1</td>\n",
              "    </tr>\n",
              "    <tr>\n",
              "      <th>61</th>\n",
              "      <td>1</td>\n",
              "      <td>1</td>\n",
              "    </tr>\n",
              "  </tbody>\n",
              "</table>\n",
              "</div>\n",
              "      <button class=\"colab-df-convert\" onclick=\"convertToInteractive('df-137de99f-ba28-44ba-86ab-2e109db079fc')\"\n",
              "              title=\"Convert this dataframe to an interactive table.\"\n",
              "              style=\"display:none;\">\n",
              "        \n",
              "  <svg xmlns=\"http://www.w3.org/2000/svg\" height=\"24px\"viewBox=\"0 0 24 24\"\n",
              "       width=\"24px\">\n",
              "    <path d=\"M0 0h24v24H0V0z\" fill=\"none\"/>\n",
              "    <path d=\"M18.56 5.44l.94 2.06.94-2.06 2.06-.94-2.06-.94-.94-2.06-.94 2.06-2.06.94zm-11 1L8.5 8.5l.94-2.06 2.06-.94-2.06-.94L8.5 2.5l-.94 2.06-2.06.94zm10 10l.94 2.06.94-2.06 2.06-.94-2.06-.94-.94-2.06-.94 2.06-2.06.94z\"/><path d=\"M17.41 7.96l-1.37-1.37c-.4-.4-.92-.59-1.43-.59-.52 0-1.04.2-1.43.59L10.3 9.45l-7.72 7.72c-.78.78-.78 2.05 0 2.83L4 21.41c.39.39.9.59 1.41.59.51 0 1.02-.2 1.41-.59l7.78-7.78 2.81-2.81c.8-.78.8-2.07 0-2.86zM5.41 20L4 18.59l7.72-7.72 1.47 1.35L5.41 20z\"/>\n",
              "  </svg>\n",
              "      </button>\n",
              "      \n",
              "  <style>\n",
              "    .colab-df-container {\n",
              "      display:flex;\n",
              "      flex-wrap:wrap;\n",
              "      gap: 12px;\n",
              "    }\n",
              "\n",
              "    .colab-df-convert {\n",
              "      background-color: #E8F0FE;\n",
              "      border: none;\n",
              "      border-radius: 50%;\n",
              "      cursor: pointer;\n",
              "      display: none;\n",
              "      fill: #1967D2;\n",
              "      height: 32px;\n",
              "      padding: 0 0 0 0;\n",
              "      width: 32px;\n",
              "    }\n",
              "\n",
              "    .colab-df-convert:hover {\n",
              "      background-color: #E2EBFA;\n",
              "      box-shadow: 0px 1px 2px rgba(60, 64, 67, 0.3), 0px 1px 3px 1px rgba(60, 64, 67, 0.15);\n",
              "      fill: #174EA6;\n",
              "    }\n",
              "\n",
              "    [theme=dark] .colab-df-convert {\n",
              "      background-color: #3B4455;\n",
              "      fill: #D2E3FC;\n",
              "    }\n",
              "\n",
              "    [theme=dark] .colab-df-convert:hover {\n",
              "      background-color: #434B5C;\n",
              "      box-shadow: 0px 1px 3px 1px rgba(0, 0, 0, 0.15);\n",
              "      filter: drop-shadow(0px 1px 2px rgba(0, 0, 0, 0.3));\n",
              "      fill: #FFFFFF;\n",
              "    }\n",
              "  </style>\n",
              "\n",
              "      <script>\n",
              "        const buttonEl =\n",
              "          document.querySelector('#df-137de99f-ba28-44ba-86ab-2e109db079fc button.colab-df-convert');\n",
              "        buttonEl.style.display =\n",
              "          google.colab.kernel.accessAllowed ? 'block' : 'none';\n",
              "\n",
              "        async function convertToInteractive(key) {\n",
              "          const element = document.querySelector('#df-137de99f-ba28-44ba-86ab-2e109db079fc');\n",
              "          const dataTable =\n",
              "            await google.colab.kernel.invokeFunction('convertToInteractive',\n",
              "                                                     [key], {});\n",
              "          if (!dataTable) return;\n",
              "\n",
              "          const docLinkHtml = 'Like what you see? Visit the ' +\n",
              "            '<a target=\"_blank\" href=https://colab.research.google.com/notebooks/data_table.ipynb>data table notebook</a>'\n",
              "            + ' to learn more about interactive tables.';\n",
              "          element.innerHTML = '';\n",
              "          dataTable['output_type'] = 'display_data';\n",
              "          await google.colab.output.renderOutput(dataTable, element);\n",
              "          const docLink = document.createElement('div');\n",
              "          docLink.innerHTML = docLinkHtml;\n",
              "          element.appendChild(docLink);\n",
              "        }\n",
              "      </script>\n",
              "    </div>\n",
              "  </div>\n",
              "  "
            ]
          },
          "metadata": {},
          "execution_count": 169
        }
      ]
    }
  ]
}