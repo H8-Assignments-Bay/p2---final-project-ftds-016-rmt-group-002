{
  "nbformat": 4,
  "nbformat_minor": 0,
  "metadata": {
    "colab": {
      "provenance": [],
      "toc_visible": true
    },
    "kernelspec": {
      "name": "python3",
      "display_name": "Python 3"
    },
    "language_info": {
      "name": "python"
    },
    "gpuClass": "standard"
  },
  "cells": [
    {
      "cell_type": "markdown",
      "source": [
        "# **Danareksa Seruni Pasar Uang III**"
      ],
      "metadata": {
        "id": "PetGFZKdliQu"
      }
    },
    {
      "cell_type": "markdown",
      "source": [
        "## **Importing Libraries**"
      ],
      "metadata": {
        "id": "zjg1MHE5iQ47"
      }
    },
    {
      "cell_type": "code",
      "execution_count": null,
      "metadata": {
        "id": "1AKF5pcUiL5Z"
      },
      "outputs": [],
      "source": [
        "#main\n",
        "import pandas as pd\n",
        "import numpy as np\n",
        "\n",
        "import warnings\n",
        "warnings.filterwarnings('ignore')\n",
        "\n",
        "#viz\n",
        "import seaborn as sns \n",
        "\n",
        "import matplotlib\n",
        "from matplotlib import pyplot as plt\n",
        "%matplotlib inline\n",
        "matplotlib.rcParams['figure.figsize'] = (20,8)\n",
        "\n",
        "# Feature Selection\n",
        "from sklearn.model_selection import train_test_split, cross_val_score, GridSearchCV\n",
        "\n",
        "# Preprocessing Libraries\n",
        "from sklearn.pipeline import Pipeline\n",
        "from sklearn.compose import ColumnTransformer\n",
        "from sklearn.preprocessing import MinMaxScaler\n",
        "\n",
        "# Import Classification Algorithms\n",
        "from sklearn.linear_model import LogisticRegression\n",
        "from sklearn.svm import SVC\n",
        "from sklearn.tree import DecisionTreeClassifier\n",
        "from sklearn.ensemble import RandomForestClassifier\n",
        "\n",
        "# Import Evaluation Libraries for Classification\n",
        "from sklearn.metrics import accuracy_score, classification_report, ConfusionMatrixDisplay, confusion_matrix\n",
        "from sklearn.metrics import precision_score, recall_score, f1_score\n",
        "\n",
        "#mod\n",
        "import tensorflow as tf\n",
        "from tensorflow.keras import Sequential\n",
        "from sklearn.preprocessing import MinMaxScaler\n",
        "from tensorflow.keras.layers import Dense, LSTM, Dropout \n",
        "from sklearn.metrics import mean_absolute_error\n",
        "\n",
        "# Save and Load Model\n",
        "import joblib\n",
        "import json"
      ]
    },
    {
      "cell_type": "markdown",
      "source": [
        "## **Data Loading**"
      ],
      "metadata": {
        "id": "WsnVbewEiUlU"
      }
    },
    {
      "cell_type": "code",
      "source": [
        "# Data Loading Raw\n",
        "url = 'https://raw.githubusercontent.com/H8-Assignments-Bay/p2---final-project-ftds-016-rmt-group-002/main/Dataset_clean/Low%20Clean/Danareksa%20Seruni%20Pasar%20Uang%20III.csv'\n",
        "df = pd.read_csv(url)\n",
        "df.head()"
      ],
      "metadata": {
        "colab": {
          "base_uri": "https://localhost:8080/",
          "height": 206
        },
        "id": "iN8JqGBbiW_Q",
        "outputId": "7e749e5c-ec98-400f-f3e9-59dc8c691b1b"
      },
      "execution_count": null,
      "outputs": [
        {
          "output_type": "execute_result",
          "data": {
            "text/plain": [
              "   Unnamed: 0        Date    Present       Next  Class\n",
              "0           0  2022-09-16  1588.2417  1588.3580      1\n",
              "1           1  2022-09-19  1588.3580  1588.7618      1\n",
              "2           2  2022-09-20  1588.7618  1588.9739      1\n",
              "3           3  2022-09-21  1588.9739  1588.6202      0\n",
              "4           4  2022-09-22  1588.6202  1588.4975      0"
            ],
            "text/html": [
              "\n",
              "  <div id=\"df-dbd8fa73-d60c-4fab-868c-81d41c739e55\">\n",
              "    <div class=\"colab-df-container\">\n",
              "      <div>\n",
              "<style scoped>\n",
              "    .dataframe tbody tr th:only-of-type {\n",
              "        vertical-align: middle;\n",
              "    }\n",
              "\n",
              "    .dataframe tbody tr th {\n",
              "        vertical-align: top;\n",
              "    }\n",
              "\n",
              "    .dataframe thead th {\n",
              "        text-align: right;\n",
              "    }\n",
              "</style>\n",
              "<table border=\"1\" class=\"dataframe\">\n",
              "  <thead>\n",
              "    <tr style=\"text-align: right;\">\n",
              "      <th></th>\n",
              "      <th>Unnamed: 0</th>\n",
              "      <th>Date</th>\n",
              "      <th>Present</th>\n",
              "      <th>Next</th>\n",
              "      <th>Class</th>\n",
              "    </tr>\n",
              "  </thead>\n",
              "  <tbody>\n",
              "    <tr>\n",
              "      <th>0</th>\n",
              "      <td>0</td>\n",
              "      <td>2022-09-16</td>\n",
              "      <td>1588.2417</td>\n",
              "      <td>1588.3580</td>\n",
              "      <td>1</td>\n",
              "    </tr>\n",
              "    <tr>\n",
              "      <th>1</th>\n",
              "      <td>1</td>\n",
              "      <td>2022-09-19</td>\n",
              "      <td>1588.3580</td>\n",
              "      <td>1588.7618</td>\n",
              "      <td>1</td>\n",
              "    </tr>\n",
              "    <tr>\n",
              "      <th>2</th>\n",
              "      <td>2</td>\n",
              "      <td>2022-09-20</td>\n",
              "      <td>1588.7618</td>\n",
              "      <td>1588.9739</td>\n",
              "      <td>1</td>\n",
              "    </tr>\n",
              "    <tr>\n",
              "      <th>3</th>\n",
              "      <td>3</td>\n",
              "      <td>2022-09-21</td>\n",
              "      <td>1588.9739</td>\n",
              "      <td>1588.6202</td>\n",
              "      <td>0</td>\n",
              "    </tr>\n",
              "    <tr>\n",
              "      <th>4</th>\n",
              "      <td>4</td>\n",
              "      <td>2022-09-22</td>\n",
              "      <td>1588.6202</td>\n",
              "      <td>1588.4975</td>\n",
              "      <td>0</td>\n",
              "    </tr>\n",
              "  </tbody>\n",
              "</table>\n",
              "</div>\n",
              "      <button class=\"colab-df-convert\" onclick=\"convertToInteractive('df-dbd8fa73-d60c-4fab-868c-81d41c739e55')\"\n",
              "              title=\"Convert this dataframe to an interactive table.\"\n",
              "              style=\"display:none;\">\n",
              "        \n",
              "  <svg xmlns=\"http://www.w3.org/2000/svg\" height=\"24px\"viewBox=\"0 0 24 24\"\n",
              "       width=\"24px\">\n",
              "    <path d=\"M0 0h24v24H0V0z\" fill=\"none\"/>\n",
              "    <path d=\"M18.56 5.44l.94 2.06.94-2.06 2.06-.94-2.06-.94-.94-2.06-.94 2.06-2.06.94zm-11 1L8.5 8.5l.94-2.06 2.06-.94-2.06-.94L8.5 2.5l-.94 2.06-2.06.94zm10 10l.94 2.06.94-2.06 2.06-.94-2.06-.94-.94-2.06-.94 2.06-2.06.94z\"/><path d=\"M17.41 7.96l-1.37-1.37c-.4-.4-.92-.59-1.43-.59-.52 0-1.04.2-1.43.59L10.3 9.45l-7.72 7.72c-.78.78-.78 2.05 0 2.83L4 21.41c.39.39.9.59 1.41.59.51 0 1.02-.2 1.41-.59l7.78-7.78 2.81-2.81c.8-.78.8-2.07 0-2.86zM5.41 20L4 18.59l7.72-7.72 1.47 1.35L5.41 20z\"/>\n",
              "  </svg>\n",
              "      </button>\n",
              "      \n",
              "  <style>\n",
              "    .colab-df-container {\n",
              "      display:flex;\n",
              "      flex-wrap:wrap;\n",
              "      gap: 12px;\n",
              "    }\n",
              "\n",
              "    .colab-df-convert {\n",
              "      background-color: #E8F0FE;\n",
              "      border: none;\n",
              "      border-radius: 50%;\n",
              "      cursor: pointer;\n",
              "      display: none;\n",
              "      fill: #1967D2;\n",
              "      height: 32px;\n",
              "      padding: 0 0 0 0;\n",
              "      width: 32px;\n",
              "    }\n",
              "\n",
              "    .colab-df-convert:hover {\n",
              "      background-color: #E2EBFA;\n",
              "      box-shadow: 0px 1px 2px rgba(60, 64, 67, 0.3), 0px 1px 3px 1px rgba(60, 64, 67, 0.15);\n",
              "      fill: #174EA6;\n",
              "    }\n",
              "\n",
              "    [theme=dark] .colab-df-convert {\n",
              "      background-color: #3B4455;\n",
              "      fill: #D2E3FC;\n",
              "    }\n",
              "\n",
              "    [theme=dark] .colab-df-convert:hover {\n",
              "      background-color: #434B5C;\n",
              "      box-shadow: 0px 1px 3px 1px rgba(0, 0, 0, 0.15);\n",
              "      filter: drop-shadow(0px 1px 2px rgba(0, 0, 0, 0.3));\n",
              "      fill: #FFFFFF;\n",
              "    }\n",
              "  </style>\n",
              "\n",
              "      <script>\n",
              "        const buttonEl =\n",
              "          document.querySelector('#df-dbd8fa73-d60c-4fab-868c-81d41c739e55 button.colab-df-convert');\n",
              "        buttonEl.style.display =\n",
              "          google.colab.kernel.accessAllowed ? 'block' : 'none';\n",
              "\n",
              "        async function convertToInteractive(key) {\n",
              "          const element = document.querySelector('#df-dbd8fa73-d60c-4fab-868c-81d41c739e55');\n",
              "          const dataTable =\n",
              "            await google.colab.kernel.invokeFunction('convertToInteractive',\n",
              "                                                     [key], {});\n",
              "          if (!dataTable) return;\n",
              "\n",
              "          const docLinkHtml = 'Like what you see? Visit the ' +\n",
              "            '<a target=\"_blank\" href=https://colab.research.google.com/notebooks/data_table.ipynb>data table notebook</a>'\n",
              "            + ' to learn more about interactive tables.';\n",
              "          element.innerHTML = '';\n",
              "          dataTable['output_type'] = 'display_data';\n",
              "          await google.colab.output.renderOutput(dataTable, element);\n",
              "          const docLink = document.createElement('div');\n",
              "          docLink.innerHTML = docLinkHtml;\n",
              "          element.appendChild(docLink);\n",
              "        }\n",
              "      </script>\n",
              "    </div>\n",
              "  </div>\n",
              "  "
            ]
          },
          "metadata": {},
          "execution_count": 2
        }
      ]
    },
    {
      "cell_type": "code",
      "source": [
        "df.tail()"
      ],
      "metadata": {
        "colab": {
          "base_uri": "https://localhost:8080/",
          "height": 206
        },
        "id": "BJzsuxyX-SfU",
        "outputId": "406394d1-3103-4d88-b250-d436972be54e"
      },
      "execution_count": null,
      "outputs": [
        {
          "output_type": "execute_result",
          "data": {
            "text/plain": [
              "    Unnamed: 0        Date    Present       Next  Class\n",
              "61          61  2022-12-12  1597.8645  1598.0694      1\n",
              "62          62  2022-12-13  1598.0694  1598.1755      1\n",
              "63          63  2022-12-14  1598.1755  1598.3898      1\n",
              "64          64  2022-12-15  1598.3898  1598.6725      1\n",
              "65          65  2022-12-16  1598.6725        NaN      0"
            ],
            "text/html": [
              "\n",
              "  <div id=\"df-2fbe55c2-f0fb-4f58-9ada-724a525336fa\">\n",
              "    <div class=\"colab-df-container\">\n",
              "      <div>\n",
              "<style scoped>\n",
              "    .dataframe tbody tr th:only-of-type {\n",
              "        vertical-align: middle;\n",
              "    }\n",
              "\n",
              "    .dataframe tbody tr th {\n",
              "        vertical-align: top;\n",
              "    }\n",
              "\n",
              "    .dataframe thead th {\n",
              "        text-align: right;\n",
              "    }\n",
              "</style>\n",
              "<table border=\"1\" class=\"dataframe\">\n",
              "  <thead>\n",
              "    <tr style=\"text-align: right;\">\n",
              "      <th></th>\n",
              "      <th>Unnamed: 0</th>\n",
              "      <th>Date</th>\n",
              "      <th>Present</th>\n",
              "      <th>Next</th>\n",
              "      <th>Class</th>\n",
              "    </tr>\n",
              "  </thead>\n",
              "  <tbody>\n",
              "    <tr>\n",
              "      <th>61</th>\n",
              "      <td>61</td>\n",
              "      <td>2022-12-12</td>\n",
              "      <td>1597.8645</td>\n",
              "      <td>1598.0694</td>\n",
              "      <td>1</td>\n",
              "    </tr>\n",
              "    <tr>\n",
              "      <th>62</th>\n",
              "      <td>62</td>\n",
              "      <td>2022-12-13</td>\n",
              "      <td>1598.0694</td>\n",
              "      <td>1598.1755</td>\n",
              "      <td>1</td>\n",
              "    </tr>\n",
              "    <tr>\n",
              "      <th>63</th>\n",
              "      <td>63</td>\n",
              "      <td>2022-12-14</td>\n",
              "      <td>1598.1755</td>\n",
              "      <td>1598.3898</td>\n",
              "      <td>1</td>\n",
              "    </tr>\n",
              "    <tr>\n",
              "      <th>64</th>\n",
              "      <td>64</td>\n",
              "      <td>2022-12-15</td>\n",
              "      <td>1598.3898</td>\n",
              "      <td>1598.6725</td>\n",
              "      <td>1</td>\n",
              "    </tr>\n",
              "    <tr>\n",
              "      <th>65</th>\n",
              "      <td>65</td>\n",
              "      <td>2022-12-16</td>\n",
              "      <td>1598.6725</td>\n",
              "      <td>NaN</td>\n",
              "      <td>0</td>\n",
              "    </tr>\n",
              "  </tbody>\n",
              "</table>\n",
              "</div>\n",
              "      <button class=\"colab-df-convert\" onclick=\"convertToInteractive('df-2fbe55c2-f0fb-4f58-9ada-724a525336fa')\"\n",
              "              title=\"Convert this dataframe to an interactive table.\"\n",
              "              style=\"display:none;\">\n",
              "        \n",
              "  <svg xmlns=\"http://www.w3.org/2000/svg\" height=\"24px\"viewBox=\"0 0 24 24\"\n",
              "       width=\"24px\">\n",
              "    <path d=\"M0 0h24v24H0V0z\" fill=\"none\"/>\n",
              "    <path d=\"M18.56 5.44l.94 2.06.94-2.06 2.06-.94-2.06-.94-.94-2.06-.94 2.06-2.06.94zm-11 1L8.5 8.5l.94-2.06 2.06-.94-2.06-.94L8.5 2.5l-.94 2.06-2.06.94zm10 10l.94 2.06.94-2.06 2.06-.94-2.06-.94-.94-2.06-.94 2.06-2.06.94z\"/><path d=\"M17.41 7.96l-1.37-1.37c-.4-.4-.92-.59-1.43-.59-.52 0-1.04.2-1.43.59L10.3 9.45l-7.72 7.72c-.78.78-.78 2.05 0 2.83L4 21.41c.39.39.9.59 1.41.59.51 0 1.02-.2 1.41-.59l7.78-7.78 2.81-2.81c.8-.78.8-2.07 0-2.86zM5.41 20L4 18.59l7.72-7.72 1.47 1.35L5.41 20z\"/>\n",
              "  </svg>\n",
              "      </button>\n",
              "      \n",
              "  <style>\n",
              "    .colab-df-container {\n",
              "      display:flex;\n",
              "      flex-wrap:wrap;\n",
              "      gap: 12px;\n",
              "    }\n",
              "\n",
              "    .colab-df-convert {\n",
              "      background-color: #E8F0FE;\n",
              "      border: none;\n",
              "      border-radius: 50%;\n",
              "      cursor: pointer;\n",
              "      display: none;\n",
              "      fill: #1967D2;\n",
              "      height: 32px;\n",
              "      padding: 0 0 0 0;\n",
              "      width: 32px;\n",
              "    }\n",
              "\n",
              "    .colab-df-convert:hover {\n",
              "      background-color: #E2EBFA;\n",
              "      box-shadow: 0px 1px 2px rgba(60, 64, 67, 0.3), 0px 1px 3px 1px rgba(60, 64, 67, 0.15);\n",
              "      fill: #174EA6;\n",
              "    }\n",
              "\n",
              "    [theme=dark] .colab-df-convert {\n",
              "      background-color: #3B4455;\n",
              "      fill: #D2E3FC;\n",
              "    }\n",
              "\n",
              "    [theme=dark] .colab-df-convert:hover {\n",
              "      background-color: #434B5C;\n",
              "      box-shadow: 0px 1px 3px 1px rgba(0, 0, 0, 0.15);\n",
              "      filter: drop-shadow(0px 1px 2px rgba(0, 0, 0, 0.3));\n",
              "      fill: #FFFFFF;\n",
              "    }\n",
              "  </style>\n",
              "\n",
              "      <script>\n",
              "        const buttonEl =\n",
              "          document.querySelector('#df-2fbe55c2-f0fb-4f58-9ada-724a525336fa button.colab-df-convert');\n",
              "        buttonEl.style.display =\n",
              "          google.colab.kernel.accessAllowed ? 'block' : 'none';\n",
              "\n",
              "        async function convertToInteractive(key) {\n",
              "          const element = document.querySelector('#df-2fbe55c2-f0fb-4f58-9ada-724a525336fa');\n",
              "          const dataTable =\n",
              "            await google.colab.kernel.invokeFunction('convertToInteractive',\n",
              "                                                     [key], {});\n",
              "          if (!dataTable) return;\n",
              "\n",
              "          const docLinkHtml = 'Like what you see? Visit the ' +\n",
              "            '<a target=\"_blank\" href=https://colab.research.google.com/notebooks/data_table.ipynb>data table notebook</a>'\n",
              "            + ' to learn more about interactive tables.';\n",
              "          element.innerHTML = '';\n",
              "          dataTable['output_type'] = 'display_data';\n",
              "          await google.colab.output.renderOutput(dataTable, element);\n",
              "          const docLink = document.createElement('div');\n",
              "          docLink.innerHTML = docLinkHtml;\n",
              "          element.appendChild(docLink);\n",
              "        }\n",
              "      </script>\n",
              "    </div>\n",
              "  </div>\n",
              "  "
            ]
          },
          "metadata": {},
          "execution_count": 3
        }
      ]
    },
    {
      "cell_type": "code",
      "source": [
        "df.info()"
      ],
      "metadata": {
        "colab": {
          "base_uri": "https://localhost:8080/"
        },
        "id": "A1oLs9Vy-Vzr",
        "outputId": "b32e35a7-ede2-480c-8806-04140beea8d8"
      },
      "execution_count": null,
      "outputs": [
        {
          "output_type": "stream",
          "name": "stdout",
          "text": [
            "<class 'pandas.core.frame.DataFrame'>\n",
            "RangeIndex: 66 entries, 0 to 65\n",
            "Data columns (total 5 columns):\n",
            " #   Column      Non-Null Count  Dtype  \n",
            "---  ------      --------------  -----  \n",
            " 0   Unnamed: 0  66 non-null     int64  \n",
            " 1   Date        66 non-null     object \n",
            " 2   Present     66 non-null     float64\n",
            " 3   Next        65 non-null     float64\n",
            " 4   Class       66 non-null     int64  \n",
            "dtypes: float64(2), int64(2), object(1)\n",
            "memory usage: 2.7+ KB\n"
          ]
        }
      ]
    },
    {
      "cell_type": "code",
      "source": [
        "# Checking if the dataframe is already in the type we want to use\n",
        "df['Date'] = pd.to_datetime(df['Date'])\n",
        "df.info()"
      ],
      "metadata": {
        "colab": {
          "base_uri": "https://localhost:8080/"
        },
        "id": "Tol9MZug9zJI",
        "outputId": "757770a0-cc0d-4c25-c7cf-867e3e166c2e"
      },
      "execution_count": null,
      "outputs": [
        {
          "output_type": "stream",
          "name": "stdout",
          "text": [
            "<class 'pandas.core.frame.DataFrame'>\n",
            "RangeIndex: 66 entries, 0 to 65\n",
            "Data columns (total 5 columns):\n",
            " #   Column      Non-Null Count  Dtype         \n",
            "---  ------      --------------  -----         \n",
            " 0   Unnamed: 0  66 non-null     int64         \n",
            " 1   Date        66 non-null     datetime64[ns]\n",
            " 2   Present     66 non-null     float64       \n",
            " 3   Next        65 non-null     float64       \n",
            " 4   Class       66 non-null     int64         \n",
            "dtypes: datetime64[ns](1), float64(2), int64(2)\n",
            "memory usage: 2.7 KB\n"
          ]
        }
      ]
    },
    {
      "cell_type": "markdown",
      "source": [
        "## **EDA**"
      ],
      "metadata": {
        "id": "olZMO5EK-z-w"
      }
    },
    {
      "cell_type": "markdown",
      "source": [
        "### **Labels Analysis**\n",
        "\n",
        "Labels between up and down are **imbalanced**."
      ],
      "metadata": {
        "id": "iJpxwqJUA5Og"
      }
    },
    {
      "cell_type": "code",
      "source": [
        "# Label counts\n",
        "df.Class.value_counts()"
      ],
      "metadata": {
        "colab": {
          "base_uri": "https://localhost:8080/"
        },
        "id": "9QTMY9IRA7go",
        "outputId": "daf2ea42-7940-4e10-92a4-db869acff3a6"
      },
      "execution_count": null,
      "outputs": [
        {
          "output_type": "execute_result",
          "data": {
            "text/plain": [
              "1    52\n",
              "0    14\n",
              "Name: Class, dtype: int64"
            ]
          },
          "metadata": {},
          "execution_count": 6
        }
      ]
    },
    {
      "cell_type": "code",
      "source": [
        "# Creating Plot piechart of Up and Down labels\n",
        "ClassType = dict(df.Class.value_counts())\n",
        "labels = 'Up', 'Down'\n",
        "sizes = [ClassType[1], ClassType[0]]\n",
        "explode = (0, 0.2)\n",
        "\n",
        "with sns.color_palette(\"deep\"):\n",
        "    plt.pie(sizes, explode=explode, labels=labels,\n",
        "    autopct='%1.1f%%', shadow=True, startangle=200)\n",
        "\n",
        "# Plot title\n",
        "plt.axis('equal')\n",
        "plt.title('Piechart of Up and Down Class Prediction')\n",
        "plt.show()\n",
        "     "
      ],
      "metadata": {
        "colab": {
          "base_uri": "https://localhost:8080/",
          "height": 482
        },
        "id": "lNF_B4wABBfx",
        "outputId": "a386a968-b5c7-4671-80af-59f8f4f01438"
      },
      "execution_count": null,
      "outputs": [
        {
          "output_type": "display_data",
          "data": {
            "text/plain": [
              "<Figure size 1440x576 with 1 Axes>"
            ],
            "image/png": "[encoded data removed]"
          },
          "metadata": {}
        }
      ]
    },
    {
      "cell_type": "markdown",
      "source": [
        "### **NAV Analysis**"
      ],
      "metadata": {
        "id": "9mm4ta2uA1u2"
      }
    },
    {
      "cell_type": "code",
      "source": [
        "# Lineplot Present NAV\n",
        "present_nav = sns.lineplot(data=df, x=\"Date\", y=\"Present\")\n",
        "present_nav"
      ],
      "metadata": {
        "colab": {
          "base_uri": "https://localhost:8080/",
          "height": 514
        },
        "id": "E-cri5O2_C7N",
        "outputId": "8a98daa2-8eea-4496-bdc1-cefadf6a8f80"
      },
      "execution_count": null,
      "outputs": [
        {
          "output_type": "execute_result",
          "data": {
            "text/plain": [
              "<matplotlib.axes._subplots.AxesSubplot at 0x7f3d59688df0>"
            ]
          },
          "metadata": {},
          "execution_count": 8
        },
        {
          "output_type": "display_data",
          "data": {
            "text/plain": [
              "<Figure size 1440x576 with 1 Axes>"
            ],
            "image/png": "[encoded data removed]"
          },
          "metadata": {
            "needs_background": "light"
          }
        }
      ]
    },
    {
      "cell_type": "code",
      "source": [
        "# Lineplot Present NAV\n",
        "next_nav = sns.lineplot(data=df, x=\"Date\", y=\"Next\")\n",
        "next_nav"
      ],
      "metadata": {
        "colab": {
          "base_uri": "https://localhost:8080/",
          "height": 514
        },
        "id": "Ex5Qe5rAAXdm",
        "outputId": "0b7f9a9a-c23e-4929-aa48-ea3e7ed7a8b4"
      },
      "execution_count": null,
      "outputs": [
        {
          "output_type": "execute_result",
          "data": {
            "text/plain": [
              "<matplotlib.axes._subplots.AxesSubplot at 0x7f3d58a70ac0>"
            ]
          },
          "metadata": {},
          "execution_count": 9
        },
        {
          "output_type": "display_data",
          "data": {
            "text/plain": [
              "<Figure size 1440x576 with 1 Axes>"
            ],
            "image/png": "[encoded data removed]"
          },
          "metadata": {
            "needs_background": "light"
          }
        }
      ]
    },
    {
      "cell_type": "markdown",
      "source": [
        "### **Correlation Analysis**\n",
        "\n",
        "Apparently \"Next\" NAV\" is 100% correlated with \"Present\" NAV. People tend to predict NAV at least a day before. However, the class correlation with NAV has weak correlations. This means, the model prediction depends on NAV, both Present and Next.\n",
        "\n",
        "The prediction will be using Regression and Classification."
      ],
      "metadata": {
        "id": "8wEeVsOJBufN"
      }
    },
    {
      "cell_type": "code",
      "source": [
        "# Creating new dataframe for NAV and Class correlation\n",
        "nav_correlation = ['Present', 'Next', 'Class']\n",
        "df_corr = df[nav_correlation]\n",
        "df_corr.head()"
      ],
      "metadata": {
        "colab": {
          "base_uri": "https://localhost:8080/",
          "height": 206
        },
        "id": "78kF6raiBx2M",
        "outputId": "d7f8d3f2-f28a-491d-d4aa-46debcadccd0"
      },
      "execution_count": null,
      "outputs": [
        {
          "output_type": "execute_result",
          "data": {
            "text/plain": [
              "     Present       Next  Class\n",
              "0  1588.2417  1588.3580      1\n",
              "1  1588.3580  1588.7618      1\n",
              "2  1588.7618  1588.9739      1\n",
              "3  1588.9739  1588.6202      0\n",
              "4  1588.6202  1588.4975      0"
            ],
            "text/html": [
              "\n",
              "  <div id=\"df-f779715e-96ae-4e67-bcad-79dc260222c5\">\n",
              "    <div class=\"colab-df-container\">\n",
              "      <div>\n",
              "<style scoped>\n",
              "    .dataframe tbody tr th:only-of-type {\n",
              "        vertical-align: middle;\n",
              "    }\n",
              "\n",
              "    .dataframe tbody tr th {\n",
              "        vertical-align: top;\n",
              "    }\n",
              "\n",
              "    .dataframe thead th {\n",
              "        text-align: right;\n",
              "    }\n",
              "</style>\n",
              "<table border=\"1\" class=\"dataframe\">\n",
              "  <thead>\n",
              "    <tr style=\"text-align: right;\">\n",
              "      <th></th>\n",
              "      <th>Present</th>\n",
              "      <th>Next</th>\n",
              "      <th>Class</th>\n",
              "    </tr>\n",
              "  </thead>\n",
              "  <tbody>\n",
              "    <tr>\n",
              "      <th>0</th>\n",
              "      <td>1588.2417</td>\n",
              "      <td>1588.3580</td>\n",
              "      <td>1</td>\n",
              "    </tr>\n",
              "    <tr>\n",
              "      <th>1</th>\n",
              "      <td>1588.3580</td>\n",
              "      <td>1588.7618</td>\n",
              "      <td>1</td>\n",
              "    </tr>\n",
              "    <tr>\n",
              "      <th>2</th>\n",
              "      <td>1588.7618</td>\n",
              "      <td>1588.9739</td>\n",
              "      <td>1</td>\n",
              "    </tr>\n",
              "    <tr>\n",
              "      <th>3</th>\n",
              "      <td>1588.9739</td>\n",
              "      <td>1588.6202</td>\n",
              "      <td>0</td>\n",
              "    </tr>\n",
              "    <tr>\n",
              "      <th>4</th>\n",
              "      <td>1588.6202</td>\n",
              "      <td>1588.4975</td>\n",
              "      <td>0</td>\n",
              "    </tr>\n",
              "  </tbody>\n",
              "</table>\n",
              "</div>\n",
              "      <button class=\"colab-df-convert\" onclick=\"convertToInteractive('df-f779715e-96ae-4e67-bcad-79dc260222c5')\"\n",
              "              title=\"Convert this dataframe to an interactive table.\"\n",
              "              style=\"display:none;\">\n",
              "        \n",
              "  <svg xmlns=\"http://www.w3.org/2000/svg\" height=\"24px\"viewBox=\"0 0 24 24\"\n",
              "       width=\"24px\">\n",
              "    <path d=\"M0 0h24v24H0V0z\" fill=\"none\"/>\n",
              "    <path d=\"M18.56 5.44l.94 2.06.94-2.06 2.06-.94-2.06-.94-.94-2.06-.94 2.06-2.06.94zm-11 1L8.5 8.5l.94-2.06 2.06-.94-2.06-.94L8.5 2.5l-.94 2.06-2.06.94zm10 10l.94 2.06.94-2.06 2.06-.94-2.06-.94-.94-2.06-.94 2.06-2.06.94z\"/><path d=\"M17.41 7.96l-1.37-1.37c-.4-.4-.92-.59-1.43-.59-.52 0-1.04.2-1.43.59L10.3 9.45l-7.72 7.72c-.78.78-.78 2.05 0 2.83L4 21.41c.39.39.9.59 1.41.59.51 0 1.02-.2 1.41-.59l7.78-7.78 2.81-2.81c.8-.78.8-2.07 0-2.86zM5.41 20L4 18.59l7.72-7.72 1.47 1.35L5.41 20z\"/>\n",
              "  </svg>\n",
              "      </button>\n",
              "      \n",
              "  <style>\n",
              "    .colab-df-container {\n",
              "      display:flex;\n",
              "      flex-wrap:wrap;\n",
              "      gap: 12px;\n",
              "    }\n",
              "\n",
              "    .colab-df-convert {\n",
              "      background-color: #E8F0FE;\n",
              "      border: none;\n",
              "      border-radius: 50%;\n",
              "      cursor: pointer;\n",
              "      display: none;\n",
              "      fill: #1967D2;\n",
              "      height: 32px;\n",
              "      padding: 0 0 0 0;\n",
              "      width: 32px;\n",
              "    }\n",
              "\n",
              "    .colab-df-convert:hover {\n",
              "      background-color: #E2EBFA;\n",
              "      box-shadow: 0px 1px 2px rgba(60, 64, 67, 0.3), 0px 1px 3px 1px rgba(60, 64, 67, 0.15);\n",
              "      fill: #174EA6;\n",
              "    }\n",
              "\n",
              "    [theme=dark] .colab-df-convert {\n",
              "      background-color: #3B4455;\n",
              "      fill: #D2E3FC;\n",
              "    }\n",
              "\n",
              "    [theme=dark] .colab-df-convert:hover {\n",
              "      background-color: #434B5C;\n",
              "      box-shadow: 0px 1px 3px 1px rgba(0, 0, 0, 0.15);\n",
              "      filter: drop-shadow(0px 1px 2px rgba(0, 0, 0, 0.3));\n",
              "      fill: #FFFFFF;\n",
              "    }\n",
              "  </style>\n",
              "\n",
              "      <script>\n",
              "        const buttonEl =\n",
              "          document.querySelector('#df-f779715e-96ae-4e67-bcad-79dc260222c5 button.colab-df-convert');\n",
              "        buttonEl.style.display =\n",
              "          google.colab.kernel.accessAllowed ? 'block' : 'none';\n",
              "\n",
              "        async function convertToInteractive(key) {\n",
              "          const element = document.querySelector('#df-f779715e-96ae-4e67-bcad-79dc260222c5');\n",
              "          const dataTable =\n",
              "            await google.colab.kernel.invokeFunction('convertToInteractive',\n",
              "                                                     [key], {});\n",
              "          if (!dataTable) return;\n",
              "\n",
              "          const docLinkHtml = 'Like what you see? Visit the ' +\n",
              "            '<a target=\"_blank\" href=https://colab.research.google.com/notebooks/data_table.ipynb>data table notebook</a>'\n",
              "            + ' to learn more about interactive tables.';\n",
              "          element.innerHTML = '';\n",
              "          dataTable['output_type'] = 'display_data';\n",
              "          await google.colab.output.renderOutput(dataTable, element);\n",
              "          const docLink = document.createElement('div');\n",
              "          docLink.innerHTML = docLinkHtml;\n",
              "          element.appendChild(docLink);\n",
              "        }\n",
              "      </script>\n",
              "    </div>\n",
              "  </div>\n",
              "  "
            ]
          },
          "metadata": {},
          "execution_count": 10
        }
      ]
    },
    {
      "cell_type": "code",
      "source": [
        "# Plotting Correlation Matrix of NAV and Class\n",
        "plt.figure(figsize=(8.5,7))\n",
        "sns.heatmap(df_corr.corr(),annot=True)"
      ],
      "metadata": {
        "colab": {
          "base_uri": "https://localhost:8080/",
          "height": 449
        },
        "id": "JdtUIUqnCLgS",
        "outputId": "b05a1563-1d53-4041-d7bb-af73c00ceaba"
      },
      "execution_count": null,
      "outputs": [
        {
          "output_type": "execute_result",
          "data": {
            "text/plain": [
              "<matplotlib.axes._subplots.AxesSubplot at 0x7f3d58945280>"
            ]
          },
          "metadata": {},
          "execution_count": 11
        },
        {
          "output_type": "display_data",
          "data": {
            "text/plain": [
              "<Figure size 612x504 with 2 Axes>"
            ],
            "image/png": "[encoded data removed]"
          },
          "metadata": {
            "needs_background": "light"
          }
        }
      ]
    },
    {
      "cell_type": "markdown",
      "source": [
        "## **Data Preprocessing**"
      ],
      "metadata": {
        "id": "PO4QKfKFDIND"
      }
    },
    {
      "cell_type": "markdown",
      "source": [
        "### **Data Inference**"
      ],
      "metadata": {
        "id": "Gk7S4kXtDidL"
      }
    },
    {
      "cell_type": "code",
      "source": [
        "# Dropping unneccessary features\n",
        "df_ori = df.copy()\n",
        "\n",
        "df = df.drop([65])\n",
        "df = df.drop(['Unnamed: 0'],axis=1)"
      ],
      "metadata": {
        "id": "OsCzOURKD0u4"
      },
      "execution_count": null,
      "outputs": []
    },
    {
      "cell_type": "code",
      "source": [
        "# Creating data inference\n",
        "df_inf = df.sample(5, random_state=33).sort_index()\n",
        "df_inf"
      ],
      "metadata": {
        "colab": {
          "base_uri": "https://localhost:8080/",
          "height": 206
        },
        "id": "fTe1NL6BDh44",
        "outputId": "4e6b822b-b251-4af9-edb2-84db62745164"
      },
      "execution_count": null,
      "outputs": [
        {
          "output_type": "execute_result",
          "data": {
            "text/plain": [
              "         Date    Present       Next  Class\n",
              "5  2022-09-23  1588.4975  1588.5176      1\n",
              "6  2022-09-26  1588.5176  1588.2288      0\n",
              "29 2022-10-27  1590.8330  1590.8403      1\n",
              "48 2022-11-23  1594.6866  1594.7907      1\n",
              "61 2022-12-12  1597.8645  1598.0694      1"
            ],
            "text/html": [
              "\n",
              "  <div id=\"df-8ef20ef8-c46b-43af-8af4-56ef04df6f2e\">\n",
              "    <div class=\"colab-df-container\">\n",
              "      <div>\n",
              "<style scoped>\n",
              "    .dataframe tbody tr th:only-of-type {\n",
              "        vertical-align: middle;\n",
              "    }\n",
              "\n",
              "    .dataframe tbody tr th {\n",
              "        vertical-align: top;\n",
              "    }\n",
              "\n",
              "    .dataframe thead th {\n",
              "        text-align: right;\n",
              "    }\n",
              "</style>\n",
              "<table border=\"1\" class=\"dataframe\">\n",
              "  <thead>\n",
              "    <tr style=\"text-align: right;\">\n",
              "      <th></th>\n",
              "      <th>Date</th>\n",
              "      <th>Present</th>\n",
              "      <th>Next</th>\n",
              "      <th>Class</th>\n",
              "    </tr>\n",
              "  </thead>\n",
              "  <tbody>\n",
              "    <tr>\n",
              "      <th>5</th>\n",
              "      <td>2022-09-23</td>\n",
              "      <td>1588.4975</td>\n",
              "      <td>1588.5176</td>\n",
              "      <td>1</td>\n",
              "    </tr>\n",
              "    <tr>\n",
              "      <th>6</th>\n",
              "      <td>2022-09-26</td>\n",
              "      <td>1588.5176</td>\n",
              "      <td>1588.2288</td>\n",
              "      <td>0</td>\n",
              "    </tr>\n",
              "    <tr>\n",
              "      <th>29</th>\n",
              "      <td>2022-10-27</td>\n",
              "      <td>1590.8330</td>\n",
              "      <td>1590.8403</td>\n",
              "      <td>1</td>\n",
              "    </tr>\n",
              "    <tr>\n",
              "      <th>48</th>\n",
              "      <td>2022-11-23</td>\n",
              "      <td>1594.6866</td>\n",
              "      <td>1594.7907</td>\n",
              "      <td>1</td>\n",
              "    </tr>\n",
              "    <tr>\n",
              "      <th>61</th>\n",
              "      <td>2022-12-12</td>\n",
              "      <td>1597.8645</td>\n",
              "      <td>1598.0694</td>\n",
              "      <td>1</td>\n",
              "    </tr>\n",
              "  </tbody>\n",
              "</table>\n",
              "</div>\n",
              "      <button class=\"colab-df-convert\" onclick=\"convertToInteractive('df-8ef20ef8-c46b-43af-8af4-56ef04df6f2e')\"\n",
              "              title=\"Convert this dataframe to an interactive table.\"\n",
              "              style=\"display:none;\">\n",
              "        \n",
              "  <svg xmlns=\"http://www.w3.org/2000/svg\" height=\"24px\"viewBox=\"0 0 24 24\"\n",
              "       width=\"24px\">\n",
              "    <path d=\"M0 0h24v24H0V0z\" fill=\"none\"/>\n",
              "    <path d=\"M18.56 5.44l.94 2.06.94-2.06 2.06-.94-2.06-.94-.94-2.06-.94 2.06-2.06.94zm-11 1L8.5 8.5l.94-2.06 2.06-.94-2.06-.94L8.5 2.5l-.94 2.06-2.06.94zm10 10l.94 2.06.94-2.06 2.06-.94-2.06-.94-.94-2.06-.94 2.06-2.06.94z\"/><path d=\"M17.41 7.96l-1.37-1.37c-.4-.4-.92-.59-1.43-.59-.52 0-1.04.2-1.43.59L10.3 9.45l-7.72 7.72c-.78.78-.78 2.05 0 2.83L4 21.41c.39.39.9.59 1.41.59.51 0 1.02-.2 1.41-.59l7.78-7.78 2.81-2.81c.8-.78.8-2.07 0-2.86zM5.41 20L4 18.59l7.72-7.72 1.47 1.35L5.41 20z\"/>\n",
              "  </svg>\n",
              "      </button>\n",
              "      \n",
              "  <style>\n",
              "    .colab-df-container {\n",
              "      display:flex;\n",
              "      flex-wrap:wrap;\n",
              "      gap: 12px;\n",
              "    }\n",
              "\n",
              "    .colab-df-convert {\n",
              "      background-color: #E8F0FE;\n",
              "      border: none;\n",
              "      border-radius: 50%;\n",
              "      cursor: pointer;\n",
              "      display: none;\n",
              "      fill: #1967D2;\n",
              "      height: 32px;\n",
              "      padding: 0 0 0 0;\n",
              "      width: 32px;\n",
              "    }\n",
              "\n",
              "    .colab-df-convert:hover {\n",
              "      background-color: #E2EBFA;\n",
              "      box-shadow: 0px 1px 2px rgba(60, 64, 67, 0.3), 0px 1px 3px 1px rgba(60, 64, 67, 0.15);\n",
              "      fill: #174EA6;\n",
              "    }\n",
              "\n",
              "    [theme=dark] .colab-df-convert {\n",
              "      background-color: #3B4455;\n",
              "      fill: #D2E3FC;\n",
              "    }\n",
              "\n",
              "    [theme=dark] .colab-df-convert:hover {\n",
              "      background-color: #434B5C;\n",
              "      box-shadow: 0px 1px 3px 1px rgba(0, 0, 0, 0.15);\n",
              "      filter: drop-shadow(0px 1px 2px rgba(0, 0, 0, 0.3));\n",
              "      fill: #FFFFFF;\n",
              "    }\n",
              "  </style>\n",
              "\n",
              "      <script>\n",
              "        const buttonEl =\n",
              "          document.querySelector('#df-8ef20ef8-c46b-43af-8af4-56ef04df6f2e button.colab-df-convert');\n",
              "        buttonEl.style.display =\n",
              "          google.colab.kernel.accessAllowed ? 'block' : 'none';\n",
              "\n",
              "        async function convertToInteractive(key) {\n",
              "          const element = document.querySelector('#df-8ef20ef8-c46b-43af-8af4-56ef04df6f2e');\n",
              "          const dataTable =\n",
              "            await google.colab.kernel.invokeFunction('convertToInteractive',\n",
              "                                                     [key], {});\n",
              "          if (!dataTable) return;\n",
              "\n",
              "          const docLinkHtml = 'Like what you see? Visit the ' +\n",
              "            '<a target=\"_blank\" href=https://colab.research.google.com/notebooks/data_table.ipynb>data table notebook</a>'\n",
              "            + ' to learn more about interactive tables.';\n",
              "          element.innerHTML = '';\n",
              "          dataTable['output_type'] = 'display_data';\n",
              "          await google.colab.output.renderOutput(dataTable, element);\n",
              "          const docLink = document.createElement('div');\n",
              "          docLink.innerHTML = docLinkHtml;\n",
              "          element.appendChild(docLink);\n",
              "        }\n",
              "      </script>\n",
              "    </div>\n",
              "  </div>\n",
              "  "
            ]
          },
          "metadata": {},
          "execution_count": 13
        }
      ]
    },
    {
      "cell_type": "code",
      "source": [
        "# Drop data inference as a new dataframe\n",
        "df_train_test = df.drop(df_inf.index)\n",
        "df_train_test.shape"
      ],
      "metadata": {
        "colab": {
          "base_uri": "https://localhost:8080/"
        },
        "id": "6lUCtGHTE1bf",
        "outputId": "3c9f8b3f-14d9-4f7c-aa44-3b612e01fef1"
      },
      "execution_count": null,
      "outputs": [
        {
          "output_type": "execute_result",
          "data": {
            "text/plain": [
              "(60, 4)"
            ]
          },
          "metadata": {},
          "execution_count": 14
        }
      ]
    },
    {
      "cell_type": "markdown",
      "source": [
        "### **Train-Test Set**\n",
        "\n",
        "There is no need to drop any feature. However, train-test dataset splitting needs to be done."
      ],
      "metadata": {
        "id": "uMwjP0TbDLhh"
      }
    },
    {
      "cell_type": "code",
      "source": [
        "# Defining X and y\n",
        "X = df_train_test.drop(['Class','Date'],axis=1)\n",
        "y = pd.DataFrame(df_train_test['Class'])"
      ],
      "metadata": {
        "id": "9XjrbninDcfC"
      },
      "execution_count": null,
      "outputs": []
    },
    {
      "cell_type": "markdown",
      "source": [
        "#### **Imbalanced Data**\n",
        "\n",
        "Imbalanced Data should be handled first to reduce the bias of the model results, especially for the label/target. The Imbalanced Data will be done by Oversampling."
      ],
      "metadata": {
        "id": "lbWw40o8EDsG"
      }
    },
    {
      "cell_type": "code",
      "source": [
        "print('Original number of target: ', len(y))"
      ],
      "metadata": {
        "colab": {
          "base_uri": "https://localhost:8080/"
        },
        "id": "654zZai8EQ8T",
        "outputId": "b91cf3ed-cd60-4f39-e859-116da29b0934"
      },
      "execution_count": null,
      "outputs": [
        {
          "output_type": "stream",
          "name": "stdout",
          "text": [
            "Original number of target:  60\n"
          ]
        }
      ]
    },
    {
      "cell_type": "code",
      "source": [
        "# Define Oversampling\n",
        "from imblearn.over_sampling import SMOTE\n",
        "\n",
        "smote = SMOTE(random_state=33)\n",
        "\n",
        "# Fit an resample\n",
        "X, y = smote.fit_resample(X, y)"
      ],
      "metadata": {
        "id": "dOaylEVMGJHS"
      },
      "execution_count": null,
      "outputs": []
    },
    {
      "cell_type": "code",
      "source": [
        "print('New number of target after oversampling: ', len(y))"
      ],
      "metadata": {
        "colab": {
          "base_uri": "https://localhost:8080/"
        },
        "id": "m8aGSI-PGdIL",
        "outputId": "58fdbb76-e1e4-412c-8212-e034a9d5fdc5"
      },
      "execution_count": null,
      "outputs": [
        {
          "output_type": "stream",
          "name": "stdout",
          "text": [
            "New number of target after oversampling:  96\n"
          ]
        }
      ]
    },
    {
      "cell_type": "code",
      "source": [
        "# Number of Class after oversampling\n",
        "y.Class.value_counts()"
      ],
      "metadata": {
        "colab": {
          "base_uri": "https://localhost:8080/"
        },
        "id": "VynmMC01Gm2p",
        "outputId": "f7e8b3ac-ffa9-4d29-f3ee-56aad846ab33"
      },
      "execution_count": null,
      "outputs": [
        {
          "output_type": "execute_result",
          "data": {
            "text/plain": [
              "1    48\n",
              "0    48\n",
              "Name: Class, dtype: int64"
            ]
          },
          "metadata": {},
          "execution_count": 19
        }
      ]
    },
    {
      "cell_type": "markdown",
      "source": [
        "#### **Train-Test Set Splitting**"
      ],
      "metadata": {
        "id": "Ztd_l-BfG0ce"
      }
    },
    {
      "cell_type": "code",
      "source": [
        "# Splitting dataset into training and testing set\n",
        "X_train, X_test, y_train, y_test = train_test_split(X, y,\n",
        "                                                    test_size=0.3,\n",
        "                                                    random_state=3)\n",
        "\n",
        "print('Train size : ', X_train.shape)\n",
        "print('Test size. : ', X_test.shape)\n",
        "\n",
        "X_train.head()"
      ],
      "metadata": {
        "colab": {
          "base_uri": "https://localhost:8080/",
          "height": 241
        },
        "id": "6O8073W2Gyg-",
        "outputId": "0aeb2c57-7d70-4f31-c00b-ef237fb44245"
      },
      "execution_count": null,
      "outputs": [
        {
          "output_type": "stream",
          "name": "stdout",
          "text": [
            "Train size :  (67, 2)\n",
            "Test size. :  (29, 2)\n"
          ]
        },
        {
          "output_type": "execute_result",
          "data": {
            "text/plain": [
              "       Present         Next\n",
              "5   1588.22880  1587.987800\n",
              "13  1589.38790  1589.510900\n",
              "31  1591.43610  1591.374200\n",
              "92  1588.62949  1588.501944\n",
              "11  1588.86150  1589.000400"
            ],
            "text/html": [
              "\n",
              "  <div id=\"df-effea4cc-7b3a-43ec-8544-fb2a97f59c40\">\n",
              "    <div class=\"colab-df-container\">\n",
              "      <div>\n",
              "<style scoped>\n",
              "    .dataframe tbody tr th:only-of-type {\n",
              "        vertical-align: middle;\n",
              "    }\n",
              "\n",
              "    .dataframe tbody tr th {\n",
              "        vertical-align: top;\n",
              "    }\n",
              "\n",
              "    .dataframe thead th {\n",
              "        text-align: right;\n",
              "    }\n",
              "</style>\n",
              "<table border=\"1\" class=\"dataframe\">\n",
              "  <thead>\n",
              "    <tr style=\"text-align: right;\">\n",
              "      <th></th>\n",
              "      <th>Present</th>\n",
              "      <th>Next</th>\n",
              "    </tr>\n",
              "  </thead>\n",
              "  <tbody>\n",
              "    <tr>\n",
              "      <th>5</th>\n",
              "      <td>1588.22880</td>\n",
              "      <td>1587.987800</td>\n",
              "    </tr>\n",
              "    <tr>\n",
              "      <th>13</th>\n",
              "      <td>1589.38790</td>\n",
              "      <td>1589.510900</td>\n",
              "    </tr>\n",
              "    <tr>\n",
              "      <th>31</th>\n",
              "      <td>1591.43610</td>\n",
              "      <td>1591.374200</td>\n",
              "    </tr>\n",
              "    <tr>\n",
              "      <th>92</th>\n",
              "      <td>1588.62949</td>\n",
              "      <td>1588.501944</td>\n",
              "    </tr>\n",
              "    <tr>\n",
              "      <th>11</th>\n",
              "      <td>1588.86150</td>\n",
              "      <td>1589.000400</td>\n",
              "    </tr>\n",
              "  </tbody>\n",
              "</table>\n",
              "</div>\n",
              "      <button class=\"colab-df-convert\" onclick=\"convertToInteractive('df-effea4cc-7b3a-43ec-8544-fb2a97f59c40')\"\n",
              "              title=\"Convert this dataframe to an interactive table.\"\n",
              "              style=\"display:none;\">\n",
              "        \n",
              "  <svg xmlns=\"http://www.w3.org/2000/svg\" height=\"24px\"viewBox=\"0 0 24 24\"\n",
              "       width=\"24px\">\n",
              "    <path d=\"M0 0h24v24H0V0z\" fill=\"none\"/>\n",
              "    <path d=\"M18.56 5.44l.94 2.06.94-2.06 2.06-.94-2.06-.94-.94-2.06-.94 2.06-2.06.94zm-11 1L8.5 8.5l.94-2.06 2.06-.94-2.06-.94L8.5 2.5l-.94 2.06-2.06.94zm10 10l.94 2.06.94-2.06 2.06-.94-2.06-.94-.94-2.06-.94 2.06-2.06.94z\"/><path d=\"M17.41 7.96l-1.37-1.37c-.4-.4-.92-.59-1.43-.59-.52 0-1.04.2-1.43.59L10.3 9.45l-7.72 7.72c-.78.78-.78 2.05 0 2.83L4 21.41c.39.39.9.59 1.41.59.51 0 1.02-.2 1.41-.59l7.78-7.78 2.81-2.81c.8-.78.8-2.07 0-2.86zM5.41 20L4 18.59l7.72-7.72 1.47 1.35L5.41 20z\"/>\n",
              "  </svg>\n",
              "      </button>\n",
              "      \n",
              "  <style>\n",
              "    .colab-df-container {\n",
              "      display:flex;\n",
              "      flex-wrap:wrap;\n",
              "      gap: 12px;\n",
              "    }\n",
              "\n",
              "    .colab-df-convert {\n",
              "      background-color: #E8F0FE;\n",
              "      border: none;\n",
              "      border-radius: 50%;\n",
              "      cursor: pointer;\n",
              "      display: none;\n",
              "      fill: #1967D2;\n",
              "      height: 32px;\n",
              "      padding: 0 0 0 0;\n",
              "      width: 32px;\n",
              "    }\n",
              "\n",
              "    .colab-df-convert:hover {\n",
              "      background-color: #E2EBFA;\n",
              "      box-shadow: 0px 1px 2px rgba(60, 64, 67, 0.3), 0px 1px 3px 1px rgba(60, 64, 67, 0.15);\n",
              "      fill: #174EA6;\n",
              "    }\n",
              "\n",
              "    [theme=dark] .colab-df-convert {\n",
              "      background-color: #3B4455;\n",
              "      fill: #D2E3FC;\n",
              "    }\n",
              "\n",
              "    [theme=dark] .colab-df-convert:hover {\n",
              "      background-color: #434B5C;\n",
              "      box-shadow: 0px 1px 3px 1px rgba(0, 0, 0, 0.15);\n",
              "      filter: drop-shadow(0px 1px 2px rgba(0, 0, 0, 0.3));\n",
              "      fill: #FFFFFF;\n",
              "    }\n",
              "  </style>\n",
              "\n",
              "      <script>\n",
              "        const buttonEl =\n",
              "          document.querySelector('#df-effea4cc-7b3a-43ec-8544-fb2a97f59c40 button.colab-df-convert');\n",
              "        buttonEl.style.display =\n",
              "          google.colab.kernel.accessAllowed ? 'block' : 'none';\n",
              "\n",
              "        async function convertToInteractive(key) {\n",
              "          const element = document.querySelector('#df-effea4cc-7b3a-43ec-8544-fb2a97f59c40');\n",
              "          const dataTable =\n",
              "            await google.colab.kernel.invokeFunction('convertToInteractive',\n",
              "                                                     [key], {});\n",
              "          if (!dataTable) return;\n",
              "\n",
              "          const docLinkHtml = 'Like what you see? Visit the ' +\n",
              "            '<a target=\"_blank\" href=https://colab.research.google.com/notebooks/data_table.ipynb>data table notebook</a>'\n",
              "            + ' to learn more about interactive tables.';\n",
              "          element.innerHTML = '';\n",
              "          dataTable['output_type'] = 'display_data';\n",
              "          await google.colab.output.renderOutput(dataTable, element);\n",
              "          const docLink = document.createElement('div');\n",
              "          docLink.innerHTML = docLinkHtml;\n",
              "          element.appendChild(docLink);\n",
              "        }\n",
              "      </script>\n",
              "    </div>\n",
              "  </div>\n",
              "  "
            ]
          },
          "metadata": {},
          "execution_count": 20
        }
      ]
    },
    {
      "cell_type": "markdown",
      "source": [
        "### **Pipelines**"
      ],
      "metadata": {
        "id": "jW9jPJYsHVRo"
      }
    },
    {
      "cell_type": "markdown",
      "source": [
        "#### **Data Skewness**\n",
        "\n",
        "Numerical scaler that will be used is MinMaxScaler because of data skewnesses are more than 0.5, which is not even Normal at all."
      ],
      "metadata": {
        "id": "2ZnShVNBHbg9"
      }
    },
    {
      "cell_type": "code",
      "source": [
        "X_train.skew()"
      ],
      "metadata": {
        "colab": {
          "base_uri": "https://localhost:8080/"
        },
        "id": "46-bR3LFHjtK",
        "outputId": "7f805eb7-5dbc-4d82-a90f-b1a6ed5a2eff"
      },
      "execution_count": null,
      "outputs": [
        {
          "output_type": "execute_result",
          "data": {
            "text/plain": [
              "Present    0.744155\n",
              "Next       0.710424\n",
              "dtype: float64"
            ]
          },
          "metadata": {},
          "execution_count": 21
        }
      ]
    },
    {
      "cell_type": "markdown",
      "source": [
        "#### **Making Pipelines**"
      ],
      "metadata": {
        "id": "dTQc78wBHuhn"
      }
    },
    {
      "cell_type": "code",
      "source": [
        "num_columns = ['Present', 'Next']\n",
        "print('Numerical columns  : ', num_columns)"
      ],
      "metadata": {
        "colab": {
          "base_uri": "https://localhost:8080/"
        },
        "id": "FLo6oc43PReU",
        "outputId": "c9da77f9-9c06-4462-f1a9-65b019458fe0"
      },
      "execution_count": null,
      "outputs": [
        {
          "output_type": "stream",
          "name": "stdout",
          "text": [
            "Numerical columns  :  ['Present', 'Next']\n"
          ]
        }
      ]
    },
    {
      "cell_type": "code",
      "source": [
        "# Preprocessing for numerical data\n",
        "numerical_pipe = Pipeline(steps=\n",
        "                          [('scaler', MinMaxScaler())])\n",
        "\n",
        "# Bundle preprocessing for numerical and categorical data\n",
        "preprocessor = ColumnTransformer(\n",
        "    transformers=[\n",
        "        ('num', numerical_pipe, num_columns)\n",
        "    ])\n",
        "preprocessor"
      ],
      "metadata": {
        "colab": {
          "base_uri": "https://localhost:8080/"
        },
        "id": "_2ssNTMrHZWD",
        "outputId": "983d7078-65f8-4c95-d0d9-10bd23f56e8c"
      },
      "execution_count": null,
      "outputs": [
        {
          "output_type": "execute_result",
          "data": {
            "text/plain": [
              "ColumnTransformer(transformers=[('num',\n",
              "                                 Pipeline(steps=[('scaler', MinMaxScaler())]),\n",
              "                                 ['Present', 'Next'])])"
            ]
          },
          "metadata": {},
          "execution_count": 23
        }
      ]
    },
    {
      "cell_type": "markdown",
      "source": [
        "## **Model Definition**\n",
        "\n",
        "1. Regression (Linear Regression): to find the predicted value\n",
        "2. Classification (Logistic Regression, SVC, Decision Tree, and Ensambles Learning)"
      ],
      "metadata": {
        "id": "uR1IN_B-JDE7"
      }
    },
    {
      "cell_type": "markdown",
      "source": [
        "### **Liniear Regression**"
      ],
      "metadata": {
        "id": "t3QVsf-IJU9r"
      }
    },
    {
      "cell_type": "code",
      "source": [],
      "metadata": {
        "id": "QdxDg3HBJF7K"
      },
      "execution_count": null,
      "outputs": []
    },
    {
      "cell_type": "markdown",
      "source": [
        "### **Classification**"
      ],
      "metadata": {
        "id": "eknoMSvFJb_J"
      }
    },
    {
      "cell_type": "markdown",
      "source": [
        "#### **Logistic Regression**"
      ],
      "metadata": {
        "id": "xHn9NgcRJeDS"
      }
    },
    {
      "cell_type": "code",
      "source": [
        "# Defining Logistic Regression\n",
        "logreg = LogisticRegression(random_state=3)"
      ],
      "metadata": {
        "id": "ocOBdgBLJgRS"
      },
      "execution_count": null,
      "outputs": []
    },
    {
      "cell_type": "code",
      "source": [
        "# Bundle preprocessing and modeling code in a pipeline\n",
        "pipe_log = Pipeline(steps=[('preprocessor', preprocessor),\n",
        "                           ('logreg', logreg)\n",
        "                             ])\n",
        "\n",
        "pipe_log"
      ],
      "metadata": {
        "colab": {
          "base_uri": "https://localhost:8080/"
        },
        "id": "R-q9iKyMJr2l",
        "outputId": "2baf5d69-6adc-4c38-c47a-5ae1c007b630"
      },
      "execution_count": null,
      "outputs": [
        {
          "output_type": "execute_result",
          "data": {
            "text/plain": [
              "Pipeline(steps=[('preprocessor',\n",
              "                 ColumnTransformer(transformers=[('num',\n",
              "                                                  Pipeline(steps=[('scaler',\n",
              "                                                                   MinMaxScaler())]),\n",
              "                                                  ['Present', 'Next'])])),\n",
              "                ('logreg', LogisticRegression(random_state=3))])"
            ]
          },
          "metadata": {},
          "execution_count": 25
        }
      ]
    },
    {
      "cell_type": "markdown",
      "source": [
        "#### **SVC**"
      ],
      "metadata": {
        "id": "lhCtsWn1Jvas"
      }
    },
    {
      "cell_type": "code",
      "source": [
        "# SVC Classifier model\n",
        "svm = SVC(random_state=3)"
      ],
      "metadata": {
        "id": "I08b1RT_J237"
      },
      "execution_count": null,
      "outputs": []
    },
    {
      "cell_type": "code",
      "source": [
        "# Bundle preprocessing and modeling code in a pipeline\n",
        "pipe_svm = Pipeline(steps=[('preprocessor', preprocessor),\n",
        "                           ('svm', svm)\n",
        "                             ])\n",
        "\n",
        "pipe_svm"
      ],
      "metadata": {
        "colab": {
          "base_uri": "https://localhost:8080/"
        },
        "id": "1jPsb60mJ9kH",
        "outputId": "a36c2eac-68cb-42bd-e38b-7e6f7b124606"
      },
      "execution_count": null,
      "outputs": [
        {
          "output_type": "execute_result",
          "data": {
            "text/plain": [
              "Pipeline(steps=[('preprocessor',\n",
              "                 ColumnTransformer(transformers=[('num',\n",
              "                                                  Pipeline(steps=[('scaler',\n",
              "                                                                   MinMaxScaler())]),\n",
              "                                                  ['Present', 'Next'])])),\n",
              "                ('svm', SVC(random_state=3))])"
            ]
          },
          "metadata": {},
          "execution_count": 27
        }
      ]
    },
    {
      "cell_type": "markdown",
      "source": [
        "#### **Decision Tree**"
      ],
      "metadata": {
        "id": "h5t7xoVmJ-xA"
      }
    },
    {
      "cell_type": "code",
      "source": [
        "# Defining DecisionTreeClassifier\n",
        "dt = DecisionTreeClassifier(random_state=3)"
      ],
      "metadata": {
        "id": "FzmH9fsmKB-L"
      },
      "execution_count": null,
      "outputs": []
    },
    {
      "cell_type": "code",
      "source": [
        "# Bundle preprocessing and modeling code in a pipeline\n",
        "pipe_dt = Pipeline(steps=[('preprocessor', preprocessor),\n",
        "                           ('dt', dt)\n",
        "                             ])\n",
        "\n",
        "pipe_dt"
      ],
      "metadata": {
        "colab": {
          "base_uri": "https://localhost:8080/"
        },
        "id": "szV26-ScKGha",
        "outputId": "25d3b31f-7161-4268-896a-5b5be291a42b"
      },
      "execution_count": null,
      "outputs": [
        {
          "output_type": "execute_result",
          "data": {
            "text/plain": [
              "Pipeline(steps=[('preprocessor',\n",
              "                 ColumnTransformer(transformers=[('num',\n",
              "                                                  Pipeline(steps=[('scaler',\n",
              "                                                                   MinMaxScaler())]),\n",
              "                                                  ['Present', 'Next'])])),\n",
              "                ('dt', DecisionTreeClassifier(random_state=3))])"
            ]
          },
          "metadata": {},
          "execution_count": 29
        }
      ]
    },
    {
      "cell_type": "markdown",
      "source": [
        "#### **Ensambles Learning: Random Forest**"
      ],
      "metadata": {
        "id": "iuI8M_lYKHoz"
      }
    },
    {
      "cell_type": "code",
      "source": [
        "# Define RandomForestClassifier \n",
        "rfc = RandomForestClassifier(random_state=3)"
      ],
      "metadata": {
        "id": "7SpjCBQkKLKi"
      },
      "execution_count": null,
      "outputs": []
    },
    {
      "cell_type": "code",
      "source": [
        "# Bundle preprocessing and modeling code in a pipeline\n",
        "pipe_rfc = Pipeline(steps=[('preprocessor', preprocessor),\n",
        "                           ('rfc', rfc)\n",
        "                             ])\n",
        "\n",
        "pipe_rfc"
      ],
      "metadata": {
        "colab": {
          "base_uri": "https://localhost:8080/"
        },
        "id": "k3CTHAbvKORI",
        "outputId": "9f7a0539-fd94-4bcf-f945-f49fb98dd7ee"
      },
      "execution_count": null,
      "outputs": [
        {
          "output_type": "execute_result",
          "data": {
            "text/plain": [
              "Pipeline(steps=[('preprocessor',\n",
              "                 ColumnTransformer(transformers=[('num',\n",
              "                                                  Pipeline(steps=[('scaler',\n",
              "                                                                   MinMaxScaler())]),\n",
              "                                                  ['Present', 'Next'])])),\n",
              "                ('rfc', RandomForestClassifier(random_state=3))])"
            ]
          },
          "metadata": {},
          "execution_count": 31
        }
      ]
    },
    {
      "cell_type": "markdown",
      "source": [
        "## **Model Training**"
      ],
      "metadata": {
        "id": "OXWnyfk8KP9N"
      }
    },
    {
      "cell_type": "markdown",
      "source": [
        "### **Linear Regression**"
      ],
      "metadata": {
        "id": "WtwJ7KnTKSgM"
      }
    },
    {
      "cell_type": "code",
      "source": [],
      "metadata": {
        "id": "0M_ufr3UKVw-"
      },
      "execution_count": null,
      "outputs": []
    },
    {
      "cell_type": "markdown",
      "source": [
        "### **Classification**"
      ],
      "metadata": {
        "id": "yeJ_typvKV_3"
      }
    },
    {
      "cell_type": "markdown",
      "source": [
        "#### **Logistic Regression**"
      ],
      "metadata": {
        "id": "rGmNLM4oKYjl"
      }
    },
    {
      "cell_type": "code",
      "source": [
        "# Default Parameters\n",
        "# Fit model \n",
        "pipe_log.fit(X_train, y_train)\n",
        "\n",
        "# Prediction, using X_train\n",
        "y_train_log = pipe_log.predict(X_train)\n",
        "\n",
        "# Prediction, using X_test\n",
        "y_test_log = pipe_log.predict(X_test)"
      ],
      "metadata": {
        "id": "lF_AmibLKX7N"
      },
      "execution_count": null,
      "outputs": []
    },
    {
      "cell_type": "markdown",
      "source": [
        "**Cross-Validation**"
      ],
      "metadata": {
        "id": "nhpcmqc3QyKU"
      }
    },
    {
      "cell_type": "code",
      "source": [
        "# Cross Validation using `cross_val_score` for train set\n",
        "train_cross_val = cross_val_score(pipe_log, \n",
        "                                  X, \n",
        "                                  y, \n",
        "                                  cv=5, \n",
        "                                  scoring='f1')\n",
        "\n",
        "print(\"Accuracy Score All - Cross Validation :\", train_cross_val)\n",
        "print(\"Mean - Cross-Validation               :\", train_cross_val.mean())\n",
        "print(\"Standard Deviation Cross-Validation   :\", train_cross_val.std())"
      ],
      "metadata": {
        "colab": {
          "base_uri": "https://localhost:8080/"
        },
        "id": "CCFnDqC0QzqY",
        "outputId": "9aaf197f-d5ac-4896-eef8-de0302b279be"
      },
      "execution_count": null,
      "outputs": [
        {
          "output_type": "stream",
          "name": "stdout",
          "text": [
            "Accuracy Score All - Cross Validation : [0.         0.         0.70588235 0.9        0.81818182]\n",
            "Mean - Cross-Validation               : 0.48481283422459887\n",
            "Standard Deviation Cross-Validation   : 0.4006180132377063\n"
          ]
        }
      ]
    },
    {
      "cell_type": "markdown",
      "source": [
        "**Hyperparameter Tuning**"
      ],
      "metadata": {
        "id": "2pviaF04Rr4s"
      }
    },
    {
      "cell_type": "code",
      "source": [
        "# Define Hyperparameters for LogReg\n",
        "solver = ['newton-cg', 'lbfgs', 'liblinear', 'sag', 'saga']\n",
        "max_iter = [int(x) for x in np.linspace(start=10, stop=100, num = 7)]\n",
        "penalty = ['l1', 'l2', 'elasticnet', 'none']\n",
        "\n",
        "param_grid_log = {'logreg__solver': solver,\n",
        "              'logreg__max_iter':max_iter,\n",
        "              'logreg__penalty': penalty}\n",
        "param_grid_log"
      ],
      "metadata": {
        "colab": {
          "base_uri": "https://localhost:8080/"
        },
        "id": "IBb3StdVRtez",
        "outputId": "b01d4b59-7dd2-4066-c033-3302fb0cb748"
      },
      "execution_count": null,
      "outputs": [
        {
          "output_type": "execute_result",
          "data": {
            "text/plain": [
              "{'logreg__solver': ['newton-cg', 'lbfgs', 'liblinear', 'sag', 'saga'],\n",
              " 'logreg__max_iter': [10, 25, 40, 55, 70, 85, 100],\n",
              " 'logreg__penalty': ['l1', 'l2', 'elasticnet', 'none']}"
            ]
          },
          "metadata": {},
          "execution_count": 34
        }
      ]
    },
    {
      "cell_type": "code",
      "source": [
        "# Train with Grid Search\n",
        "%%time\n",
        "logreg_gridcv = GridSearchCV(pipe_log,\n",
        "                          param_grid_log,\n",
        "                          n_jobs=-1,\n",
        "                          verbose=2,\n",
        "                          scoring='f1')\n",
        "\n",
        "logreg_gridcv.fit(X_train, y_train)"
      ],
      "metadata": {
        "colab": {
          "base_uri": "https://localhost:8080/"
        },
        "id": "D8Rgjy-GR1B8",
        "outputId": "55fd5377-3bb9-4479-bd92-ba724d9391f0"
      },
      "execution_count": null,
      "outputs": [
        {
          "output_type": "stream",
          "name": "stdout",
          "text": [
            "Fitting 5 folds for each of 140 candidates, totalling 700 fits\n",
            "CPU times: user 990 ms, sys: 79.3 ms, total: 1.07 s\n",
            "Wall time: 10.6 s\n"
          ]
        },
        {
          "output_type": "execute_result",
          "data": {
            "text/plain": [
              "GridSearchCV(estimator=Pipeline(steps=[('preprocessor',\n",
              "                                        ColumnTransformer(transformers=[('num',\n",
              "                                                                         Pipeline(steps=[('scaler',\n",
              "                                                                                          MinMaxScaler())]),\n",
              "                                                                         ['Present',\n",
              "                                                                          'Next'])])),\n",
              "                                       ('logreg',\n",
              "                                        LogisticRegression(random_state=3))]),\n",
              "             n_jobs=-1,\n",
              "             param_grid={'logreg__max_iter': [10, 25, 40, 55, 70, 85, 100],\n",
              "                         'logreg__penalty': ['l1', 'l2', 'elasticnet', 'none'],\n",
              "                         'logreg__solver': ['newton-cg', 'lbfgs', 'liblinear',\n",
              "                                            'sag', 'saga']},\n",
              "             scoring='f1', verbose=2)"
            ]
          },
          "metadata": {},
          "execution_count": 35
        }
      ]
    },
    {
      "cell_type": "code",
      "source": [
        "# Display Best Hyperparamters from Grid Search for Train Set\n",
        "logreg_gridcv.best_params_"
      ],
      "metadata": {
        "colab": {
          "base_uri": "https://localhost:8080/"
        },
        "id": "juRw9zRKR7Sq",
        "outputId": "3d2f49ae-eb49-46f1-d96f-fdfe93450816"
      },
      "execution_count": null,
      "outputs": [
        {
          "output_type": "execute_result",
          "data": {
            "text/plain": [
              "{'logreg__max_iter': 40, 'logreg__penalty': 'none', 'logreg__solver': 'lbfgs'}"
            ]
          },
          "metadata": {},
          "execution_count": 36
        }
      ]
    },
    {
      "cell_type": "markdown",
      "source": [
        "**Redefine Model**"
      ],
      "metadata": {
        "id": "XrkN_WzdR-_W"
      }
    },
    {
      "cell_type": "code",
      "source": [
        "# Redefining Logistic Regression with best estimator\n",
        "logreg_gridcv_best = logreg_gridcv.best_estimator_"
      ],
      "metadata": {
        "id": "icBNmz43SA3q"
      },
      "execution_count": null,
      "outputs": []
    },
    {
      "cell_type": "code",
      "source": [
        "# Prediction Final\n",
        "y_train_log_final = logreg_gridcv_best.predict(X_train)\n",
        "y_test_log_final = logreg_gridcv_best.predict(X_test)"
      ],
      "metadata": {
        "id": "TluIW3wgSDGB"
      },
      "execution_count": null,
      "outputs": []
    },
    {
      "cell_type": "markdown",
      "source": [
        "#### **SVC**"
      ],
      "metadata": {
        "id": "7WLUbEh8Qneh"
      }
    },
    {
      "cell_type": "code",
      "source": [
        "# Default Parameters\n",
        "# Fit model \n",
        "pipe_svm.fit(X_train, y_train)\n",
        "\n",
        "# Prediction, using X_train\n",
        "y_train_svm = pipe_svm.predict(X_train)\n",
        "\n",
        "# Prediction, using X_test\n",
        "y_test_svm = pipe_svm.predict(X_test)"
      ],
      "metadata": {
        "id": "nNSydEinQosf"
      },
      "execution_count": null,
      "outputs": []
    },
    {
      "cell_type": "markdown",
      "source": [
        "**Cross-validation**"
      ],
      "metadata": {
        "id": "RJN9RKaxREeH"
      }
    },
    {
      "cell_type": "code",
      "source": [
        "# Cross Validation using `cross_val_score` for train set\n",
        "train_cross_val = cross_val_score(pipe_svm, \n",
        "                                  X, \n",
        "                                  y, \n",
        "                                  cv=5, \n",
        "                                  scoring='f1')\n",
        "\n",
        "print(\"Accuracy Score All - Cross Validation :\", train_cross_val)\n",
        "print(\"Mean - Cross-Validation               :\", train_cross_val.mean())\n",
        "print(\"Standard Deviation Cross-Validation   :\", train_cross_val.std())"
      ],
      "metadata": {
        "colab": {
          "base_uri": "https://localhost:8080/"
        },
        "id": "d4Z7kzEdRG_c",
        "outputId": "1e30a5d7-e7fb-4393-8b66-2a51afa7c898"
      },
      "execution_count": null,
      "outputs": [
        {
          "output_type": "stream",
          "name": "stdout",
          "text": [
            "Accuracy Score All - Cross Validation : [0.         0.         0.30769231 0.9        0.2       ]\n",
            "Mean - Cross-Validation               : 0.2815384615384615\n",
            "Standard Deviation Cross-Validation   : 0.3311661303895067\n"
          ]
        }
      ]
    },
    {
      "cell_type": "markdown",
      "source": [
        "**Hyperparameter Tuning**"
      ],
      "metadata": {
        "id": "j449RtmdScvm"
      }
    },
    {
      "cell_type": "code",
      "source": [
        "# Define Hyperparameters\n",
        "C = [int(x) for x in np.linspace(start=10, stop=100, num = 7)]\n",
        "kernel = ['linear', 'poly', 'rbf', 'sigmoid', 'precomputed']\n",
        "gamma = ['scale', 'auto']\n",
        "decision_function_shape = ['ovo', 'ovr']\n",
        "\n",
        "param_grid_svm = {'svm__C': C,\n",
        "              'svm__kernel':kernel,\n",
        "              'svm__gamma': gamma,\n",
        "              'svm__decision_function_shape': decision_function_shape}\n",
        "param_grid_svm"
      ],
      "metadata": {
        "colab": {
          "base_uri": "https://localhost:8080/"
        },
        "id": "Qrct7df5SdGp",
        "outputId": "1386a5bf-40f0-467c-e662-58c54807492d"
      },
      "execution_count": null,
      "outputs": [
        {
          "output_type": "execute_result",
          "data": {
            "text/plain": [
              "{'svm__C': [10, 25, 40, 55, 70, 85, 100],\n",
              " 'svm__kernel': ['linear', 'poly', 'rbf', 'sigmoid', 'precomputed'],\n",
              " 'svm__gamma': ['scale', 'auto'],\n",
              " 'svm__decision_function_shape': ['ovo', 'ovr']}"
            ]
          },
          "metadata": {},
          "execution_count": 41
        }
      ]
    },
    {
      "cell_type": "code",
      "source": [
        "# Train with Grid Search\n",
        "%%time\n",
        "svm_gridcv = GridSearchCV(pipe_svm,\n",
        "                          param_grid_svm,\n",
        "                          n_jobs=-1,\n",
        "                          verbose=2,\n",
        "                          scoring='f1')\n",
        "\n",
        "svm_gridcv.fit(X_train, y_train)"
      ],
      "metadata": {
        "colab": {
          "base_uri": "https://localhost:8080/"
        },
        "id": "KoVlXD8ASiXl",
        "outputId": "21cbd4ff-ceb5-4596-e65d-39249edd6a16"
      },
      "execution_count": null,
      "outputs": [
        {
          "output_type": "stream",
          "name": "stdout",
          "text": [
            "Fitting 5 folds for each of 140 candidates, totalling 700 fits\n",
            "CPU times: user 986 ms, sys: 24.3 ms, total: 1.01 s\n",
            "Wall time: 8.82 s\n"
          ]
        },
        {
          "output_type": "execute_result",
          "data": {
            "text/plain": [
              "GridSearchCV(estimator=Pipeline(steps=[('preprocessor',\n",
              "                                        ColumnTransformer(transformers=[('num',\n",
              "                                                                         Pipeline(steps=[('scaler',\n",
              "                                                                                          MinMaxScaler())]),\n",
              "                                                                         ['Present',\n",
              "                                                                          'Next'])])),\n",
              "                                       ('svm', SVC(random_state=3))]),\n",
              "             n_jobs=-1,\n",
              "             param_grid={'svm__C': [10, 25, 40, 55, 70, 85, 100],\n",
              "                         'svm__decision_function_shape': ['ovo', 'ovr'],\n",
              "                         'svm__gamma': ['scale', 'auto'],\n",
              "                         'svm__kernel': ['linear', 'poly', 'rbf', 'sigmoid',\n",
              "                                         'precomputed']},\n",
              "             scoring='f1', verbose=2)"
            ]
          },
          "metadata": {},
          "execution_count": 42
        }
      ]
    },
    {
      "cell_type": "code",
      "source": [
        "# Display Best Hyperparamters from Grid Search for Train Set\n",
        "svm_gridcv.best_params_"
      ],
      "metadata": {
        "colab": {
          "base_uri": "https://localhost:8080/"
        },
        "id": "dZDyyf_oSmYd",
        "outputId": "7b98a900-4682-4830-f407-c4afc25d6b7b"
      },
      "execution_count": null,
      "outputs": [
        {
          "output_type": "execute_result",
          "data": {
            "text/plain": [
              "{'svm__C': 85,\n",
              " 'svm__decision_function_shape': 'ovo',\n",
              " 'svm__gamma': 'scale',\n",
              " 'svm__kernel': 'rbf'}"
            ]
          },
          "metadata": {},
          "execution_count": 43
        }
      ]
    },
    {
      "cell_type": "markdown",
      "source": [
        "**Redefine Model**"
      ],
      "metadata": {
        "id": "donOqCwHSrOz"
      }
    },
    {
      "cell_type": "code",
      "source": [
        "# Redefining Logistic Regression with best estimator\n",
        "svm_gridcv_best = svm_gridcv.best_estimator_"
      ],
      "metadata": {
        "id": "8YgLWMu_Ssdy"
      },
      "execution_count": null,
      "outputs": []
    },
    {
      "cell_type": "code",
      "source": [
        "# Prediction Final\n",
        "y_train_svm_final = svm_gridcv_best.predict(X_train)\n",
        "y_test_svm_final = svm_gridcv_best.predict(X_test)"
      ],
      "metadata": {
        "id": "p2juAgwYStZg"
      },
      "execution_count": null,
      "outputs": []
    },
    {
      "cell_type": "markdown",
      "source": [
        "#### **Decision Tree**"
      ],
      "metadata": {
        "id": "gFNTfvRDRNPP"
      }
    },
    {
      "cell_type": "code",
      "source": [
        "# Default Parameters\n",
        "# Fit model \n",
        "pipe_dt.fit(X_train, y_train)\n",
        "\n",
        "# Prediction, using X_train\n",
        "y_train_dt = pipe_dt.predict(X_train)\n",
        "\n",
        "# Prediction, using X_test\n",
        "y_test_dt = pipe_dt.predict(X_test)"
      ],
      "metadata": {
        "id": "vu2CTWpkRPZd"
      },
      "execution_count": null,
      "outputs": []
    },
    {
      "cell_type": "markdown",
      "source": [
        "**Cross-validation**"
      ],
      "metadata": {
        "id": "zWfzOzf7RQ6f"
      }
    },
    {
      "cell_type": "code",
      "source": [
        "# Cross Validation using `cross_val_score` for train set\n",
        "train_cross_val = cross_val_score(pipe_dt, \n",
        "                                  X, \n",
        "                                  y, \n",
        "                                  cv=5, \n",
        "                                  scoring='f1')\n",
        "\n",
        "print(\"Accuracy Score All - Cross Validation :\", train_cross_val)\n",
        "print(\"Mean - Cross-Validation               :\", train_cross_val.mean())\n",
        "print(\"Standard Deviation Cross-Validation   :\", train_cross_val.std())"
      ],
      "metadata": {
        "colab": {
          "base_uri": "https://localhost:8080/"
        },
        "id": "vob377v_RSvv",
        "outputId": "1c85b5e4-5737-43e0-cf5e-b15306a53e19"
      },
      "execution_count": null,
      "outputs": [
        {
          "output_type": "stream",
          "name": "stdout",
          "text": [
            "Accuracy Score All - Cross Validation : [0.         0.         0.         0.42857143 0.        ]\n",
            "Mean - Cross-Validation               : 0.08571428571428572\n",
            "Standard Deviation Cross-Validation   : 0.17142857142857143\n"
          ]
        }
      ]
    },
    {
      "cell_type": "markdown",
      "source": [
        "**Hyperparameter Tuning**"
      ],
      "metadata": {
        "id": "AkfNdKMUTIpe"
      }
    },
    {
      "cell_type": "code",
      "source": [
        "# Define Hyperparameters\n",
        "criterion = ['gini', 'entropy', 'log_loss']\n",
        "splitter = ['best', 'random']\n",
        "max_depth = [i for i in range(2, 12, 1)]\n",
        "min_samples_split = [i for i in range(2, 10, 2)]\n",
        "min_samples_leaf = [i for i in range(2, 10, 2)]\n",
        "\n",
        "param_grid_dt = {'dt__criterion': criterion,\n",
        "                  'dt__splitter': splitter,\n",
        "                  'dt__max_depth': max_depth,\n",
        "                  'dt__min_samples_split': min_samples_split,\n",
        "                  'dt__min_samples_leaf': min_samples_leaf}\n",
        "param_grid_dt"
      ],
      "metadata": {
        "colab": {
          "base_uri": "https://localhost:8080/"
        },
        "id": "furi4srKTLoc",
        "outputId": "95fd54bb-7322-46ea-e979-837e78855f99"
      },
      "execution_count": null,
      "outputs": [
        {
          "output_type": "execute_result",
          "data": {
            "text/plain": [
              "{'dt__criterion': ['gini', 'entropy', 'log_loss'],\n",
              " 'dt__splitter': ['best', 'random'],\n",
              " 'dt__max_depth': [2, 3, 4, 5, 6, 7, 8, 9, 10, 11],\n",
              " 'dt__min_samples_split': [2, 4, 6, 8],\n",
              " 'dt__min_samples_leaf': [2, 4, 6, 8]}"
            ]
          },
          "metadata": {},
          "execution_count": 48
        }
      ]
    },
    {
      "cell_type": "code",
      "source": [
        "# Train with Grid Search\n",
        "%%time\n",
        "dt_gridcv = GridSearchCV(pipe_dt,\n",
        "                          param_grid_dt,\n",
        "                          n_jobs=-1,\n",
        "                          verbose=2,\n",
        "                          scoring='f1')\n",
        "\n",
        "dt_gridcv.fit(X_train, y_train)"
      ],
      "metadata": {
        "colab": {
          "base_uri": "https://localhost:8080/"
        },
        "id": "dYKdwCSUTPpU",
        "outputId": "184ea1d5-6dde-4d56-a36e-8ad2308a6e64"
      },
      "execution_count": null,
      "outputs": [
        {
          "output_type": "stream",
          "name": "stdout",
          "text": [
            "Fitting 5 folds for each of 960 candidates, totalling 4800 fits\n",
            "CPU times: user 5.88 s, sys: 102 ms, total: 5.98 s\n",
            "Wall time: 36.2 s\n"
          ]
        },
        {
          "output_type": "execute_result",
          "data": {
            "text/plain": [
              "GridSearchCV(estimator=Pipeline(steps=[('preprocessor',\n",
              "                                        ColumnTransformer(transformers=[('num',\n",
              "                                                                         Pipeline(steps=[('scaler',\n",
              "                                                                                          MinMaxScaler())]),\n",
              "                                                                         ['Present',\n",
              "                                                                          'Next'])])),\n",
              "                                       ('dt',\n",
              "                                        DecisionTreeClassifier(random_state=3))]),\n",
              "             n_jobs=-1,\n",
              "             param_grid={'dt__criterion': ['gini', 'entropy', 'log_loss'],\n",
              "                         'dt__max_depth': [2, 3, 4, 5, 6, 7, 8, 9, 10, 11],\n",
              "                         'dt__min_samples_leaf': [2, 4, 6, 8],\n",
              "                         'dt__min_samples_split': [2, 4, 6, 8],\n",
              "                         'dt__splitter': ['best', 'random']},\n",
              "             scoring='f1', verbose=2)"
            ]
          },
          "metadata": {},
          "execution_count": 49
        }
      ]
    },
    {
      "cell_type": "code",
      "source": [
        "# Display Best Hyperparamters from Grid Search for Train Set\n",
        "dt_gridcv.best_params_"
      ],
      "metadata": {
        "colab": {
          "base_uri": "https://localhost:8080/"
        },
        "id": "kFXohtu8TSDO",
        "outputId": "8a5074fd-a5bb-449c-8863-983d8f81a9a1"
      },
      "execution_count": null,
      "outputs": [
        {
          "output_type": "execute_result",
          "data": {
            "text/plain": [
              "{'dt__criterion': 'entropy',\n",
              " 'dt__max_depth': 4,\n",
              " 'dt__min_samples_leaf': 8,\n",
              " 'dt__min_samples_split': 2,\n",
              " 'dt__splitter': 'best'}"
            ]
          },
          "metadata": {},
          "execution_count": 50
        }
      ]
    },
    {
      "cell_type": "markdown",
      "source": [
        "**Redefine Model**"
      ],
      "metadata": {
        "id": "Py2mxWWlTSnC"
      }
    },
    {
      "cell_type": "code",
      "source": [
        "# Redefining Logistic Regression with best estimator\n",
        "dt_gridcv_best = dt_gridcv.best_estimator_"
      ],
      "metadata": {
        "id": "inNv0lPSTUGB"
      },
      "execution_count": null,
      "outputs": []
    },
    {
      "cell_type": "code",
      "source": [
        "# Prediction Final\n",
        "y_train_dt_final = dt_gridcv_best.predict(X_train)\n",
        "y_test_dt_final = dt_gridcv_best.predict(X_test)"
      ],
      "metadata": {
        "id": "B4tsu20BTWNa"
      },
      "execution_count": null,
      "outputs": []
    },
    {
      "cell_type": "markdown",
      "source": [
        "#### **Random Forest**"
      ],
      "metadata": {
        "id": "NKUCoxB7RXsv"
      }
    },
    {
      "cell_type": "code",
      "source": [
        "# Default Parameters\n",
        "# Fit model \n",
        "pipe_rfc.fit(X_train, y_train)\n",
        "\n",
        "# Prediction, using X_train\n",
        "y_train_rfc = pipe_rfc.predict(X_train)\n",
        "\n",
        "# Prediction, using X_test\n",
        "y_test_rfc = pipe_rfc.predict(X_test)"
      ],
      "metadata": {
        "id": "LhbMbJ8NRZ0R"
      },
      "execution_count": null,
      "outputs": []
    },
    {
      "cell_type": "code",
      "source": [
        "# Cross Validation using `cross_val_score` for train set\n",
        "train_cross_val = cross_val_score(pipe_rfc, \n",
        "                                  X, \n",
        "                                  y, \n",
        "                                  cv=5, \n",
        "                                  scoring='f1')\n",
        "\n",
        "print(\"Accuracy Score All - Cross Validation :\", train_cross_val)\n",
        "print(\"Mean - Cross-Validation               :\", train_cross_val.mean())\n",
        "print(\"Standard Deviation Cross-Validation   :\", train_cross_val.std())"
      ],
      "metadata": {
        "colab": {
          "base_uri": "https://localhost:8080/"
        },
        "id": "OvZtzH7RRcK-",
        "outputId": "85ff03a1-c6e3-4415-a50c-bc3c9acc77f2"
      },
      "execution_count": null,
      "outputs": [
        {
          "output_type": "stream",
          "name": "stdout",
          "text": [
            "Accuracy Score All - Cross Validation : [0.         0.         0.         0.42857143 0.        ]\n",
            "Mean - Cross-Validation               : 0.08571428571428572\n",
            "Standard Deviation Cross-Validation   : 0.17142857142857143\n"
          ]
        }
      ]
    },
    {
      "cell_type": "markdown",
      "source": [
        "**Hyperparameter Tuning**"
      ],
      "metadata": {
        "id": "7pjMH2I4Tj0T"
      }
    },
    {
      "cell_type": "code",
      "source": [
        "# Define Hyperparameters\n",
        "n_estimators = [int(x) for x in np.linspace(start = 10, stop = 50, num = 5)]\n",
        "max_features = ['auto', 'sqrt']\n",
        "max_depth = [int(x) for x in np.linspace(2, 10, num = 5)]\n",
        "min_samples_leaf = [int(x) for x in np.linspace(3, 6, num = 4)]\n",
        "min_samples_split = [2, 6, 10]\n",
        "bootstrap = [True, False]\n",
        "\n",
        "param_grid_rfc = {'rfc__n_estimators': n_estimators,\n",
        "               'rfc__max_features': max_features,\n",
        "               'rfc__max_depth': max_depth,\n",
        "               'rfc__min_samples_leaf': min_samples_leaf,\n",
        "               'rfc__criterion':['entropy','gini'],\n",
        "               'rfc__bootstrap': bootstrap}\n",
        "param_grid_rfc"
      ],
      "metadata": {
        "colab": {
          "base_uri": "https://localhost:8080/"
        },
        "id": "FBz9papZTlba",
        "outputId": "6dc1e267-a1b0-475a-f3db-c1ac3e620396"
      },
      "execution_count": null,
      "outputs": [
        {
          "output_type": "execute_result",
          "data": {
            "text/plain": [
              "{'rfc__n_estimators': [10, 20, 30, 40, 50],\n",
              " 'rfc__max_features': ['auto', 'sqrt'],\n",
              " 'rfc__max_depth': [2, 4, 6, 8, 10],\n",
              " 'rfc__min_samples_leaf': [3, 4, 5, 6],\n",
              " 'rfc__criterion': ['entropy', 'gini'],\n",
              " 'rfc__bootstrap': [True, False]}"
            ]
          },
          "metadata": {},
          "execution_count": 55
        }
      ]
    },
    {
      "cell_type": "code",
      "source": [
        "# Train with Grid Search\n",
        "%%time\n",
        "rfc_gridcv = GridSearchCV(pipe_rfc,\n",
        "                          param_grid_rfc,\n",
        "                          n_jobs=-1,\n",
        "                          verbose=2,\n",
        "                          scoring='f1')\n",
        "\n",
        "rfc_gridcv.fit(X_train, y_train)"
      ],
      "metadata": {
        "colab": {
          "base_uri": "https://localhost:8080/"
        },
        "id": "o_enVKP8TsG9",
        "outputId": "cd9003e1-a46b-4837-ca9f-f765746b0258"
      },
      "execution_count": null,
      "outputs": [
        {
          "output_type": "stream",
          "name": "stdout",
          "text": [
            "Fitting 5 folds for each of 800 candidates, totalling 4000 fits\n",
            "CPU times: user 7.59 s, sys: 206 ms, total: 7.79 s\n",
            "Wall time: 2min 17s\n"
          ]
        },
        {
          "output_type": "execute_result",
          "data": {
            "text/plain": [
              "GridSearchCV(estimator=Pipeline(steps=[('preprocessor',\n",
              "                                        ColumnTransformer(transformers=[('num',\n",
              "                                                                         Pipeline(steps=[('scaler',\n",
              "                                                                                          MinMaxScaler())]),\n",
              "                                                                         ['Present',\n",
              "                                                                          'Next'])])),\n",
              "                                       ('rfc',\n",
              "                                        RandomForestClassifier(random_state=3))]),\n",
              "             n_jobs=-1,\n",
              "             param_grid={'rfc__bootstrap': [True, False],\n",
              "                         'rfc__criterion': ['entropy', 'gini'],\n",
              "                         'rfc__max_depth': [2, 4, 6, 8, 10],\n",
              "                         'rfc__max_features': ['auto', 'sqrt'],\n",
              "                         'rfc__min_samples_leaf': [3, 4, 5, 6],\n",
              "                         'rfc__n_estimators': [10, 20, 30, 40, 50]},\n",
              "             scoring='f1', verbose=2)"
            ]
          },
          "metadata": {},
          "execution_count": 56
        }
      ]
    },
    {
      "cell_type": "code",
      "source": [
        "# Display Best Hyperparamters from Grid Search for Train Set\n",
        "rfc_gridcv.best_params_"
      ],
      "metadata": {
        "colab": {
          "base_uri": "https://localhost:8080/"
        },
        "id": "S-WXmHhzTuZo",
        "outputId": "213b0bc4-eee3-490c-99df-fd2ce2aaf883"
      },
      "execution_count": null,
      "outputs": [
        {
          "output_type": "execute_result",
          "data": {
            "text/plain": [
              "{'rfc__bootstrap': False,\n",
              " 'rfc__criterion': 'gini',\n",
              " 'rfc__max_depth': 6,\n",
              " 'rfc__max_features': 'auto',\n",
              " 'rfc__min_samples_leaf': 5,\n",
              " 'rfc__n_estimators': 10}"
            ]
          },
          "metadata": {},
          "execution_count": 57
        }
      ]
    },
    {
      "cell_type": "markdown",
      "source": [
        "**Redefine Model**"
      ],
      "metadata": {
        "id": "TiUX75g0Tu9R"
      }
    },
    {
      "cell_type": "code",
      "source": [
        "# Redefining Logistic Regression with best estimator\n",
        "rfc_gridcv_best = svm_gridcv.best_estimator_"
      ],
      "metadata": {
        "id": "vZ-g_UusTwwl"
      },
      "execution_count": null,
      "outputs": []
    },
    {
      "cell_type": "code",
      "source": [
        "# Prediction Final\n",
        "y_train_rfc_final = rfc_gridcv_best.predict(X_train)\n",
        "y_test_rfc_final = rfc_gridcv_best.predict(X_test)"
      ],
      "metadata": {
        "id": "QFXhE8znTywS"
      },
      "execution_count": null,
      "outputs": []
    },
    {
      "cell_type": "markdown",
      "source": [
        "## **Model Evaluation**"
      ],
      "metadata": {
        "id": "DAD_JWFyXzxa"
      }
    },
    {
      "cell_type": "markdown",
      "source": [
        "### **Logistic Regression**"
      ],
      "metadata": {
        "id": "qJDf5rQMX7VE"
      }
    },
    {
      "cell_type": "code",
      "source": [
        "# Evaluating Train set (Default Parameter)\n",
        "print('Train Set (Defaul Parameter)')\n",
        "print('Accuracy - Train Set  : ', accuracy_score(y_train, y_train_log))\n",
        "print('F1 Score - Train Set  : ', f1_score(y_train, y_train_log), '\\n')\n",
        "print('Classification Report : \\n', classification_report(y_train, y_train_log), '\\n')"
      ],
      "metadata": {
        "colab": {
          "base_uri": "https://localhost:8080/"
        },
        "id": "0RFmB56uX2ZL",
        "outputId": "cf84e212-df2e-498d-9f7e-8f6004d75fc0"
      },
      "execution_count": null,
      "outputs": [
        {
          "output_type": "stream",
          "name": "stdout",
          "text": [
            "Train Set (Defaul Parameter)\n",
            "Accuracy - Train Set  :  0.6417910447761194\n",
            "F1 Score - Train Set  :  0.7000000000000001 \n",
            "\n",
            "Classification Report : \n",
            "               precision    recall  f1-score   support\n",
            "\n",
            "           0       0.62      0.50      0.56        30\n",
            "           1       0.65      0.76      0.70        37\n",
            "\n",
            "    accuracy                           0.64        67\n",
            "   macro avg       0.64      0.63      0.63        67\n",
            "weighted avg       0.64      0.64      0.64        67\n",
            " \n",
            "\n"
          ]
        }
      ]
    },
    {
      "cell_type": "code",
      "source": [
        "# Creating confusion matrix for train set (default parameter)\n",
        "print('Confusion Matrix Train Set LogReg (Default Parameter)')\n",
        "cm = confusion_matrix(y_train, y_train_log, labels=logreg.classes_)\n",
        "disp = ConfusionMatrixDisplay(confusion_matrix=cm,display_labels=logreg.classes_)\n",
        "\n",
        "matplotlib.rcParams['figure.figsize'] = (10,8)\n",
        "disp.plot()\n",
        "plt.show()\n",
        "     "
      ],
      "metadata": {
        "colab": {
          "base_uri": "https://localhost:8080/",
          "height": 514
        },
        "id": "aDMorrN7g0Qk",
        "outputId": "60c8ad7f-8002-4a05-f273-6d3c19a5f9f1"
      },
      "execution_count": null,
      "outputs": [
        {
          "output_type": "stream",
          "name": "stdout",
          "text": [
            "Confusion Matrix Train Set LogReg (Default Parameter)\n"
          ]
        },
        {
          "output_type": "display_data",
          "data": {
            "text/plain": [
              "<Figure size 720x576 with 2 Axes>"
            ],
            "image/png": "[encoded data removed]"
          },
          "metadata": {
            "needs_background": "light"
          }
        }
      ]
    },
    {
      "cell_type": "code",
      "source": [
        "# Evaluating Train set (Hyperparameter Tuned)\n",
        "print('Train Set (Hyperparameter Tuned)')\n",
        "print('Accuracy - Train Set  : ', accuracy_score(y_train, y_train_log_final),)\n",
        "print('F1 Score - Train Set  : ', f1_score(y_train, y_train_log_final), '\\n')\n",
        "print('Classification Report : \\n', classification_report(y_train, y_train_log_final), '\\n')"
      ],
      "metadata": {
        "colab": {
          "base_uri": "https://localhost:8080/"
        },
        "id": "Oo8L5g1Jgn-Z",
        "outputId": "66cb39eb-9a5d-4911-b857-47ba5f097630"
      },
      "execution_count": null,
      "outputs": [
        {
          "output_type": "stream",
          "name": "stdout",
          "text": [
            "Train Set (Hyperparameter Tuned)\n",
            "Accuracy - Train Set  :  1.0\n",
            "F1 Score - Train Set  :  1.0 \n",
            "\n",
            "Classification Report : \n",
            "               precision    recall  f1-score   support\n",
            "\n",
            "           0       1.00      1.00      1.00        30\n",
            "           1       1.00      1.00      1.00        37\n",
            "\n",
            "    accuracy                           1.00        67\n",
            "   macro avg       1.00      1.00      1.00        67\n",
            "weighted avg       1.00      1.00      1.00        67\n",
            " \n",
            "\n"
          ]
        }
      ]
    },
    {
      "cell_type": "code",
      "source": [
        "# Creating confusion matrix for train set (labels parameter)\n",
        "print('Confusion Matrix Train Set LogReg (Hyperparameter Tuned)')\n",
        "cm = confusion_matrix(y_train, y_train_log_final, labels=logreg.classes_)\n",
        "disp = ConfusionMatrixDisplay(confusion_matrix=cm,display_labels=logreg.classes_)\n",
        "\n",
        "matplotlib.rcParams['figure.figsize'] = (10,8)\n",
        "disp.plot()\n",
        "plt.show()\n",
        "     "
      ],
      "metadata": {
        "colab": {
          "base_uri": "https://localhost:8080/",
          "height": 514
        },
        "id": "Yes6Xy6xg5RA",
        "outputId": "3501b5ff-0578-451a-e3a6-ea1d5f2f6cbd"
      },
      "execution_count": null,
      "outputs": [
        {
          "output_type": "stream",
          "name": "stdout",
          "text": [
            "Confusion Matrix Train Set LogReg (Hyperparameter Tuned)\n"
          ]
        },
        {
          "output_type": "display_data",
          "data": {
            "text/plain": [
              "<Figure size 720x576 with 2 Axes>"
            ],
            "image/png": "[encoded data removed]"
          },
          "metadata": {
            "needs_background": "light"
          }
        }
      ]
    },
    {
      "cell_type": "markdown",
      "source": [
        "### **SVC**"
      ],
      "metadata": {
        "id": "PqQwm1Ffgj3b"
      }
    },
    {
      "cell_type": "code",
      "source": [
        "# Evaluating Train set (Default Parameter)\n",
        "print('Train Set (Defaul Parameter)')\n",
        "print('Accuracy - Train Set  : ', accuracy_score(y_train, y_train_svm))\n",
        "print('F1 Score - Train Set  : ', f1_score(y_train, y_train_svm), '\\n')\n",
        "print('Classification Report : \\n', classification_report(y_train, y_train_svm), '\\n')"
      ],
      "metadata": {
        "colab": {
          "base_uri": "https://localhost:8080/"
        },
        "id": "Jq-M6gvghA_g",
        "outputId": "e49664a4-4a59-4e3b-bfb0-11104aa21d50"
      },
      "execution_count": null,
      "outputs": [
        {
          "output_type": "stream",
          "name": "stdout",
          "text": [
            "Train Set (Defaul Parameter)\n",
            "Accuracy - Train Set  :  0.7014925373134329\n",
            "F1 Score - Train Set  :  0.6774193548387097 \n",
            "\n",
            "Classification Report : \n",
            "               precision    recall  f1-score   support\n",
            "\n",
            "           0       0.62      0.87      0.72        30\n",
            "           1       0.84      0.57      0.68        37\n",
            "\n",
            "    accuracy                           0.70        67\n",
            "   macro avg       0.73      0.72      0.70        67\n",
            "weighted avg       0.74      0.70      0.70        67\n",
            " \n",
            "\n"
          ]
        }
      ]
    },
    {
      "cell_type": "code",
      "source": [
        "# Creating confusion matrix for train set (default parameter)\n",
        "print('Confusion Matrix Train Set SVM (Default Parameter)')\n",
        "cm = confusion_matrix(y_train, y_train_svm, labels=svm.classes_)\n",
        "disp = ConfusionMatrixDisplay(confusion_matrix=cm,display_labels=svm.classes_)\n",
        "\n",
        "matplotlib.rcParams['figure.figsize'] = (10,8)\n",
        "disp.plot()\n",
        "plt.show()"
      ],
      "metadata": {
        "colab": {
          "base_uri": "https://localhost:8080/",
          "height": 514
        },
        "id": "15wXnsPZhIWm",
        "outputId": "98a5d0bb-8c33-4f98-cef5-5680ed9a1ebb"
      },
      "execution_count": null,
      "outputs": [
        {
          "output_type": "stream",
          "name": "stdout",
          "text": [
            "Confusion Matrix Train Set SVM (Default Parameter)\n"
          ]
        },
        {
          "output_type": "display_data",
          "data": {
            "text/plain": [
              "<Figure size 720x576 with 2 Axes>"
            ],
            "image/png": "[encoded data removed]"
          },
          "metadata": {
            "needs_background": "light"
          }
        }
      ]
    },
    {
      "cell_type": "code",
      "source": [
        "# Evaluating Train set (Hyperparameter Tuned)\n",
        "print('Train Set (Hyperparameter Tuned)')\n",
        "print('Accuracy - Train Set  : ', accuracy_score(y_train, y_train_svm_final),)\n",
        "print('F1 Score - Train Set  : ', f1_score(y_train, y_train_svm_final), '\\n')\n",
        "print('Classification Report : \\n', classification_report(y_train, y_train_svm_final), '\\n')\n",
        "     "
      ],
      "metadata": {
        "colab": {
          "base_uri": "https://localhost:8080/"
        },
        "id": "HrNbPFndhDVG",
        "outputId": "4f897bd6-f188-4e8a-bf57-a10fe3a06467"
      },
      "execution_count": null,
      "outputs": [
        {
          "output_type": "stream",
          "name": "stdout",
          "text": [
            "Train Set (Hyperparameter Tuned)\n",
            "Accuracy - Train Set  :  0.9701492537313433\n",
            "F1 Score - Train Set  :  0.9736842105263158 \n",
            "\n",
            "Classification Report : \n",
            "               precision    recall  f1-score   support\n",
            "\n",
            "           0       1.00      0.93      0.97        30\n",
            "           1       0.95      1.00      0.97        37\n",
            "\n",
            "    accuracy                           0.97        67\n",
            "   macro avg       0.97      0.97      0.97        67\n",
            "weighted avg       0.97      0.97      0.97        67\n",
            " \n",
            "\n"
          ]
        }
      ]
    },
    {
      "cell_type": "code",
      "source": [
        "# Creating confusion matrix for train set (hyperparameter tuned)\n",
        "print('Confusion Matrix Train Set SVM (Hyperparameter Tuned)')\n",
        "cm = confusion_matrix(y_train, y_train_svm_final, labels=svm.classes_)\n",
        "disp = ConfusionMatrixDisplay(confusion_matrix=cm,display_labels=svm.classes_)\n",
        "\n",
        "matplotlib.rcParams['figure.figsize'] = (10,8)\n",
        "disp.plot()\n",
        "plt.show()"
      ],
      "metadata": {
        "colab": {
          "base_uri": "https://localhost:8080/",
          "height": 514
        },
        "id": "hHLnf3fIhRJJ",
        "outputId": "0208f3b0-afe3-4a7d-9b71-dcb70b3e0319"
      },
      "execution_count": null,
      "outputs": [
        {
          "output_type": "stream",
          "name": "stdout",
          "text": [
            "Confusion Matrix Train Set SVM (Hyperparameter Tuned)\n"
          ]
        },
        {
          "output_type": "display_data",
          "data": {
            "text/plain": [
              "<Figure size 720x576 with 2 Axes>"
            ],
            "image/png": "[encoded data removed]"
          },
          "metadata": {
            "needs_background": "light"
          }
        }
      ]
    },
    {
      "cell_type": "markdown",
      "source": [
        "### **Decision Tree**"
      ],
      "metadata": {
        "id": "8KFlyHZShT3Q"
      }
    },
    {
      "cell_type": "code",
      "source": [
        "# Evaluating Train set (Default Parameter)\n",
        "print('Train Set (Defaul Parameter)')\n",
        "print('Accuracy - Train Set  : ', accuracy_score(y_train, y_train_dt))\n",
        "print('F1 Score - Train Set  : ', f1_score(y_train, y_train_dt), '\\n')\n",
        "print('Classification Report : \\n', classification_report(y_train, y_train_dt), '\\n')"
      ],
      "metadata": {
        "colab": {
          "base_uri": "https://localhost:8080/"
        },
        "id": "cA3A6MZlhWeW",
        "outputId": "6dc8b5c8-cf0c-4cc2-a01e-cf42451df79e"
      },
      "execution_count": null,
      "outputs": [
        {
          "output_type": "stream",
          "name": "stdout",
          "text": [
            "Train Set (Defaul Parameter)\n",
            "Accuracy - Train Set  :  1.0\n",
            "F1 Score - Train Set  :  1.0 \n",
            "\n",
            "Classification Report : \n",
            "               precision    recall  f1-score   support\n",
            "\n",
            "           0       1.00      1.00      1.00        30\n",
            "           1       1.00      1.00      1.00        37\n",
            "\n",
            "    accuracy                           1.00        67\n",
            "   macro avg       1.00      1.00      1.00        67\n",
            "weighted avg       1.00      1.00      1.00        67\n",
            " \n",
            "\n"
          ]
        }
      ]
    },
    {
      "cell_type": "code",
      "source": [
        "# Creating confusion matrix for train set (default parameter)\n",
        "print('Confusion Matrix Train Set Decision Tree (Default Parameter)')\n",
        "cm = confusion_matrix(y_train, y_train_dt, labels=dt.classes_)\n",
        "disp = ConfusionMatrixDisplay(confusion_matrix=cm,display_labels=dt.classes_)\n",
        "\n",
        "matplotlib.rcParams['figure.figsize'] = (10,8)\n",
        "disp.plot()\n",
        "plt.show()"
      ],
      "metadata": {
        "colab": {
          "base_uri": "https://localhost:8080/",
          "height": 514
        },
        "id": "SEb2yTN4hgua",
        "outputId": "e153e0cf-7a2f-41f3-b83c-530dbfd0d511"
      },
      "execution_count": null,
      "outputs": [
        {
          "output_type": "stream",
          "name": "stdout",
          "text": [
            "Confusion Matrix Train Set Decision Tree (Default Parameter)\n"
          ]
        },
        {
          "output_type": "display_data",
          "data": {
            "text/plain": [
              "<Figure size 720x576 with 2 Axes>"
            ],
            "image/png": "[encoded data removed]"
          },
          "metadata": {
            "needs_background": "light"
          }
        }
      ]
    },
    {
      "cell_type": "code",
      "source": [
        "# Evaluating Train set (Hyperparameter Tuned)\n",
        "print('Train Set (Hyperparameter Tuned)')\n",
        "print('Accuracy - Train Set  : ', accuracy_score(y_train, y_train_dt_final),)\n",
        "print('F1 Score - Train Set  : ', f1_score(y_train, y_train_dt_final), '\\n')\n",
        "print('Classification Report : \\n', classification_report(y_train, y_train_dt_final), '\\n')"
      ],
      "metadata": {
        "colab": {
          "base_uri": "https://localhost:8080/"
        },
        "id": "MrpdOB3VhdHY",
        "outputId": "5e2e24f7-3775-4fd6-959b-f0d0c81fb5ca"
      },
      "execution_count": null,
      "outputs": [
        {
          "output_type": "stream",
          "name": "stdout",
          "text": [
            "Train Set (Hyperparameter Tuned)\n",
            "Accuracy - Train Set  :  0.7761194029850746\n",
            "F1 Score - Train Set  :  0.810126582278481 \n",
            "\n",
            "Classification Report : \n",
            "               precision    recall  f1-score   support\n",
            "\n",
            "           0       0.80      0.67      0.73        30\n",
            "           1       0.76      0.86      0.81        37\n",
            "\n",
            "    accuracy                           0.78        67\n",
            "   macro avg       0.78      0.77      0.77        67\n",
            "weighted avg       0.78      0.78      0.77        67\n",
            " \n",
            "\n"
          ]
        }
      ]
    },
    {
      "cell_type": "code",
      "source": [
        "# Creating confusion matrix for train set (hyperparameter tuned)\n",
        "print('Confusion Matrix Train Set Decision Tree (Hyperparameter Tuned)')\n",
        "cm = confusion_matrix(y_train, y_train_dt_final, labels=dt.classes_)\n",
        "disp = ConfusionMatrixDisplay(confusion_matrix=cm,display_labels=dt.classes_)\n",
        "\n",
        "matplotlib.rcParams['figure.figsize'] = (10,8)\n",
        "disp.plot()\n",
        "plt.show()"
      ],
      "metadata": {
        "colab": {
          "base_uri": "https://localhost:8080/",
          "height": 514
        },
        "id": "3UZeimLdhjzG",
        "outputId": "e04355ec-a1ee-4e01-cefb-09d6016d5254"
      },
      "execution_count": null,
      "outputs": [
        {
          "output_type": "stream",
          "name": "stdout",
          "text": [
            "Confusion Matrix Train Set Decision Tree (Hyperparameter Tuned)\n"
          ]
        },
        {
          "output_type": "display_data",
          "data": {
            "text/plain": [
              "<Figure size 720x576 with 2 Axes>"
            ],
            "image/png": "[encoded data removed]"
          },
          "metadata": {
            "needs_background": "light"
          }
        }
      ]
    },
    {
      "cell_type": "code",
      "source": [
        "# Creating confusion matrix for test set (hyperparameter tuned)\n",
        "print('Confusion Matrix Train Set Decision Tree (Hyperparameter Tuned)')\n",
        "cm = confusion_matrix(y_test, y_test_dt_final, labels=dt.classes_)\n",
        "disp = ConfusionMatrixDisplay(confusion_matrix=cm,display_labels=dt.classes_)\n",
        "\n",
        "matplotlib.rcParams['figure.figsize'] = (10,8)\n",
        "disp.plot()\n",
        "plt.show()"
      ],
      "metadata": {
        "colab": {
          "base_uri": "https://localhost:8080/",
          "height": 518
        },
        "id": "cTuqooyQiNQF",
        "outputId": "9bdcd812-b419-4264-f9ed-0f5a83e734aa"
      },
      "execution_count": null,
      "outputs": [
        {
          "output_type": "stream",
          "name": "stdout",
          "text": [
            "Confusion Matrix Train Set Decision Tree (Hyperparameter Tuned)\n"
          ]
        },
        {
          "output_type": "display_data",
          "data": {
            "text/plain": [
              "<Figure size 720x576 with 2 Axes>"
            ],
            "image/png": "[encoded data removed]"
          },
          "metadata": {
            "needs_background": "light"
          }
        }
      ]
    },
    {
      "cell_type": "markdown",
      "source": [
        "### **Random Forest**"
      ],
      "metadata": {
        "id": "WJn5gS6Qh4c8"
      }
    },
    {
      "cell_type": "code",
      "source": [
        "# Evaluating Train set (Default Parameter)\n",
        "print('Train Set (Defaul Parameter)')\n",
        "print('Accuracy - Train Set  : ', accuracy_score(y_train, y_train_rfc))\n",
        "print('F1 Score - Train Set  : ', f1_score(y_train, y_train_rfc), '\\n')\n",
        "print('Classification Report : \\n', classification_report(y_train, y_train_rfc), '\\n')"
      ],
      "metadata": {
        "colab": {
          "base_uri": "https://localhost:8080/"
        },
        "id": "NoRkaOi8h62R",
        "outputId": "68124f19-7817-4834-f545-f9614309e81f"
      },
      "execution_count": null,
      "outputs": [
        {
          "output_type": "stream",
          "name": "stdout",
          "text": [
            "Train Set (Defaul Parameter)\n",
            "Accuracy - Train Set  :  1.0\n",
            "F1 Score - Train Set  :  1.0 \n",
            "\n",
            "Classification Report : \n",
            "               precision    recall  f1-score   support\n",
            "\n",
            "           0       1.00      1.00      1.00        30\n",
            "           1       1.00      1.00      1.00        37\n",
            "\n",
            "    accuracy                           1.00        67\n",
            "   macro avg       1.00      1.00      1.00        67\n",
            "weighted avg       1.00      1.00      1.00        67\n",
            " \n",
            "\n"
          ]
        }
      ]
    },
    {
      "cell_type": "code",
      "source": [
        "# Creating confusion matrix for train set (default parameter)\n",
        "print('Confusion Matrix Train Set Random Forest Classifier (Default Parameter)')\n",
        "cm = confusion_matrix(y_train, y_train_rfc, labels=rfc.classes_)\n",
        "disp = ConfusionMatrixDisplay(confusion_matrix=cm,display_labels=rfc.classes_)\n",
        "\n",
        "matplotlib.rcParams['figure.figsize'] = (10,8)\n",
        "disp.plot()\n",
        "plt.show()"
      ],
      "metadata": {
        "colab": {
          "base_uri": "https://localhost:8080/",
          "height": 514
        },
        "id": "ouiUbiUkiBR9",
        "outputId": "9d2a29c0-a495-4a5d-969a-e95d112aa1a1"
      },
      "execution_count": null,
      "outputs": [
        {
          "output_type": "stream",
          "name": "stdout",
          "text": [
            "Confusion Matrix Train Set Random Forest Classifier (Default Parameter)\n"
          ]
        },
        {
          "output_type": "display_data",
          "data": {
            "text/plain": [
              "<Figure size 720x576 with 2 Axes>"
            ],
            "image/png": "[encoded data removed]"
          },
          "metadata": {
            "needs_background": "light"
          }
        }
      ]
    },
    {
      "cell_type": "code",
      "source": [
        "# Evaluating Train set (Hyperparameter Tuned)\n",
        "print('Train Set (Hyperparameter Tuned)')\n",
        "print('Accuracy - Train Set  : ', accuracy_score(y_train, y_train_rfc_final),)\n",
        "print('F1 Score - Train Set  : ', f1_score(y_train, y_train_rfc_final), '\\n')\n",
        "print('Classification Report : \\n', classification_report(y_train, y_train_rfc_final), '\\n')"
      ],
      "metadata": {
        "colab": {
          "base_uri": "https://localhost:8080/"
        },
        "id": "DFMpYoQBh-r9",
        "outputId": "283cffdc-1d83-455c-f43c-9ffe7e998c84"
      },
      "execution_count": null,
      "outputs": [
        {
          "output_type": "stream",
          "name": "stdout",
          "text": [
            "Train Set (Hyperparameter Tuned)\n",
            "Accuracy - Train Set  :  0.9701492537313433\n",
            "F1 Score - Train Set  :  0.9736842105263158 \n",
            "\n",
            "Classification Report : \n",
            "               precision    recall  f1-score   support\n",
            "\n",
            "           0       1.00      0.93      0.97        30\n",
            "           1       0.95      1.00      0.97        37\n",
            "\n",
            "    accuracy                           0.97        67\n",
            "   macro avg       0.97      0.97      0.97        67\n",
            "weighted avg       0.97      0.97      0.97        67\n",
            " \n",
            "\n"
          ]
        }
      ]
    },
    {
      "cell_type": "code",
      "source": [
        "# Creating confusion matrix for train set (hyperparameter tuned)\n",
        "print('Confusion Matrix Train Set Random Forest Classifier (Hyperparameter Tuned)')\n",
        "cm = confusion_matrix(y_train, y_train_rfc_final, labels=rfc.classes_)\n",
        "disp = ConfusionMatrixDisplay(confusion_matrix=cm,display_labels=rfc.classes_)\n",
        "\n",
        "matplotlib.rcParams['figure.figsize'] = (10,8)\n",
        "disp.plot()\n",
        "plt.show()"
      ],
      "metadata": {
        "colab": {
          "base_uri": "https://localhost:8080/",
          "height": 514
        },
        "id": "OU8UEm1ciDza",
        "outputId": "ea431a05-308d-4bd2-8c22-68313bfcb970"
      },
      "execution_count": null,
      "outputs": [
        {
          "output_type": "stream",
          "name": "stdout",
          "text": [
            "Confusion Matrix Train Set Random Forest Classifier (Hyperparameter Tuned)\n"
          ]
        },
        {
          "output_type": "display_data",
          "data": {
            "text/plain": [
              "<Figure size 720x576 with 2 Axes>"
            ],
            "image/png": "[encoded data removed]"
          },
          "metadata": {
            "needs_background": "light"
          }
        }
      ]
    },
    {
      "cell_type": "code",
      "source": [
        "# Creating confusion matrix for train set (hyperparameter tuned)\n",
        "print('Confusion Matrix Train Set Random Forest Classifier (Hyperparameter Tuned)')\n",
        "cm = confusion_matrix(y_test, y_test_rfc_final, labels=rfc.classes_)\n",
        "disp = ConfusionMatrixDisplay(confusion_matrix=cm,display_labels=rfc.classes_)\n",
        "\n",
        "matplotlib.rcParams['figure.figsize'] = (10,8)\n",
        "disp.plot()\n",
        "plt.show()"
      ],
      "metadata": {
        "colab": {
          "base_uri": "https://localhost:8080/",
          "height": 518
        },
        "id": "_FZrqaCxiGac",
        "outputId": "845e2679-5884-4c68-83d1-3d11d44b6994"
      },
      "execution_count": null,
      "outputs": [
        {
          "output_type": "stream",
          "name": "stdout",
          "text": [
            "Confusion Matrix Train Set Random Forest Classifier (Hyperparameter Tuned)\n"
          ]
        },
        {
          "output_type": "display_data",
          "data": {
            "text/plain": [
              "<Figure size 720x576 with 2 Axes>"
            ],
            "image/png": "[encoded data removed]"
          },
          "metadata": {
            "needs_background": "light"
          }
        }
      ]
    },
    {
      "cell_type": "markdown",
      "source": [
        "## **Model Saving**"
      ],
      "metadata": {
        "id": "cnaEqCw7kpex"
      }
    },
    {
      "cell_type": "code",
      "source": [
        "# Save the model files\n",
        "with open('dt_gridcv.pkl', 'wb') as file_1:\n",
        "  joblib.dump(dt_gridcv_best, file_1)"
      ],
      "metadata": {
        "id": "3LyXhd93kq2y"
      },
      "execution_count": null,
      "outputs": []
    },
    {
      "cell_type": "code",
      "source": [
        "# Load all model files\n",
        "with open('dt_gridcv.pkl', 'rb') as file_1:\n",
        "  dt_model = joblib.load(file_1)"
      ],
      "metadata": {
        "id": "aK2EFzj2lCh2"
      },
      "execution_count": null,
      "outputs": []
    },
    {
      "cell_type": "markdown",
      "source": [
        "## **Model Inference**"
      ],
      "metadata": {
        "id": "_ENJhWBpkXwM"
      }
    },
    {
      "cell_type": "code",
      "source": [
        "df_inf"
      ],
      "metadata": {
        "colab": {
          "base_uri": "https://localhost:8080/",
          "height": 206
        },
        "id": "7CvNa72IkZ0O",
        "outputId": "2604d611-b5a9-4415-b12f-2405f281aea5"
      },
      "execution_count": null,
      "outputs": [
        {
          "output_type": "execute_result",
          "data": {
            "text/plain": [
              "         Date    Present       Next  Class\n",
              "5  2022-09-23  1588.4975  1588.5176      1\n",
              "6  2022-09-26  1588.5176  1588.2288      0\n",
              "29 2022-10-27  1590.8330  1590.8403      1\n",
              "48 2022-11-23  1594.6866  1594.7907      1\n",
              "61 2022-12-12  1597.8645  1598.0694      1"
            ],
            "text/html": [
              "\n",
              "  <div id=\"df-1ce59143-d7ec-41ad-b470-87e7500e002b\">\n",
              "    <div class=\"colab-df-container\">\n",
              "      <div>\n",
              "<style scoped>\n",
              "    .dataframe tbody tr th:only-of-type {\n",
              "        vertical-align: middle;\n",
              "    }\n",
              "\n",
              "    .dataframe tbody tr th {\n",
              "        vertical-align: top;\n",
              "    }\n",
              "\n",
              "    .dataframe thead th {\n",
              "        text-align: right;\n",
              "    }\n",
              "</style>\n",
              "<table border=\"1\" class=\"dataframe\">\n",
              "  <thead>\n",
              "    <tr style=\"text-align: right;\">\n",
              "      <th></th>\n",
              "      <th>Date</th>\n",
              "      <th>Present</th>\n",
              "      <th>Next</th>\n",
              "      <th>Class</th>\n",
              "    </tr>\n",
              "  </thead>\n",
              "  <tbody>\n",
              "    <tr>\n",
              "      <th>5</th>\n",
              "      <td>2022-09-23</td>\n",
              "      <td>1588.4975</td>\n",
              "      <td>1588.5176</td>\n",
              "      <td>1</td>\n",
              "    </tr>\n",
              "    <tr>\n",
              "      <th>6</th>\n",
              "      <td>2022-09-26</td>\n",
              "      <td>1588.5176</td>\n",
              "      <td>1588.2288</td>\n",
              "      <td>0</td>\n",
              "    </tr>\n",
              "    <tr>\n",
              "      <th>29</th>\n",
              "      <td>2022-10-27</td>\n",
              "      <td>1590.8330</td>\n",
              "      <td>1590.8403</td>\n",
              "      <td>1</td>\n",
              "    </tr>\n",
              "    <tr>\n",
              "      <th>48</th>\n",
              "      <td>2022-11-23</td>\n",
              "      <td>1594.6866</td>\n",
              "      <td>1594.7907</td>\n",
              "      <td>1</td>\n",
              "    </tr>\n",
              "    <tr>\n",
              "      <th>61</th>\n",
              "      <td>2022-12-12</td>\n",
              "      <td>1597.8645</td>\n",
              "      <td>1598.0694</td>\n",
              "      <td>1</td>\n",
              "    </tr>\n",
              "  </tbody>\n",
              "</table>\n",
              "</div>\n",
              "      <button class=\"colab-df-convert\" onclick=\"convertToInteractive('df-1ce59143-d7ec-41ad-b470-87e7500e002b')\"\n",
              "              title=\"Convert this dataframe to an interactive table.\"\n",
              "              style=\"display:none;\">\n",
              "        \n",
              "  <svg xmlns=\"http://www.w3.org/2000/svg\" height=\"24px\"viewBox=\"0 0 24 24\"\n",
              "       width=\"24px\">\n",
              "    <path d=\"M0 0h24v24H0V0z\" fill=\"none\"/>\n",
              "    <path d=\"M18.56 5.44l.94 2.06.94-2.06 2.06-.94-2.06-.94-.94-2.06-.94 2.06-2.06.94zm-11 1L8.5 8.5l.94-2.06 2.06-.94-2.06-.94L8.5 2.5l-.94 2.06-2.06.94zm10 10l.94 2.06.94-2.06 2.06-.94-2.06-.94-.94-2.06-.94 2.06-2.06.94z\"/><path d=\"M17.41 7.96l-1.37-1.37c-.4-.4-.92-.59-1.43-.59-.52 0-1.04.2-1.43.59L10.3 9.45l-7.72 7.72c-.78.78-.78 2.05 0 2.83L4 21.41c.39.39.9.59 1.41.59.51 0 1.02-.2 1.41-.59l7.78-7.78 2.81-2.81c.8-.78.8-2.07 0-2.86zM5.41 20L4 18.59l7.72-7.72 1.47 1.35L5.41 20z\"/>\n",
              "  </svg>\n",
              "      </button>\n",
              "      \n",
              "  <style>\n",
              "    .colab-df-container {\n",
              "      display:flex;\n",
              "      flex-wrap:wrap;\n",
              "      gap: 12px;\n",
              "    }\n",
              "\n",
              "    .colab-df-convert {\n",
              "      background-color: #E8F0FE;\n",
              "      border: none;\n",
              "      border-radius: 50%;\n",
              "      cursor: pointer;\n",
              "      display: none;\n",
              "      fill: #1967D2;\n",
              "      height: 32px;\n",
              "      padding: 0 0 0 0;\n",
              "      width: 32px;\n",
              "    }\n",
              "\n",
              "    .colab-df-convert:hover {\n",
              "      background-color: #E2EBFA;\n",
              "      box-shadow: 0px 1px 2px rgba(60, 64, 67, 0.3), 0px 1px 3px 1px rgba(60, 64, 67, 0.15);\n",
              "      fill: #174EA6;\n",
              "    }\n",
              "\n",
              "    [theme=dark] .colab-df-convert {\n",
              "      background-color: #3B4455;\n",
              "      fill: #D2E3FC;\n",
              "    }\n",
              "\n",
              "    [theme=dark] .colab-df-convert:hover {\n",
              "      background-color: #434B5C;\n",
              "      box-shadow: 0px 1px 3px 1px rgba(0, 0, 0, 0.15);\n",
              "      filter: drop-shadow(0px 1px 2px rgba(0, 0, 0, 0.3));\n",
              "      fill: #FFFFFF;\n",
              "    }\n",
              "  </style>\n",
              "\n",
              "      <script>\n",
              "        const buttonEl =\n",
              "          document.querySelector('#df-1ce59143-d7ec-41ad-b470-87e7500e002b button.colab-df-convert');\n",
              "        buttonEl.style.display =\n",
              "          google.colab.kernel.accessAllowed ? 'block' : 'none';\n",
              "\n",
              "        async function convertToInteractive(key) {\n",
              "          const element = document.querySelector('#df-1ce59143-d7ec-41ad-b470-87e7500e002b');\n",
              "          const dataTable =\n",
              "            await google.colab.kernel.invokeFunction('convertToInteractive',\n",
              "                                                     [key], {});\n",
              "          if (!dataTable) return;\n",
              "\n",
              "          const docLinkHtml = 'Like what you see? Visit the ' +\n",
              "            '<a target=\"_blank\" href=https://colab.research.google.com/notebooks/data_table.ipynb>data table notebook</a>'\n",
              "            + ' to learn more about interactive tables.';\n",
              "          element.innerHTML = '';\n",
              "          dataTable['output_type'] = 'display_data';\n",
              "          await google.colab.output.renderOutput(dataTable, element);\n",
              "          const docLink = document.createElement('div');\n",
              "          docLink.innerHTML = docLinkHtml;\n",
              "          element.appendChild(docLink);\n",
              "        }\n",
              "      </script>\n",
              "    </div>\n",
              "  </div>\n",
              "  "
            ]
          },
          "metadata": {},
          "execution_count": 80
        }
      ]
    },
    {
      "cell_type": "code",
      "source": [
        "# Predict target inference\n",
        "y_inf = dt_model.predict(df_inf)\n",
        "y_inf = pd.DataFrame(y_inf, columns=['Prediction'],index=df_inf.index)"
      ],
      "metadata": {
        "id": "ooUyIdYwkfGS"
      },
      "execution_count": null,
      "outputs": []
    },
    {
      "cell_type": "code",
      "source": [
        "# Comparing the real target and prediction\n",
        "model_inf = pd.concat([df_inf['Class'], y_inf['Prediction']], axis=1).sort_index()\n",
        "model_inf"
      ],
      "metadata": {
        "colab": {
          "base_uri": "https://localhost:8080/",
          "height": 206
        },
        "id": "Ji7LnK-elJ0J",
        "outputId": "c3756c7f-f1aa-4e73-a68e-9b4d49db5a8f"
      },
      "execution_count": null,
      "outputs": [
        {
          "output_type": "execute_result",
          "data": {
            "text/plain": [
              "    Class  Prediction\n",
              "5       1           0\n",
              "6       0           0\n",
              "29      1           0\n",
              "48      1           1\n",
              "61      1           1"
            ],
            "text/html": [
              "\n",
              "  <div id=\"df-fd96d210-e3c2-46ad-8685-e9a49630031c\">\n",
              "    <div class=\"colab-df-container\">\n",
              "      <div>\n",
              "<style scoped>\n",
              "    .dataframe tbody tr th:only-of-type {\n",
              "        vertical-align: middle;\n",
              "    }\n",
              "\n",
              "    .dataframe tbody tr th {\n",
              "        vertical-align: top;\n",
              "    }\n",
              "\n",
              "    .dataframe thead th {\n",
              "        text-align: right;\n",
              "    }\n",
              "</style>\n",
              "<table border=\"1\" class=\"dataframe\">\n",
              "  <thead>\n",
              "    <tr style=\"text-align: right;\">\n",
              "      <th></th>\n",
              "      <th>Class</th>\n",
              "      <th>Prediction</th>\n",
              "    </tr>\n",
              "  </thead>\n",
              "  <tbody>\n",
              "    <tr>\n",
              "      <th>5</th>\n",
              "      <td>1</td>\n",
              "      <td>0</td>\n",
              "    </tr>\n",
              "    <tr>\n",
              "      <th>6</th>\n",
              "      <td>0</td>\n",
              "      <td>0</td>\n",
              "    </tr>\n",
              "    <tr>\n",
              "      <th>29</th>\n",
              "      <td>1</td>\n",
              "      <td>0</td>\n",
              "    </tr>\n",
              "    <tr>\n",
              "      <th>48</th>\n",
              "      <td>1</td>\n",
              "      <td>1</td>\n",
              "    </tr>\n",
              "    <tr>\n",
              "      <th>61</th>\n",
              "      <td>1</td>\n",
              "      <td>1</td>\n",
              "    </tr>\n",
              "  </tbody>\n",
              "</table>\n",
              "</div>\n",
              "      <button class=\"colab-df-convert\" onclick=\"convertToInteractive('df-fd96d210-e3c2-46ad-8685-e9a49630031c')\"\n",
              "              title=\"Convert this dataframe to an interactive table.\"\n",
              "              style=\"display:none;\">\n",
              "        \n",
              "  <svg xmlns=\"http://www.w3.org/2000/svg\" height=\"24px\"viewBox=\"0 0 24 24\"\n",
              "       width=\"24px\">\n",
              "    <path d=\"M0 0h24v24H0V0z\" fill=\"none\"/>\n",
              "    <path d=\"M18.56 5.44l.94 2.06.94-2.06 2.06-.94-2.06-.94-.94-2.06-.94 2.06-2.06.94zm-11 1L8.5 8.5l.94-2.06 2.06-.94-2.06-.94L8.5 2.5l-.94 2.06-2.06.94zm10 10l.94 2.06.94-2.06 2.06-.94-2.06-.94-.94-2.06-.94 2.06-2.06.94z\"/><path d=\"M17.41 7.96l-1.37-1.37c-.4-.4-.92-.59-1.43-.59-.52 0-1.04.2-1.43.59L10.3 9.45l-7.72 7.72c-.78.78-.78 2.05 0 2.83L4 21.41c.39.39.9.59 1.41.59.51 0 1.02-.2 1.41-.59l7.78-7.78 2.81-2.81c.8-.78.8-2.07 0-2.86zM5.41 20L4 18.59l7.72-7.72 1.47 1.35L5.41 20z\"/>\n",
              "  </svg>\n",
              "      </button>\n",
              "      \n",
              "  <style>\n",
              "    .colab-df-container {\n",
              "      display:flex;\n",
              "      flex-wrap:wrap;\n",
              "      gap: 12px;\n",
              "    }\n",
              "\n",
              "    .colab-df-convert {\n",
              "      background-color: #E8F0FE;\n",
              "      border: none;\n",
              "      border-radius: 50%;\n",
              "      cursor: pointer;\n",
              "      display: none;\n",
              "      fill: #1967D2;\n",
              "      height: 32px;\n",
              "      padding: 0 0 0 0;\n",
              "      width: 32px;\n",
              "    }\n",
              "\n",
              "    .colab-df-convert:hover {\n",
              "      background-color: #E2EBFA;\n",
              "      box-shadow: 0px 1px 2px rgba(60, 64, 67, 0.3), 0px 1px 3px 1px rgba(60, 64, 67, 0.15);\n",
              "      fill: #174EA6;\n",
              "    }\n",
              "\n",
              "    [theme=dark] .colab-df-convert {\n",
              "      background-color: #3B4455;\n",
              "      fill: #D2E3FC;\n",
              "    }\n",
              "\n",
              "    [theme=dark] .colab-df-convert:hover {\n",
              "      background-color: #434B5C;\n",
              "      box-shadow: 0px 1px 3px 1px rgba(0, 0, 0, 0.15);\n",
              "      filter: drop-shadow(0px 1px 2px rgba(0, 0, 0, 0.3));\n",
              "      fill: #FFFFFF;\n",
              "    }\n",
              "  </style>\n",
              "\n",
              "      <script>\n",
              "        const buttonEl =\n",
              "          document.querySelector('#df-fd96d210-e3c2-46ad-8685-e9a49630031c button.colab-df-convert');\n",
              "        buttonEl.style.display =\n",
              "          google.colab.kernel.accessAllowed ? 'block' : 'none';\n",
              "\n",
              "        async function convertToInteractive(key) {\n",
              "          const element = document.querySelector('#df-fd96d210-e3c2-46ad-8685-e9a49630031c');\n",
              "          const dataTable =\n",
              "            await google.colab.kernel.invokeFunction('convertToInteractive',\n",
              "                                                     [key], {});\n",
              "          if (!dataTable) return;\n",
              "\n",
              "          const docLinkHtml = 'Like what you see? Visit the ' +\n",
              "            '<a target=\"_blank\" href=https://colab.research.google.com/notebooks/data_table.ipynb>data table notebook</a>'\n",
              "            + ' to learn more about interactive tables.';\n",
              "          element.innerHTML = '';\n",
              "          dataTable['output_type'] = 'display_data';\n",
              "          await google.colab.output.renderOutput(dataTable, element);\n",
              "          const docLink = document.createElement('div');\n",
              "          docLink.innerHTML = docLinkHtml;\n",
              "          element.appendChild(docLink);\n",
              "        }\n",
              "      </script>\n",
              "    </div>\n",
              "  </div>\n",
              "  "
            ]
          },
          "metadata": {},
          "execution_count": 82
        }
      ]
    }
  ]
}